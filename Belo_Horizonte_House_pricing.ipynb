{
  "nbformat": 4,
  "nbformat_minor": 0,
  "metadata": {
    "colab": {
      "name": "Belo Horizonte House pricing.ipynb",
      "provenance": [],
      "collapsed_sections": [],
      "authorship_tag": "ABX9TyOpV3cOxj2Fc2h9mfPBX2yT",
      "include_colab_link": true
    },
    "kernelspec": {
      "name": "python3",
      "display_name": "Python 3"
    },
    "language_info": {
      "name": "python"
    }
  },
  "cells": [
    {
      "cell_type": "markdown",
      "metadata": {
        "id": "view-in-github",
        "colab_type": "text"
      },
      "source": [
        "<a href=\"https://colab.research.google.com/github/leo-lopes/House-pricing-in-Belo-Horizonte/blob/main/Belo_Horizonte_House_pricing.ipynb\" target=\"_parent\"><img src=\"https://colab.research.google.com/assets/colab-badge.svg\" alt=\"Open In Colab\"/></a>"
      ]
    },
    {
      "cell_type": "markdown",
      "source": [
        "# House pricing in Belo Horizonte\n",
        "The goal of this notes is to have some information on the house prices in Belo Horizonte, Minas Gerais, Brazil. The plan is: \n",
        "* 1 - Clean and visualize the Data in order to obtain some initial information\n",
        "* 2 - If possible, apply ML algorithms in the data in order to predict the prices \n",
        "* 3 - Obtain some conclusions in what makes the prices higher."
      ],
      "metadata": {
        "id": "GT3ChpsoWRXQ"
      }
    },
    {
      "cell_type": "code",
      "source": [
        "# Importing libraries\n",
        "import pandas as pd\n",
        "import numpy as np\n",
        "import seaborn as sns\n",
        "import matplotlib.pyplot as plt\n",
        "import plotly.express as px\n",
        "from sklearn.preprocessing import StandardScaler"
      ],
      "metadata": {
        "id": "nVWhevVWYuGr"
      },
      "execution_count": 1,
      "outputs": []
    },
    {
      "cell_type": "markdown",
      "source": [
        "## Clean and visualizating the Data"
      ],
      "metadata": {
        "id": "fHTsOTq8YGqp"
      }
    },
    {
      "cell_type": "code",
      "source": [
        "df = pd.read_csv('data.csv')\n",
        "df"
      ],
      "metadata": {
        "colab": {
          "base_uri": "https://localhost:8080/",
          "height": 424
        },
        "id": "29vc9ixzYJv5",
        "outputId": "dbfdc490-1945-4fb2-f42d-cf4754f4c3e2"
      },
      "execution_count": 2,
      "outputs": [
        {
          "output_type": "execute_result",
          "data": {
            "text/plain": [
              "                                 address  adm-fees garage-places      price  \\\n",
              "0           Avenida Raja Gabaglia, 1583      470.0             1   330000.0   \n",
              "1              Rua Espírito Santo, 1171        NaN             1   480000.0   \n",
              "2         Rua dos Expedicionários, 1082        NaN             5  1190000.0   \n",
              "3               Rua Marechal Hermes, 81      750.0             4  1590000.0   \n",
              "4                       Rua Juruna, 110        NaN             6   550000.0   \n",
              "...                                  ...       ...           ...        ...   \n",
              "5976                 Rua Gama Cerqueira      340.0             2   560000.0   \n",
              "5977           Rua Arthur Lourenço, 262      200.0             1   440000.0   \n",
              "5978  Rua General Ephigênio Ruas Santos       10.0             2   500000.0   \n",
              "5979  Rua General Ephigênio Ruas Santos       10.0             2   740000.0   \n",
              "5980                Avenida do Contorno        NaN             3  4990000.0   \n",
              "\n",
              "     rooms square-foot   neighborhood              city   latitude  longitude  \n",
              "0        1          40     Luxemburgo   Belo Horizonte  -19.936415 -43.953396  \n",
              "1        2       45-65         Centro   Belo Horizonte  -18.864776 -41.121777  \n",
              "2        4         411   Santa Amélia   Belo Horizonte  -20.225241 -44.397780  \n",
              "3        4         158      Gutierrez   Belo Horizonte  -19.937155 -43.958694  \n",
              "4        3         278      Pindorama   Belo Horizonte  -19.912982 -44.019944  \n",
              "...    ...         ...            ...               ...        ...        ...  \n",
              "5976     3          92    Nova Suíssa   Belo Horizonte  -19.945428 -43.970988  \n",
              "5977     3          90       Barreiro   Belo Horizonte  -19.979915 -44.026007  \n",
              "5978     3          80         Itapoã   Belo Horizonte  -19.840904 -43.956037  \n",
              "5979     3          80         Itapoã   Belo Horizonte  -19.840904 -43.956037  \n",
              "5980    --         428        Savassi   Belo Horizonte  -19.915643 -43.945380  \n",
              "\n",
              "[5981 rows x 10 columns]"
            ],
            "text/html": [
              "\n",
              "  <div id=\"df-c8037903-5ef8-42dd-acc0-1929e7de7625\">\n",
              "    <div class=\"colab-df-container\">\n",
              "      <div>\n",
              "<style scoped>\n",
              "    .dataframe tbody tr th:only-of-type {\n",
              "        vertical-align: middle;\n",
              "    }\n",
              "\n",
              "    .dataframe tbody tr th {\n",
              "        vertical-align: top;\n",
              "    }\n",
              "\n",
              "    .dataframe thead th {\n",
              "        text-align: right;\n",
              "    }\n",
              "</style>\n",
              "<table border=\"1\" class=\"dataframe\">\n",
              "  <thead>\n",
              "    <tr style=\"text-align: right;\">\n",
              "      <th></th>\n",
              "      <th>address</th>\n",
              "      <th>adm-fees</th>\n",
              "      <th>garage-places</th>\n",
              "      <th>price</th>\n",
              "      <th>rooms</th>\n",
              "      <th>square-foot</th>\n",
              "      <th>neighborhood</th>\n",
              "      <th>city</th>\n",
              "      <th>latitude</th>\n",
              "      <th>longitude</th>\n",
              "    </tr>\n",
              "  </thead>\n",
              "  <tbody>\n",
              "    <tr>\n",
              "      <th>0</th>\n",
              "      <td>Avenida Raja Gabaglia, 1583</td>\n",
              "      <td>470.0</td>\n",
              "      <td>1</td>\n",
              "      <td>330000.0</td>\n",
              "      <td>1</td>\n",
              "      <td>40</td>\n",
              "      <td>Luxemburgo</td>\n",
              "      <td>Belo Horizonte</td>\n",
              "      <td>-19.936415</td>\n",
              "      <td>-43.953396</td>\n",
              "    </tr>\n",
              "    <tr>\n",
              "      <th>1</th>\n",
              "      <td>Rua Espírito Santo, 1171</td>\n",
              "      <td>NaN</td>\n",
              "      <td>1</td>\n",
              "      <td>480000.0</td>\n",
              "      <td>2</td>\n",
              "      <td>45-65</td>\n",
              "      <td>Centro</td>\n",
              "      <td>Belo Horizonte</td>\n",
              "      <td>-18.864776</td>\n",
              "      <td>-41.121777</td>\n",
              "    </tr>\n",
              "    <tr>\n",
              "      <th>2</th>\n",
              "      <td>Rua dos Expedicionários, 1082</td>\n",
              "      <td>NaN</td>\n",
              "      <td>5</td>\n",
              "      <td>1190000.0</td>\n",
              "      <td>4</td>\n",
              "      <td>411</td>\n",
              "      <td>Santa Amélia</td>\n",
              "      <td>Belo Horizonte</td>\n",
              "      <td>-20.225241</td>\n",
              "      <td>-44.397780</td>\n",
              "    </tr>\n",
              "    <tr>\n",
              "      <th>3</th>\n",
              "      <td>Rua Marechal Hermes, 81</td>\n",
              "      <td>750.0</td>\n",
              "      <td>4</td>\n",
              "      <td>1590000.0</td>\n",
              "      <td>4</td>\n",
              "      <td>158</td>\n",
              "      <td>Gutierrez</td>\n",
              "      <td>Belo Horizonte</td>\n",
              "      <td>-19.937155</td>\n",
              "      <td>-43.958694</td>\n",
              "    </tr>\n",
              "    <tr>\n",
              "      <th>4</th>\n",
              "      <td>Rua Juruna, 110</td>\n",
              "      <td>NaN</td>\n",
              "      <td>6</td>\n",
              "      <td>550000.0</td>\n",
              "      <td>3</td>\n",
              "      <td>278</td>\n",
              "      <td>Pindorama</td>\n",
              "      <td>Belo Horizonte</td>\n",
              "      <td>-19.912982</td>\n",
              "      <td>-44.019944</td>\n",
              "    </tr>\n",
              "    <tr>\n",
              "      <th>...</th>\n",
              "      <td>...</td>\n",
              "      <td>...</td>\n",
              "      <td>...</td>\n",
              "      <td>...</td>\n",
              "      <td>...</td>\n",
              "      <td>...</td>\n",
              "      <td>...</td>\n",
              "      <td>...</td>\n",
              "      <td>...</td>\n",
              "      <td>...</td>\n",
              "    </tr>\n",
              "    <tr>\n",
              "      <th>5976</th>\n",
              "      <td>Rua Gama Cerqueira</td>\n",
              "      <td>340.0</td>\n",
              "      <td>2</td>\n",
              "      <td>560000.0</td>\n",
              "      <td>3</td>\n",
              "      <td>92</td>\n",
              "      <td>Nova Suíssa</td>\n",
              "      <td>Belo Horizonte</td>\n",
              "      <td>-19.945428</td>\n",
              "      <td>-43.970988</td>\n",
              "    </tr>\n",
              "    <tr>\n",
              "      <th>5977</th>\n",
              "      <td>Rua Arthur Lourenço, 262</td>\n",
              "      <td>200.0</td>\n",
              "      <td>1</td>\n",
              "      <td>440000.0</td>\n",
              "      <td>3</td>\n",
              "      <td>90</td>\n",
              "      <td>Barreiro</td>\n",
              "      <td>Belo Horizonte</td>\n",
              "      <td>-19.979915</td>\n",
              "      <td>-44.026007</td>\n",
              "    </tr>\n",
              "    <tr>\n",
              "      <th>5978</th>\n",
              "      <td>Rua General Ephigênio Ruas Santos</td>\n",
              "      <td>10.0</td>\n",
              "      <td>2</td>\n",
              "      <td>500000.0</td>\n",
              "      <td>3</td>\n",
              "      <td>80</td>\n",
              "      <td>Itapoã</td>\n",
              "      <td>Belo Horizonte</td>\n",
              "      <td>-19.840904</td>\n",
              "      <td>-43.956037</td>\n",
              "    </tr>\n",
              "    <tr>\n",
              "      <th>5979</th>\n",
              "      <td>Rua General Ephigênio Ruas Santos</td>\n",
              "      <td>10.0</td>\n",
              "      <td>2</td>\n",
              "      <td>740000.0</td>\n",
              "      <td>3</td>\n",
              "      <td>80</td>\n",
              "      <td>Itapoã</td>\n",
              "      <td>Belo Horizonte</td>\n",
              "      <td>-19.840904</td>\n",
              "      <td>-43.956037</td>\n",
              "    </tr>\n",
              "    <tr>\n",
              "      <th>5980</th>\n",
              "      <td>Avenida do Contorno</td>\n",
              "      <td>NaN</td>\n",
              "      <td>3</td>\n",
              "      <td>4990000.0</td>\n",
              "      <td>--</td>\n",
              "      <td>428</td>\n",
              "      <td>Savassi</td>\n",
              "      <td>Belo Horizonte</td>\n",
              "      <td>-19.915643</td>\n",
              "      <td>-43.945380</td>\n",
              "    </tr>\n",
              "  </tbody>\n",
              "</table>\n",
              "<p>5981 rows × 10 columns</p>\n",
              "</div>\n",
              "      <button class=\"colab-df-convert\" onclick=\"convertToInteractive('df-c8037903-5ef8-42dd-acc0-1929e7de7625')\"\n",
              "              title=\"Convert this dataframe to an interactive table.\"\n",
              "              style=\"display:none;\">\n",
              "        \n",
              "  <svg xmlns=\"http://www.w3.org/2000/svg\" height=\"24px\"viewBox=\"0 0 24 24\"\n",
              "       width=\"24px\">\n",
              "    <path d=\"M0 0h24v24H0V0z\" fill=\"none\"/>\n",
              "    <path d=\"M18.56 5.44l.94 2.06.94-2.06 2.06-.94-2.06-.94-.94-2.06-.94 2.06-2.06.94zm-11 1L8.5 8.5l.94-2.06 2.06-.94-2.06-.94L8.5 2.5l-.94 2.06-2.06.94zm10 10l.94 2.06.94-2.06 2.06-.94-2.06-.94-.94-2.06-.94 2.06-2.06.94z\"/><path d=\"M17.41 7.96l-1.37-1.37c-.4-.4-.92-.59-1.43-.59-.52 0-1.04.2-1.43.59L10.3 9.45l-7.72 7.72c-.78.78-.78 2.05 0 2.83L4 21.41c.39.39.9.59 1.41.59.51 0 1.02-.2 1.41-.59l7.78-7.78 2.81-2.81c.8-.78.8-2.07 0-2.86zM5.41 20L4 18.59l7.72-7.72 1.47 1.35L5.41 20z\"/>\n",
              "  </svg>\n",
              "      </button>\n",
              "      \n",
              "  <style>\n",
              "    .colab-df-container {\n",
              "      display:flex;\n",
              "      flex-wrap:wrap;\n",
              "      gap: 12px;\n",
              "    }\n",
              "\n",
              "    .colab-df-convert {\n",
              "      background-color: #E8F0FE;\n",
              "      border: none;\n",
              "      border-radius: 50%;\n",
              "      cursor: pointer;\n",
              "      display: none;\n",
              "      fill: #1967D2;\n",
              "      height: 32px;\n",
              "      padding: 0 0 0 0;\n",
              "      width: 32px;\n",
              "    }\n",
              "\n",
              "    .colab-df-convert:hover {\n",
              "      background-color: #E2EBFA;\n",
              "      box-shadow: 0px 1px 2px rgba(60, 64, 67, 0.3), 0px 1px 3px 1px rgba(60, 64, 67, 0.15);\n",
              "      fill: #174EA6;\n",
              "    }\n",
              "\n",
              "    [theme=dark] .colab-df-convert {\n",
              "      background-color: #3B4455;\n",
              "      fill: #D2E3FC;\n",
              "    }\n",
              "\n",
              "    [theme=dark] .colab-df-convert:hover {\n",
              "      background-color: #434B5C;\n",
              "      box-shadow: 0px 1px 3px 1px rgba(0, 0, 0, 0.15);\n",
              "      filter: drop-shadow(0px 1px 2px rgba(0, 0, 0, 0.3));\n",
              "      fill: #FFFFFF;\n",
              "    }\n",
              "  </style>\n",
              "\n",
              "      <script>\n",
              "        const buttonEl =\n",
              "          document.querySelector('#df-c8037903-5ef8-42dd-acc0-1929e7de7625 button.colab-df-convert');\n",
              "        buttonEl.style.display =\n",
              "          google.colab.kernel.accessAllowed ? 'block' : 'none';\n",
              "\n",
              "        async function convertToInteractive(key) {\n",
              "          const element = document.querySelector('#df-c8037903-5ef8-42dd-acc0-1929e7de7625');\n",
              "          const dataTable =\n",
              "            await google.colab.kernel.invokeFunction('convertToInteractive',\n",
              "                                                     [key], {});\n",
              "          if (!dataTable) return;\n",
              "\n",
              "          const docLinkHtml = 'Like what you see? Visit the ' +\n",
              "            '<a target=\"_blank\" href=https://colab.research.google.com/notebooks/data_table.ipynb>data table notebook</a>'\n",
              "            + ' to learn more about interactive tables.';\n",
              "          element.innerHTML = '';\n",
              "          dataTable['output_type'] = 'display_data';\n",
              "          await google.colab.output.renderOutput(dataTable, element);\n",
              "          const docLink = document.createElement('div');\n",
              "          docLink.innerHTML = docLinkHtml;\n",
              "          element.appendChild(docLink);\n",
              "        }\n",
              "      </script>\n",
              "    </div>\n",
              "  </div>\n",
              "  "
            ]
          },
          "metadata": {},
          "execution_count": 2
        }
      ]
    },
    {
      "cell_type": "code",
      "source": [
        "df.describe()"
      ],
      "metadata": {
        "colab": {
          "base_uri": "https://localhost:8080/",
          "height": 300
        },
        "id": "kLQptowEaoHQ",
        "outputId": "9d95120d-3999-4652-aaed-834fe9c8e11d"
      },
      "execution_count": 3,
      "outputs": [
        {
          "output_type": "execute_result",
          "data": {
            "text/plain": [
              "           adm-fees         price     latitude    longitude\n",
              "count  3.977000e+03  5.951000e+03  5981.000000  5981.000000\n",
              "mean   2.056605e+03  1.075036e+06   -19.910276   -43.932281\n",
              "std    3.626885e+04  2.127474e+06     0.118853     0.241396\n",
              "min    1.000000e+00  4.500000e+02   -23.072465   -46.985263\n",
              "25%    3.000000e+02  3.900000e+05   -19.947275   -43.968233\n",
              "50%    5.000000e+02  6.800000e+05   -19.929535   -43.945011\n",
              "75%    1.000000e+03  1.210000e+06   -19.897969   -43.930613\n",
              "max    1.500000e+06  1.300000e+08   -17.373120   -41.121777"
            ],
            "text/html": [
              "\n",
              "  <div id=\"df-dff7da89-bc50-4a5d-ab76-8f4ae0b2ae01\">\n",
              "    <div class=\"colab-df-container\">\n",
              "      <div>\n",
              "<style scoped>\n",
              "    .dataframe tbody tr th:only-of-type {\n",
              "        vertical-align: middle;\n",
              "    }\n",
              "\n",
              "    .dataframe tbody tr th {\n",
              "        vertical-align: top;\n",
              "    }\n",
              "\n",
              "    .dataframe thead th {\n",
              "        text-align: right;\n",
              "    }\n",
              "</style>\n",
              "<table border=\"1\" class=\"dataframe\">\n",
              "  <thead>\n",
              "    <tr style=\"text-align: right;\">\n",
              "      <th></th>\n",
              "      <th>adm-fees</th>\n",
              "      <th>price</th>\n",
              "      <th>latitude</th>\n",
              "      <th>longitude</th>\n",
              "    </tr>\n",
              "  </thead>\n",
              "  <tbody>\n",
              "    <tr>\n",
              "      <th>count</th>\n",
              "      <td>3.977000e+03</td>\n",
              "      <td>5.951000e+03</td>\n",
              "      <td>5981.000000</td>\n",
              "      <td>5981.000000</td>\n",
              "    </tr>\n",
              "    <tr>\n",
              "      <th>mean</th>\n",
              "      <td>2.056605e+03</td>\n",
              "      <td>1.075036e+06</td>\n",
              "      <td>-19.910276</td>\n",
              "      <td>-43.932281</td>\n",
              "    </tr>\n",
              "    <tr>\n",
              "      <th>std</th>\n",
              "      <td>3.626885e+04</td>\n",
              "      <td>2.127474e+06</td>\n",
              "      <td>0.118853</td>\n",
              "      <td>0.241396</td>\n",
              "    </tr>\n",
              "    <tr>\n",
              "      <th>min</th>\n",
              "      <td>1.000000e+00</td>\n",
              "      <td>4.500000e+02</td>\n",
              "      <td>-23.072465</td>\n",
              "      <td>-46.985263</td>\n",
              "    </tr>\n",
              "    <tr>\n",
              "      <th>25%</th>\n",
              "      <td>3.000000e+02</td>\n",
              "      <td>3.900000e+05</td>\n",
              "      <td>-19.947275</td>\n",
              "      <td>-43.968233</td>\n",
              "    </tr>\n",
              "    <tr>\n",
              "      <th>50%</th>\n",
              "      <td>5.000000e+02</td>\n",
              "      <td>6.800000e+05</td>\n",
              "      <td>-19.929535</td>\n",
              "      <td>-43.945011</td>\n",
              "    </tr>\n",
              "    <tr>\n",
              "      <th>75%</th>\n",
              "      <td>1.000000e+03</td>\n",
              "      <td>1.210000e+06</td>\n",
              "      <td>-19.897969</td>\n",
              "      <td>-43.930613</td>\n",
              "    </tr>\n",
              "    <tr>\n",
              "      <th>max</th>\n",
              "      <td>1.500000e+06</td>\n",
              "      <td>1.300000e+08</td>\n",
              "      <td>-17.373120</td>\n",
              "      <td>-41.121777</td>\n",
              "    </tr>\n",
              "  </tbody>\n",
              "</table>\n",
              "</div>\n",
              "      <button class=\"colab-df-convert\" onclick=\"convertToInteractive('df-dff7da89-bc50-4a5d-ab76-8f4ae0b2ae01')\"\n",
              "              title=\"Convert this dataframe to an interactive table.\"\n",
              "              style=\"display:none;\">\n",
              "        \n",
              "  <svg xmlns=\"http://www.w3.org/2000/svg\" height=\"24px\"viewBox=\"0 0 24 24\"\n",
              "       width=\"24px\">\n",
              "    <path d=\"M0 0h24v24H0V0z\" fill=\"none\"/>\n",
              "    <path d=\"M18.56 5.44l.94 2.06.94-2.06 2.06-.94-2.06-.94-.94-2.06-.94 2.06-2.06.94zm-11 1L8.5 8.5l.94-2.06 2.06-.94-2.06-.94L8.5 2.5l-.94 2.06-2.06.94zm10 10l.94 2.06.94-2.06 2.06-.94-2.06-.94-.94-2.06-.94 2.06-2.06.94z\"/><path d=\"M17.41 7.96l-1.37-1.37c-.4-.4-.92-.59-1.43-.59-.52 0-1.04.2-1.43.59L10.3 9.45l-7.72 7.72c-.78.78-.78 2.05 0 2.83L4 21.41c.39.39.9.59 1.41.59.51 0 1.02-.2 1.41-.59l7.78-7.78 2.81-2.81c.8-.78.8-2.07 0-2.86zM5.41 20L4 18.59l7.72-7.72 1.47 1.35L5.41 20z\"/>\n",
              "  </svg>\n",
              "      </button>\n",
              "      \n",
              "  <style>\n",
              "    .colab-df-container {\n",
              "      display:flex;\n",
              "      flex-wrap:wrap;\n",
              "      gap: 12px;\n",
              "    }\n",
              "\n",
              "    .colab-df-convert {\n",
              "      background-color: #E8F0FE;\n",
              "      border: none;\n",
              "      border-radius: 50%;\n",
              "      cursor: pointer;\n",
              "      display: none;\n",
              "      fill: #1967D2;\n",
              "      height: 32px;\n",
              "      padding: 0 0 0 0;\n",
              "      width: 32px;\n",
              "    }\n",
              "\n",
              "    .colab-df-convert:hover {\n",
              "      background-color: #E2EBFA;\n",
              "      box-shadow: 0px 1px 2px rgba(60, 64, 67, 0.3), 0px 1px 3px 1px rgba(60, 64, 67, 0.15);\n",
              "      fill: #174EA6;\n",
              "    }\n",
              "\n",
              "    [theme=dark] .colab-df-convert {\n",
              "      background-color: #3B4455;\n",
              "      fill: #D2E3FC;\n",
              "    }\n",
              "\n",
              "    [theme=dark] .colab-df-convert:hover {\n",
              "      background-color: #434B5C;\n",
              "      box-shadow: 0px 1px 3px 1px rgba(0, 0, 0, 0.15);\n",
              "      filter: drop-shadow(0px 1px 2px rgba(0, 0, 0, 0.3));\n",
              "      fill: #FFFFFF;\n",
              "    }\n",
              "  </style>\n",
              "\n",
              "      <script>\n",
              "        const buttonEl =\n",
              "          document.querySelector('#df-dff7da89-bc50-4a5d-ab76-8f4ae0b2ae01 button.colab-df-convert');\n",
              "        buttonEl.style.display =\n",
              "          google.colab.kernel.accessAllowed ? 'block' : 'none';\n",
              "\n",
              "        async function convertToInteractive(key) {\n",
              "          const element = document.querySelector('#df-dff7da89-bc50-4a5d-ab76-8f4ae0b2ae01');\n",
              "          const dataTable =\n",
              "            await google.colab.kernel.invokeFunction('convertToInteractive',\n",
              "                                                     [key], {});\n",
              "          if (!dataTable) return;\n",
              "\n",
              "          const docLinkHtml = 'Like what you see? Visit the ' +\n",
              "            '<a target=\"_blank\" href=https://colab.research.google.com/notebooks/data_table.ipynb>data table notebook</a>'\n",
              "            + ' to learn more about interactive tables.';\n",
              "          element.innerHTML = '';\n",
              "          dataTable['output_type'] = 'display_data';\n",
              "          await google.colab.output.renderOutput(dataTable, element);\n",
              "          const docLink = document.createElement('div');\n",
              "          docLink.innerHTML = docLinkHtml;\n",
              "          element.appendChild(docLink);\n",
              "        }\n",
              "      </script>\n",
              "    </div>\n",
              "  </div>\n",
              "  "
            ]
          },
          "metadata": {},
          "execution_count": 3
        }
      ]
    },
    {
      "cell_type": "markdown",
      "source": [
        "Well, not good news ! The std of adm-fees and price is even greater than the mean. It could be some outliers, we're going investigate that later."
      ],
      "metadata": {
        "id": "q0VQEACea92B"
      }
    },
    {
      "cell_type": "code",
      "source": [
        "df.isnull().sum()"
      ],
      "metadata": {
        "colab": {
          "base_uri": "https://localhost:8080/"
        },
        "id": "fAAycJZHZfAO",
        "outputId": "6cdb2689-e5a0-4c59-fbbd-3d1a84642ff7"
      },
      "execution_count": 4,
      "outputs": [
        {
          "output_type": "execute_result",
          "data": {
            "text/plain": [
              "address             0\n",
              "adm-fees         2004\n",
              "garage-places       0\n",
              "price              30\n",
              "rooms               0\n",
              "square-foot         0\n",
              "neighborhood       24\n",
              "city                0\n",
              "latitude            0\n",
              "longitude           0\n",
              "dtype: int64"
            ]
          },
          "metadata": {},
          "execution_count": 4
        }
      ]
    },
    {
      "cell_type": "markdown",
      "source": [
        "Ok, we have some missing/NaN values, as a first approximation I'm going to change the numerical missing values by the mean of the rest of column. The categorical missing values (just 24) I'm going to write IDK in the missing values.  "
      ],
      "metadata": {
        "id": "P3xOcLtPaGgD"
      }
    },
    {
      "cell_type": "code",
      "source": [
        "df['adm-fees'].fillna(df['adm-fees'].mean(),inplace=True)\n",
        "df['price'].fillna(df['price'].mean(),inplace=True)\n",
        "df['neighborhood'].fillna( 'IDK',inplace=True)"
      ],
      "metadata": {
        "id": "0EuZ-G0mZlzc"
      },
      "execution_count": 5,
      "outputs": []
    },
    {
      "cell_type": "code",
      "source": [
        "df.isnull().sum()"
      ],
      "metadata": {
        "colab": {
          "base_uri": "https://localhost:8080/"
        },
        "id": "DPbRHhPJd8Rb",
        "outputId": "426bdefc-d25f-449e-8c86-3cefdc3c7889"
      },
      "execution_count": 6,
      "outputs": [
        {
          "output_type": "execute_result",
          "data": {
            "text/plain": [
              "address          0\n",
              "adm-fees         0\n",
              "garage-places    0\n",
              "price            0\n",
              "rooms            0\n",
              "square-foot      0\n",
              "neighborhood     0\n",
              "city             0\n",
              "latitude         0\n",
              "longitude        0\n",
              "dtype: int64"
            ]
          },
          "metadata": {},
          "execution_count": 6
        }
      ]
    },
    {
      "cell_type": "markdown",
      "source": [
        "All right, no more missing values. Let see how many values I have in column 'nieghborhood' and 'adress'. "
      ],
      "metadata": {
        "id": "mlcVy577eTPK"
      }
    },
    {
      "cell_type": "code",
      "source": [
        "counts = df['neighborhood'].value_counts()\n",
        "counts.to_csv('neigh.csv',index=True)\n",
        "counts.quantile(0.9)"
      ],
      "metadata": {
        "colab": {
          "base_uri": "https://localhost:8080/"
        },
        "id": "ov1wPkhHeRsn",
        "outputId": "7ae56ff7-2a70-4f5a-8f31-cd9f42bd8b52"
      },
      "execution_count": 7,
      "outputs": [
        {
          "output_type": "execute_result",
          "data": {
            "text/plain": [
              "68.1"
            ]
          },
          "metadata": {},
          "execution_count": 7
        }
      ]
    },
    {
      "cell_type": "code",
      "source": [
        "counts = df['address'].value_counts()\n",
        "counts.to_csv('address.csv',index=True)\n",
        "counts.quantile(0.9)"
      ],
      "metadata": {
        "colab": {
          "base_uri": "https://localhost:8080/"
        },
        "id": "j0Luw40seq6m",
        "outputId": "66fc4d36-6878-4924-8b3c-93a9e887e3b7"
      },
      "execution_count": 8,
      "outputs": [
        {
          "output_type": "execute_result",
          "data": {
            "text/plain": [
              "3.0"
            ]
          },
          "metadata": {},
          "execution_count": 8
        }
      ]
    },
    {
      "cell_type": "markdown",
      "source": [
        "The problem in here is that we have too many addresses and neighborhoods in the city, so it may mess the ML algorithm in the future. We have two options: \n",
        "* 1 - Just drop these columns. I'm aware that it would affect the analysis but as we have latitude and longitude I think it's not so critical to maintain the address and neigborhood.\n",
        "\n",
        "* 2 - Sort the neighborhoods and addresses that appeared the least in a new class called 'others'\n",
        "\n",
        "Let's choose the option 2. The criterion is, if a neighborhood appear less than 1.5* third quarter is going to be classified as others. However, we still have too many adresses, so I'll just trop this column."
      ],
      "metadata": {
        "id": "XB4o1TgAfOoo"
      }
    },
    {
      "cell_type": "code",
      "source": [
        "df['neighborhood'].unique()"
      ],
      "metadata": {
        "colab": {
          "base_uri": "https://localhost:8080/"
        },
        "id": "tNAm0URSURQg",
        "outputId": "805d2c7f-719f-44b1-cb86-125cfe9ac8c6"
      },
      "execution_count": 9,
      "outputs": [
        {
          "output_type": "execute_result",
          "data": {
            "text/plain": [
              "array([' Luxemburgo', ' Centro', ' Santa Amélia', ' Gutierrez',\n",
              "       ' Pindorama', ' Castelo', ' Santo Antônio', ' Sagrada Família',\n",
              "       ' Sion', ' Lourdes', ' Santa Efigênia', ' Santa Tereza',\n",
              "       ' Nova Gameleira', ' São João Batista', ' Nova Suíssa',\n",
              "       ' São Gabriel', ' Ouro Preto', ' Alto Barroca', ' Goiânia',\n",
              "       ' Maria Helena', ' Belvedere', ' Cidade Nova', ' Vitória',\n",
              "       ' Savassi', ' João Pinheiro', ' Itapoã', ' São Tomaz',\n",
              "       ' Boa Vista', ' Prado', 'IDK', ' Santa Branca', ' São Pedro',\n",
              "       ' Barro Preto', ' Buritis', ' Colégio Batista', ' Serra',\n",
              "       ' Santo Agostinho', ' Horto', ' Funcionários', ' Califórnia',\n",
              "       ' Granja De Freitas', ' Braúnas', ' São Lucas',\n",
              "       ' Coração Eucarístico', ' Serrano', ' Anchieta', ' Cruzeiro',\n",
              "       ' Caiçara Adeláide', ' Santa Cruz', ' Vila Paris', ' Gameleira',\n",
              "       ' São José', ' Mantiqueira', ' Diamante', ' Grajaú',\n",
              "       ' Santa Lúcia', ' Ipiranga', ' Planalto', ' Barreiro',\n",
              "       ' São Bento', ' Pampulha', ' Jardim dos Comerciários',\n",
              "       ' Bandeirantes', ' Candelaria', ' Juliana', ' Bonfim', ' Marajó',\n",
              "       ' Floresta', ' Penha', ' Santa Mônica', ' Venda Nova',\n",
              "       ' Nova Granada', ' Cachoeirinha', ' Padre Eustáquio', ' Itatiaia',\n",
              "       ' São Luíz', ' União', ' Santa Inês', ' Floramar', ' Liberdade',\n",
              "       ' Jardim Guanabara', ' Carlos Prates', ' Graça', ' Beija Flor',\n",
              "       ' Palmares', ' Concórdia', ' Copacabana', ' Santa Maria',\n",
              "       ' Madre Gertrudes', ' Providência', ' Dona Clara', ' Estoril',\n",
              "       ' Nova Vista', ' Jonas Veiga', ' Ouro Minas', ' Cinqüentenário',\n",
              "       ' Cidade Jardim', ' Havaí', ' Serra Verde', ' Álvaro Camargos',\n",
              "       ' Estrela Dalva', ' Calafate', ' Barroca', ' Frei Leopoldo',\n",
              "       ' Paquetá', ' Canaã', ' Paraíso', ' Guarani',\n",
              "       ' Alto dos Pinheiros', ' Caiçaras', ' Mangabeiras', ' Heliópolis',\n",
              "       ' Jaraguá', ' Comiteco', ' Etelvina Carneiro', ' Jardim Leblon',\n",
              "       ' Alípio de Melo', ' Manacás', ' Carmo', ' Betânia',\n",
              "       ' Estrela do Oriente', ' Saudade', ' Vale do Sereno',\n",
              "       ' Renascença', ' Jardim Vitória', ' Aparecida',\n",
              "       ' Vale dos Cristais', ' Jardim América', ' Santa Helena',\n",
              "       ' Novo das Indústrias', ' Xodó Marize', ' Palmeiras', ' Amazonas',\n",
              "       ' Maria Tereza', ' Perobas', ' Letícia', ' Bom Jesus',\n",
              "       ' Vale do Jatoba Barreiro', ' Jardim Riacho das Pedras',\n",
              "       ' Chacaras Del Rey Sao Benedito', ' Rio Branco', ' Granja Verde',\n",
              "       ' Esperanca Justinopolis', ' Fernão Dias', ' Sapucaia II',\n",
              "       ' Camargos', ' Lundcea', '040', ' Santa Terezinha', ' Silveira',\n",
              "       ' Quintino', ' Europa', ' Casa Branca', ' Parque Leblon',\n",
              "       ' Céu Azul', ' Alto dos Caiçaras', ' Salgado Filho', ' Pirajá',\n",
              "       ' Monsenhor Messias', 'I', ' Trevo', ' Jardim Atlântico',\n",
              "       ' Santa Rosa', ' Garças', ' Piratininga Venda Nova',\n",
              "       ' Minaslandia P Maio', ' Jardim Europa venda Nova', ' Jaqueline',\n",
              "       ' São Cristóvão', ' São Geraldo', ' São Francisco', ' Bonsucesso',\n",
              "       ' Miramar', ' Vila Clóris', ' Vera Cruz', ' Sinimbu', ' Tirol',\n",
              "       ' Engenho Nogueira', ' Glória', ' Jardim Paqueta', ' Minas Brasil',\n",
              "       ' Bonsucesso Barreiro', ' Parque São José', ' Milionários',\n",
              "       ' Solar do Barreiro', ' Lagoinha', ' Novo Glória', ' Araguaia',\n",
              "       ' Dom Bosco', ' Coração de Jesus', ' Primeiro de Maio',\n",
              "       ' Vista Alegre', ' Nova Floresta', ' Nazaré',\n",
              "       ' Flávio Marques Lisboa', ' Visconde do Rio Branco', ' Pompéia',\n",
              "       ' Cenaculo', ' Vila Oeste', ' Olaria', ' Minascaixa', ' Esplanada',\n",
              "       ' Brasil Industrial', ' Minaslândia', ' Parque Copacabana',\n",
              "       ' São Salvador', ' Ipê', ' Glalijá', ' Jardim Montanhês',\n",
              "       ' Jardim dos Pirineus', ' Distrito Industrial Vale do Jatobá',\n",
              "       ' Conjunto Jardim Filadélfia', ' Santo André', ' Cardoso Barreiro',\n",
              "       ' Coqueiros', ' Parque Sao Pedro Venda Nova', ' Novo Letícia',\n",
              "       ' Conjunto Celso Machado', ' Castanheira', ' Itaipu Barreiro',\n",
              "       ' Santa Sofia', ' Maria Virgínia', ' Teixeira Dias Barreiro',\n",
              "       ' Horto Florestal', ' Aeroporto', ' Conjunto Califórnia', ' Urca',\n",
              "       ' Vila da Serra', ' Parque Pedro II', ' Petrópolis'], dtype=object)"
            ]
          },
          "metadata": {},
          "execution_count": 9
        }
      ]
    },
    {
      "cell_type": "code",
      "source": [
        "df_clean = df.copy()\n",
        "neighs = [' Luxemburgo', ' Santa Amélia', ' Gutierrez',\n",
        "       ' Pindorama', ' Castelo',\n",
        "       ' Santa Efigênia', ' Santa Tereza',\n",
        "       ' Nova Gameleira', ' São João Batista', ' Nova Suíssa',\n",
        "       ' São Gabriel', ' Ouro Preto', ' Alto Barroca', ' Goiânia',\n",
        "       ' Maria Helena', ' Belvedere', ' Cidade Nova', ' Vitória',\n",
        "       ' João Pinheiro', ' Itapoã', ' São Tomaz',\n",
        "       ' Boa Vista', ' Prado', 'IDK', ' Santa Branca', ' São Pedro',\n",
        "       ' Barro Preto', ' Colégio Batista',\n",
        "       ' Horto', ' Califórnia',\n",
        "       ' Granja De Freitas', ' Braúnas', ' São Lucas',\n",
        "       ' Coração Eucarístico', ' Serrano', ' Anchieta', ' Cruzeiro',\n",
        "       ' Caiçara Adeláide', ' Santa Cruz', ' Vila Paris', ' Gameleira',\n",
        "       ' São José', ' Mantiqueira', ' Diamante', ' Grajaú',\n",
        "       ' Santa Lúcia', ' Ipiranga', ' Planalto', ' Barreiro',\n",
        "       ' São Bento', ' Pampulha', ' Jardim dos Comerciários',\n",
        "       ' Bandeirantes', ' Candelaria', ' Juliana', ' Bonfim', ' Marajó',\n",
        "       ' Floresta', ' Penha', ' Santa Mônica', ' Venda Nova',\n",
        "       ' Nova Granada', ' Cachoeirinha', ' Padre Eustáquio', ' Itatiaia',\n",
        "       ' São Luíz', ' União', ' Santa Inês', ' Floramar', ' Liberdade',\n",
        "       ' Jardim Guanabara', ' Carlos Prates', ' Graça', ' Beija Flor',\n",
        "       ' Palmares', ' Concórdia', ' Copacabana', ' Santa Maria',\n",
        "       ' Madre Gertrudes', ' Providência', ' Dona Clara', ' Estoril',\n",
        "       ' Nova Vista', ' Jonas Veiga', ' Ouro Minas', ' Cinqüentenário',\n",
        "       ' Cidade Jardim', ' Havaí', ' Serra Verde', ' Álvaro Camargos',\n",
        "       ' Estrela Dalva', ' Calafate', ' Barroca', ' Frei Leopoldo',\n",
        "       ' Paquetá', ' Canaã', ' Paraíso', ' Guarani',\n",
        "       ' Alto dos Pinheiros', ' Caiçaras', ' Mangabeiras', ' Heliópolis',\n",
        "       ' Jaraguá', ' Comiteco', ' Etelvina Carneiro', ' Jardim Leblon',\n",
        "       ' Alípio de Melo', ' Manacás', ' Carmo', ' Betânia',\n",
        "       ' Estrela do Oriente', ' Saudade', ' Vale do Sereno',\n",
        "       ' Renascença', ' Jardim Vitória', ' Aparecida',\n",
        "       ' Vale dos Cristais', ' Jardim América', ' Santa Helena',\n",
        "       ' Novo das Indústrias', ' Xodó Marize', ' Palmeiras', ' Amazonas',\n",
        "       ' Maria Tereza', ' Perobas', ' Letícia', ' Bom Jesus',\n",
        "       ' Vale do Jatoba Barreiro', ' Jardim Riacho das Pedras',\n",
        "       ' Chacaras Del Rey Sao Benedito', ' Rio Branco', ' Granja Verde',\n",
        "       ' Esperanca Justinopolis', ' Fernão Dias', ' Sapucaia II',\n",
        "       ' Camargos', ' Lundcea', '040', ' Santa Terezinha', ' Silveira',\n",
        "       ' Quintino', ' Europa', ' Casa Branca', ' Parque Leblon',\n",
        "       ' Céu Azul', ' Alto dos Caiçaras', ' Salgado Filho', ' Pirajá',\n",
        "       ' Monsenhor Messias', 'I', ' Trevo', ' Jardim Atlântico',\n",
        "       ' Santa Rosa', ' Garças', ' Piratininga Venda Nova',\n",
        "       ' Minaslandia P Maio', ' Jardim Europa venda Nova', ' Jaqueline',\n",
        "       ' São Cristóvão', ' São Geraldo', ' São Francisco', ' Bonsucesso',\n",
        "       ' Miramar', ' Vila Clóris', ' Vera Cruz', ' Sinimbu', ' Tirol',\n",
        "       ' Engenho Nogueira', ' Glória', ' Jardim Paqueta', ' Minas Brasil',\n",
        "       ' Bonsucesso Barreiro', ' Parque São José', ' Milionários',\n",
        "       ' Solar do Barreiro', ' Lagoinha', ' Novo Glória', ' Araguaia',\n",
        "       ' Dom Bosco', ' Coração de Jesus', ' Primeiro de Maio',\n",
        "       ' Vista Alegre', ' Nova Floresta', ' Nazaré',\n",
        "       ' Flávio Marques Lisboa', ' Visconde do Rio Branco', ' Pompéia',\n",
        "       ' Cenaculo', ' Vila Oeste', ' Olaria', ' Minascaixa', ' Esplanada',\n",
        "       ' Brasil Industrial', ' Minaslândia', ' Parque Copacabana',\n",
        "       ' São Salvador', ' Ipê', ' Glalijá', ' Jardim Montanhês',\n",
        "       ' Jardim dos Pirineus', ' Distrito Industrial Vale do Jatobá',\n",
        "       ' Conjunto Jardim Filadélfia', ' Santo André', ' Cardoso Barreiro',\n",
        "       ' Coqueiros', ' Parque Sao Pedro Venda Nova', ' Novo Letícia',\n",
        "       ' Conjunto Celso Machado', ' Castanheira', ' Itaipu Barreiro',\n",
        "       ' Santa Sofia', ' Maria Virgínia', ' Teixeira Dias Barreiro',\n",
        "       ' Horto Florestal', ' Aeroporto', ' Conjunto Califórnia', ' Urca',\n",
        "       ' Vila da Serra', ' Parque Pedro II', ' Petrópolis']\n",
        "subs = { key : 'Other' for key in neighs}\n",
        "df_clean['neighborhood'] = df_clean['neighborhood'].replace(subs)"
      ],
      "metadata": {
        "id": "kB_ZtV_aS8hl"
      },
      "execution_count": 10,
      "outputs": []
    },
    {
      "cell_type": "code",
      "source": [
        "df_clean['neighborhood'].unique()"
      ],
      "metadata": {
        "colab": {
          "base_uri": "https://localhost:8080/"
        },
        "id": "qyG_ZadsU0O-",
        "outputId": "20338b59-974b-4a41-ea98-8f6f79c43d29"
      },
      "execution_count": 11,
      "outputs": [
        {
          "output_type": "execute_result",
          "data": {
            "text/plain": [
              "array(['Other', ' Centro', ' Santo Antônio', ' Sagrada Família', ' Sion',\n",
              "       ' Lourdes', ' Savassi', ' Buritis', ' Serra', ' Santo Agostinho',\n",
              "       ' Funcionários'], dtype=object)"
            ]
          },
          "metadata": {},
          "execution_count": 11
        }
      ]
    },
    {
      "cell_type": "code",
      "source": [
        "df_clean.drop('address',axis=1,inplace=True)"
      ],
      "metadata": {
        "id": "Rhd7J261Vmv5"
      },
      "execution_count": 12,
      "outputs": []
    },
    {
      "cell_type": "code",
      "source": [
        "df_clean"
      ],
      "metadata": {
        "colab": {
          "base_uri": "https://localhost:8080/",
          "height": 424
        },
        "id": "s6kCxTcDVtXn",
        "outputId": "27027be6-5161-48e1-a587-69c4d16fc025"
      },
      "execution_count": 13,
      "outputs": [
        {
          "output_type": "execute_result",
          "data": {
            "text/plain": [
              "        adm-fees garage-places      price rooms square-foot neighborhood  \\\n",
              "0      470.00000             1   330000.0     1          40        Other   \n",
              "1     2056.60523             1   480000.0     2       45-65       Centro   \n",
              "2     2056.60523             5  1190000.0     4         411        Other   \n",
              "3      750.00000             4  1590000.0     4         158        Other   \n",
              "4     2056.60523             6   550000.0     3         278        Other   \n",
              "...          ...           ...        ...   ...         ...          ...   \n",
              "5976   340.00000             2   560000.0     3          92        Other   \n",
              "5977   200.00000             1   440000.0     3          90        Other   \n",
              "5978    10.00000             2   500000.0     3          80        Other   \n",
              "5979    10.00000             2   740000.0     3          80        Other   \n",
              "5980  2056.60523             3  4990000.0    --         428      Savassi   \n",
              "\n",
              "                  city   latitude  longitude  \n",
              "0      Belo Horizonte  -19.936415 -43.953396  \n",
              "1      Belo Horizonte  -18.864776 -41.121777  \n",
              "2      Belo Horizonte  -20.225241 -44.397780  \n",
              "3      Belo Horizonte  -19.937155 -43.958694  \n",
              "4      Belo Horizonte  -19.912982 -44.019944  \n",
              "...                ...        ...        ...  \n",
              "5976   Belo Horizonte  -19.945428 -43.970988  \n",
              "5977   Belo Horizonte  -19.979915 -44.026007  \n",
              "5978   Belo Horizonte  -19.840904 -43.956037  \n",
              "5979   Belo Horizonte  -19.840904 -43.956037  \n",
              "5980   Belo Horizonte  -19.915643 -43.945380  \n",
              "\n",
              "[5981 rows x 9 columns]"
            ],
            "text/html": [
              "\n",
              "  <div id=\"df-18b3f851-614a-45f5-92c9-11f6cf0d6f3c\">\n",
              "    <div class=\"colab-df-container\">\n",
              "      <div>\n",
              "<style scoped>\n",
              "    .dataframe tbody tr th:only-of-type {\n",
              "        vertical-align: middle;\n",
              "    }\n",
              "\n",
              "    .dataframe tbody tr th {\n",
              "        vertical-align: top;\n",
              "    }\n",
              "\n",
              "    .dataframe thead th {\n",
              "        text-align: right;\n",
              "    }\n",
              "</style>\n",
              "<table border=\"1\" class=\"dataframe\">\n",
              "  <thead>\n",
              "    <tr style=\"text-align: right;\">\n",
              "      <th></th>\n",
              "      <th>adm-fees</th>\n",
              "      <th>garage-places</th>\n",
              "      <th>price</th>\n",
              "      <th>rooms</th>\n",
              "      <th>square-foot</th>\n",
              "      <th>neighborhood</th>\n",
              "      <th>city</th>\n",
              "      <th>latitude</th>\n",
              "      <th>longitude</th>\n",
              "    </tr>\n",
              "  </thead>\n",
              "  <tbody>\n",
              "    <tr>\n",
              "      <th>0</th>\n",
              "      <td>470.00000</td>\n",
              "      <td>1</td>\n",
              "      <td>330000.0</td>\n",
              "      <td>1</td>\n",
              "      <td>40</td>\n",
              "      <td>Other</td>\n",
              "      <td>Belo Horizonte</td>\n",
              "      <td>-19.936415</td>\n",
              "      <td>-43.953396</td>\n",
              "    </tr>\n",
              "    <tr>\n",
              "      <th>1</th>\n",
              "      <td>2056.60523</td>\n",
              "      <td>1</td>\n",
              "      <td>480000.0</td>\n",
              "      <td>2</td>\n",
              "      <td>45-65</td>\n",
              "      <td>Centro</td>\n",
              "      <td>Belo Horizonte</td>\n",
              "      <td>-18.864776</td>\n",
              "      <td>-41.121777</td>\n",
              "    </tr>\n",
              "    <tr>\n",
              "      <th>2</th>\n",
              "      <td>2056.60523</td>\n",
              "      <td>5</td>\n",
              "      <td>1190000.0</td>\n",
              "      <td>4</td>\n",
              "      <td>411</td>\n",
              "      <td>Other</td>\n",
              "      <td>Belo Horizonte</td>\n",
              "      <td>-20.225241</td>\n",
              "      <td>-44.397780</td>\n",
              "    </tr>\n",
              "    <tr>\n",
              "      <th>3</th>\n",
              "      <td>750.00000</td>\n",
              "      <td>4</td>\n",
              "      <td>1590000.0</td>\n",
              "      <td>4</td>\n",
              "      <td>158</td>\n",
              "      <td>Other</td>\n",
              "      <td>Belo Horizonte</td>\n",
              "      <td>-19.937155</td>\n",
              "      <td>-43.958694</td>\n",
              "    </tr>\n",
              "    <tr>\n",
              "      <th>4</th>\n",
              "      <td>2056.60523</td>\n",
              "      <td>6</td>\n",
              "      <td>550000.0</td>\n",
              "      <td>3</td>\n",
              "      <td>278</td>\n",
              "      <td>Other</td>\n",
              "      <td>Belo Horizonte</td>\n",
              "      <td>-19.912982</td>\n",
              "      <td>-44.019944</td>\n",
              "    </tr>\n",
              "    <tr>\n",
              "      <th>...</th>\n",
              "      <td>...</td>\n",
              "      <td>...</td>\n",
              "      <td>...</td>\n",
              "      <td>...</td>\n",
              "      <td>...</td>\n",
              "      <td>...</td>\n",
              "      <td>...</td>\n",
              "      <td>...</td>\n",
              "      <td>...</td>\n",
              "    </tr>\n",
              "    <tr>\n",
              "      <th>5976</th>\n",
              "      <td>340.00000</td>\n",
              "      <td>2</td>\n",
              "      <td>560000.0</td>\n",
              "      <td>3</td>\n",
              "      <td>92</td>\n",
              "      <td>Other</td>\n",
              "      <td>Belo Horizonte</td>\n",
              "      <td>-19.945428</td>\n",
              "      <td>-43.970988</td>\n",
              "    </tr>\n",
              "    <tr>\n",
              "      <th>5977</th>\n",
              "      <td>200.00000</td>\n",
              "      <td>1</td>\n",
              "      <td>440000.0</td>\n",
              "      <td>3</td>\n",
              "      <td>90</td>\n",
              "      <td>Other</td>\n",
              "      <td>Belo Horizonte</td>\n",
              "      <td>-19.979915</td>\n",
              "      <td>-44.026007</td>\n",
              "    </tr>\n",
              "    <tr>\n",
              "      <th>5978</th>\n",
              "      <td>10.00000</td>\n",
              "      <td>2</td>\n",
              "      <td>500000.0</td>\n",
              "      <td>3</td>\n",
              "      <td>80</td>\n",
              "      <td>Other</td>\n",
              "      <td>Belo Horizonte</td>\n",
              "      <td>-19.840904</td>\n",
              "      <td>-43.956037</td>\n",
              "    </tr>\n",
              "    <tr>\n",
              "      <th>5979</th>\n",
              "      <td>10.00000</td>\n",
              "      <td>2</td>\n",
              "      <td>740000.0</td>\n",
              "      <td>3</td>\n",
              "      <td>80</td>\n",
              "      <td>Other</td>\n",
              "      <td>Belo Horizonte</td>\n",
              "      <td>-19.840904</td>\n",
              "      <td>-43.956037</td>\n",
              "    </tr>\n",
              "    <tr>\n",
              "      <th>5980</th>\n",
              "      <td>2056.60523</td>\n",
              "      <td>3</td>\n",
              "      <td>4990000.0</td>\n",
              "      <td>--</td>\n",
              "      <td>428</td>\n",
              "      <td>Savassi</td>\n",
              "      <td>Belo Horizonte</td>\n",
              "      <td>-19.915643</td>\n",
              "      <td>-43.945380</td>\n",
              "    </tr>\n",
              "  </tbody>\n",
              "</table>\n",
              "<p>5981 rows × 9 columns</p>\n",
              "</div>\n",
              "      <button class=\"colab-df-convert\" onclick=\"convertToInteractive('df-18b3f851-614a-45f5-92c9-11f6cf0d6f3c')\"\n",
              "              title=\"Convert this dataframe to an interactive table.\"\n",
              "              style=\"display:none;\">\n",
              "        \n",
              "  <svg xmlns=\"http://www.w3.org/2000/svg\" height=\"24px\"viewBox=\"0 0 24 24\"\n",
              "       width=\"24px\">\n",
              "    <path d=\"M0 0h24v24H0V0z\" fill=\"none\"/>\n",
              "    <path d=\"M18.56 5.44l.94 2.06.94-2.06 2.06-.94-2.06-.94-.94-2.06-.94 2.06-2.06.94zm-11 1L8.5 8.5l.94-2.06 2.06-.94-2.06-.94L8.5 2.5l-.94 2.06-2.06.94zm10 10l.94 2.06.94-2.06 2.06-.94-2.06-.94-.94-2.06-.94 2.06-2.06.94z\"/><path d=\"M17.41 7.96l-1.37-1.37c-.4-.4-.92-.59-1.43-.59-.52 0-1.04.2-1.43.59L10.3 9.45l-7.72 7.72c-.78.78-.78 2.05 0 2.83L4 21.41c.39.39.9.59 1.41.59.51 0 1.02-.2 1.41-.59l7.78-7.78 2.81-2.81c.8-.78.8-2.07 0-2.86zM5.41 20L4 18.59l7.72-7.72 1.47 1.35L5.41 20z\"/>\n",
              "  </svg>\n",
              "      </button>\n",
              "      \n",
              "  <style>\n",
              "    .colab-df-container {\n",
              "      display:flex;\n",
              "      flex-wrap:wrap;\n",
              "      gap: 12px;\n",
              "    }\n",
              "\n",
              "    .colab-df-convert {\n",
              "      background-color: #E8F0FE;\n",
              "      border: none;\n",
              "      border-radius: 50%;\n",
              "      cursor: pointer;\n",
              "      display: none;\n",
              "      fill: #1967D2;\n",
              "      height: 32px;\n",
              "      padding: 0 0 0 0;\n",
              "      width: 32px;\n",
              "    }\n",
              "\n",
              "    .colab-df-convert:hover {\n",
              "      background-color: #E2EBFA;\n",
              "      box-shadow: 0px 1px 2px rgba(60, 64, 67, 0.3), 0px 1px 3px 1px rgba(60, 64, 67, 0.15);\n",
              "      fill: #174EA6;\n",
              "    }\n",
              "\n",
              "    [theme=dark] .colab-df-convert {\n",
              "      background-color: #3B4455;\n",
              "      fill: #D2E3FC;\n",
              "    }\n",
              "\n",
              "    [theme=dark] .colab-df-convert:hover {\n",
              "      background-color: #434B5C;\n",
              "      box-shadow: 0px 1px 3px 1px rgba(0, 0, 0, 0.15);\n",
              "      filter: drop-shadow(0px 1px 2px rgba(0, 0, 0, 0.3));\n",
              "      fill: #FFFFFF;\n",
              "    }\n",
              "  </style>\n",
              "\n",
              "      <script>\n",
              "        const buttonEl =\n",
              "          document.querySelector('#df-18b3f851-614a-45f5-92c9-11f6cf0d6f3c button.colab-df-convert');\n",
              "        buttonEl.style.display =\n",
              "          google.colab.kernel.accessAllowed ? 'block' : 'none';\n",
              "\n",
              "        async function convertToInteractive(key) {\n",
              "          const element = document.querySelector('#df-18b3f851-614a-45f5-92c9-11f6cf0d6f3c');\n",
              "          const dataTable =\n",
              "            await google.colab.kernel.invokeFunction('convertToInteractive',\n",
              "                                                     [key], {});\n",
              "          if (!dataTable) return;\n",
              "\n",
              "          const docLinkHtml = 'Like what you see? Visit the ' +\n",
              "            '<a target=\"_blank\" href=https://colab.research.google.com/notebooks/data_table.ipynb>data table notebook</a>'\n",
              "            + ' to learn more about interactive tables.';\n",
              "          element.innerHTML = '';\n",
              "          dataTable['output_type'] = 'display_data';\n",
              "          await google.colab.output.renderOutput(dataTable, element);\n",
              "          const docLink = document.createElement('div');\n",
              "          docLink.innerHTML = docLinkHtml;\n",
              "          element.appendChild(docLink);\n",
              "        }\n",
              "      </script>\n",
              "    </div>\n",
              "  </div>\n",
              "  "
            ]
          },
          "metadata": {},
          "execution_count": 13
        }
      ]
    },
    {
      "cell_type": "code",
      "source": [
        "df_clean['city'].value_counts()"
      ],
      "metadata": {
        "colab": {
          "base_uri": "https://localhost:8080/"
        },
        "id": "H2h9f3U9V_HD",
        "outputId": "d84415d4-35b0-49c3-c0cf-f002b266e249"
      },
      "execution_count": 14,
      "outputs": [
        {
          "output_type": "execute_result",
          "data": {
            "text/plain": [
              " Belo Horizonte         5925\n",
              "Belo Horizonte            24\n",
              " Contagem                  6\n",
              " Nova Lima                 4\n",
              " Sabará                    4\n",
              " Ribeirão das Neves        3\n",
              " Lagoa Santa               2\n",
              " 461                       2\n",
              " 1542                      1\n",
              " 22                        1\n",
              " São Paulo                 1\n",
              " 1601                      1\n",
              " 570                       1\n",
              " Divinópolis               1\n",
              " 1122                      1\n",
              " Km 480                    1\n",
              " Betim                     1\n",
              " Santa Luzia               1\n",
              " 31                        1\n",
              "Name: city, dtype: int64"
            ]
          },
          "metadata": {},
          "execution_count": 14
        }
      ]
    },
    {
      "cell_type": "markdown",
      "source": [
        "As 99% of the city are 'Belo Horizonte' doesn't make sense to keep this column, so I'll drop that."
      ],
      "metadata": {
        "id": "K9VypQakV7Ll"
      }
    },
    {
      "cell_type": "code",
      "source": [
        "df_clean.drop('city',axis=1,inplace=True)"
      ],
      "metadata": {
        "id": "oUIyeVR5V5i0"
      },
      "execution_count": 15,
      "outputs": []
    },
    {
      "cell_type": "code",
      "source": [
        "df_clean"
      ],
      "metadata": {
        "colab": {
          "base_uri": "https://localhost:8080/",
          "height": 424
        },
        "id": "XBK4qgg8WhW6",
        "outputId": "6c9b27db-e9bc-4f80-d5b5-d145afd2c918"
      },
      "execution_count": 16,
      "outputs": [
        {
          "output_type": "execute_result",
          "data": {
            "text/plain": [
              "        adm-fees garage-places      price rooms square-foot neighborhood  \\\n",
              "0      470.00000             1   330000.0     1          40        Other   \n",
              "1     2056.60523             1   480000.0     2       45-65       Centro   \n",
              "2     2056.60523             5  1190000.0     4         411        Other   \n",
              "3      750.00000             4  1590000.0     4         158        Other   \n",
              "4     2056.60523             6   550000.0     3         278        Other   \n",
              "...          ...           ...        ...   ...         ...          ...   \n",
              "5976   340.00000             2   560000.0     3          92        Other   \n",
              "5977   200.00000             1   440000.0     3          90        Other   \n",
              "5978    10.00000             2   500000.0     3          80        Other   \n",
              "5979    10.00000             2   740000.0     3          80        Other   \n",
              "5980  2056.60523             3  4990000.0    --         428      Savassi   \n",
              "\n",
              "       latitude  longitude  \n",
              "0    -19.936415 -43.953396  \n",
              "1    -18.864776 -41.121777  \n",
              "2    -20.225241 -44.397780  \n",
              "3    -19.937155 -43.958694  \n",
              "4    -19.912982 -44.019944  \n",
              "...         ...        ...  \n",
              "5976 -19.945428 -43.970988  \n",
              "5977 -19.979915 -44.026007  \n",
              "5978 -19.840904 -43.956037  \n",
              "5979 -19.840904 -43.956037  \n",
              "5980 -19.915643 -43.945380  \n",
              "\n",
              "[5981 rows x 8 columns]"
            ],
            "text/html": [
              "\n",
              "  <div id=\"df-5c87b801-f13e-447f-ad07-f6f272db906d\">\n",
              "    <div class=\"colab-df-container\">\n",
              "      <div>\n",
              "<style scoped>\n",
              "    .dataframe tbody tr th:only-of-type {\n",
              "        vertical-align: middle;\n",
              "    }\n",
              "\n",
              "    .dataframe tbody tr th {\n",
              "        vertical-align: top;\n",
              "    }\n",
              "\n",
              "    .dataframe thead th {\n",
              "        text-align: right;\n",
              "    }\n",
              "</style>\n",
              "<table border=\"1\" class=\"dataframe\">\n",
              "  <thead>\n",
              "    <tr style=\"text-align: right;\">\n",
              "      <th></th>\n",
              "      <th>adm-fees</th>\n",
              "      <th>garage-places</th>\n",
              "      <th>price</th>\n",
              "      <th>rooms</th>\n",
              "      <th>square-foot</th>\n",
              "      <th>neighborhood</th>\n",
              "      <th>latitude</th>\n",
              "      <th>longitude</th>\n",
              "    </tr>\n",
              "  </thead>\n",
              "  <tbody>\n",
              "    <tr>\n",
              "      <th>0</th>\n",
              "      <td>470.00000</td>\n",
              "      <td>1</td>\n",
              "      <td>330000.0</td>\n",
              "      <td>1</td>\n",
              "      <td>40</td>\n",
              "      <td>Other</td>\n",
              "      <td>-19.936415</td>\n",
              "      <td>-43.953396</td>\n",
              "    </tr>\n",
              "    <tr>\n",
              "      <th>1</th>\n",
              "      <td>2056.60523</td>\n",
              "      <td>1</td>\n",
              "      <td>480000.0</td>\n",
              "      <td>2</td>\n",
              "      <td>45-65</td>\n",
              "      <td>Centro</td>\n",
              "      <td>-18.864776</td>\n",
              "      <td>-41.121777</td>\n",
              "    </tr>\n",
              "    <tr>\n",
              "      <th>2</th>\n",
              "      <td>2056.60523</td>\n",
              "      <td>5</td>\n",
              "      <td>1190000.0</td>\n",
              "      <td>4</td>\n",
              "      <td>411</td>\n",
              "      <td>Other</td>\n",
              "      <td>-20.225241</td>\n",
              "      <td>-44.397780</td>\n",
              "    </tr>\n",
              "    <tr>\n",
              "      <th>3</th>\n",
              "      <td>750.00000</td>\n",
              "      <td>4</td>\n",
              "      <td>1590000.0</td>\n",
              "      <td>4</td>\n",
              "      <td>158</td>\n",
              "      <td>Other</td>\n",
              "      <td>-19.937155</td>\n",
              "      <td>-43.958694</td>\n",
              "    </tr>\n",
              "    <tr>\n",
              "      <th>4</th>\n",
              "      <td>2056.60523</td>\n",
              "      <td>6</td>\n",
              "      <td>550000.0</td>\n",
              "      <td>3</td>\n",
              "      <td>278</td>\n",
              "      <td>Other</td>\n",
              "      <td>-19.912982</td>\n",
              "      <td>-44.019944</td>\n",
              "    </tr>\n",
              "    <tr>\n",
              "      <th>...</th>\n",
              "      <td>...</td>\n",
              "      <td>...</td>\n",
              "      <td>...</td>\n",
              "      <td>...</td>\n",
              "      <td>...</td>\n",
              "      <td>...</td>\n",
              "      <td>...</td>\n",
              "      <td>...</td>\n",
              "    </tr>\n",
              "    <tr>\n",
              "      <th>5976</th>\n",
              "      <td>340.00000</td>\n",
              "      <td>2</td>\n",
              "      <td>560000.0</td>\n",
              "      <td>3</td>\n",
              "      <td>92</td>\n",
              "      <td>Other</td>\n",
              "      <td>-19.945428</td>\n",
              "      <td>-43.970988</td>\n",
              "    </tr>\n",
              "    <tr>\n",
              "      <th>5977</th>\n",
              "      <td>200.00000</td>\n",
              "      <td>1</td>\n",
              "      <td>440000.0</td>\n",
              "      <td>3</td>\n",
              "      <td>90</td>\n",
              "      <td>Other</td>\n",
              "      <td>-19.979915</td>\n",
              "      <td>-44.026007</td>\n",
              "    </tr>\n",
              "    <tr>\n",
              "      <th>5978</th>\n",
              "      <td>10.00000</td>\n",
              "      <td>2</td>\n",
              "      <td>500000.0</td>\n",
              "      <td>3</td>\n",
              "      <td>80</td>\n",
              "      <td>Other</td>\n",
              "      <td>-19.840904</td>\n",
              "      <td>-43.956037</td>\n",
              "    </tr>\n",
              "    <tr>\n",
              "      <th>5979</th>\n",
              "      <td>10.00000</td>\n",
              "      <td>2</td>\n",
              "      <td>740000.0</td>\n",
              "      <td>3</td>\n",
              "      <td>80</td>\n",
              "      <td>Other</td>\n",
              "      <td>-19.840904</td>\n",
              "      <td>-43.956037</td>\n",
              "    </tr>\n",
              "    <tr>\n",
              "      <th>5980</th>\n",
              "      <td>2056.60523</td>\n",
              "      <td>3</td>\n",
              "      <td>4990000.0</td>\n",
              "      <td>--</td>\n",
              "      <td>428</td>\n",
              "      <td>Savassi</td>\n",
              "      <td>-19.915643</td>\n",
              "      <td>-43.945380</td>\n",
              "    </tr>\n",
              "  </tbody>\n",
              "</table>\n",
              "<p>5981 rows × 8 columns</p>\n",
              "</div>\n",
              "      <button class=\"colab-df-convert\" onclick=\"convertToInteractive('df-5c87b801-f13e-447f-ad07-f6f272db906d')\"\n",
              "              title=\"Convert this dataframe to an interactive table.\"\n",
              "              style=\"display:none;\">\n",
              "        \n",
              "  <svg xmlns=\"http://www.w3.org/2000/svg\" height=\"24px\"viewBox=\"0 0 24 24\"\n",
              "       width=\"24px\">\n",
              "    <path d=\"M0 0h24v24H0V0z\" fill=\"none\"/>\n",
              "    <path d=\"M18.56 5.44l.94 2.06.94-2.06 2.06-.94-2.06-.94-.94-2.06-.94 2.06-2.06.94zm-11 1L8.5 8.5l.94-2.06 2.06-.94-2.06-.94L8.5 2.5l-.94 2.06-2.06.94zm10 10l.94 2.06.94-2.06 2.06-.94-2.06-.94-.94-2.06-.94 2.06-2.06.94z\"/><path d=\"M17.41 7.96l-1.37-1.37c-.4-.4-.92-.59-1.43-.59-.52 0-1.04.2-1.43.59L10.3 9.45l-7.72 7.72c-.78.78-.78 2.05 0 2.83L4 21.41c.39.39.9.59 1.41.59.51 0 1.02-.2 1.41-.59l7.78-7.78 2.81-2.81c.8-.78.8-2.07 0-2.86zM5.41 20L4 18.59l7.72-7.72 1.47 1.35L5.41 20z\"/>\n",
              "  </svg>\n",
              "      </button>\n",
              "      \n",
              "  <style>\n",
              "    .colab-df-container {\n",
              "      display:flex;\n",
              "      flex-wrap:wrap;\n",
              "      gap: 12px;\n",
              "    }\n",
              "\n",
              "    .colab-df-convert {\n",
              "      background-color: #E8F0FE;\n",
              "      border: none;\n",
              "      border-radius: 50%;\n",
              "      cursor: pointer;\n",
              "      display: none;\n",
              "      fill: #1967D2;\n",
              "      height: 32px;\n",
              "      padding: 0 0 0 0;\n",
              "      width: 32px;\n",
              "    }\n",
              "\n",
              "    .colab-df-convert:hover {\n",
              "      background-color: #E2EBFA;\n",
              "      box-shadow: 0px 1px 2px rgba(60, 64, 67, 0.3), 0px 1px 3px 1px rgba(60, 64, 67, 0.15);\n",
              "      fill: #174EA6;\n",
              "    }\n",
              "\n",
              "    [theme=dark] .colab-df-convert {\n",
              "      background-color: #3B4455;\n",
              "      fill: #D2E3FC;\n",
              "    }\n",
              "\n",
              "    [theme=dark] .colab-df-convert:hover {\n",
              "      background-color: #434B5C;\n",
              "      box-shadow: 0px 1px 3px 1px rgba(0, 0, 0, 0.15);\n",
              "      filter: drop-shadow(0px 1px 2px rgba(0, 0, 0, 0.3));\n",
              "      fill: #FFFFFF;\n",
              "    }\n",
              "  </style>\n",
              "\n",
              "      <script>\n",
              "        const buttonEl =\n",
              "          document.querySelector('#df-5c87b801-f13e-447f-ad07-f6f272db906d button.colab-df-convert');\n",
              "        buttonEl.style.display =\n",
              "          google.colab.kernel.accessAllowed ? 'block' : 'none';\n",
              "\n",
              "        async function convertToInteractive(key) {\n",
              "          const element = document.querySelector('#df-5c87b801-f13e-447f-ad07-f6f272db906d');\n",
              "          const dataTable =\n",
              "            await google.colab.kernel.invokeFunction('convertToInteractive',\n",
              "                                                     [key], {});\n",
              "          if (!dataTable) return;\n",
              "\n",
              "          const docLinkHtml = 'Like what you see? Visit the ' +\n",
              "            '<a target=\"_blank\" href=https://colab.research.google.com/notebooks/data_table.ipynb>data table notebook</a>'\n",
              "            + ' to learn more about interactive tables.';\n",
              "          element.innerHTML = '';\n",
              "          dataTable['output_type'] = 'display_data';\n",
              "          await google.colab.output.renderOutput(dataTable, element);\n",
              "          const docLink = document.createElement('div');\n",
              "          docLink.innerHTML = docLinkHtml;\n",
              "          element.appendChild(docLink);\n",
              "        }\n",
              "      </script>\n",
              "    </div>\n",
              "  </div>\n",
              "  "
            ]
          },
          "metadata": {},
          "execution_count": 16
        }
      ]
    },
    {
      "cell_type": "markdown",
      "source": [
        "Ok, Now we are going look for some outliers in the data. In the information about the 'adm-fees' and the 'prices' I see that the third quarter is about 1e3 but the maximum is 1e6 for the adm-fees. As I know that is quite impossible to have a adm fee in order of 1e6 it's clearly an outlier. So i'm going to drop any row that have the adm-fee bigger than 2*(third quartile). The same logical applies to the price."
      ],
      "metadata": {
        "id": "6VCC9behiJgD"
      }
    },
    {
      "cell_type": "code",
      "source": [
        "print('the third quantile is',df_clean['adm-fees'].quantile(0.75))\n",
        "df_clean = df_clean[df_clean['adm-fees'] < 2*2056]"
      ],
      "metadata": {
        "id": "-tSnvDQviDOt",
        "colab": {
          "base_uri": "https://localhost:8080/"
        },
        "outputId": "f44ed1ca-5791-4257-f845-2b3415aac412"
      },
      "execution_count": 17,
      "outputs": [
        {
          "output_type": "stream",
          "name": "stdout",
          "text": [
            "the third quantile is 2056.6052300729193\n"
          ]
        }
      ]
    },
    {
      "cell_type": "code",
      "source": [
        "print('the third quantile is',df_clean['price'].quantile(0.75))\n",
        "df_clean = df_clean[df_clean['price'] < 2*1200000.0]"
      ],
      "metadata": {
        "colab": {
          "base_uri": "https://localhost:8080/"
        },
        "id": "jBfelQMgYATB",
        "outputId": "9b7a1bd4-3ba7-4dd5-a8af-30a002824b03"
      },
      "execution_count": 18,
      "outputs": [
        {
          "output_type": "stream",
          "name": "stdout",
          "text": [
            "the third quantile is 1200000.0\n"
          ]
        }
      ]
    },
    {
      "cell_type": "code",
      "source": [
        "df_clean"
      ],
      "metadata": {
        "colab": {
          "base_uri": "https://localhost:8080/",
          "height": 424
        },
        "id": "d6WIDwLTYIlb",
        "outputId": "bb466efa-3319-4bcb-e141-af765af0593c"
      },
      "execution_count": 19,
      "outputs": [
        {
          "output_type": "execute_result",
          "data": {
            "text/plain": [
              "        adm-fees garage-places      price rooms square-foot neighborhood  \\\n",
              "0      470.00000             1   330000.0     1          40        Other   \n",
              "1     2056.60523             1   480000.0     2       45-65       Centro   \n",
              "2     2056.60523             5  1190000.0     4         411        Other   \n",
              "3      750.00000             4  1590000.0     4         158        Other   \n",
              "4     2056.60523             6   550000.0     3         278        Other   \n",
              "...          ...           ...        ...   ...         ...          ...   \n",
              "5975   200.00000            --   220000.0     1          45      Buritis   \n",
              "5976   340.00000             2   560000.0     3          92        Other   \n",
              "5977   200.00000             1   440000.0     3          90        Other   \n",
              "5978    10.00000             2   500000.0     3          80        Other   \n",
              "5979    10.00000             2   740000.0     3          80        Other   \n",
              "\n",
              "       latitude  longitude  \n",
              "0    -19.936415 -43.953396  \n",
              "1    -18.864776 -41.121777  \n",
              "2    -20.225241 -44.397780  \n",
              "3    -19.937155 -43.958694  \n",
              "4    -19.912982 -44.019944  \n",
              "...         ...        ...  \n",
              "5975 -19.974455 -43.977699  \n",
              "5976 -19.945428 -43.970988  \n",
              "5977 -19.979915 -44.026007  \n",
              "5978 -19.840904 -43.956037  \n",
              "5979 -19.840904 -43.956037  \n",
              "\n",
              "[5452 rows x 8 columns]"
            ],
            "text/html": [
              "\n",
              "  <div id=\"df-8a0b232d-9e36-491c-9474-e775456a4888\">\n",
              "    <div class=\"colab-df-container\">\n",
              "      <div>\n",
              "<style scoped>\n",
              "    .dataframe tbody tr th:only-of-type {\n",
              "        vertical-align: middle;\n",
              "    }\n",
              "\n",
              "    .dataframe tbody tr th {\n",
              "        vertical-align: top;\n",
              "    }\n",
              "\n",
              "    .dataframe thead th {\n",
              "        text-align: right;\n",
              "    }\n",
              "</style>\n",
              "<table border=\"1\" class=\"dataframe\">\n",
              "  <thead>\n",
              "    <tr style=\"text-align: right;\">\n",
              "      <th></th>\n",
              "      <th>adm-fees</th>\n",
              "      <th>garage-places</th>\n",
              "      <th>price</th>\n",
              "      <th>rooms</th>\n",
              "      <th>square-foot</th>\n",
              "      <th>neighborhood</th>\n",
              "      <th>latitude</th>\n",
              "      <th>longitude</th>\n",
              "    </tr>\n",
              "  </thead>\n",
              "  <tbody>\n",
              "    <tr>\n",
              "      <th>0</th>\n",
              "      <td>470.00000</td>\n",
              "      <td>1</td>\n",
              "      <td>330000.0</td>\n",
              "      <td>1</td>\n",
              "      <td>40</td>\n",
              "      <td>Other</td>\n",
              "      <td>-19.936415</td>\n",
              "      <td>-43.953396</td>\n",
              "    </tr>\n",
              "    <tr>\n",
              "      <th>1</th>\n",
              "      <td>2056.60523</td>\n",
              "      <td>1</td>\n",
              "      <td>480000.0</td>\n",
              "      <td>2</td>\n",
              "      <td>45-65</td>\n",
              "      <td>Centro</td>\n",
              "      <td>-18.864776</td>\n",
              "      <td>-41.121777</td>\n",
              "    </tr>\n",
              "    <tr>\n",
              "      <th>2</th>\n",
              "      <td>2056.60523</td>\n",
              "      <td>5</td>\n",
              "      <td>1190000.0</td>\n",
              "      <td>4</td>\n",
              "      <td>411</td>\n",
              "      <td>Other</td>\n",
              "      <td>-20.225241</td>\n",
              "      <td>-44.397780</td>\n",
              "    </tr>\n",
              "    <tr>\n",
              "      <th>3</th>\n",
              "      <td>750.00000</td>\n",
              "      <td>4</td>\n",
              "      <td>1590000.0</td>\n",
              "      <td>4</td>\n",
              "      <td>158</td>\n",
              "      <td>Other</td>\n",
              "      <td>-19.937155</td>\n",
              "      <td>-43.958694</td>\n",
              "    </tr>\n",
              "    <tr>\n",
              "      <th>4</th>\n",
              "      <td>2056.60523</td>\n",
              "      <td>6</td>\n",
              "      <td>550000.0</td>\n",
              "      <td>3</td>\n",
              "      <td>278</td>\n",
              "      <td>Other</td>\n",
              "      <td>-19.912982</td>\n",
              "      <td>-44.019944</td>\n",
              "    </tr>\n",
              "    <tr>\n",
              "      <th>...</th>\n",
              "      <td>...</td>\n",
              "      <td>...</td>\n",
              "      <td>...</td>\n",
              "      <td>...</td>\n",
              "      <td>...</td>\n",
              "      <td>...</td>\n",
              "      <td>...</td>\n",
              "      <td>...</td>\n",
              "    </tr>\n",
              "    <tr>\n",
              "      <th>5975</th>\n",
              "      <td>200.00000</td>\n",
              "      <td>--</td>\n",
              "      <td>220000.0</td>\n",
              "      <td>1</td>\n",
              "      <td>45</td>\n",
              "      <td>Buritis</td>\n",
              "      <td>-19.974455</td>\n",
              "      <td>-43.977699</td>\n",
              "    </tr>\n",
              "    <tr>\n",
              "      <th>5976</th>\n",
              "      <td>340.00000</td>\n",
              "      <td>2</td>\n",
              "      <td>560000.0</td>\n",
              "      <td>3</td>\n",
              "      <td>92</td>\n",
              "      <td>Other</td>\n",
              "      <td>-19.945428</td>\n",
              "      <td>-43.970988</td>\n",
              "    </tr>\n",
              "    <tr>\n",
              "      <th>5977</th>\n",
              "      <td>200.00000</td>\n",
              "      <td>1</td>\n",
              "      <td>440000.0</td>\n",
              "      <td>3</td>\n",
              "      <td>90</td>\n",
              "      <td>Other</td>\n",
              "      <td>-19.979915</td>\n",
              "      <td>-44.026007</td>\n",
              "    </tr>\n",
              "    <tr>\n",
              "      <th>5978</th>\n",
              "      <td>10.00000</td>\n",
              "      <td>2</td>\n",
              "      <td>500000.0</td>\n",
              "      <td>3</td>\n",
              "      <td>80</td>\n",
              "      <td>Other</td>\n",
              "      <td>-19.840904</td>\n",
              "      <td>-43.956037</td>\n",
              "    </tr>\n",
              "    <tr>\n",
              "      <th>5979</th>\n",
              "      <td>10.00000</td>\n",
              "      <td>2</td>\n",
              "      <td>740000.0</td>\n",
              "      <td>3</td>\n",
              "      <td>80</td>\n",
              "      <td>Other</td>\n",
              "      <td>-19.840904</td>\n",
              "      <td>-43.956037</td>\n",
              "    </tr>\n",
              "  </tbody>\n",
              "</table>\n",
              "<p>5452 rows × 8 columns</p>\n",
              "</div>\n",
              "      <button class=\"colab-df-convert\" onclick=\"convertToInteractive('df-8a0b232d-9e36-491c-9474-e775456a4888')\"\n",
              "              title=\"Convert this dataframe to an interactive table.\"\n",
              "              style=\"display:none;\">\n",
              "        \n",
              "  <svg xmlns=\"http://www.w3.org/2000/svg\" height=\"24px\"viewBox=\"0 0 24 24\"\n",
              "       width=\"24px\">\n",
              "    <path d=\"M0 0h24v24H0V0z\" fill=\"none\"/>\n",
              "    <path d=\"M18.56 5.44l.94 2.06.94-2.06 2.06-.94-2.06-.94-.94-2.06-.94 2.06-2.06.94zm-11 1L8.5 8.5l.94-2.06 2.06-.94-2.06-.94L8.5 2.5l-.94 2.06-2.06.94zm10 10l.94 2.06.94-2.06 2.06-.94-2.06-.94-.94-2.06-.94 2.06-2.06.94z\"/><path d=\"M17.41 7.96l-1.37-1.37c-.4-.4-.92-.59-1.43-.59-.52 0-1.04.2-1.43.59L10.3 9.45l-7.72 7.72c-.78.78-.78 2.05 0 2.83L4 21.41c.39.39.9.59 1.41.59.51 0 1.02-.2 1.41-.59l7.78-7.78 2.81-2.81c.8-.78.8-2.07 0-2.86zM5.41 20L4 18.59l7.72-7.72 1.47 1.35L5.41 20z\"/>\n",
              "  </svg>\n",
              "      </button>\n",
              "      \n",
              "  <style>\n",
              "    .colab-df-container {\n",
              "      display:flex;\n",
              "      flex-wrap:wrap;\n",
              "      gap: 12px;\n",
              "    }\n",
              "\n",
              "    .colab-df-convert {\n",
              "      background-color: #E8F0FE;\n",
              "      border: none;\n",
              "      border-radius: 50%;\n",
              "      cursor: pointer;\n",
              "      display: none;\n",
              "      fill: #1967D2;\n",
              "      height: 32px;\n",
              "      padding: 0 0 0 0;\n",
              "      width: 32px;\n",
              "    }\n",
              "\n",
              "    .colab-df-convert:hover {\n",
              "      background-color: #E2EBFA;\n",
              "      box-shadow: 0px 1px 2px rgba(60, 64, 67, 0.3), 0px 1px 3px 1px rgba(60, 64, 67, 0.15);\n",
              "      fill: #174EA6;\n",
              "    }\n",
              "\n",
              "    [theme=dark] .colab-df-convert {\n",
              "      background-color: #3B4455;\n",
              "      fill: #D2E3FC;\n",
              "    }\n",
              "\n",
              "    [theme=dark] .colab-df-convert:hover {\n",
              "      background-color: #434B5C;\n",
              "      box-shadow: 0px 1px 3px 1px rgba(0, 0, 0, 0.15);\n",
              "      filter: drop-shadow(0px 1px 2px rgba(0, 0, 0, 0.3));\n",
              "      fill: #FFFFFF;\n",
              "    }\n",
              "  </style>\n",
              "\n",
              "      <script>\n",
              "        const buttonEl =\n",
              "          document.querySelector('#df-8a0b232d-9e36-491c-9474-e775456a4888 button.colab-df-convert');\n",
              "        buttonEl.style.display =\n",
              "          google.colab.kernel.accessAllowed ? 'block' : 'none';\n",
              "\n",
              "        async function convertToInteractive(key) {\n",
              "          const element = document.querySelector('#df-8a0b232d-9e36-491c-9474-e775456a4888');\n",
              "          const dataTable =\n",
              "            await google.colab.kernel.invokeFunction('convertToInteractive',\n",
              "                                                     [key], {});\n",
              "          if (!dataTable) return;\n",
              "\n",
              "          const docLinkHtml = 'Like what you see? Visit the ' +\n",
              "            '<a target=\"_blank\" href=https://colab.research.google.com/notebooks/data_table.ipynb>data table notebook</a>'\n",
              "            + ' to learn more about interactive tables.';\n",
              "          element.innerHTML = '';\n",
              "          dataTable['output_type'] = 'display_data';\n",
              "          await google.colab.output.renderOutput(dataTable, element);\n",
              "          const docLink = document.createElement('div');\n",
              "          docLink.innerHTML = docLinkHtml;\n",
              "          element.appendChild(docLink);\n",
              "        }\n",
              "      </script>\n",
              "    </div>\n",
              "  </div>\n",
              "  "
            ]
          },
          "metadata": {},
          "execution_count": 19
        }
      ]
    },
    {
      "cell_type": "markdown",
      "source": [
        "OK, now we can have some information abou the prices in the city. First, let's take a look in the correlation between numerical variables"
      ],
      "metadata": {
        "id": "vKD-sMOTY6L6"
      }
    },
    {
      "cell_type": "code",
      "source": [
        "\n",
        "graph = px.scatter_matrix(df_clean,dimensions=['adm-fees','square-foot','neighborhood'], color = 'price',height=750)\n",
        "graph.show()"
      ],
      "metadata": {
        "colab": {
          "base_uri": "https://localhost:8080/",
          "height": 767
        },
        "id": "_vFfzl8SY5cn",
        "outputId": "69e803b2-d3d5-4ae0-ffba-1013ed7db784"
      },
      "execution_count": 20,
      "outputs": [
        {
          "output_type": "display_data",
          "data": {
            "text/html": [
              "<html>\n",
              "<head><meta charset=\"utf-8\" /></head>\n",
              "<body>\n",
              "    <div>            <script src=\"https://cdnjs.cloudflare.com/ajax/libs/mathjax/2.7.5/MathJax.js?config=TeX-AMS-MML_SVG\"></script><script type=\"text/javascript\">if (window.MathJax) {MathJax.Hub.Config({SVG: {font: \"STIX-Web\"}});}</script>                <script type=\"text/javascript\">window.PlotlyConfig = {MathJaxConfig: 'local'};</script>\n",
              "        <script src=\"https://cdn.plot.ly/plotly-2.8.3.min.js\"></script>                <div id=\"2035efc2-0d9f-4e0f-90f4-20ea14d1c45a\" class=\"plotly-graph-div\" style=\"height:750px; width:100%;\"></div>            <script type=\"text/javascript\">                                    window.PLOTLYENV=window.PLOTLYENV || {};                                    if (document.getElementById(\"2035efc2-0d9f-4e0f-90f4-20ea14d1c45a\")) {                    Plotly.newPlot(                        \"2035efc2-0d9f-4e0f-90f4-20ea14d1c45a\",                        [{\"dimensions\":[{\"axis\":{\"matches\":true},\"label\":\"adm-fees\",\"values\":[470.0,2056.6052300729193,2056.6052300729193,750.0,2056.6052300729193,500.0,2056.6052300729193,750.0,2056.6052300729193,480.0,350.0,2056.6052300729193,2056.6052300729193,1092.0,200.0,2056.6052300729193,504.0,2056.6052300729193,250.0,366.0,290.0,2056.6052300729193,110.0,2270.0,370.0,2056.6052300729193,900.0,1000.0,500.0,2056.6052300729193,460.0,900.0,2056.6052300729193,2056.6052300729193,2056.6052300729193,2056.6052300729193,500.0,380.0,550.0,2056.6052300729193,2056.6052300729193,300.0,1350.0,2056.6052300729193,2056.6052300729193,650.0,400.0,700.0,1350.0,400.0,2056.6052300729193,2056.6052300729193,494.0,1450.0,600.0,180.0,2056.6052300729193,300.0,2056.6052300729193,1100.0,2056.6052300729193,2056.6052300729193,270.0,600.0,500.0,2056.6052300729193,400.0,320.0,2056.6052300729193,580.0,680.0,430.0,2056.6052300729193,450.0,2056.6052300729193,1600.0,300.0,190.0,2056.6052300729193,320.0,255.0,2056.6052300729193,280.0,330.0,825.0,2056.6052300729193,700.0,198.0,2056.6052300729193,2056.6052300729193,140.0,2056.6052300729193,550.0,240.0,1565.0,2056.6052300729193,2056.6052300729193,920.0,2056.6052300729193,580.0,423.0,1012.0,2056.6052300729193,2056.6052300729193,2056.6052300729193,900.0,600.0,585.0,2056.6052300729193,150.0,2056.6052300729193,234.0,2056.6052300729193,750.0,140.0,240.0,400.0,502.0,2056.6052300729193,2056.6052300729193,399.0,320.0,1000.0,1800.0,2056.6052300729193,2056.6052300729193,2056.6052300729193,400.0,200.0,1650.0,260.0,250.0,2056.6052300729193,250.0,2056.6052300729193,300.0,700.0,1750.0,166.0,2056.6052300729193,256.0,2056.6052300729193,2056.6052300729193,350.0,760.0,817.0,2056.6052300729193,550.0,2056.6052300729193,1941.0,2056.6052300729193,2056.6052300729193,355.0,2056.6052300729193,350.0,2056.6052300729193,2056.6052300729193,2056.6052300729193,450.0,850.0,2056.6052300729193,2056.6052300729193,2056.6052300729193,720.0,921.0,160.0,2056.6052300729193,400.0,2056.6052300729193,2056.6052300729193,220.0,900.0,2056.6052300729193,500.0,300.0,1000.0,270.0,270.0,389.0,2056.6052300729193,700.0,2056.6052300729193,225.0,2056.6052300729193,2056.6052300729193,50.0,2056.6052300729193,2056.6052300729193,250.0,2056.6052300729193,150.0,300.0,2056.6052300729193,615.0,300.0,1800.0,2056.6052300729193,2056.6052300729193,2056.6052300729193,2056.6052300729193,330.0,570.0,2056.6052300729193,2056.6052300729193,2056.6052300729193,350.0,250.0,200.0,2056.6052300729193,320.0,2056.6052300729193,150.0,2056.6052300729193,200.0,600.0,2056.6052300729193,2056.6052300729193,700.0,300.0,2056.6052300729193,400.0,2056.6052300729193,350.0,2056.6052300729193,400.0,500.0,2056.6052300729193,2056.6052300729193,205.0,2056.6052300729193,650.0,2056.6052300729193,2056.6052300729193,2056.6052300729193,50.0,2056.6052300729193,2056.6052300729193,90.0,200.0,2056.6052300729193,150.0,2056.6052300729193,2056.6052300729193,2056.6052300729193,2056.6052300729193,240.0,2056.6052300729193,2056.6052300729193,294.0,190.0,2056.6052300729193,2056.6052300729193,2056.6052300729193,350.0,225.0,280.0,2056.6052300729193,200.0,800.0,2056.6052300729193,2056.6052300729193,600.0,2056.6052300729193,2056.6052300729193,2056.6052300729193,2056.6052300729193,798.0,2056.6052300729193,650.0,2056.6052300729193,550.0,150.0,2056.6052300729193,2056.6052300729193,2056.6052300729193,360.0,312.0,1150.0,400.0,2056.6052300729193,2056.6052300729193,269.0,470.0,875.0,2056.6052300729193,620.0,2056.6052300729193,850.0,530.0,600.0,580.0,1534.0,2056.6052300729193,620.0,2056.6052300729193,250.0,550.0,2000.0,2056.6052300729193,450.0,574.0,790.0,500.0,2056.6052300729193,2056.6052300729193,450.0,2056.6052300729193,380.0,2056.6052300729193,997.0,320.0,2056.6052300729193,225.0,320.0,2056.6052300729193,352.0,2056.6052300729193,2056.6052300729193,430.0,2056.6052300729193,160.0,290.0,485.0,2056.6052300729193,2056.6052300729193,583.0,900.0,580.0,279.0,2056.6052300729193,2056.6052300729193,570.0,1.0,250.0,600.0,2056.6052300729193,150.0,550.0,2056.6052300729193,2056.6052300729193,2056.6052300729193,870.0,500.0,600.0,2056.6052300729193,2056.6052300729193,250.0,522.0,2056.6052300729193,2056.6052300729193,528.0,2056.6052300729193,1800.0,400.0,431.0,100.0,500.0,2056.6052300729193,390.0,814.0,1680.0,2056.6052300729193,1638.0,2056.6052300729193,350.0,380.0,550.0,2056.6052300729193,2056.6052300729193,2056.6052300729193,2056.6052300729193,377.0,625.0,2056.6052300729193,2056.6052300729193,200.0,560.0,1100.0,300.0,2056.6052300729193,2056.6052300729193,1450.0,385.0,2056.6052300729193,2056.6052300729193,2056.6052300729193,460.0,2056.6052300729193,250.0,800.0,500.0,2056.6052300729193,2056.6052300729193,2056.6052300729193,380.0,2056.6052300729193,250.0,340.0,630.0,2056.6052300729193,2056.6052300729193,2056.6052300729193,499.0,2056.6052300729193,2056.6052300729193,1350.0,3200.0,2351.0,2056.6052300729193,780.0,2056.6052300729193,2056.6052300729193,1100.0,2056.6052300729193,250.0,280.0,2056.6052300729193,2056.6052300729193,650.0,400.0,2900.0,2056.6052300729193,2450.0,2056.6052300729193,300.0,650.0,400.0,2056.6052300729193,2056.6052300729193,250.0,690.0,1850.0,669.0,500.0,2056.6052300729193,2056.6052300729193,600.0,300.0,2056.6052300729193,730.0,280.0,1000.0,2056.6052300729193,280.0,850.0,2025.0,880.0,550.0,2056.6052300729193,2056.6052300729193,2056.6052300729193,2056.6052300729193,353.0,2056.6052300729193,2056.6052300729193,1508.0,685.0,250.0,2056.6052300729193,1.0,2056.6052300729193,480.0,300.0,800.0,2056.6052300729193,2056.6052300729193,255.0,1680.0,2056.6052300729193,2056.6052300729193,2056.6052300729193,390.0,670.0,10.0,2056.6052300729193,2100.0,2056.6052300729193,575.0,150.0,1500.0,1100.0,2056.6052300729193,343.0,2056.6052300729193,2056.6052300729193,2000.0,2056.6052300729193,700.0,380.0,850.0,2056.6052300729193,420.0,1450.0,2056.6052300729193,2056.6052300729193,2056.6052300729193,430.0,380.0,1365.0,900.0,300.0,2056.6052300729193,205.0,760.0,1100.0,330.0,300.0,2056.6052300729193,2056.6052300729193,2000.0,2056.6052300729193,400.0,2056.6052300729193,150.0,1300.0,1250.0,2056.6052300729193,2056.6052300729193,2056.6052300729193,750.0,250.0,382.0,2056.6052300729193,2056.6052300729193,527.0,2056.6052300729193,2056.6052300729193,1037.0,2056.6052300729193,2056.6052300729193,150.0,1200.0,600.0,350.0,2056.6052300729193,550.0,800.0,130.0,320.0,637.0,2056.6052300729193,450.0,750.0,700.0,461.0,308.0,980.0,2056.6052300729193,2056.6052300729193,2200.0,1400.0,1.0,2056.6052300729193,400.0,220.0,2056.6052300729193,2056.6052300729193,2056.6052300729193,1670.0,230.0,750.0,10.0,510.0,1800.0,190.0,180.0,1300.0,410.0,550.0,2056.6052300729193,2056.6052300729193,1911.0,500.0,1500.0,826.0,540.0,2056.6052300729193,2056.6052300729193,640.0,2056.6052300729193,800.0,330.0,2056.6052300729193,2568.0,2056.6052300729193,10.0,2056.6052300729193,700.0,250.0,1.0,2056.6052300729193,550.0,100.0,2056.6052300729193,485.0,2056.6052300729193,600.0,200.0,1032.0,1000.0,1321.0,2056.6052300729193,300.0,1850.0,2056.6052300729193,200.0,540.0,1000.0,800.0,390.0,288.0,2056.6052300729193,2056.6052300729193,500.0,2056.6052300729193,400.0,800.0,2105.0,820.0,1000.0,350.0,2056.6052300729193,500.0,400.0,2056.6052300729193,280.0,732.0,280.0,300.0,1500.0,2056.6052300729193,350.0,425.0,175.0,375.0,2056.6052300729193,427.0,2056.6052300729193,2056.6052300729193,1343.0,2056.6052300729193,400.0,260.0,320.0,2056.6052300729193,1500.0,2056.6052300729193,2056.6052300729193,540.0,558.0,350.0,650.0,2056.6052300729193,2056.6052300729193,627.0,2056.6052300729193,220.0,400.0,460.0,2056.6052300729193,3400.0,600.0,2140.0,260.0,450.0,1.0,100.0,2056.6052300729193,500.0,1870.0,1.0,2056.6052300729193,475.0,2056.6052300729193,750.0,400.0,2056.6052300729193,2056.6052300729193,1000.0,580.0,2056.6052300729193,1490.0,1593.0,340.0,2056.6052300729193,2056.6052300729193,430.0,2056.6052300729193,1964.0,500.0,298.0,236.0,220.0,2056.6052300729193,1254.0,330.0,1.0,1440.0,800.0,2056.6052300729193,392.0,1520.0,650.0,100.0,731.0,1635.0,600.0,600.0,1.0,2056.6052300729193,2056.6052300729193,275.0,385.0,350.0,2056.6052300729193,750.0,450.0,2056.6052300729193,430.0,1800.0,2056.6052300729193,2056.6052300729193,1200.0,2056.6052300729193,200.0,30.0,2056.6052300729193,1800.0,2056.6052300729193,2056.6052300729193,1.0,750.0,1250.0,1180.0,1324.0,310.0,400.0,2056.6052300729193,2056.6052300729193,2056.6052300729193,320.0,2056.6052300729193,800.0,350.0,330.0,336.0,1881.0,720.0,440.0,1650.0,550.0,750.0,580.0,360.0,2056.6052300729193,960.0,420.0,400.0,2250.0,830.0,2056.6052300729193,654.0,390.0,530.0,1250.0,975.0,2056.6052300729193,1050.0,600.0,10.0,2056.6052300729193,248.0,145.0,500.0,635.0,2056.6052300729193,215.0,2056.6052300729193,2056.6052300729193,1.0,2056.6052300729193,1.0,900.0,750.0,600.0,300.0,2056.6052300729193,1400.0,700.0,2056.6052300729193,2056.6052300729193,240.0,2056.6052300729193,2056.6052300729193,329.0,450.0,1050.0,700.0,275.0,2056.6052300729193,10.0,1500.0,230.0,150.0,2056.6052300729193,397.0,250.0,350.0,530.0,780.0,2056.6052300729193,380.0,434.0,458.0,250.0,2056.6052300729193,2056.6052300729193,1065.0,200.0,2056.6052300729193,474.0,145.0,2056.6052300729193,300.0,605.0,500.0,2056.6052300729193,250.0,330.0,2056.6052300729193,2056.6052300729193,1601.0,330.0,1692.0,720.0,500.0,300.0,2056.6052300729193,400.0,1250.0,450.0,420.0,2056.6052300729193,1800.0,2056.6052300729193,2056.6052300729193,800.0,430.0,2056.6052300729193,1780.0,290.0,190.0,1900.0,2056.6052300729193,400.0,250.0,439.0,933.0,570.0,420.0,1100.0,500.0,2056.6052300729193,400.0,110.0,2056.6052300729193,330.0,2056.6052300729193,499.0,2056.6052300729193,145.0,2056.6052300729193,420.0,750.0,1450.0,100.0,682.0,600.0,220.0,500.0,250.0,615.0,1138.0,950.0,1911.0,280.0,2235.0,2056.6052300729193,430.0,2056.6052300729193,1200.0,10.0,360.0,2056.6052300729193,1650.0,10.0,430.0,2056.6052300729193,2056.6052300729193,2056.6052300729193,2056.6052300729193,200.0,100.0,1200.0,2056.6052300729193,347.0,310.0,300.0,1700.0,1.0,500.0,2056.6052300729193,2056.6052300729193,250.0,2056.6052300729193,2056.6052300729193,300.0,2056.6052300729193,1700.0,500.0,692.0,2056.6052300729193,700.0,1677.0,220.0,1300.0,850.0,490.0,700.0,440.0,300.0,10.0,350.0,450.0,580.0,2056.6052300729193,180.0,700.0,400.0,390.0,100.0,2056.6052300729193,150.0,850.0,809.0,1290.0,350.0,342.0,150.0,2056.6052300729193,170.0,683.0,360.0,893.0,180.0,800.0,480.0,2910.0,350.0,600.0,650.0,2056.6052300729193,280.0,2056.6052300729193,2056.6052300729193,380.0,450.0,370.0,365.0,400.0,320.0,423.0,2056.6052300729193,390.0,1290.0,700.0,250.0,340.0,2056.6052300729193,500.0,300.0,1900.0,200.0,2056.6052300729193,2056.6052300729193,430.0,2056.6052300729193,350.0,2056.6052300729193,2056.6052300729193,1100.0,650.0,2056.6052300729193,250.0,520.0,450.0,1700.0,250.0,300.0,2056.6052300729193,2056.6052300729193,1600.0,300.0,2056.6052300729193,200.0,155.0,480.0,260.0,450.0,2056.6052300729193,2105.0,443.0,1268.0,50.0,180.0,170.0,350.0,900.0,1350.0,899.0,680.0,950.0,600.0,200.0,580.0,750.0,2056.6052300729193,1600.0,330.0,1650.0,340.0,2056.6052300729193,2056.6052300729193,2056.6052300729193,2056.6052300729193,300.0,593.0,517.0,2056.6052300729193,2056.6052300729193,350.0,350.0,1090.0,2056.6052300729193,500.0,2056.6052300729193,2056.6052300729193,285.0,800.0,200.0,2056.6052300729193,400.0,170.0,2056.6052300729193,1698.0,350.0,2056.6052300729193,500.0,1150.0,2056.6052300729193,250.0,2056.6052300729193,1150.0,250.0,2056.6052300729193,2056.6052300729193,400.0,970.0,800.0,2056.6052300729193,1100.0,379.0,2056.6052300729193,2056.6052300729193,250.0,2056.6052300729193,2200.0,1290.0,706.0,420.0,420.0,350.0,2056.6052300729193,2056.6052300729193,450.0,698.0,2056.6052300729193,285.0,2056.6052300729193,500.0,150.0,336.0,314.0,100.0,340.0,2056.6052300729193,200.0,2056.6052300729193,1200.0,2056.6052300729193,480.0,1030.0,660.0,2056.6052300729193,633.0,350.0,1.0,2056.6052300729193,1100.0,2056.6052300729193,500.0,2056.6052300729193,650.0,388.0,2056.6052300729193,390.0,100.0,450.0,370.0,2056.6052300729193,2056.6052300729193,2056.6052300729193,1853.0,1000.0,2056.6052300729193,424.0,900.0,2056.6052300729193,600.0,350.0,300.0,936.0,500.0,2200.0,400.0,2056.6052300729193,270.0,600.0,1550.0,360.0,2056.6052300729193,2056.6052300729193,1075.0,2056.6052300729193,1370.0,700.0,810.0,400.0,1.0,170.0,470.0,2056.6052300729193,275.0,2056.6052300729193,2056.6052300729193,280.0,1378.0,2056.6052300729193,1300.0,190.0,200.0,1200.0,200.0,2056.6052300729193,2056.6052300729193,1300.0,170.0,2056.6052300729193,1800.0,2056.6052300729193,670.0,2056.6052300729193,200.0,373.0,367.0,599.0,381.0,2056.6052300729193,422.0,440.0,1195.0,950.0,432.0,2056.6052300729193,320.0,500.0,2056.6052300729193,400.0,2056.6052300729193,2056.6052300729193,1050.0,1420.0,2056.6052300729193,300.0,1500.0,420.0,805.0,475.0,2056.6052300729193,250.0,180.0,2056.6052300729193,1500.0,1317.0,500.0,350.0,125.0,2056.6052300729193,904.0,130.0,502.0,255.0,850.0,1500.0,2056.6052300729193,2056.6052300729193,250.0,472.0,1100.0,218.0,600.0,2056.6052300729193,500.0,2568.0,2056.6052300729193,430.0,2056.6052300729193,275.0,1672.0,500.0,2056.6052300729193,1450.0,700.0,580.0,400.0,2056.6052300729193,150.0,245.0,2056.6052300729193,811.0,500.0,300.0,2056.6052300729193,1880.0,980.0,450.0,1300.0,2000.0,2056.6052300729193,1.0,1100.0,500.0,450.0,1.0,2056.6052300729193,250.0,700.0,650.0,450.0,2056.6052300729193,2056.6052300729193,780.0,750.0,350.0,600.0,2056.6052300729193,2056.6052300729193,500.0,1050.0,550.0,2056.6052300729193,2056.6052300729193,1000.0,2056.6052300729193,300.0,100.0,2056.6052300729193,362.0,2056.6052300729193,2056.6052300729193,2056.6052300729193,350.0,1.0,250.0,450.0,350.0,530.0,2056.6052300729193,2056.6052300729193,2056.6052300729193,500.0,50.0,336.0,1250.0,400.0,2056.6052300729193,450.0,500.0,2056.6052300729193,700.0,210.0,1600.0,2056.6052300729193,180.0,343.0,2300.0,2056.6052300729193,500.0,2056.6052300729193,2056.6052300729193,640.0,1000.0,2056.6052300729193,600.0,850.0,300.0,2056.6052300729193,2056.6052300729193,320.0,2056.6052300729193,2056.6052300729193,2056.6052300729193,2056.6052300729193,150.0,250.0,1200.0,800.0,420.0,920.0,2056.6052300729193,550.0,2056.6052300729193,585.0,2056.6052300729193,1990.0,461.0,1040.0,500.0,150.0,326.0,1300.0,2400.0,190.0,100.0,2056.6052300729193,737.0,2056.6052300729193,2056.6052300729193,2105.0,750.0,630.0,2056.6052300729193,325.0,1570.0,660.0,210.0,1.0,2056.6052300729193,2056.6052300729193,400.0,2056.6052300729193,1080.0,650.0,1.0,2056.6052300729193,550.0,1.0,800.0,2298.0,400.0,500.0,420.0,2056.6052300729193,900.0,150.0,420.0,500.0,652.0,230.0,2056.6052300729193,120.0,1.0,2056.6052300729193,1500.0,550.0,2056.6052300729193,2056.6052300729193,500.0,1.0,1400.0,2056.6052300729193,240.0,230.0,120.0,167.0,1000.0,420.0,1800.0,2056.6052300729193,1900.0,484.0,887.0,2056.6052300729193,500.0,2056.6052300729193,300.0,500.0,1000.0,700.0,380.0,235.0,250.0,240.0,2056.6052300729193,433.0,400.0,1435.0,2056.6052300729193,2056.6052300729193,350.0,225.0,350.0,399.0,2056.6052300729193,835.0,2056.6052300729193,1100.0,2056.6052300729193,502.0,2056.6052300729193,497.0,450.0,2056.6052300729193,2056.6052300729193,500.0,420.0,650.0,1000.0,700.0,2056.6052300729193,1200.0,320.0,2056.6052300729193,1250.0,250.0,350.0,2056.6052300729193,50.0,900.0,262.0,2056.6052300729193,2056.6052300729193,150.0,1100.0,10.0,600.0,340.0,2056.6052300729193,1080.0,400.0,2056.6052300729193,500.0,2056.6052300729193,1105.0,2056.6052300729193,680.0,2056.6052300729193,2056.6052300729193,250.0,380.0,800.0,2056.6052300729193,790.0,1343.0,2056.6052300729193,200.0,2056.6052300729193,2056.6052300729193,2056.6052300729193,2056.6052300729193,640.0,2056.6052300729193,2056.6052300729193,390.0,250.0,400.0,750.0,399.0,2056.6052300729193,2056.6052300729193,785.0,2056.6052300729193,1302.0,800.0,1.0,2056.6052300729193,490.0,300.0,210.0,1716.0,250.0,400.0,2056.6052300729193,2056.6052300729193,400.0,386.0,300.0,400.0,2056.6052300729193,2056.6052300729193,250.0,2056.6052300729193,1600.0,2056.6052300729193,2056.6052300729193,10.0,2056.6052300729193,160.0,203.0,2056.6052300729193,580.0,319.0,168.0,1900.0,600.0,900.0,2056.6052300729193,200.0,2056.6052300729193,950.0,1038.0,1500.0,300.0,1300.0,230.0,360.0,912.0,1400.0,150.0,150.0,1.0,687.0,414.0,300.0,1100.0,2056.6052300729193,2056.6052300729193,500.0,2056.6052300729193,870.0,490.0,1440.0,700.0,2056.6052300729193,833.0,2056.6052300729193,280.0,800.0,580.0,487.0,1015.0,380.0,2056.6052300729193,210.0,880.0,480.0,320.0,800.0,770.0,2056.6052300729193,1760.0,1.0,10.0,800.0,2056.6052300729193,2056.6052300729193,360.0,2056.6052300729193,340.0,300.0,2056.6052300729193,2056.6052300729193,2056.6052300729193,2056.6052300729193,2056.6052300729193,700.0,350.0,2056.6052300729193,2056.6052300729193,2056.6052300729193,308.0,2056.6052300729193,2056.6052300729193,800.0,1190.0,1200.0,1249.0,2056.6052300729193,2056.6052300729193,160.0,150.0,2056.6052300729193,250.0,600.0,700.0,2056.6052300729193,741.0,200.0,2056.6052300729193,690.0,840.0,520.0,2056.6052300729193,2056.6052300729193,170.0,2056.6052300729193,600.0,250.0,2056.6052300729193,846.0,1350.0,2056.6052300729193,750.0,2056.6052300729193,2056.6052300729193,2056.6052300729193,250.0,150.0,400.0,1.0,480.0,600.0,898.0,400.0,570.0,100.0,1.0,450.0,840.0,2056.6052300729193,2056.6052300729193,1000.0,1.0,190.0,240.0,1768.0,150.0,700.0,2056.6052300729193,660.0,1176.0,1452.0,1.0,2056.6052300729193,2056.6052300729193,2056.6052300729193,750.0,800.0,2150.0,300.0,250.0,1800.0,2056.6052300729193,700.0,380.0,2500.0,350.0,50.0,630.0,600.0,850.0,300.0,550.0,750.0,2056.6052300729193,2056.6052300729193,1.0,350.0,1.0,935.0,600.0,350.0,2056.6052300729193,2056.6052300729193,2056.6052300729193,2056.6052300729193,2056.6052300729193,1300.0,1700.0,2056.6052300729193,500.0,650.0,448.0,440.0,450.0,2056.6052300729193,1200.0,1000.0,1050.0,2056.6052300729193,500.0,450.0,2056.6052300729193,2056.6052300729193,1500.0,289.0,1.0,1600.0,150.0,650.0,2056.6052300729193,1.0,90.0,1.0,700.0,330.0,850.0,450.0,2056.6052300729193,2056.6052300729193,400.0,1800.0,2056.6052300729193,820.0,415.0,2056.6052300729193,2056.6052300729193,170.0,2056.6052300729193,400.0,900.0,652.0,2056.6052300729193,780.0,400.0,1.0,2056.6052300729193,1090.0,2056.6052300729193,920.0,2056.6052300729193,1350.0,1500.0,180.0,2056.6052300729193,549.0,350.0,240.0,1400.0,2056.6052300729193,500.0,2056.6052300729193,650.0,1600.0,520.0,2056.6052300729193,250.0,1200.0,700.0,480.0,2056.6052300729193,2056.6052300729193,2056.6052300729193,500.0,540.0,1750.0,220.0,220.0,2056.6052300729193,1530.0,500.0,600.0,2056.6052300729193,1100.0,600.0,2056.6052300729193,2056.6052300729193,2200.0,200.0,417.0,500.0,2056.6052300729193,1070.0,2056.6052300729193,2056.6052300729193,140.0,400.0,500.0,316.0,590.0,450.0,1020.0,2056.6052300729193,650.0,511.0,500.0,860.0,260.0,250.0,350.0,200.0,350.0,720.0,2056.6052300729193,350.0,2056.6052300729193,320.0,485.0,2056.6052300729193,1405.0,1450.0,320.0,2056.6052300729193,750.0,200.0,1500.0,1400.0,2056.6052300729193,1250.0,220.0,2056.6052300729193,2056.6052300729193,1400.0,2056.6052300729193,840.0,2056.6052300729193,916.0,2056.6052300729193,700.0,225.0,396.0,2056.6052300729193,365.0,1700.0,900.0,1453.0,2056.6052300729193,250.0,2056.6052300729193,1400.0,1400.0,1.0,1600.0,40.0,420.0,2056.6052300729193,701.0,380.0,2056.6052300729193,1.0,2056.6052300729193,400.0,2056.6052300729193,2056.6052300729193,3000.0,2056.6052300729193,85.0,350.0,2056.6052300729193,200.0,250.0,390.0,800.0,1750.0,2056.6052300729193,550.0,10.0,2056.6052300729193,1500.0,2056.6052300729193,2056.6052300729193,1500.0,2056.6052300729193,250.0,200.0,2056.6052300729193,2056.6052300729193,2056.6052300729193,2056.6052300729193,800.0,2056.6052300729193,300.0,385.0,2056.6052300729193,2056.6052300729193,400.0,2056.6052300729193,400.0,172.0,300.0,300.0,380.0,600.0,165.0,1.0,170.0,330.0,800.0,348.0,400.0,600.0,2056.6052300729193,250.0,159.0,500.0,1400.0,1.0,961.0,1853.0,1600.0,100.0,2056.6052300729193,2056.6052300729193,1800.0,2056.6052300729193,1100.0,2056.6052300729193,430.0,1200.0,1800.0,900.0,1000.0,880.0,2056.6052300729193,2056.6052300729193,2056.6052300729193,2056.6052300729193,368.0,440.0,800.0,430.0,200.0,1100.0,2056.6052300729193,1180.0,450.0,469.0,330.0,2056.6052300729193,2056.6052300729193,1600.0,1672.0,628.0,1270.0,350.0,1.0,750.0,1011.0,284.0,300.0,2056.6052300729193,2056.6052300729193,1300.0,430.0,10.0,390.0,2056.6052300729193,350.0,660.0,642.0,950.0,370.0,2056.6052300729193,2056.6052300729193,780.0,2056.6052300729193,10.0,100.0,534.0,250.0,240.0,210.0,2056.6052300729193,1.0,2056.6052300729193,256.0,2056.6052300729193,250.0,2056.6052300729193,965.0,460.0,2056.6052300729193,2056.6052300729193,2056.6052300729193,2056.6052300729193,500.0,350.0,1.0,2056.6052300729193,306.0,2175.0,2056.6052300729193,950.0,300.0,900.0,390.0,2056.6052300729193,2056.6052300729193,400.0,220.0,10.0,580.0,110.0,2056.6052300729193,2056.6052300729193,650.0,750.0,2056.6052300729193,2056.6052300729193,836.0,1300.0,2056.6052300729193,2056.6052300729193,800.0,350.0,1864.0,460.0,2056.6052300729193,1100.0,850.0,2056.6052300729193,1.0,280.0,1900.0,1164.0,1.0,2056.6052300729193,1000.0,2056.6052300729193,1700.0,1.0,900.0,2056.6052300729193,942.0,2056.6052300729193,2056.6052300729193,880.0,150.0,2056.6052300729193,2056.6052300729193,2056.6052300729193,2056.6052300729193,392.0,770.0,390.0,560.0,2056.6052300729193,2056.6052300729193,846.0,1.0,2056.6052300729193,350.0,500.0,233.0,2056.6052300729193,912.0,2056.6052300729193,600.0,2056.6052300729193,458.0,1057.0,650.0,880.0,450.0,2056.6052300729193,2056.6052300729193,250.0,1200.0,2056.6052300729193,600.0,1.0,2056.6052300729193,475.0,890.0,1.0,2056.6052300729193,2056.6052300729193,3200.0,2056.6052300729193,989.0,2056.6052300729193,1000.0,295.0,300.0,2056.6052300729193,450.0,2056.6052300729193,400.0,2056.6052300729193,650.0,590.0,350.0,600.0,365.0,2056.6052300729193,200.0,2056.6052300729193,1.0,2056.6052300729193,1.0,2056.6052300729193,590.0,380.0,860.0,2056.6052300729193,650.0,650.0,290.0,360.0,10.0,350.0,2056.6052300729193,130.0,916.0,2056.6052300729193,700.0,2056.6052300729193,2056.6052300729193,850.0,250.0,260.0,1520.0,2056.6052300729193,2056.6052300729193,1600.0,2056.6052300729193,2056.6052300729193,2056.6052300729193,500.0,690.0,298.0,850.0,2056.6052300729193,2056.6052300729193,2056.6052300729193,2056.6052300729193,378.0,2056.6052300729193,720.0,1600.0,400.0,220.0,350.0,250.0,2056.6052300729193,2056.6052300729193,2056.6052300729193,2056.6052300729193,600.0,450.0,639.0,300.0,385.0,380.0,2056.6052300729193,1980.0,1520.0,2056.6052300729193,297.0,2056.6052300729193,2056.6052300729193,2056.6052300729193,2056.6052300729193,900.0,10.0,2056.6052300729193,2056.6052300729193,2056.6052300729193,2056.6052300729193,2056.6052300729193,350.0,600.0,200.0,2056.6052300729193,613.0,2056.6052300729193,630.0,2056.6052300729193,1.0,2056.6052300729193,2056.6052300729193,2056.6052300729193,1073.0,1300.0,775.0,300.0,2056.6052300729193,250.0,2056.6052300729193,350.0,300.0,1.0,400.0,2056.6052300729193,400.0,2056.6052300729193,360.0,2056.6052300729193,600.0,350.0,1240.0,200.0,430.0,2056.6052300729193,2056.6052300729193,2056.6052300729193,353.0,200.0,2056.6052300729193,400.0,450.0,200.0,600.0,350.0,350.0,2056.6052300729193,170.0,2056.6052300729193,1.0,160.0,10.0,150.0,1800.0,2056.6052300729193,1554.0,2056.6052300729193,250.0,250.0,2056.6052300729193,2056.6052300729193,450.0,2056.6052300729193,1050.0,2056.6052300729193,2056.6052300729193,399.0,400.0,1450.0,450.0,1000.0,2056.6052300729193,650.0,780.0,2056.6052300729193,80.0,2056.6052300729193,440.0,1700.0,1.0,800.0,1.0,2056.6052300729193,350.0,2056.6052300729193,2056.6052300729193,10.0,2056.6052300729193,1000.0,250.0,2056.6052300729193,2056.6052300729193,750.0,430.0,650.0,1100.0,2056.6052300729193,2056.6052300729193,370.0,10.0,400.0,664.0,2056.6052300729193,2056.6052300729193,1508.0,835.0,480.0,2056.6052300729193,200.0,700.0,200.0,2056.6052300729193,2056.6052300729193,350.0,2056.6052300729193,200.0,2056.6052300729193,2056.6052300729193,2056.6052300729193,1350.0,1.0,400.0,550.0,2056.6052300729193,2056.6052300729193,350.0,168.0,450.0,100.0,2056.6052300729193,1700.0,2056.6052300729193,500.0,2056.6052300729193,2056.6052300729193,120.0,430.0,2056.6052300729193,340.0,300.0,2056.6052300729193,500.0,1800.0,10.0,1.0,2056.6052300729193,68.0,210.0,720.0,200.0,2056.6052300729193,800.0,400.0,2056.6052300729193,650.0,570.0,370.0,535.0,1400.0,770.0,250.0,710.0,2056.6052300729193,350.0,2056.6052300729193,403.0,2056.6052300729193,2056.6052300729193,417.0,400.0,550.0,1400.0,2056.6052300729193,2056.6052300729193,513.0,300.0,830.0,1500.0,500.0,350.0,320.0,1200.0,2056.6052300729193,160.0,2056.6052300729193,850.0,340.0,600.0,2056.6052300729193,2056.6052300729193,3100.0,1200.0,10.0,2056.6052300729193,2056.6052300729193,2056.6052300729193,1200.0,2056.6052300729193,1500.0,10.0,1200.0,1.0,738.0,180.0,280.0,2056.6052300729193,380.0,1.0,1980.0,1800.0,1850.0,2056.6052300729193,2056.6052300729193,500.0,2056.6052300729193,2056.6052300729193,300.0,2056.6052300729193,2056.6052300729193,400.0,2200.0,850.0,2056.6052300729193,2056.6052300729193,838.0,350.0,2056.6052300729193,1.0,871.0,150.0,2056.6052300729193,850.0,300.0,250.0,434.0,2056.6052300729193,298.0,200.0,2056.6052300729193,1500.0,444.0,2056.6052300729193,450.0,2056.6052300729193,445.0,1250.0,250.0,1300.0,750.0,350.0,500.0,304.0,350.0,2056.6052300729193,2056.6052300729193,560.0,450.0,750.0,340.0,2056.6052300729193,450.0,2056.6052300729193,2056.6052300729193,2056.6052300729193,250.0,130.0,2056.6052300729193,50.0,1.0,2056.6052300729193,2056.6052300729193,2200.0,250.0,2056.6052300729193,270.0,450.0,350.0,2056.6052300729193,428.0,1.0,500.0,513.0,250.0,2056.6052300729193,2056.6052300729193,290.0,1500.0,2056.6052300729193,2056.6052300729193,1.0,1540.0,930.0,340.0,580.0,430.0,300.0,1100.0,1479.0,2056.6052300729193,1500.0,1800.0,1900.0,320.0,1500.0,2056.6052300729193,860.0,650.0,320.0,1862.0,946.0,1715.0,736.0,2056.6052300729193,100.0,2056.6052300729193,10.0,2056.6052300729193,1800.0,1.0,2056.6052300729193,2056.6052300729193,557.0,10.0,1750.0,600.0,300.0,880.0,500.0,2056.6052300729193,2056.6052300729193,2056.6052300729193,2056.6052300729193,388.0,1100.0,430.0,10.0,600.0,1700.0,10.0,1000.0,2056.6052300729193,2056.6052300729193,660.0,750.0,140.0,270.0,545.0,100.0,2056.6052300729193,500.0,2056.6052300729193,2056.6052300729193,1.0,1100.0,2056.6052300729193,1200.0,1.0,2056.6052300729193,1860.0,2056.6052300729193,636.0,1290.0,1.0,2056.6052300729193,350.0,2056.6052300729193,10.0,2056.6052300729193,900.0,2056.6052300729193,1500.0,1500.0,353.0,293.0,1400.0,2056.6052300729193,2056.6052300729193,1.0,380.0,1800.0,1800.0,2900.0,625.0,1.0,445.0,2056.6052300729193,2056.6052300729193,2106.0,700.0,260.0,1.0,850.0,2056.6052300729193,2056.6052300729193,2056.6052300729193,2056.6052300729193,2056.6052300729193,740.0,2056.6052300729193,2056.6052300729193,1500.0,250.0,310.0,2100.0,10.0,2200.0,1919.0,150.0,2056.6052300729193,200.0,410.0,380.0,2056.6052300729193,2056.6052300729193,3100.0,1700.0,240.0,835.0,785.0,2056.6052300729193,319.0,2056.6052300729193,2056.6052300729193,2056.6052300729193,10.0,1300.0,220.0,996.0,436.0,2056.6052300729193,2056.6052300729193,100.0,2056.6052300729193,2056.6052300729193,2056.6052300729193,695.0,680.0,2056.6052300729193,2056.6052300729193,1450.0,1198.0,360.0,1680.0,2056.6052300729193,2056.6052300729193,800.0,10.0,750.0,1500.0,2056.6052300729193,500.0,2056.6052300729193,2056.6052300729193,350.0,670.0,300.0,2056.6052300729193,1.0,10.0,336.0,2056.6052300729193,2056.6052300729193,2056.6052300729193,580.0,500.0,250.0,1105.0,2056.6052300729193,2056.6052300729193,2800.0,10.0,1.0,10.0,230.0,120.0,400.0,1150.0,2056.6052300729193,1800.0,10.0,2056.6052300729193,1035.0,2056.6052300729193,210.0,2056.6052300729193,900.0,2056.6052300729193,2056.6052300729193,450.0,934.0,600.0,10.0,445.0,1.0,450.0,450.0,2056.6052300729193,1153.0,160.0,2056.6052300729193,2056.6052300729193,2056.6052300729193,400.0,938.0,2080.0,2056.6052300729193,1200.0,350.0,1350.0,150.0,2056.6052300729193,1530.0,1400.0,2056.6052300729193,550.0,2056.6052300729193,2056.6052300729193,2056.6052300729193,260.0,773.0,2056.6052300729193,300.0,2056.6052300729193,625.0,2056.6052300729193,550.0,2056.6052300729193,270.0,2056.6052300729193,10.0,2056.6052300729193,2056.6052300729193,2056.6052300729193,417.0,500.0,2124.0,2056.6052300729193,1600.0,665.0,292.0,975.0,1600.0,650.0,320.0,1544.0,2056.6052300729193,2056.6052300729193,2568.0,341.0,2056.6052300729193,1.0,1.0,2056.6052300729193,2056.6052300729193,2056.6052300729193,2056.6052300729193,2056.6052300729193,2056.6052300729193,721.0,664.0,650.0,762.0,2056.6052300729193,300.0,2056.6052300729193,2056.6052300729193,220.0,936.0,450.0,400.0,2056.6052300729193,2056.6052300729193,800.0,2056.6052300729193,820.0,1774.0,960.0,800.0,2056.6052300729193,183.0,10.0,300.0,2056.6052300729193,10.0,250.0,380.0,2056.6052300729193,723.0,300.0,650.0,665.0,2056.6052300729193,2056.6052300729193,2056.6052300729193,1.0,2056.6052300729193,644.0,832.0,2056.6052300729193,230.0,600.0,480.0,665.0,2056.6052300729193,1700.0,1250.0,2056.6052300729193,10.0,580.0,3300.0,2056.6052300729193,682.0,10.0,550.0,660.0,1800.0,1366.0,2056.6052300729193,890.0,800.0,450.0,10.0,2056.6052300729193,460.0,1.0,10.0,960.0,500.0,2056.6052300729193,1736.0,10.0,180.0,810.0,2056.6052300729193,1300.0,2056.6052300729193,2056.6052300729193,595.0,185.0,10.0,1200.0,2056.6052300729193,584.0,680.0,650.0,1.0,2056.6052300729193,2056.6052300729193,2056.6052300729193,700.0,2056.6052300729193,895.0,2056.6052300729193,800.0,1250.0,360.0,2056.6052300729193,550.0,2056.6052300729193,2056.6052300729193,500.0,2056.6052300729193,70.0,2056.6052300729193,1.0,1150.0,2056.6052300729193,472.0,2056.6052300729193,2056.6052300729193,560.0,290.0,235.0,250.0,1300.0,2056.6052300729193,1000.0,2056.6052300729193,250.0,330.0,730.0,2056.6052300729193,635.0,550.0,750.0,120.0,700.0,450.0,2056.6052300729193,2056.6052300729193,943.0,2056.6052300729193,600.0,350.0,135.0,250.0,2056.6052300729193,2056.6052300729193,2056.6052300729193,600.0,350.0,180.0,765.0,220.0,2056.6052300729193,1150.0,260.0,600.0,650.0,500.0,2056.6052300729193,2056.6052300729193,2056.6052300729193,1.0,1200.0,220.0,10.0,1.0,900.0,2056.6052300729193,1.0,2056.6052300729193,100.0,2056.6052300729193,959.0,180.0,300.0,488.0,2056.6052300729193,200.0,2056.6052300729193,353.0,714.0,2056.6052300729193,700.0,1.0,2056.6052300729193,2056.6052300729193,545.0,2056.6052300729193,290.0,790.0,800.0,330.0,1300.0,2056.6052300729193,590.0,1.0,730.0,30.0,330.0,1271.0,460.0,2056.6052300729193,818.0,1200.0,2056.6052300729193,1.0,1.0,550.0,2056.6052300729193,504.0,1550.0,2056.6052300729193,970.0,10.0,2056.6052300729193,800.0,1400.0,2056.6052300729193,833.0,500.0,80.0,450.0,280.0,530.0,600.0,400.0,2056.6052300729193,200.0,2056.6052300729193,2056.6052300729193,285.0,10.0,2056.6052300729193,1.0,500.0,550.0,2056.6052300729193,2056.6052300729193,300.0,2056.6052300729193,2056.6052300729193,130.0,2056.6052300729193,1.0,150.0,2056.6052300729193,660.0,700.0,1200.0,450.0,690.0,150.0,2056.6052300729193,2056.6052300729193,900.0,2056.6052300729193,2056.6052300729193,810.0,1150.0,2056.6052300729193,480.0,2056.6052300729193,550.0,379.0,1.0,700.0,850.0,340.0,2056.6052300729193,600.0,850.0,900.0,900.0,1691.0,605.0,2056.6052300729193,2056.6052300729193,386.0,817.0,1.0,265.0,350.0,1.0,1000.0,1800.0,2056.6052300729193,2056.6052300729193,2056.6052300729193,2056.6052300729193,850.0,400.0,657.0,325.0,2056.6052300729193,2056.6052300729193,500.0,1400.0,720.0,540.0,1.0,2056.6052300729193,2056.6052300729193,250.0,750.0,2056.6052300729193,894.0,2056.6052300729193,1235.0,300.0,1300.0,135.0,10.0,1500.0,600.0,260.0,320.0,2056.6052300729193,350.0,550.0,10.0,10.0,2056.6052300729193,2056.6052300729193,200.0,230.0,550.0,600.0,350.0,2056.6052300729193,500.0,500.0,600.0,2056.6052300729193,500.0,2056.6052300729193,2056.6052300729193,2056.6052300729193,300.0,2056.6052300729193,1367.0,2056.6052300729193,2056.6052300729193,1060.0,400.0,380.0,320.0,2800.0,1469.0,1000.0,2056.6052300729193,736.0,1.0,2056.6052300729193,360.0,2056.6052300729193,2056.6052300729193,420.0,599.0,230.0,2056.6052300729193,1600.0,1.0,460.0,1386.0,640.0,2056.6052300729193,400.0,2056.6052300729193,1529.0,1900.0,700.0,2056.6052300729193,2056.6052300729193,572.0,230.0,1.0,300.0,550.0,350.0,130.0,280.0,1336.0,260.0,341.0,1400.0,495.0,720.0,2056.6052300729193,1074.0,2056.6052300729193,2056.6052300729193,2056.6052300729193,2056.6052300729193,530.0,2056.6052300729193,1200.0,2056.6052300729193,730.0,350.0,2056.6052300729193,2056.6052300729193,2056.6052300729193,657.0,2056.6052300729193,365.0,250.0,600.0,1190.0,487.0,467.0,700.0,450.0,2056.6052300729193,450.0,820.0,2056.6052300729193,2056.6052300729193,430.0,540.0,1600.0,550.0,2056.6052300729193,1333.0,2056.6052300729193,290.0,2056.6052300729193,1.0,2056.6052300729193,650.0,2056.6052300729193,2056.6052300729193,2056.6052300729193,900.0,2056.6052300729193,600.0,2056.6052300729193,2056.6052300729193,700.0,331.0,2056.6052300729193,350.0,600.0,260.0,300.0,10.0,2500.0,1800.0,526.0,500.0,300.0,2056.6052300729193,743.0,2056.6052300729193,2056.6052300729193,700.0,10.0,2150.0,2056.6052300729193,630.0,2056.6052300729193,2056.6052300729193,325.0,180.0,1430.0,2056.6052300729193,400.0,2056.6052300729193,2056.6052300729193,140.0,350.0,300.0,2056.6052300729193,450.0,2056.6052300729193,10.0,300.0,250.0,2056.6052300729193,2056.6052300729193,2056.6052300729193,350.0,242.0,2056.6052300729193,2056.6052300729193,480.0,2056.6052300729193,250.0,450.0,2056.6052300729193,10.0,2056.6052300729193,1500.0,300.0,2056.6052300729193,10.0,1450.0,594.0,361.0,1396.0,2056.6052300729193,10.0,1600.0,10.0,1800.0,300.0,1.0,2056.6052300729193,10.0,10.0,1000.0,260.0,10.0,2056.6052300729193,728.0,170.0,366.0,351.0,10.0,2056.6052300729193,2056.6052300729193,2056.6052300729193,518.0,2056.6052300729193,2056.6052300729193,400.0,2056.6052300729193,2056.6052300729193,2056.6052300729193,2056.6052300729193,719.0,354.0,2056.6052300729193,2056.6052300729193,2056.6052300729193,2056.6052300729193,800.0,700.0,2056.6052300729193,332.0,2056.6052300729193,326.0,300.0,1650.0,10.0,1000.0,10.0,2056.6052300729193,2056.6052300729193,1.0,250.0,2056.6052300729193,400.0,2056.6052300729193,1450.0,770.0,969.0,150.0,10.0,444.0,380.0,2056.6052300729193,390.0,200.0,1322.0,1100.0,600.0,200.0,2056.6052300729193,10.0,100.0,10.0,10.0,800.0,900.0,2105.0,792.0,700.0,600.0,2056.6052300729193,1007.0,500.0,540.0,565.0,280.0,200.0,2056.6052300729193,2056.6052300729193,2056.6052300729193,400.0,2056.6052300729193,319.0,2056.6052300729193,336.0,1196.0,1292.0,10.0,1.0,2056.6052300729193,850.0,600.0,2056.6052300729193,1.0,730.0,170.0,330.0,2056.6052300729193,680.0,1601.0,1.0,671.0,300.0,2056.6052300729193,570.0,125.0,1.0,578.0,2056.6052300729193,1.0,2056.6052300729193,1.0,1.0,1.0,1.0,2056.6052300729193,2056.6052300729193,200.0,700.0,2056.6052300729193,2056.6052300729193,650.0,2056.6052300729193,734.0,2056.6052300729193,2056.6052300729193,650.0,495.0,1100.0,410.0,100.0,1450.0,400.0,10.0,1118.0,350.0,130.0,300.0,750.0,850.0,2056.6052300729193,800.0,400.0,455.0,10.0,210.0,2056.6052300729193,900.0,243.0,310.0,2056.6052300729193,2056.6052300729193,2056.6052300729193,1100.0,2056.6052300729193,482.0,2056.6052300729193,1.0,2056.6052300729193,558.0,300.0,420.0,450.0,526.0,1859.0,800.0,800.0,2056.6052300729193,1880.0,10.0,780.0,2056.6052300729193,450.0,1000.0,10.0,2056.6052300729193,690.0,250.0,450.0,980.0,2056.6052300729193,200.0,2056.6052300729193,590.0,100.0,2056.6052300729193,220.0,525.0,300.0,2056.6052300729193,900.0,2056.6052300729193,280.0,1.0,350.0,1180.0,726.0,593.0,421.0,10.0,1980.0,308.0,2056.6052300729193,980.0,250.0,10.0,870.0,1680.0,600.0,350.0,2056.6052300729193,1560.0,2056.6052300729193,2056.6052300729193,1210.0,1100.0,1080.0,650.0,800.0,2056.6052300729193,1.0,1500.0,480.0,283.0,450.0,1.0,250.0,10.0,250.0,450.0,450.0,400.0,2056.6052300729193,2056.6052300729193,350.0,260.0,960.0,1500.0,500.0,2056.6052300729193,2056.6052300729193,250.0,10.0,620.0,1600.0,276.0,1190.0,600.0,2056.6052300729193,2056.6052300729193,2056.6052300729193,100.0,1200.0,1100.0,350.0,350.0,2200.0,340.0,477.0,550.0,1.0,1200.0,920.0,337.0,2056.6052300729193,830.0,421.0,2056.6052300729193,700.0,450.0,2056.6052300729193,2300.0,850.0,1200.0,10.0,140.0,230.0,700.0,80.0,450.0,2056.6052300729193,2056.6052300729193,10.0,545.0,1300.0,2056.6052300729193,120.0,2056.6052300729193,2056.6052300729193,1.0,2056.6052300729193,350.0,2056.6052300729193,200.0,1200.0,344.0,350.0,2056.6052300729193,1190.0,2056.6052300729193,650.0,1.0,2056.6052300729193,2056.6052300729193,400.0,380.0,2056.6052300729193,2056.6052300729193,1000.0,1.0,550.0,1.0,1100.0,400.0,1350.0,250.0,1550.0,1000.0,2056.6052300729193,2056.6052300729193,2056.6052300729193,1.0,2056.6052300729193,1200.0,600.0,383.0,2056.6052300729193,10.0,800.0,330.0,2056.6052300729193,730.0,1.0,1.0,350.0,800.0,2056.6052300729193,400.0,850.0,2056.6052300729193,250.0,1119.0,100.0,1280.0,10.0,615.0,380.0,1.0,2056.6052300729193,600.0,350.0,2056.6052300729193,780.0,220.0,2056.6052300729193,10.0,10.0,2056.6052300729193,816.0,750.0,1730.0,250.0,720.0,938.0,1650.0,800.0,300.0,2056.6052300729193,828.0,10.0,1000.0,2056.6052300729193,620.0,700.0,300.0,750.0,830.0,400.0,830.0,2056.6052300729193,692.0,2056.6052300729193,847.0,270.0,2056.6052300729193,2056.6052300729193,2056.6052300729193,10.0,2056.6052300729193,930.0,210.0,250.0,1500.0,2056.6052300729193,2056.6052300729193,2056.6052300729193,743.0,690.0,870.0,950.0,2056.6052300729193,400.0,420.0,1000.0,300.0,400.0,100.0,1100.0,400.0,2056.6052300729193,1.0,1100.0,2056.6052300729193,663.0,2056.6052300729193,10.0,640.0,381.0,2056.6052300729193,300.0,2056.6052300729193,1000.0,1734.0,1800.0,2056.6052300729193,2056.6052300729193,2056.6052300729193,610.0,250.0,395.0,10.0,750.0,471.0,550.0,1070.0,10.0,2056.6052300729193,1050.0,610.0,610.0,660.0,2056.6052300729193,10.0,2056.6052300729193,2056.6052300729193,600.0,900.0,330.0,580.0,2056.6052300729193,10.0,2056.6052300729193,2056.6052300729193,1800.0,300.0,1545.0,2056.6052300729193,400.0,320.0,1900.0,1580.0,2056.6052300729193,1500.0,595.0,800.0,2056.6052300729193,1800.0,2056.6052300729193,1350.0,660.0,475.0,445.0,832.0,1300.0,400.0,1057.0,1960.0,2056.6052300729193,10.0,940.0,2056.6052300729193,1208.0,2056.6052300729193,2056.6052300729193,2056.6052300729193,2056.6052300729193,2056.6052300729193,1.0,1285.0,10.0,1800.0,670.0,350.0,250.0,2056.6052300729193,2056.6052300729193,500.0,755.0,1000.0,2056.6052300729193,330.0,400.0,1000.0,10.0,2056.6052300729193,10.0,300.0,2056.6052300729193,1395.0,200.0,400.0,430.0,2056.6052300729193,450.0,240.0,804.0,2056.6052300729193,1500.0,550.0,500.0,1700.0,720.0,400.0,2056.6052300729193,300.0,644.0,370.0,2056.6052300729193,1300.0,110.0,350.0,750.0,530.0,2056.6052300729193,700.0,430.0,2056.6052300729193,2056.6052300729193,510.0,2056.6052300729193,1230.0,400.0,1100.0,800.0,1670.0,2056.6052300729193,2056.6052300729193,1500.0,2056.6052300729193,1400.0,2056.6052300729193,621.0,600.0,2056.6052300729193,225.0,2056.6052300729193,2056.6052300729193,2056.6052300729193,2056.6052300729193,2056.6052300729193,2056.6052300729193,2056.6052300729193,350.0,500.0,320.0,320.0,500.0,850.0,2056.6052300729193,2056.6052300729193,2056.6052300729193,400.0,736.0,636.0,2056.6052300729193,2056.6052300729193,607.0,2056.6052300729193,260.0,220.0,256.0,2056.6052300729193,2056.6052300729193,330.0,2056.6052300729193,600.0,400.0,2056.6052300729193,298.0,500.0,450.0,1500.0,2056.6052300729193,2056.6052300729193,2056.6052300729193,230.0,900.0,350.0,2056.6052300729193,270.0,2056.6052300729193,2600.0,60.0,2056.6052300729193,250.0,900.0,513.0,450.0,883.0,2056.6052300729193,2056.6052300729193,2056.6052300729193,800.0,2056.6052300729193,280.0,2056.6052300729193,2580.0,1040.0,450.0,1500.0,800.0,2056.6052300729193,2500.0,400.0,2056.6052300729193,2056.6052300729193,687.0,2056.6052300729193,250.0,2056.6052300729193,2056.6052300729193,450.0,350.0,1.0,300.0,2056.6052300729193,290.0,2056.6052300729193,200.0,646.0,2056.6052300729193,2056.6052300729193,2056.6052300729193,2056.6052300729193,720.0,2056.6052300729193,2056.6052300729193,370.0,650.0,750.0,340.0,200.0,450.0,10.0,222.0,230.0,2056.6052300729193,1800.0,2056.6052300729193,495.0,2200.0,2056.6052300729193,850.0,2056.6052300729193,2056.6052300729193,2056.6052300729193,350.0,380.0,1050.0,2056.6052300729193,2056.6052300729193,730.0,1000.0,250.0,500.0,2056.6052300729193,582.0,213.0,300.0,400.0,800.0,510.0,2056.6052300729193,230.0,2056.6052300729193,200.0,2056.6052300729193,115.0,1500.0,350.0,900.0,2056.6052300729193,2056.6052300729193,2056.6052300729193,2056.6052300729193,2056.6052300729193,550.0,540.0,10.0,270.0,2056.6052300729193,248.0,190.0,580.0,850.0,220.0,400.0,2056.6052300729193,950.0,2056.6052300729193,500.0,2056.6052300729193,1600.0,2056.6052300729193,550.0,730.0,10.0,1016.0,2056.6052300729193,1000.0,1000.0,350.0,2056.6052300729193,2056.6052300729193,2056.6052300729193,370.0,636.0,100.0,2056.6052300729193,800.0,770.0,400.0,150.0,750.0,2056.6052300729193,1100.0,2056.6052300729193,1063.0,200.0,260.0,2500.0,1458.0,900.0,900.0,2056.6052300729193,150.0,569.0,620.0,2056.6052300729193,2056.6052300729193,2848.0,2056.6052300729193,230.0,700.0,470.0,755.0,2056.6052300729193,2056.6052300729193,2056.6052300729193,220.0,2056.6052300729193,1400.0,260.0,1150.0,1300.0,1200.0,800.0,445.0,1150.0,900.0,10.0,2056.6052300729193,1239.0,300.0,2056.6052300729193,550.0,2056.6052300729193,2056.6052300729193,1500.0,2056.6052300729193,2056.6052300729193,180.0,1490.0,700.0,2056.6052300729193,2056.6052300729193,1.0,280.0,2056.6052300729193,1450.0,800.0,800.0,2056.6052300729193,680.0,2056.6052300729193,330.0,2056.6052300729193,2056.6052300729193,2056.6052300729193,700.0,710.0,400.0,1075.0,2056.6052300729193,170.0,50.0,280.0,385.0,2056.6052300729193,768.0,2056.6052300729193,2056.6052300729193,2056.6052300729193,2056.6052300729193,270.0,330.0,2056.6052300729193,1700.0,1851.0,400.0,650.0,350.0,1700.0,300.0,350.0,2056.6052300729193,255.0,400.0,1740.0,300.0,1000.0,2056.6052300729193,80.0,2056.6052300729193,450.0,1650.0,700.0,2056.6052300729193,610.0,600.0,2056.6052300729193,1600.0,330.0,2300.0,2056.6052300729193,1250.0,165.0,270.0,550.0,300.0,1011.0,400.0,2056.6052300729193,650.0,400.0,2056.6052300729193,2056.6052300729193,180.0,250.0,1220.0,1250.0,2056.6052300729193,450.0,30.0,280.0,901.0,2056.6052300729193,2056.6052300729193,1893.0,10.0,250.0,525.0,1.0,787.0,2056.6052300729193,500.0,10.0,2056.6052300729193,500.0,2056.6052300729193,200.0,250.0,2056.6052300729193,2056.6052300729193,2056.6052300729193,1.0,1100.0,739.0,1.0,2056.6052300729193,2056.6052300729193,500.0,461.0,340.0,990.0,1099.0,10.0,2056.6052300729193,230.0,250.0,250.0,839.0,1600.0,2056.6052300729193,400.0,1790.0,242.0,2000.0,2056.6052300729193,350.0,650.0,665.0,2056.6052300729193,830.0,2056.6052300729193,450.0,2056.6052300729193,400.0,2056.6052300729193,651.0,500.0,1230.0,300.0,340.0,1.0,2056.6052300729193,975.0,636.0,1.0,560.0,220.0,1200.0,290.0,2056.6052300729193,1373.0,1500.0,2056.6052300729193,2056.6052300729193,2056.6052300729193,630.0,300.0,280.0,2056.6052300729193,2056.6052300729193,350.0,1400.0,2056.6052300729193,491.0,330.0,2056.6052300729193,950.0,810.0,225.0,750.0,1250.0,300.0,250.0,2056.6052300729193,100.0,475.0,800.0,170.0,960.0,1800.0,750.0,350.0,2056.6052300729193,2056.6052300729193,350.0,2056.6052300729193,2056.6052300729193,360.0,200.0,1200.0,2056.6052300729193,2056.6052300729193,365.0,400.0,1969.0,2056.6052300729193,2056.6052300729193,178.0,297.0,2056.6052300729193,2056.6052300729193,2056.6052300729193,300.0,950.0,130.0,2056.6052300729193,2056.6052300729193,2056.6052300729193,452.0,220.0,650.0,500.0,293.0,1.0,652.0,2056.6052300729193,280.0,1000.0,200.0,2150.0,540.0,10.0,330.0,560.0,500.0,340.0,2056.6052300729193,2056.6052300729193,405.0,2056.6052300729193,2056.6052300729193,2056.6052300729193,2056.6052300729193,320.0,680.0,1025.0,2056.6052300729193,350.0,323.0,200.0,2056.6052300729193,620.0,380.0,2056.6052300729193,680.0,900.0,1500.0,300.0,530.0,2056.6052300729193,2056.6052300729193,1240.0,1.0,2056.6052300729193,2056.6052300729193,2056.6052300729193,10.0,2056.6052300729193,1700.0,1.0,220.0,350.0,2056.6052300729193,900.0,2056.6052300729193,2056.6052300729193,300.0,250.0,2056.6052300729193,600.0,550.0,2056.6052300729193,450.0,765.0,100.0,10.0,2056.6052300729193,2056.6052300729193,2056.6052300729193,2056.6052300729193,280.0,2056.6052300729193,350.0,500.0,2300.0,430.0,350.0,2056.6052300729193,2056.6052300729193,2056.6052300729193,250.0,2056.6052300729193,2056.6052300729193,2056.6052300729193,2056.6052300729193,2056.6052300729193,2056.6052300729193,2056.6052300729193,2000.0,560.0,2056.6052300729193,1000.0,2056.6052300729193,2056.6052300729193,2056.6052300729193,2056.6052300729193,594.0,2056.6052300729193,2056.6052300729193,1.0,2056.6052300729193,2056.6052300729193,350.0,362.0,646.0,2056.6052300729193,400.0,572.0,350.0,2056.6052300729193,2027.0,480.0,548.0,2056.6052300729193,2056.6052300729193,400.0,1155.0,2056.6052300729193,220.0,450.0,2056.6052300729193,2056.6052300729193,332.0,418.0,2056.6052300729193,265.0,1058.0,635.0,2056.6052300729193,450.0,600.0,1367.0,150.0,1400.0,176.0,230.0,2056.6052300729193,600.0,380.0,2056.6052300729193,2056.6052300729193,680.0,2056.6052300729193,370.0,300.0,1300.0,2056.6052300729193,2056.6052300729193,721.0,750.0,350.0,1670.0,2056.6052300729193,2056.6052300729193,1702.0,340.0,550.0,599.0,810.0,1.0,2056.6052300729193,1000.0,500.0,356.0,800.0,1700.0,847.0,1800.0,495.0,2056.6052300729193,2056.6052300729193,2056.6052300729193,2056.6052300729193,2056.6052300729193,2056.6052300729193,2970.0,2056.6052300729193,2056.6052300729193,1300.0,2056.6052300729193,720.0,404.0,715.0,2056.6052300729193,500.0,300.0,260.0,2056.6052300729193,2056.6052300729193,2056.6052300729193,2056.6052300729193,2056.6052300729193,600.0,1500.0,220.0,630.0,490.0,660.0,300.0,720.0,2056.6052300729193,2056.6052300729193,350.0,330.0,600.0,3100.0,750.0,780.0,2056.6052300729193,2056.6052300729193,220.0,390.0,1.0,2056.6052300729193,400.0,150.0,2056.6052300729193,700.0,1964.0,1030.0,330.0,260.0,200.0,150.0,1150.0,2056.6052300729193,1200.0,2056.6052300729193,2100.0,1350.0,500.0,200.0,2056.6052300729193,550.0,560.0,350.0,850.0,330.0,250.0,450.0,2056.6052300729193,2056.6052300729193,2056.6052300729193,2056.6052300729193,2056.6052300729193,2056.6052300729193,400.0,2056.6052300729193,1700.0,1800.0,800.0,500.0,2056.6052300729193,2056.6052300729193,700.0,500.0,1000.0,1300.0,2785.0,1000.0,350.0,2136.0,328.0,2056.6052300729193,2056.6052300729193,2056.6052300729193,320.0,1000.0,550.0,2056.6052300729193,1900.0,2000.0,242.0,817.0,300.0,1500.0,2496.0,1256.0,1000.0,150.0,2100.0,990.0,2240.0,2056.6052300729193,520.0,1200.0,350.0,2056.6052300729193,3000.0,480.0,2056.6052300729193,1.0,650.0,1550.0,500.0,1500.0,2056.6052300729193,2056.6052300729193,230.0,1.0,1200.0,2000.0,2056.6052300729193,1460.0,1800.0,2056.6052300729193,224.0,10.0,827.0,1848.0,1.0,300.0,2056.6052300729193,250.0,1.0,2056.6052300729193,450.0,2100.0,250.0,330.0,200.0,2056.6052300729193,380.0,1200.0,2056.6052300729193,940.0,2056.6052300729193,200.0,1550.0,260.0,280.0,2027.0,2056.6052300729193,1.0,1.0,1.0,1.0,2056.6052300729193,2056.6052300729193,2056.6052300729193,399.0,2056.6052300729193,450.0,1059.0,1820.0,1733.0,2056.6052300729193,430.0,600.0,10.0,380.0,1.0,2056.6052300729193,2056.6052300729193,2056.6052300729193,400.0,200.0,2056.6052300729193,2056.6052300729193,1852.0,360.0,326.0,2056.6052300729193,270.0,395.0,1.0,2056.6052300729193,297.0,2056.6052300729193,2400.0,250.0,424.0,1040.0,1802.0,1000.0,1000.0,2056.6052300729193,2056.6052300729193,150.0,450.0,1.0,1.0,220.0,300.0,250.0,2056.6052300729193,2056.6052300729193,2056.6052300729193,457.0,200.0,1500.0,2056.6052300729193,2056.6052300729193,550.0,1.0,10.0,2056.6052300729193,2056.6052300729193,2056.6052300729193,1290.0,350.0,700.0,400.0,530.0,660.0,300.0,1400.0,890.0,2056.6052300729193,450.0,380.0,1100.0,360.0,2056.6052300729193,470.0,2056.6052300729193,300.0,2056.6052300729193,2056.6052300729193,500.0,1210.0,1350.0,850.0,700.0,660.0,728.0,492.0,714.0,450.0,550.0,450.0,2056.6052300729193,690.0,550.0,250.0,2056.6052300729193,320.0,2056.6052300729193,2056.6052300729193,1500.0,220.0,900.0,300.0,429.0,250.0,2056.6052300729193,280.0,1900.0,600.0,275.0,1475.0,1700.0,500.0,2056.6052300729193,300.0,400.0,650.0,350.0,1780.0,600.0,700.0,400.0,1350.0,750.0,154.0,1980.0,460.0,2056.6052300729193,350.0,505.0,1100.0,900.0,500.0,1700.0,1100.0,2056.6052300729193,700.0,325.0,2056.6052300729193,1200.0,350.0,200.0,1400.0,2056.6052300729193,2056.6052300729193,790.0,2056.6052300729193,2800.0,2056.6052300729193,440.0,350.0,10.0,2056.6052300729193,10.0,290.0,2056.6052300729193,1850.0,2056.6052300729193,692.0,900.0,2056.6052300729193,2056.6052300729193,980.0,2056.6052300729193,473.0,353.0,400.0,270.0,350.0,200.0,614.0,500.0,916.0,2056.6052300729193,916.0,680.0,2056.6052300729193,2056.6052300729193,2000.0,460.0,2260.0,500.0,254.0,698.0,1256.0,550.0,330.0,1554.0,1.0,2600.0,350.0,655.0,330.0,2056.6052300729193,2100.0,2056.6052300729193,2056.6052300729193,2056.6052300729193,2150.0,800.0,650.0,2056.6052300729193,2056.6052300729193,1100.0,220.0,1135.0,550.0,1.0,400.0,2056.6052300729193,400.0,2056.6052300729193,1.0,470.0,220.0,320.0,1650.0,600.0,200.0,700.0,2056.6052300729193,420.0,422.0,900.0,298.0,2056.6052300729193,2300.0,200.0,10.0,1900.0,2056.6052300729193,1900.0,2056.6052300729193,670.0,2750.0,2056.6052300729193,2056.6052300729193,1450.0,50.0,435.0,400.0,150.0,270.0,400.0,2056.6052300729193,800.0,550.0,2056.6052300729193,500.0,592.0,2056.6052300729193,350.0,235.0,700.0,250.0,850.0,2056.6052300729193,2056.6052300729193,2056.6052300729193,2056.6052300729193,836.0,2056.6052300729193,320.0,2056.6052300729193,1746.0,500.0,250.0,370.0,2056.6052300729193,250.0,315.0,2056.6052300729193,600.0,790.0,320.0,2056.6052300729193,660.0,350.0,150.0,400.0,2056.6052300729193,2056.6052300729193,900.0,2418.0,2056.6052300729193,400.0,2056.6052300729193,800.0,2056.6052300729193,1.0,2056.6052300729193,1.0,450.0,1168.0,682.0,2056.6052300729193,2056.6052300729193,670.0,2056.6052300729193,1.0,756.0,2056.6052300729193,1070.0,355.0,2056.6052300729193,750.0,1246.0,2056.6052300729193,1.0,10.0,2056.6052300729193,1200.0,620.0,1000.0,400.0,2056.6052300729193,700.0,375.0,390.0,1.0,1.0,1.0,650.0,2100.0,378.0,432.0,2056.6052300729193,186.0,450.0,2056.6052300729193,2056.6052300729193,250.0,2056.6052300729193,400.0,200.0,775.0,430.0,2056.6052300729193,410.0,406.0,2056.6052300729193,935.0,900.0,350.0,1700.0,1283.0,160.0,500.0,383.0,1.0,230.0,2056.6052300729193,180.0,1.0,1180.0,2056.6052300729193,350.0,250.0,250.0,550.0,2056.6052300729193,648.0,530.0,425.0,2056.6052300729193,300.0,2056.6052300729193,2056.6052300729193,980.0,310.0,2056.6052300729193,1000.0,250.0,450.0,500.0,2056.6052300729193,926.0,2056.6052300729193,350.0,1.0,448.0,678.0,2056.6052300729193,970.0,2056.6052300729193,650.0,400.0,1100.0,1.0,200.0,2056.6052300729193,1400.0,608.0,150.0,550.0,2000.0,371.0,600.0,1600.0,550.0,2056.6052300729193,620.0,10.0,2056.6052300729193,362.0,200.0,1200.0,800.0,300.0,2056.6052300729193,700.0,2056.6052300729193,500.0,250.0,2056.6052300729193,1.0,10.0,750.0,399.0,320.0,2056.6052300729193,2056.6052300729193,550.0,2056.6052300729193,2056.6052300729193,2056.6052300729193,400.0,2056.6052300729193,600.0,350.0,396.0,2056.6052300729193,850.0,2056.6052300729193,1950.0,1000.0,2056.6052300729193,260.0,250.0,2056.6052300729193,2950.0,300.0,560.0,450.0,530.0,2056.6052300729193,2056.6052300729193,1300.0,2056.6052300729193,300.0,2000.0,450.0,2056.6052300729193,502.0,2056.6052300729193,1323.0,1.0,700.0,650.0,2056.6052300729193,300.0,850.0,270.0,160.0,350.0,330.0,1.0,100.0,722.0,2056.6052300729193,200.0,2056.6052300729193,350.0,723.0,450.0,265.0,746.0,550.0,2056.6052300729193,10.0,490.0,170.0,900.0,1414.0,1.0,2056.6052300729193,1500.0,1890.0,2056.6052300729193,2056.6052300729193,2846.0,2056.6052300729193,150.0,2056.6052300729193,10.0,10.0,1200.0,790.0,400.0,2056.6052300729193,900.0,2056.6052300729193,890.0,736.0,250.0,1500.0,2056.6052300729193,390.0,480.0,120.0,666.0,680.0,230.0,1250.0,2056.6052300729193,1500.0,2056.6052300729193,2056.6052300729193,2056.6052300729193,1000.0,2056.6052300729193,2056.6052300729193,803.0,760.0,2056.6052300729193,2056.6052300729193,2200.0,2056.6052300729193,450.0,350.0,412.0,815.0,1000.0,2056.6052300729193,480.0,2455.0,2056.6052300729193,300.0,730.0,2056.6052300729193,2056.6052300729193,300.0,2056.6052300729193,2056.6052300729193,380.0,220.0,270.0,360.0,1.0,270.0,1200.0,1200.0,2100.0,2700.0,450.0,1.0,291.0,1253.0,2056.6052300729193,500.0,2056.6052300729193,1800.0,900.0,1000.0,2056.6052300729193,2056.6052300729193,2056.6052300729193,1300.0,380.0,250.0,2056.6052300729193,270.0,330.0,2056.6052300729193,2500.0,1360.0,400.0,1454.0,2056.6052300729193,520.0,2056.6052300729193,2056.6052300729193,340.0,300.0,200.0,2056.6052300729193,700.0,1045.0,1500.0,768.0,215.0,500.0,2056.6052300729193,2056.6052300729193,950.0,2056.6052300729193,2056.6052300729193,300.0,1450.0,1700.0,2056.6052300729193,1.0,2524.0,1400.0,1.0,300.0,1500.0,430.0,2056.6052300729193,2987.0,10.0,2056.6052300729193,2300.0,320.0,950.0,2056.6052300729193,2300.0,1060.0,2056.6052300729193,990.0,2056.6052300729193,1650.0,430.0,2056.6052300729193,1000.0,1200.0,2100.0,1226.0,505.0,1395.0,220.0,2056.6052300729193,220.0,600.0,400.0,2000.0,2056.6052300729193,1100.0,2056.6052300729193,220.0,240.0,300.0,337.0,300.0,370.0,2056.6052300729193,850.0,1470.0,2056.6052300729193,280.0,1600.0,300.0,2000.0,1250.0,2000.0,2056.6052300729193,540.0,2056.6052300729193,500.0,700.0,2056.6052300729193,816.0,800.0,1060.0,400.0,155.0,2056.6052300729193,2056.6052300729193,2056.6052300729193,550.0,1400.0,1800.0,350.0,1777.0,200.0,1734.0,2056.6052300729193,778.0,650.0,600.0,1000.0,1968.0,2056.6052300729193,1250.0,1400.0,992.0,330.0,2056.6052300729193,670.0,265.0,2056.6052300729193,792.0,170.0,170.0,358.0,590.0,800.0,1150.0,250.0,150.0,735.0,500.0,2056.6052300729193,680.0,220.0,850.0,400.0,1200.0,245.0,200.0,2056.6052300729193,2056.6052300729193,2056.6052300729193,2056.6052300729193,2056.6052300729193,380.0,300.0,2056.6052300729193,2056.6052300729193,450.0,1200.0,500.0,2056.6052300729193,430.0,2056.6052300729193,3024.0,840.0,380.0,250.0,1800.0,1508.0,1600.0,2056.6052300729193,700.0,506.0,180.0,800.0,2056.6052300729193,2056.6052300729193,300.0,870.0,2056.6052300729193,250.0,350.0,250.0,213.0,950.0,850.0,550.0,2056.6052300729193,450.0,400.0,2056.6052300729193,2056.6052300729193,2056.6052300729193,2056.6052300729193,700.0,2056.6052300729193,700.0,1650.0,300.0,2056.6052300729193,550.0,2056.6052300729193,350.0,2056.6052300729193,2056.6052300729193,2056.6052300729193,290.0,2056.6052300729193,500.0,2056.6052300729193,630.0,350.0,2056.6052300729193,780.0,600.0,200.0,2000.0,550.0,2056.6052300729193,400.0,1590.0,2056.6052300729193,400.0,2056.6052300729193,850.0,210.0,2056.6052300729193,670.0,2056.6052300729193,700.0,589.0,2056.6052300729193,1495.0,2056.6052300729193,2056.6052300729193,532.0,165.0,325.0,2056.6052300729193,2056.6052300729193,2056.6052300729193,443.0,2056.6052300729193,2056.6052300729193,2056.6052300729193,2056.6052300729193,2056.6052300729193,200.0,2056.6052300729193,300.0,10.0,2056.6052300729193,2056.6052300729193,600.0,550.0,2056.6052300729193,455.0,220.0,320.0,2056.6052300729193,550.0,2056.6052300729193,2056.6052300729193,1075.0,220.0,2056.6052300729193,2056.6052300729193,2056.6052300729193,2056.6052300729193,2056.6052300729193,2056.6052300729193,2056.6052300729193,2056.6052300729193,2056.6052300729193,2056.6052300729193,2056.6052300729193,500.0,2056.6052300729193,2056.6052300729193,700.0,665.0,2056.6052300729193,600.0,1.0,250.0,470.0,300.0,1450.0,135.0,1000.0,560.0,800.0,2056.6052300729193,350.0,2056.6052300729193,1000.0,400.0,110.0,250.0,243.0,2056.6052300729193,750.0,2056.6052300729193,1296.0,950.0,2111.0,2056.6052300729193,2056.6052300729193,2056.6052300729193,340.0,2056.6052300729193,2056.6052300729193,757.0,80.0,2056.6052300729193,2056.6052300729193,2056.6052300729193,980.0,2056.6052300729193,320.0,2056.6052300729193,260.0,200.0,340.0,200.0,10.0,10.0]},{\"axis\":{\"matches\":true},\"label\":\"square-foot\",\"values\":[\"40\",\"45-65\",\"411\",\"158\",\"278\",\"87\",\"60-71\",\"153\",\"200\",\"74\",\"72\",\"250\",\"62-65\",\"102\",\"52\",\"215\",\"82\",\"90\",\"54\",\"127\",\"160\",\"200\",\"140\",\"178\",\"90\",\"254\",\"123\",\"72\",\"96\",\"55\",\"115\",\"120\",\"80\",\"39-48\",\"360\",\"90\",\"92\",\"65\",\"110\",\"66-118\",\"130\",\"68\",\"100\",\"200\",\"66-145\",\"93\",\"75\",\"106\",\"145\",\"215\",\"66\",\"43\",\"50\",\"148\",\"93\",\"70\",\"56\",\"103\",\"87-134\",\"92\",\"62\",\"375\",\"142\",\"120\",\"81\",\"76-208\",\"105\",\"50\",\"130\",\"96\",\"190\",\"72\",\"103-128\",\"61\",\"149\",\"142\",\"75\",\"46\",\"133\",\"126\",\"60\",\"436\",\"208\",\"64\",\"89\",\"64-93\",\"95\",\"50\",\"300\",\"55\",\"62\",\"84-87\",\"132\",\"62\",\"141\",\"600\",\"203\",\"136\",\"92-125\",\"174\",\"118\",\"90\",\"53\",\"82-86\",\"400\",\"79\",\"140\",\"99\",\"67-94\",\"43\",\"80\",\"44\",\"65-81\",\"72\",\"191\",\"85\",\"150\",\"50\",\"63\",\"106-170\",\"58\",\"47\",\"130\",\"248\",\"315\",\"58\",\"137\",\"63\",\"70\",\"135\",\"73\",\"72\",\"57\",\"136\",\"326\",\"106\",\"110\",\"143\",\"49\",\"69\",\"70\",\"254\",\"118\",\"75\",\"115\",\"86\",\"66-86\",\"63\",\"360\",\"220\",\"240\",\"180\",\"1000\",\"74-141\",\"129\",\"360\",\"150\",\"178\",\"118\",\"200\",\"106-170\",\"211\",\"97\",\"66\",\"101\",\"55\",\"63-67\",\"69\",\"50\",\"150\",\"60\",\"150\",\"132\",\"77\",\"45\",\"140\",\"70\",\"79\",\"79\",\"53-106\",\"230\",\"100\",\"44\",\"292\",\"63-83\",\"130\",\"33\",\"245\",\"160\",\"264\",\"60\",\"93\",\"164-231\",\"69\",\"98\",\"246\",\"215\",\"264\",\"226-231\",\"154\",\"65\",\"110\",\"262\",\"143\",\"35\",\"74\",\"45\",\"110\",\"700\",\"221\",\"143-173\",\"75\",\"28\",\"144\",\"78\",\"250\",\"68-97\",\"159\",\"150\",\"75\",\"145\",\"330\",\"92\",\"147-157\",\"65\",\"98\",\"401\",\"727\",\"51\",\"147-157\",\"114\",\"960\",\"1370\",\"80\",\"410\",\"360\",\"76\",\"60\",\"184\",\"25\",\"58\",\"63-83\",\"300\",\"42\",\"469\",\"73\",\"61\",\"110\",\"131\",\"68\",\"360\",\"78\",\"50-110\",\"150\",\"55\",\"100\",\"73-81\",\"62\",\"80\",\"1000\",\"1000\",\"110\",\"35\",\"80\",\"222\",\"120\",\"105\",\"145-157\",\"175\",\"635\",\"65\",\"85\",\"72\",\"154\",\"380\",\"180\",\"110\",\"90\",\"101\",\"86\",\"360\",\"221\",\"150\",\"72\",\"133-160\",\"84\",\"61\",\"182\",\"91\",\"108\",\"110\",\"289\",\"114\",\"120\",\"54-74\",\"153\",\"177\",\"130\",\"140\",\"120\",\"80\",\"168\",\"116\",\"211\",\"140\",\"165\",\"100\",\"102\",\"185-238\",\"98\",\"55\",\"130\",\"60\",\"60\",\"237-238\",\"76\",\"110\",\"90\",\"155\",\"79\",\"127\",\"142\",\"72\",\"242\",\"75\",\"156\",\"120\",\"110\",\"44\",\"110\",\"360\",\"185\",\"275\",\"60\",\"123\",\"60\",\"147\",\"103\",\"25-155\",\"85\",\"335\",\"114\",\"130\",\"132\",\"284\",\"55-146\",\"111\",\"154\",\"142\",\"210\",\"175\",\"93\",\"100\",\"119\",\"148\",\"89\",\"58\",\"55-75\",\"87\",\"98\",\"223\",\"360\",\"99\",\"55-75\",\"110\",\"89\",\"98\",\"253\",\"87-160\",\"1000\",\"352\",\"56\",\"93\",\"186-310\",\"53\",\"65\",\"84\",\"126\",\"134\",\"180\",\"54-67\",\"363\",\"136\",\"100\",\"120\",\"40-41\",\"95\",\"256\",\"67\",\"73\",\"197\",\"71-139\",\"58\",\"230\",\"92\",\"47-50\",\"85\",\"190\",\"94\",\"65\",\"37-45\",\"395\",\"69\",\"25\",\"81\",\"134\",\"215\",\"172\",\"120\",\"115\",\"229\",\"120\",\"120\",\"104\",\"46\",\"71\",\"47-62\",\"57\",\"201\",\"231\",\"207\",\"48-98\",\"230\",\"143\",\"110\",\"64\",\"46\",\"48-75\",\"155\",\"70\",\"44\",\"162\",\"70\",\"62\",\"41-44\",\"46-47\",\"140\",\"80\",\"25\",\"60\",\"46\",\"110\",\"41-44\",\"75\",\"140\",\"148\",\"195\",\"150\",\"46-50\",\"53\",\"224\",\"99\",\"75\",\"38-41\",\"68\",\"144\",\"95\",\"85\",\"44\",\"406\",\"44-84\",\"97\",\"54\",\"153\",\"52-73\",\"17\",\"173\",\"210\",\"440\",\"243\",\"38\",\"55\",\"132\",\"327\",\"41-47\",\"300\",\"120\",\"110\",\"43\",\"101\",\"138\",\"48\",\"101\",\"93\",\"50\",\"164\",\"39\",\"90\",\"168\",\"200\",\"250-1020\",\"97\",\"103\",\"360\",\"114\",\"41-48\",\"220\",\"65\",\"280\",\"121\",\"115\",\"43\",\"52\",\"110\",\"137\",\"76\",\"48\",\"290\",\"41-47\",\"135\",\"47-67\",\"240\",\"100\",\"110\",\"141\",\"90\",\"20000\",\"65\",\"68\",\"68\",\"90\",\"80\",\"45\",\"220\",\"72\",\"100\",\"86\",\"68\",\"270\",\"54\",\"60\",\"140\",\"120\",\"82\",\"137\",\"100\",\"133\",\"86\",\"72\",\"94\",\"98\",\"96\",\"90\",\"96\",\"190\",\"62\",\"120\",\"286\",\"272\",\"183\",\"240\",\"176\",\"97\",\"101\",\"74\",\"298\",\"120\",\"574\",\"105\",\"57\",\"90\",\"264\",\"85\",\"165\",\"112\",\"102\",\"100\",\"146\",\"114\",\"396\",\"256\",\"154\",\"105\",\"28\",\"70\",\"144\",\"75\",\"180\",\"70\",\"56\",\"84\",\"92\",\"96\",\"190\",\"50\",\"355\",\"100\",\"114\",\"100\",\"180\",\"50\",\"150\",\"99\",\"27\",\"130\",\"600\",\"100\",\"45\",\"95\",\"254\",\"243\",\"150\",\"115\",\"280\",\"51\",\"146\",\"190\",\"100\",\"100\",\"58\",\"85\",\"210\",\"173\",\"66\",\"64\",\"72\",\"204\",\"334\",\"165\",\"200\",\"68\",\"124\",\"70\",\"62\",\"290\",\"95\",\"167\",\"85\",\"100\",\"101\",\"61\",\"120\",\"115\",\"48\",\"140\",\"260\",\"88\",\"28\",\"70\",\"152\",\"80\",\"140\",\"77\",\"67\",\"130\",\"450\",\"87\",\"328\",\"120\",\"95\",\"57\",\"138\",\"242\",\"118\",\"136\",\"360\",\"68\",\"65\",\"80\",\"84\",\"207\",\"104\",\"214\",\"260\",\"70\",\"59\",\"85\",\"45\",\"67\",\"193\",\"46\",\"396\",\"54\",\"277\",\"150\",\"78\",\"43\",\"75\",\"100\",\"204\",\"75\",\"124\",\"126\",\"50\",\"83\",\"178\",\"150\",\"107\",\"155\",\"89\",\"39\",\"97\",\"85\",\"111\",\"92\",\"96\",\"102\",\"209\",\"547\",\"118\",\"125\",\"178\",\"170\",\"70\",\"100\",\"150\",\"89\",\"196\",\"180\",\"70\",\"192\",\"52\",\"128\",\"48\",\"330\",\"166\",\"65\",\"384\",\"55\",\"260\",\"146\",\"15\",\"110\",\"120\",\"58\",\"54\",\"70\",\"148\",\"1000\",\"550\",\"82\",\"82\",\"170\",\"96\",\"102\",\"96\",\"130\",\"82\",\"300\",\"360\",\"56\",\"70\",\"180\",\"105\",\"92\",\"36\",\"165\",\"113\",\"78\",\"90\",\"145\",\"132\",\"75\",\"50\",\"620\",\"95\",\"60\",\"140\",\"183\",\"148\",\"129\",\"145\",\"65\",\"75\",\"141\",\"463\",\"162\",\"206\",\"130\",\"94\",\"62\",\"128\",\"52\",\"119\",\"190\",\"145\",\"91\",\"164\",\"47\",\"88\",\"60\",\"53\",\"120\",\"95\",\"300\",\"90\",\"42\",\"130\",\"120\",\"300\",\"28\",\"52\",\"180\",\"55\",\"70\",\"90\",\"108\",\"120\",\"88\",\"104\",\"50\",\"150\",\"86\",\"53\",\"245\",\"116\",\"56\",\"100\",\"90\",\"160\",\"91\",\"140\",\"67\",\"60\",\"170\",\"30\",\"317\",\"143\",\"65\",\"140\",\"60\",\"56\",\"313\",\"170\",\"220\",\"84\",\"180\",\"103\",\"208\",\"140\",\"87\",\"280\",\"48\",\"133\",\"83\",\"78\",\"152\",\"110\",\"164\",\"106\",\"85\",\"208\",\"140\",\"204\",\"502\",\"110\",\"85\",\"78\",\"326\",\"169\",\"67\",\"65\",\"170\",\"450\",\"80\",\"98\",\"155\",\"101\",\"75\",\"254\",\"120\",\"135\",\"155\",\"107\",\"55\",\"32\",\"98\",\"105\",\"118\",\"222\",\"58\",\"140\",\"95\",\"110\",\"91\",\"82\",\"73\",\"80\",\"141\",\"185\",\"77\",\"90\",\"126\",\"95\",\"155\",\"100\",\"180\",\"135\",\"70\",\"190\",\"185\",\"65\",\"82\",\"25\",\"106\",\"130\",\"120\",\"85\",\"120\",\"62\",\"50\",\"140\",\"63\",\"130\",\"100\",\"87\",\"42\",\"124\",\"178\",\"156\",\"90\",\"172\",\"422\",\"62\",\"290\",\"180\",\"135\",\"140\",\"175\",\"100\",\"85\",\"225\",\"66\",\"138\",\"47\",\"204\",\"23\",\"112\",\"93\",\"200\",\"83\",\"105\",\"180\",\"63\",\"231\",\"75\",\"55\",\"217\",\"72\",\"55\",\"85\",\"1000\",\"60\",\"200\",\"132\",\"110\",\"100\",\"140\",\"84\",\"380\",\"45\",\"72\",\"80\",\"95\",\"100\",\"88\",\"110\",\"155\",\"65\",\"90\",\"105\",\"75\",\"80\",\"250\",\"212\",\"249\",\"70\",\"120\",\"90\",\"113\",\"48\",\"69\",\"31\",\"137\",\"175\",\"200\",\"87\",\"85\",\"400\",\"78\",\"112\",\"217\",\"48\",\"96\",\"165\",\"35\",\"325\",\"68\",\"65\",\"124\",\"140\",\"150\",\"360\",\"88\",\"82\",\"59\",\"150\",\"97\",\"120\",\"182\",\"0\",\"154\",\"50\",\"400\",\"38\",\"45\",\"45\",\"42\",\"256\",\"280\",\"335\",\"140\",\"175\",\"70\",\"45\",\"95\",\"75\",\"236\",\"148\",\"142\",\"90\",\"100\",\"64\",\"60\",\"145\",\"200\",\"320\",\"256\",\"148\",\"190\",\"95\",\"440\",\"168\",\"40\",\"360\",\"75\",\"60\",\"92\",\"86\",\"93\",\"160\",\"165\",\"100\",\"220\",\"82\",\"80\",\"68\",\"45\",\"230\",\"53\",\"300\",\"92\",\"63\",\"130\",\"147\",\"145\",\"108\",\"178\",\"136\",\"228\",\"52\",\"74\",\"102\",\"62\",\"108\",\"360\",\"105\",\"221\",\"150\",\"55\",\"105\",\"175\",\"343\",\"191\",\"70\",\"120\",\"116\",\"228\",\"151\",\"80\",\"180\",\"160\",\"180\",\"104\",\"140\",\"160\",\"155\",\"84\",\"200\",\"76\",\"52\",\"56\",\"53\",\"96\",\"60\",\"150\",\"74\",\"425\",\"200\",\"240\",\"53\",\"200\",\"120\",\"19\",\"162\",\"75\",\"70\",\"200\",\"137\",\"61\",\"188\",\"96\",\"132\",\"180\",\"53\",\"70\",\"134\",\"131\",\"88\",\"48\",\"170\",\"90\",\"160\",\"172\",\"205\",\"104\",\"160\",\"60\",\"89\",\"100\",\"85\",\"36\",\"50\",\"165\",\"215\",\"71\",\"81\",\"58\",\"154\",\"150\",\"90\",\"120\",\"125\",\"58\",\"141\",\"77\",\"208\",\"93\",\"33\",\"75\",\"81\",\"115\",\"102\",\"291\",\"398\",\"106\",\"170\",\"344\",\"155\",\"60\",\"70\",\"110\",\"48\",\"178\",\"278\",\"98\",\"70\",\"80\",\"435\",\"203\",\"100\",\"25\",\"73\",\"98\",\"72\",\"130\",\"72\",\"107\",\"290\",\"142\",\"135\",\"82\",\"153\",\"360\",\"50\",\"104\",\"110\",\"95\",\"180\",\"40\",\"125\",\"101\",\"85\",\"159\",\"210\",\"60\",\"190\",\"180\",\"239\",\"52\",\"90\",\"48\",\"150\",\"140\",\"110\",\"75\",\"47\",\"50\",\"140\",\"63\",\"144\",\"66\",\"173\",\"180\",\"400\",\"90\",\"126\",\"75\",\"200\",\"55\",\"260\",\"158\",\"100\",\"190\",\"56\",\"257\",\"218\",\"48\",\"106\",\"90\",\"1892\",\"95\",\"87\",\"115\",\"90\",\"242\",\"58\",\"49\",\"50\",\"65\",\"62\",\"75\",\"540\",\"240\",\"97\",\"140\",\"110\",\"129\",\"170\",\"150\",\"274\",\"266\",\"135\",\"120\",\"365\",\"71\",\"70\",\"75\",\"180\",\"152\",\"80\",\"90\",\"45\",\"100\",\"100\",\"110\",\"525\",\"340\",\"143\",\"135\",\"29\",\"1114\",\"72\",\"110\",\"81\",\"56\",\"84\",\"66\",\"68\",\"260\",\"75\",\"63\",\"74\",\"136\",\"175\",\"59\",\"150\",\"70\",\"74\",\"1017\",\"102\",\"103\",\"38\",\"140\",\"64\",\"144\",\"190\",\"98\",\"28\",\"86\",\"105\",\"322\",\"144\",\"65\",\"49\",\"164\",\"253\",\"123\",\"360\",\"60\",\"125\",\"210\",\"150\",\"150\",\"73\",\"75\",\"350\",\"66\",\"188\",\"51\",\"360\",\"60\",\"75\",\"100\",\"70\",\"440\",\"90\",\"95\",\"82\",\"57\",\"80\",\"140\",\"36\",\"0\",\"130\",\"190\",\"71\",\"85\",\"48\",\"66\",\"140\",\"182\",\"60\",\"95\",\"384\",\"55\",\"68\",\"150\",\"334\",\"200\",\"182\",\"93\",\"48\",\"160\",\"102\",\"50\",\"211\",\"333\",\"300\",\"83\",\"90\",\"209\",\"85\",\"95\",\"630\",\"106\",\"123\",\"70\",\"125\",\"224\",\"90\",\"117\",\"659\",\"218\",\"83\",\"42\",\"126\",\"140\",\"65\",\"82\",\"240\",\"136\",\"178\",\"208\",\"282\",\"90\",\"25\",\"75\",\"45\",\"190\",\"83\",\"50\",\"120\",\"102\",\"43\",\"130\",\"95\",\"304\",\"35\",\"370\",\"105\",\"80\",\"441\",\"74\",\"225\",\"77\",\"58\",\"180\",\"189\",\"50\",\"55\",\"117\",\"54\",\"140\",\"128\",\"65\",\"105\",\"60\",\"78\",\"85\",\"80\",\"190\",\"65\",\"80\",\"70\",\"286\",\"122\",\"244\",\"120\",\"99\",\"220\",\"75\",\"70\",\"200\",\"95\",\"122\",\"120\",\"220\",\"85\",\"58\",\"70\",\"90\",\"343\",\"137\",\"120\",\"70\",\"180\",\"53\",\"120\",\"72\",\"242\",\"428\",\"140\",\"105\",\"215\",\"110\",\"135\",\"34\",\"138\",\"90\",\"764\",\"79\",\"117\",\"75\",\"70\",\"86\",\"135\",\"222\",\"50\",\"76\",\"93\",\"90\",\"125\",\"152\",\"200\",\"56\",\"90\",\"162\",\"257\",\"97\",\"85\",\"24\",\"280\",\"140\",\"52\",\"180\",\"68\",\"152\",\"76\",\"320\",\"62\",\"77\",\"150\",\"221\",\"62\",\"360\",\"360\",\"150\",\"75\",\"160\",\"75\",\"74\",\"650\",\"175\",\"202\",\"110\",\"156\",\"138\",\"145\",\"330\",\"92\",\"50\",\"140\",\"114\",\"322\",\"60\",\"70\",\"45\",\"58\",\"228\",\"120\",\"64\",\"58\",\"170\",\"100\",\"121\",\"55\",\"80\",\"100\",\"117\",\"85\",\"280\",\"69\",\"162\",\"69\",\"140\",\"218\",\"160\",\"92\",\"48\",\"110\",\"46\",\"85\",\"102\",\"150\",\"267\",\"200\",\"140\",\"190\",\"72\",\"85\",\"91\",\"230\",\"350\",\"80\",\"420\",\"50\",\"130\",\"197\",\"45\",\"126\",\"85\",\"178\",\"112\",\"288\",\"173\",\"98\",\"130\",\"80\",\"29\",\"170\",\"160\",\"45\",\"121\",\"76\",\"60\",\"50\",\"350\",\"184\",\"120\",\"355\",\"540\",\"192\",\"90\",\"420\",\"135\",\"195\",\"348\",\"311\",\"50\",\"83\",\"29\",\"186\",\"80\",\"152\",\"180\",\"80\",\"345\",\"135\",\"80\",\"62\",\"201\",\"97\",\"45\",\"200\",\"406\",\"91\",\"65\",\"600\",\"87\",\"60\",\"55\",\"90\",\"50\",\"154\",\"360\",\"244\",\"59\",\"396\",\"144\",\"170\",\"155\",\"115\",\"370\",\"1200\",\"172\",\"82\",\"114\",\"154\",\"45\",\"100\",\"202\",\"272\",\"110\",\"75\",\"67\",\"52\",\"94\",\"125\",\"150\",\"50\",\"170\",\"91\",\"60\",\"28\",\"135\",\"65\",\"147\",\"132\",\"115\",\"151\",\"230\",\"86\",\"102\",\"655\",\"180\",\"84\",\"90\",\"260\",\"80\",\"64\",\"132\",\"40\",\"500\",\"104\",\"250\",\"95\",\"65\",\"75\",\"101\",\"101\",\"120\",\"130\",\"47\",\"142\",\"25\",\"55\",\"58\",\"360\",\"306\",\"105\",\"65\",\"120\",\"350\",\"46\",\"338\",\"110\",\"98\",\"168\",\"80\",\"40\",\"72\",\"51\",\"140\",\"75\",\"28\",\"140\",\"181\",\"130\",\"110\",\"130\",\"68\",\"361\",\"400\",\"145\",\"73\",\"260\",\"220\",\"62\",\"163\",\"249\",\"85\",\"92\",\"107\",\"75\",\"89\",\"143\",\"90\",\"87\",\"240\",\"90\",\"200\",\"158\",\"84\",\"100\",\"85\",\"500\",\"47\",\"137\",\"65\",\"129\",\"53\",\"90\",\"75\",\"90\",\"60\",\"30\",\"72\",\"32\",\"84\",\"160\",\"93\",\"163\",\"68\",\"66\",\"70\",\"93\",\"74\",\"140\",\"78\",\"138\",\"237\",\"75\",\"154\",\"110\",\"52\",\"75\",\"150\",\"85\",\"93\",\"55\",\"59\",\"140\",\"98\",\"132\",\"160\",\"130\",\"50\",\"202\",\"300\",\"140\",\"94\",\"200\",\"106\",\"83\",\"3000\",\"120\",\"158\",\"97\",\"64\",\"105\",\"27\",\"126\",\"108\",\"175\",\"46\",\"103\",\"95\",\"70\",\"227\",\"62\",\"102\",\"360\",\"118\",\"68\",\"135\",\"102\",\"99\",\"110\",\"95\",\"85\",\"90\",\"80\",\"500\",\"80\",\"100\",\"89\",\"83\",\"157\",\"151\",\"130\",\"25\",\"123\",\"140\",\"150\",\"287\",\"150\",\"413\",\"140\",\"58\",\"29\",\"338\",\"145\",\"220\",\"100\",\"400\",\"92\",\"326\",\"70\",\"63\",\"55\",\"271\",\"80\",\"170\",\"144\",\"106\",\"90\",\"77\",\"108\",\"228\",\"180\",\"86\",\"220\",\"72\",\"65\",\"104\",\"85\",\"160\",\"40\",\"19\",\"525\",\"83\",\"120\",\"56\",\"258\",\"1830\",\"66\",\"121\",\"70\",\"54\",\"43\",\"170\",\"95\",\"147\",\"91\",\"48\",\"73\",\"51\",\"145\",\"130\",\"190\",\"284\",\"240\",\"36\",\"66\",\"150\",\"500\",\"77\",\"25\",\"140\",\"184\",\"190\",\"150\",\"360\",\"316\",\"80\",\"300\",\"152\",\"49\",\"72\",\"92\",\"76\",\"150\",\"78\",\"61\",\"60\",\"46\",\"67\",\"96\",\"95\",\"40\",\"95\",\"80\",\"55\",\"119\",\"239\",\"356\",\"210\",\"160\",\"108\",\"70\",\"355\",\"244\",\"143\",\"286\",\"160\",\"364\",\"125\",\"148\",\"95\",\"130\",\"280\",\"140\",\"41\",\"55\",\"128\",\"351\",\"42\",\"96\",\"173\",\"151\",\"93\",\"244\",\"55\",\"151\",\"86\",\"45\",\"43\",\"90\",\"106\",\"140\",\"106\",\"62\",\"120\",\"90\",\"103\",\"112\",\"153\",\"155\",\"90\",\"25\",\"62\",\"140\",\"80\",\"100\",\"130\",\"65\",\"140\",\"125\",\"77\",\"95\",\"130\",\"60\",\"212\",\"92\",\"311\",\"132\",\"65\",\"90\",\"65\",\"76\",\"48\",\"25\",\"54\",\"39\",\"48\",\"1050\",\"55\",\"256\",\"94\",\"62\",\"173\",\"113\",\"260\",\"152\",\"64\",\"90\",\"72\",\"25\",\"25\",\"260\",\"360\",\"90\",\"115\",\"66\",\"70\",\"145\",\"60\",\"210\",\"106\",\"74\",\"83\",\"60\",\"285\",\"29\",\"171\",\"72\",\"135\",\"80\",\"76\",\"230\",\"186\",\"29\",\"143\",\"55\",\"200\",\"190\",\"45\",\"136\",\"113\",\"360\",\"42\",\"89\",\"218\",\"139\",\"218\",\"40\",\"176\",\"85\",\"210\",\"96\",\"80\",\"27\",\"72\",\"136\",\"251\",\"105\",\"80\",\"152\",\"74\",\"120\",\"216\",\"155\",\"90\",\"100\",\"92\",\"291\",\"300\",\"72\",\"62\",\"1940\",\"86\",\"145\",\"48\",\"162\",\"180\",\"164\",\"197\",\"322\",\"70\",\"180\",\"96\",\"110\",\"150\",\"207\",\"58\",\"80\",\"141\",\"82\",\"105\",\"70\",\"70\",\"88\",\"102\",\"86\",\"120\",\"255\",\"194\",\"460\",\"107\",\"30\",\"126\",\"40\",\"60\",\"82\",\"155\",\"93\",\"106\",\"1075\",\"60\",\"95\",\"100\",\"230\",\"45\",\"223\",\"77\",\"74\",\"50\",\"78\",\"87\",\"291\",\"65\",\"55\",\"76\",\"30\",\"87\",\"136\",\"75\",\"140\",\"200\",\"130\",\"58\",\"50\",\"140\",\"49\",\"67\",\"72\",\"165\",\"67\",\"60\",\"136\",\"160\",\"419\",\"236\",\"180\",\"189\",\"35\",\"310\",\"96\",\"78\",\"126\",\"149\",\"28\",\"166\",\"214\",\"170\",\"70\",\"104\",\"130\",\"164\",\"60\",\"45\",\"80\",\"170\",\"175\",\"52\",\"84\",\"32\",\"60\",\"72\",\"75\",\"60\",\"65\",\"64\",\"68\",\"170\",\"280\",\"171\",\"70\",\"74\",\"139\",\"61\",\"63\",\"230\",\"296\",\"71\",\"70\",\"69\",\"68\",\"68\",\"96\",\"100\",\"65\",\"250\",\"100\",\"70\",\"83\",\"142\",\"43\",\"81\",\"138\",\"91\",\"275\",\"140\",\"160\",\"70\",\"27\",\"53\",\"219\",\"92\",\"70\",\"140\",\"58\",\"350\",\"95\",\"1000\",\"170\",\"143\",\"85\",\"55\",\"110\",\"35\",\"44\",\"130\",\"25\",\"60\",\"25\",\"51\",\"180\",\"178\",\"155\",\"84\",\"85\",\"125\",\"116\",\"110\",\"52\",\"107\",\"118\",\"95\",\"58\",\"55\",\"194\",\"325\",\"250\",\"450\",\"103\",\"188\",\"336\",\"78\",\"83\",\"68\",\"175\",\"32\",\"56\",\"130\",\"53\",\"101\",\"66\",\"85\",\"126\",\"61\",\"74\",\"58\",\"47\",\"414\",\"56\",\"290\",\"67\",\"70\",\"77\",\"97\",\"80\",\"384\",\"33\",\"126\",\"268\",\"174\",\"48\",\"147\",\"147\",\"122\",\"55\",\"125\",\"395\",\"30\",\"102\",\"65\",\"68\",\"101\",\"60\",\"203\",\"73\",\"144\",\"70\",\"40\",\"64\",\"53\",\"121\",\"55\",\"122\",\"400\",\"76\",\"160\",\"34\",\"100\",\"459\",\"66\",\"93\",\"133\",\"90\",\"160\",\"185\",\"400\",\"100\",\"67\",\"115\",\"55\",\"75\",\"147\",\"56\",\"90\",\"35\",\"67\",\"194\",\"90\",\"26\",\"84\",\"113\",\"140\",\"75\",\"140\",\"59\",\"110\",\"85\",\"113\",\"70\",\"70\",\"60\",\"240\",\"67\",\"65\",\"60\",\"125\",\"45\",\"80\",\"237\",\"103\",\"90\",\"80\",\"93\",\"25\",\"62\",\"220\",\"52\",\"134\",\"135\",\"64\",\"220\",\"135\",\"207\",\"70\",\"69\",\"40\",\"92\",\"109\",\"165\",\"110\",\"141\",\"81\",\"139\",\"90\",\"60\",\"40\",\"173\",\"124\",\"103\",\"296\",\"83\",\"212\",\"170\",\"60\",\"35\",\"240\",\"240\",\"110\",\"140\",\"133\",\"106\",\"150\",\"300\",\"168\",\"48\",\"92\",\"55\",\"58\",\"59\",\"165\",\"145\",\"220\",\"91\",\"134\",\"156\",\"400\",\"300\",\"82\",\"80\",\"56\",\"65\",\"160\",\"80\",\"65\",\"46\",\"58\",\"119\",\"86\",\"68\",\"90\",\"121\",\"562\",\"130\",\"65\",\"85\",\"30\",\"23\",\"85\",\"47\",\"250\",\"163\",\"86\",\"459\",\"49\",\"0\",\"55\",\"101\",\"170\",\"206\",\"220\",\"100\",\"61\",\"60\",\"123\",\"68\",\"300\",\"57\",\"98\",\"102\",\"68\",\"360\",\"64\",\"220\",\"70\",\"110\",\"76\",\"71\",\"308\",\"83\",\"53\",\"354\",\"250\",\"189\",\"52\",\"68\",\"62\",\"240\",\"139\",\"376\",\"56\",\"109\",\"161\",\"40\",\"120\",\"55\",\"75\",\"100\",\"144\",\"80\",\"98\",\"180\",\"171\",\"138\",\"85\",\"133\",\"86\",\"45\",\"100\",\"149\",\"130\",\"134\",\"150\",\"163\",\"48\",\"240\",\"88\",\"110\",\"75\",\"110\",\"238\",\"180\",\"160\",\"208\",\"260\",\"69\",\"110\",\"60\",\"156\",\"155\",\"36\",\"450\",\"86\",\"159\",\"50\",\"147\",\"69\",\"58\",\"195\",\"70\",\"200\",\"70\",\"290\",\"47\",\"70\",\"130\",\"240\",\"63\",\"90\",\"154\",\"79\",\"396\",\"160\",\"160\",\"184\",\"100\",\"60\",\"52\",\"80\",\"77\",\"46\",\"300\",\"142\",\"215\",\"64\",\"170\",\"110\",\"124\",\"68\",\"83\",\"130\",\"67\",\"70\",\"100\",\"60\",\"86\",\"72\",\"25\",\"95\",\"143\",\"340\",\"172\",\"150\",\"280\",\"25\",\"65\",\"40\",\"90\",\"85\",\"108\",\"62\",\"237\",\"237\",\"218\",\"58\",\"82\",\"161\",\"57\",\"308\",\"197\",\"115\",\"65\",\"51\",\"231\",\"91\",\"112\",\"35\",\"350\",\"360\",\"209\",\"53\",\"142\",\"180\",\"51\",\"68\",\"207\",\"117\",\"164\",\"184\",\"47\",\"122\",\"130\",\"90\",\"85\",\"360\",\"80\",\"216\",\"160\",\"64\",\"84\",\"62\",\"25\",\"98\",\"113\",\"46\",\"60\",\"52\",\"175\",\"63\",\"106\",\"170\",\"456\",\"118\",\"45\",\"168\",\"220\",\"150\",\"125\",\"95\",\"73\",\"68\",\"160\",\"136\",\"80\",\"154\",\"220\",\"110\",\"85\",\"48\",\"62\",\"135\",\"120\",\"140\",\"100\",\"360\",\"106\",\"78\",\"130\",\"175\",\"62\",\"99\",\"41\",\"97\",\"25\",\"108\",\"110\",\"156\",\"90\",\"65\",\"41\",\"271\",\"300\",\"63\",\"60\",\"63\",\"110\",\"73\",\"108\",\"102\",\"493\",\"193\",\"63\",\"223\",\"92\",\"40\",\"89\",\"98\",\"118\",\"67\",\"119\",\"70\",\"156\",\"158\",\"60\",\"80\",\"97\",\"143\",\"130\",\"112\",\"80\",\"52\",\"85\",\"170\",\"170\",\"103\",\"140\",\"168\",\"93\",\"180\",\"55\",\"221\",\"45\",\"110\",\"134\",\"190\",\"75\",\"140\",\"60\",\"391\",\"125\",\"60\",\"105\",\"509\",\"190\",\"115\",\"93\",\"211\",\"92\",\"160\",\"90\",\"68\",\"62\",\"400\",\"0\",\"117\",\"35\",\"80\",\"240\",\"63\",\"220\",\"77\",\"62\",\"100\",\"141\",\"108\",\"85\",\"95\",\"100\",\"179\",\"160\",\"52\",\"133\",\"62\",\"138\",\"176\",\"23\",\"91\",\"250\",\"87\",\"130\",\"95\",\"283\",\"140\",\"115\",\"140\",\"73\",\"92\",\"399\",\"52\",\"43\",\"289\",\"88\",\"122\",\"63\",\"113\",\"195\",\"131\",\"188\",\"76\",\"141\",\"160\",\"73\",\"132\",\"75\",\"83\",\"238\",\"85\",\"72\",\"20\",\"67\",\"80\",\"135\",\"130\",\"30\",\"66\",\"140\",\"73\",\"219\",\"75\",\"74\",\"46\",\"57\",\"140\",\"84\",\"130\",\"110\",\"300\",\"155\",\"34\",\"46\",\"75\",\"205\",\"77\",\"73\",\"70\",\"154\",\"82\",\"187\",\"228\",\"360\",\"124\",\"133\",\"102\",\"72\",\"118\",\"106\",\"87\",\"49\",\"90\",\"106\",\"180\",\"167\",\"70\",\"55\",\"96\",\"110\",\"160\",\"70\",\"150\",\"140\",\"47\",\"72\",\"125\",\"44\",\"150\",\"66\",\"204\",\"71\",\"268\",\"98\",\"133\",\"83\",\"60\",\"95\",\"201\",\"110\",\"191\",\"80\",\"175\",\"170\",\"44\",\"627\",\"59\",\"482\",\"55\",\"150\",\"44\",\"136\",\"80\",\"117\",\"369\",\"110\",\"62\",\"60\",\"75\",\"180\",\"134\",\"69\",\"95\",\"131\",\"60\",\"155\",\"83\",\"46\",\"170\",\"70\",\"60\",\"85\",\"114\",\"70\",\"360\",\"130\",\"100\",\"690\",\"164\",\"117\",\"57\",\"110\",\"152\",\"29\",\"143\",\"94\",\"55\",\"68\",\"73\",\"140\",\"176\",\"180\",\"72\",\"140\",\"83\",\"70\",\"230\",\"220\",\"81\",\"51\",\"107\",\"73\",\"140\",\"74\",\"160\",\"89\",\"76\",\"63\",\"83\",\"1000\",\"90\",\"67\",\"86\",\"85\",\"170\",\"76\",\"90\",\"25\",\"60\",\"252\",\"140\",\"72\",\"83\",\"141\",\"80\",\"67\",\"35\",\"100\",\"110\",\"88\",\"280\",\"74\",\"70\",\"105\",\"80\",\"90\",\"155\",\"135\",\"80\",\"320\",\"79\",\"70\",\"65\",\"62\",\"73\",\"110\",\"140\",\"320\",\"267\",\"127\",\"126\",\"119\",\"180\",\"150\",\"85\",\"180\",\"108\",\"170\",\"95\",\"140\",\"117\",\"97\",\"250\",\"72\",\"165\",\"48\",\"296\",\"252\",\"75\",\"70\",\"140\",\"79\",\"83\",\"75\",\"200\",\"74\",\"115\",\"30\",\"49\",\"45\",\"350\",\"134\",\"110\",\"29\",\"66\",\"158\",\"150\",\"80\",\"90\",\"100\",\"264\",\"180\",\"210\",\"323\",\"263\",\"80\",\"138\",\"50\",\"143\",\"140\",\"120\",\"150\",\"87\",\"160\",\"113\",\"100\",\"69\",\"270\",\"113\",\"126\",\"510\",\"147\",\"85\",\"50\",\"130\",\"60\",\"67\",\"82\",\"80\",\"80\",\"133\",\"155\",\"260\",\"267\",\"94\",\"80\",\"20\",\"130\",\"75\",\"156\",\"75\",\"800\",\"32\",\"80\",\"160\",\"74\",\"80\",\"105\",\"90\",\"93\",\"63\",\"110\",\"605\",\"373\",\"285\",\"115\",\"70\",\"141\",\"70\",\"104\",\"240\",\"77\",\"135\",\"56\",\"30\",\"95\",\"62\",\"52\",\"56\",\"103\",\"142\",\"131\",\"75\",\"115\",\"124\",\"94\",\"462\",\"170\",\"126\",\"144\",\"282\",\"120\",\"80\",\"308\",\"34\",\"98\",\"120\",\"280\",\"0\",\"150\",\"81\",\"70\",\"107\",\"65\",\"150\",\"150\",\"88\",\"360\",\"225\",\"147\",\"259\",\"140\",\"296\",\"127\",\"70\",\"83\",\"65\",\"370\",\"150\",\"110\",\"84\",\"130\",\"253\",\"452\",\"116\",\"54\",\"120\",\"176\",\"78\",\"185\",\"0\",\"110\",\"108\",\"33\",\"126\",\"116\",\"240\",\"60\",\"68\",\"195\",\"55\",\"127\",\"250\",\"73\",\"62\",\"380\",\"124\",\"1460\",\"28\",\"70\",\"63\",\"95\",\"91\",\"180\",\"35\",\"100\",\"68\",\"735\",\"66\",\"50\",\"78\",\"303\",\"105\",\"82\",\"115\",\"124\",\"41\",\"98\",\"140\",\"125\",\"21\",\"85\",\"70\",\"450\",\"284\",\"96\",\"192\",\"190\",\"129\",\"55\",\"104\",\"400\",\"73\",\"360\",\"100\",\"116\",\"195\",\"200\",\"138\",\"60\",\"108\",\"0\",\"100\",\"185\",\"128\",\"95\",\"56\",\"204\",\"72\",\"70\",\"103\",\"118\",\"80\",\"193\",\"132\",\"72\",\"100\",\"67\",\"32\",\"67\",\"360\",\"100\",\"108\",\"60\",\"160\",\"25\",\"68\",\"90\",\"31\",\"73\",\"75\",\"128\",\"61\",\"64\",\"190\",\"44\",\"55\",\"48\",\"150\",\"135\",\"130\",\"28\",\"72\",\"70\",\"90\",\"150\",\"40\",\"600\",\"220\",\"53\",\"271\",\"261\",\"80\",\"80\",\"62\",\"111\",\"89\",\"72\",\"88\",\"140\",\"80\",\"66\",\"102\",\"161\",\"242\",\"110\",\"126\",\"96\",\"300\",\"216\",\"85\",\"160\",\"68\",\"50\",\"39\",\"46\",\"90\",\"130\",\"99\",\"95\",\"0\",\"112\",\"46\",\"130\",\"80\",\"55\",\"102\",\"24\",\"507\",\"53\",\"183\",\"71\",\"100\",\"739\",\"20\",\"200\",\"67\",\"114\",\"146\",\"209\",\"180\",\"145\",\"81\",\"140\",\"120\",\"254\",\"130\",\"250\",\"80\",\"100\",\"150\",\"161\",\"85\",\"50\",\"143\",\"39\",\"146\",\"86\",\"400\",\"129\",\"333\",\"150\",\"85\",\"135\",\"50\",\"60\",\"126\",\"100\",\"190\",\"106\",\"48\",\"120\",\"200\",\"160\",\"88\",\"360\",\"50\",\"80\",\"95\",\"150\",\"80\",\"180\",\"300\",\"140\",\"80\",\"140\",\"150\",\"94\",\"110\",\"158\",\"100\",\"53\",\"64\",\"364\",\"51\",\"90\",\"76\",\"293\",\"56\",\"168\",\"42\",\"88\",\"160\",\"70\",\"112\",\"120\",\"130\",\"81\",\"134\",\"112\",\"83\",\"100\",\"90\",\"210\",\"119\",\"295\",\"78\",\"165\",\"62\",\"118\",\"98\",\"53\",\"78\",\"80\",\"180\",\"62\",\"206\",\"112\",\"75\",\"77\",\"78\",\"28\",\"160\",\"492\",\"120\",\"82\",\"134\",\"252\",\"360\",\"140\",\"29\",\"17\",\"70\",\"63\",\"105\",\"60\",\"60\",\"174\",\"89\",\"40\",\"151\",\"72\",\"81\",\"78\",\"150\",\"182\",\"127\",\"130\",\"80\",\"63\",\"68\",\"56\",\"131\",\"80\",\"52\",\"95\",\"146\",\"146\",\"146\",\"126\",\"877\",\"106\",\"33\",\"97\",\"380\",\"158\",\"69\",\"97\",\"69\",\"83\",\"298\",\"141\",\"81\",\"202\",\"500\",\"59\",\"220\",\"174\",\"174\",\"85\",\"46\",\"70\",\"72\",\"69\",\"115\",\"220\",\"300\",\"90\",\"250\",\"160\",\"91\",\"71\",\"51\",\"130\",\"98\",\"90\",\"106\",\"20\",\"78\",\"53\",\"79\",\"105\",\"110\",\"64\",\"200\",\"78\",\"220\",\"85\",\"141\",\"220\",\"78\",\"90\",\"200\",\"168\",\"230\",\"127\",\"80\",\"170\",\"86\",\"133\",\"160\",\"300\",\"130\",\"128\",\"109\",\"41\",\"66\",\"240\",\"81\",\"47\",\"80\",\"90\",\"88\",\"130\",\"122\",\"68\",\"87\",\"150\",\"65\",\"67\",\"82\",\"55\",\"140\",\"100\",\"125\",\"51\",\"118\",\"95\",\"60\",\"180\",\"170\",\"75\",\"192\",\"242\",\"78\",\"69\",\"192\",\"48\",\"190\",\"123\",\"92\",\"135\",\"198\",\"70\",\"81\",\"166\",\"133\",\"136\",\"120\",\"51\",\"122\",\"117\",\"90\",\"360\",\"240\",\"81\",\"70\",\"188\",\"120\",\"134\",\"75\",\"50\",\"62\",\"85\",\"138\",\"182\",\"1200\",\"500\",\"50\",\"100\",\"95\",\"91\",\"105\",\"43\",\"100\",\"64\",\"25\",\"67\",\"155\",\"360\",\"208\",\"53\",\"128\",\"120\",\"125\",\"30\",\"196\",\"67\",\"36\",\"116\",\"124\",\"110\",\"373\",\"172\",\"283\",\"27\",\"110\",\"15\",\"140\",\"90\",\"155\",\"60\",\"170\",\"61\",\"61\",\"129\",\"63\",\"95\",\"1100\",\"142\",\"189\",\"140\",\"57\",\"57\",\"116\",\"70\",\"70\",\"142\",\"126\",\"157\",\"60\",\"138\",\"399\",\"149\",\"230\",\"55\",\"80\",\"113\",\"127\",\"116\",\"62\",\"48\",\"110\",\"104\",\"72\",\"96\",\"90\",\"49\",\"120\",\"80\",\"35\",\"44\",\"50\",\"234\",\"69\",\"95\",\"200\",\"98\",\"87\",\"160\",\"91\",\"130\",\"150\",\"251\",\"122\",\"50\",\"196\",\"295\",\"53\",\"68\",\"53\",\"157\",\"84\",\"75\",\"110\",\"24\",\"54\",\"65\",\"269\",\"70\",\"116\",\"56\",\"79\",\"84\",\"200\",\"102\",\"66\",\"154\",\"39\",\"66\",\"178\",\"129\",\"81\",\"87\",\"200\",\"200\",\"45\",\"168\",\"67\",\"113\",\"75\",\"70\",\"90\",\"138\",\"62\",\"176\",\"67\",\"123\",\"290\",\"142\",\"30\",\"49\",\"300\",\"57\",\"357\",\"65\",\"105\",\"92\",\"168\",\"100\",\"56\",\"158\",\"43\",\"62\",\"59\",\"94\",\"42\",\"103\",\"41\",\"164\",\"120\",\"50\",\"170\",\"61\",\"66\",\"66\",\"230\",\"82\",\"70\",\"180\",\"257\",\"50\",\"106\",\"155\",\"195\",\"85\",\"52\",\"145\",\"104\",\"220\",\"94\",\"150\",\"68\",\"198\",\"190\",\"218\",\"118\",\"70\",\"217\",\"180\",\"70\",\"220\",\"168\",\"78\",\"125\",\"123\",\"54\",\"210\",\"120\",\"84\",\"140\",\"206\",\"180\",\"173\",\"44\",\"95\",\"51\",\"103\",\"83\",\"95\",\"53\",\"400\",\"155\",\"130\",\"107\",\"86\",\"134\",\"75\",\"75\",\"125\",\"5447\",\"600\",\"105\",\"140\",\"182\",\"25\",\"73\",\"61\",\"300\",\"85\",\"24\",\"75\",\"83\",\"78\",\"145\",\"32\",\"155\",\"133\",\"90\",\"96\",\"56\",\"144\",\"317\",\"133\",\"100\",\"85\",\"101\",\"90\",\"70\",\"314\",\"210\",\"62\",\"79\",\"86\",\"110\",\"60\",\"95\",\"127\",\"160\",\"233\",\"110\",\"100\",\"90\",\"186\",\"82\",\"75\",\"220\",\"100\",\"80\",\"100\",\"162\",\"61\",\"48\",\"133\",\"115\",\"139\",\"150\",\"60\",\"240\",\"155\",\"40\",\"105\",\"90\",\"150\",\"35\",\"80\",\"300\",\"750\",\"90\",\"71\",\"58\",\"58\",\"146\",\"150\",\"28\",\"156\",\"50\",\"56\",\"208\",\"133\",\"55\",\"23\",\"140\",\"1000\",\"75\",\"44\",\"69\",\"441\",\"139\",\"132\",\"88\",\"83\",\"74\",\"45\",\"78\",\"65\",\"70\",\"162\",\"42\",\"260\",\"720\",\"58\",\"201\",\"93\",\"118\",\"43\",\"82\",\"190\",\"60\",\"65\",\"80\",\"128\",\"85\",\"85\",\"89\",\"98\",\"390\",\"290\",\"135\",\"42\",\"68\",\"26\",\"188\",\"115\",\"97\",\"162\",\"200\",\"222\",\"161\",\"77\",\"360\",\"107\",\"90\",\"38\",\"87\",\"140\",\"62\",\"171\",\"85\",\"106\",\"107\",\"30\",\"63\",\"66\",\"130\",\"90\",\"52\",\"80\",\"84\",\"229\",\"90\",\"28\",\"140\",\"60\",\"86\",\"93\",\"144\",\"90\",\"290\",\"45\",\"75\",\"95\",\"98\",\"103\",\"53\",\"110\",\"196\",\"396\",\"125\",\"22\",\"71\",\"99\",\"75\",\"122\",\"100\",\"353\",\"84\",\"62\",\"160\",\"130\",\"160\",\"85\",\"80\",\"75\",\"60\",\"95\",\"84\",\"84\",\"263\",\"60\",\"140\",\"55\",\"136\",\"180\",\"140\",\"95\",\"140\",\"140\",\"140\",\"140\",\"140\",\"30\",\"87\",\"180\",\"111\",\"69\",\"49\",\"104\",\"60\",\"86\",\"70\",\"57\",\"150\",\"150\",\"182\",\"118\",\"130\",\"33\",\"160\",\"290\",\"92\",\"127\",\"70\",\"94\",\"55\",\"84\",\"115\",\"89\",\"82\",\"144\",\"120\",\"65\",\"133\",\"45\",\"25\",\"24\",\"90\",\"70\",\"70\",\"98\",\"299\",\"230\",\"279\",\"155\",\"98\",\"47\",\"205\",\"91\",\"120\",\"71\",\"122\",\"56\",\"140\",\"87\",\"39\",\"130\",\"164\",\"462\",\"139\",\"240\",\"72\",\"90\",\"28\",\"79\",\"27\",\"90\",\"28\",\"152\",\"64\",\"110\",\"120\",\"275\",\"88\",\"117\",\"162\",\"160\",\"45\",\"155\",\"104\",\"125\",\"83\",\"118\",\"120\",\"300\",\"240\",\"140\",\"55\",\"120\",\"125\",\"67\",\"14\",\"227\",\"290\",\"53\",\"378\",\"400\",\"84\",\"81\",\"219\",\"64\",\"243\",\"118\",\"340\",\"272\",\"140\",\"70\",\"86\",\"110\",\"125\",\"427\",\"60\",\"75\",\"50\",\"85\",\"120\",\"93\",\"354\",\"204\",\"187\",\"200\",\"63\",\"104\",\"65\",\"165\",\"320\",\"122\",\"85\",\"104\",\"200\",\"54\",\"100\",\"214\",\"66\",\"106\",\"184\",\"60\",\"142\",\"61\",\"92\",\"355\",\"83\",\"91\",\"115\",\"122\",\"98\",\"100\",\"147\",\"210\",\"90\",\"192\",\"522\",\"90\",\"59\",\"120\",\"115\",\"70\",\"170\",\"64\",\"381\",\"51\",\"60\",\"70\",\"69\",\"88\",\"210\",\"160\",\"140\",\"145\",\"90\",\"56\",\"48\",\"108\",\"223\",\"45\",\"409\",\"55\",\"180\",\"140\",\"333\",\"130\",\"32\",\"70\",\"70\",\"244\",\"145\",\"65\",\"50\",\"84\",\"39\",\"50\",\"214\",\"143\",\"66\",\"90\",\"130\",\"80\",\"72\",\"121\",\"200\",\"95\",\"200\",\"155\",\"70\",\"30\",\"93\",\"65\",\"170\",\"106\",\"162\",\"203\",\"100\",\"240\",\"40\",\"176\",\"31\",\"80\",\"136\",\"130\",\"357\",\"100\",\"67\",\"76\",\"158\",\"83\",\"360\",\"68\",\"95\",\"220\",\"149\",\"140\",\"178\",\"76\",\"140\",\"74\",\"91\",\"75\",\"85\",\"200\",\"120\",\"56\",\"107\",\"130\",\"155\",\"44\",\"220\",\"99\",\"70\",\"89\",\"65\",\"32\",\"84\",\"101\",\"105\",\"110\",\"138\",\"1000\",\"164\",\"62\",\"88\",\"168\",\"270\",\"70\",\"108\",\"33\",\"60\",\"89\",\"42\",\"50\",\"154\",\"145\",\"64\",\"55\",\"31\",\"50\",\"50\",\"300\",\"44\",\"110\",\"90\",\"180\",\"90\",\"500\",\"42\",\"100\",\"300\",\"220\",\"119\",\"51\",\"65\",\"108\",\"41\",\"482\",\"57\",\"166\",\"64\",\"24\",\"54\",\"65\",\"110\",\"51\",\"240\",\"41\",\"70\",\"91\",\"67\",\"164\",\"78\",\"100\",\"170\",\"155\",\"90\",\"40\",\"108\",\"115\",\"100\",\"60\",\"243\",\"239\",\"196\",\"118\",\"210\",\"124\",\"126\",\"90\",\"110\",\"170\",\"140\",\"75\",\"65\",\"87\",\"145\",\"190\",\"164\",\"337\",\"125\",\"70\",\"174\",\"136\",\"44\",\"24\",\"68\",\"220\",\"502\",\"78\",\"166\",\"140\",\"100\",\"205\",\"520\",\"76\",\"62\",\"84\",\"33\",\"102\",\"53\",\"53\",\"110\",\"65\",\"25\",\"105\",\"160\",\"67\",\"100\",\"80\",\"70\",\"43\",\"279\",\"500\",\"75\",\"30\",\"78\",\"74\",\"115\",\"61\",\"164\",\"45\",\"65\",\"122\",\"42\",\"300\",\"65\",\"49\",\"29\",\"30\",\"90\",\"135\",\"45\",\"69\",\"200\",\"180\",\"321\",\"138\",\"24\",\"145\",\"48\",\"120\",\"41\",\"106\",\"26\",\"77\",\"50\",\"180\",\"54\",\"42\",\"82\",\"66\",\"66\",\"70\",\"145\",\"76\",\"147\",\"90\",\"113\",\"625\",\"25\",\"160\",\"100\",\"120\",\"112\",\"148\",\"120\",\"32\",\"144\",\"75\",\"1240\",\"52\",\"190\",\"225\",\"360\",\"69\",\"170\",\"90\",\"130\",\"153\",\"57\",\"100\",\"505\",\"130\",\"170\",\"67\",\"136\",\"65\",\"76\",\"115\",\"80\",\"205\",\"126\",\"55\",\"90\",\"150\",\"85\",\"147\",\"75\",\"321\",\"162\",\"100\",\"87\",\"100\",\"100\",\"65\",\"266\",\"126\",\"66\",\"88\",\"164\",\"264\",\"269\",\"250\",\"130\",\"382\",\"67\",\"82\",\"133\",\"82\",\"80\",\"205\",\"95\",\"320\",\"251\",\"329\",\"63\",\"60\",\"70\",\"80\",\"80\",\"90\",\"70\",\"328\",\"390\",\"244\",\"46\",\"23\",\"208\",\"133\",\"132\",\"110\",\"85\",\"112\",\"90\",\"130\",\"218\",\"180\",\"85\",\"95\",\"120\",\"215\",\"145\",\"220\",\"480\",\"30\",\"160\",\"100\",\"368\",\"144\",\"120\",\"49\",\"77\",\"130\",\"154\",\"72\",\"75\",\"85\",\"52\",\"80\",\"120\",\"514\",\"250\",\"28\",\"300\",\"116\",\"132\",\"160\",\"133\",\"87\",\"244\",\"85\",\"102\",\"155\",\"79\",\"210\",\"82\",\"84\",\"75\",\"34\",\"43\",\"31\",\"166\",\"50\",\"200\",\"300\",\"70\",\"58\",\"56\",\"67\",\"115\",\"103\",\"120\",\"180\",\"215\",\"183\",\"85\",\"176\",\"86\",\"38\",\"68\",\"1830\",\"65\",\"94\",\"184\",\"257\",\"254\",\"164\",\"54\",\"45\",\"93\",\"160\",\"330\",\"148\",\"130\",\"65\",\"220\",\"80\",\"204\",\"76\",\"112\",\"110\",\"50\",\"64\",\"258\",\"152\",\"138\",\"72\",\"83\",\"96\",\"200\",\"133\",\"87\",\"114\",\"59\",\"133\",\"128\",\"346\",\"400\",\"142\",\"300\",\"16153\",\"59\",\"70\",\"80\",\"167\",\"133\",\"150\",\"40\",\"55\",\"91\",\"82\",\"95\",\"620\",\"107\",\"72\",\"54\",\"140\",\"120\",\"125\",\"105\",\"72\",\"134\",\"37\",\"450\",\"125\",\"70\",\"147\",\"472\",\"53\",\"53\",\"53\",\"90\",\"46\",\"20\",\"27\",\"54\",\"350\",\"140\",\"78\",\"183\",\"165\",\"79\",\"128\",\"120\",\"51\",\"58\",\"91\",\"130\",\"108\",\"122\",\"210\",\"70\",\"163\",\"35\",\"140\",\"60\",\"48\",\"85\",\"169\",\"40\",\"91\",\"90\",\"110\",\"40\",\"167\",\"70\",\"65\",\"150\",\"238\",\"143\",\"143\",\"41\",\"27\",\"49\",\"70\",\"91\",\"91\",\"67\",\"150\",\"65\",\"0\",\"113\",\"90\",\"95\",\"77\",\"178\",\"66\",\"324\",\"110\",\"40\",\"45\",\"85\",\"166\",\"358\",\"200\",\"200\",\"95\",\"30\",\"70\",\"85\",\"45\",\"71\",\"81\",\"300\",\"130\",\"167\",\"165\",\"76\",\"84\",\"164\",\"315\",\"73\",\"360\",\"68\",\"140\",\"99\",\"174\",\"113\",\"60\",\"187\",\"60\",\"110\",\"66\",\"135\",\"67\",\"60\",\"85\",\"230\",\"110\",\"75\",\"56\",\"80\",\"236\",\"470\",\"200\",\"60\",\"85\",\"81\",\"95\",\"80\",\"240\",\"75\",\"161\",\"140\",\"71\",\"248\",\"170\",\"60\",\"24\",\"70\",\"152\",\"85\",\"157\",\"164\",\"63\",\"158\",\"110\",\"100\",\"480\",\"50\",\"220\",\"75\",\"30\",\"55\",\"109\",\"138\",\"215\",\"113\",\"130\",\"299\",\"87\",\"45\",\"66\",\"27\",\"102\",\"123\",\"95\",\"161\",\"43\",\"140\",\"64\",\"62\",\"205\",\"60\",\"65\",\"55\",\"70\",\"200\",\"56\",\"74\",\"23\",\"190\",\"100\",\"85\",\"136\",\"67\",\"25\",\"220\",\"167\",\"80\",\"64\",\"231\",\"219\",\"33\",\"60\",\"146\",\"121\",\"140\",\"180\",\"140\",\"105\",\"90\",\"138\",\"160\",\"100\",\"209\",\"163\",\"60\",\"37\",\"160\",\"85\",\"150\",\"250\",\"65\",\"290\",\"250\",\"187\",\"62\",\"121\",\"209\",\"63\",\"113\",\"129\",\"156\",\"110\",\"90\",\"53\",\"318\",\"272\",\"73\",\"105\",\"44\",\"190\",\"60\",\"58\",\"65\",\"26\",\"143\",\"44\",\"73\",\"96\",\"206\",\"128\",\"180\",\"88\",\"79\",\"113\",\"232\",\"245\",\"84\",\"83\",\"144\",\"140\",\"49\",\"160\",\"115\",\"170\",\"86\",\"52\",\"259\",\"82\",\"73\",\"152\",\"88\",\"80\",\"75\",\"50\",\"68\",\"212\",\"632\",\"122\",\"65\",\"67\",\"113\",\"65\",\"580\",\"65\",\"67\",\"85\",\"113\",\"64\",\"155\",\"140\",\"140\",\"140\",\"133\",\"32\",\"80\",\"61\",\"240\",\"140\",\"60\",\"60\",\"54\",\"60\",\"86\",\"90\",\"150\",\"196\",\"54\",\"45\",\"92\",\"73\",\"72\",\"127\",\"30\",\"763\",\"140\",\"212\",\"160\",\"103\",\"54\",\"85\",\"159\",\"126\",\"411\",\"114\",\"225\",\"115\",\"73\",\"83\",\"3000\",\"230\",\"60\",\"349\",\"73\",\"41\",\"195\",\"84\",\"40\",\"95\",\"84\",\"53\",\"73\",\"45\",\"240\",\"91\",\"70\",\"266\",\"70\",\"83\",\"80\",\"50\",\"110\",\"74\",\"74\",\"74\",\"180\",\"161\",\"70\",\"62\",\"46\",\"71\",\"170\",\"35\",\"47\",\"55\",\"50\",\"99\",\"153\",\"133\",\"155\",\"87\",\"76\",\"78\",\"343\",\"280\",\"95\",\"136\",\"200\",\"108\",\"54\",\"65\",\"55\",\"74\",\"54\",\"245\",\"68\",\"74\",\"120\",\"159\",\"121\",\"60\",\"130\",\"72\",\"180\",\"60\",\"60\",\"61\",\"87\",\"83\",\"86\",\"67\",\"160\",\"74\",\"28\",\"117\",\"170\",\"60\",\"60\",\"360\",\"140\",\"1430\",\"79\",\"145\",\"51\",\"73\",\"44\",\"100\",\"81\",\"75\",\"157\",\"156\",\"230\",\"67\",\"81\",\"248\",\"73\",\"70\",\"75\",\"421\",\"71\",\"76\",\"222\",\"116\",\"51\",\"100\",\"56\",\"70\",\"66\",\"131\",\"142\",\"127\",\"60\",\"245\",\"85\",\"53\",\"62\",\"120\",\"47\",\"56\",\"108\",\"115\",\"63\",\"75\",\"96\",\"58\",\"123\",\"67\",\"56\",\"55\",\"77\",\"81\",\"237\",\"100\",\"69\",\"60\",\"130\",\"595\",\"207\",\"143\",\"68\",\"77\",\"174\",\"70\",\"236\",\"129\",\"188\",\"76\",\"54\",\"79\",\"31\",\"290\",\"1110\",\"62\",\"226\",\"85\",\"25\",\"90\",\"336\",\"210\",\"190\",\"300\",\"97\",\"30\",\"78\",\"170\",\"70\",\"91\",\"151\",\"172\",\"170\",\"56\",\"85\",\"100\",\"75\",\"68\",\"75\",\"69\",\"95\",\"100\",\"130\",\"130\",\"425\",\"165\",\"50\",\"56\",\"91\",\"101\",\"55\",\"34\",\"126\",\"150\",\"25\",\"142\",\"250\",\"72\",\"145\",\"63\",\"108\",\"108\",\"155\",\"141\",\"137\",\"46\",\"130\",\"114\",\"124\",\"115\",\"68\",\"174\",\"35\",\"110\",\"110\",\"92\",\"105\",\"120\",\"60\",\"140\",\"162\",\"223\",\"53\",\"57\",\"54\",\"87\",\"1940\",\"44\",\"85\",\"90\",\"200\",\"226\",\"159\",\"18\",\"156\",\"105\",\"53\",\"95\",\"130\",\"35\",\"142\",\"204\",\"401\",\"100\",\"68\",\"55\",\"111\",\"99\",\"67\",\"220\",\"85\",\"62\",\"71\",\"88\",\"30\",\"86\",\"85\",\"190\",\"133\",\"183\",\"42\",\"168\",\"60\",\"78\",\"80\",\"91\",\"110\",\"160\",\"220\",\"30\",\"690\",\"65\",\"160\",\"132\",\"38\",\"53\",\"118\",\"138\",\"114\",\"75\",\"162\",\"180\",\"116\",\"198\",\"87\",\"80\",\"127\",\"320\",\"90\",\"69\",\"85\",\"144\",\"214\",\"100\",\"201\",\"225\",\"60\",\"100\",\"80\",\"20\",\"257\",\"730\",\"45\",\"90\",\"201\",\"146\",\"81\",\"150\",\"216\",\"165\",\"56\",\"90\",\"174\",\"94\",\"171\",\"267\",\"56\",\"85\",\"218\",\"130\",\"170\",\"30\",\"164\",\"81\",\"73\",\"110\",\"59\",\"206\",\"75\",\"65\",\"250\",\"155\",\"169\",\"150\",\"90\",\"150\",\"55\",\"327\",\"84\",\"70\",\"180\",\"242\",\"39\",\"123\",\"130\",\"93\",\"50\",\"90\",\"80\",\"103\",\"60\",\"130\",\"130\",\"150\",\"92\",\"69\",\"140\",\"85\",\"230\",\"125\",\"189\",\"291\",\"100\",\"300\",\"100\",\"90\",\"96\",\"35\",\"130\",\"82\",\"95\",\"48\",\"250\",\"141\",\"109\",\"80\",\"232\",\"158\",\"140\",\"167\",\"70\",\"168\",\"132\",\"120\",\"110\",\"130\",\"273\",\"280\",\"80\",\"154\",\"170\",\"52\",\"135\",\"250\",\"230\",\"65\",\"126\",\"140\",\"60\",\"67\",\"88\",\"115\",\"90\",\"72\",\"119\",\"78\",\"48\",\"169\",\"600\",\"85\",\"152\",\"270\",\"90\",\"131\",\"60\",\"139\",\"354\",\"74\",\"143\",\"350\",\"55\",\"74\",\"90\",\"157\",\"78\",\"150\",\"160\",\"66\",\"57\",\"90\",\"146\",\"164\",\"137\",\"56\",\"102\",\"161\",\"144\",\"119\",\"87\",\"115\",\"53\",\"63\",\"130\",\"115\",\"68\",\"67\",\"115\",\"34\",\"65\",\"57\",\"91\",\"49\",\"80\",\"73\",\"110\",\"184\",\"243\",\"29\",\"1000\",\"68\",\"40\",\"126\",\"73\",\"534\",\"99\",\"161\",\"140\",\"87\",\"110\",\"67\",\"148\",\"68\",\"70\",\"46\",\"135\",\"65\",\"164\",\"172\",\"110\",\"62\",\"486\",\"91\",\"129\",\"59\",\"200\",\"130\",\"245\",\"200\",\"170\",\"46\",\"68\",\"21\",\"250\",\"150\",\"74\",\"90\",\"30\",\"68\",\"123\",\"81\",\"105\",\"650\",\"118\",\"237\",\"45\",\"75\",\"38\",\"410\",\"91\",\"85\",\"360\",\"180\",\"156\",\"25\",\"180\",\"45\",\"64\",\"80\",\"100\",\"184\",\"156\",\"220\",\"80\",\"55\",\"217\",\"101\",\"71\",\"156\",\"90\",\"25\",\"380\",\"125\",\"58\",\"147\",\"156\",\"200\",\"156\",\"322\",\"190\",\"135\",\"156\",\"156\",\"156\",\"156\",\"295\",\"170\",\"450\",\"67\",\"135\",\"213\",\"95\",\"700\",\"127\",\"56\",\"100\",\"171\",\"115\",\"80\",\"69\",\"150\",\"44\",\"69\",\"238\",\"220\",\"206\",\"60\",\"90\",\"55\",\"202\",\"100\",\"85\",\"90\",\"96\",\"210\",\"68\",\"54\",\"127\",\"100\",\"114\",\"240\",\"73\",\"49\",\"228\",\"93\",\"60\",\"110\",\"118\",\"179\",\"131\",\"117\",\"45\",\"92\",\"90\",\"80\",\"80\"]},{\"axis\":{\"matches\":true},\"label\":\"neighborhood\",\"values\":[\"Other\",\" Centro\",\"Other\",\"Other\",\"Other\",\"Other\",\" Centro\",\" Santo Ant\\u00f4nio\",\" Sagrada Fam\\u00edlia\",\" Lourdes\",\"Other\",\"Other\",\" Lourdes\",\" Lourdes\",\"Other\",\"Other\",\"Other\",\"Other\",\"Other\",\"Other\",\"Other\",\"Other\",\"Other\",\"Other\",\"Other\",\"Other\",\" Lourdes\",\" Savassi\",\" Centro\",\"Other\",\"Other\",\"Other\",\"Other\",\" Lourdes\",\"Other\",\"Other\",\" Sagrada Fam\\u00edlia\",\" Centro\",\"Other\",\" Lourdes\",\"Other\",\"Other\",\"Other\",\"Other\",\"Other\",\"Other\",\" Buritis\",\"Other\",\" Serra\",\" Buritis\",\"Other\",\" Santo Agostinho\",\"Other\",\"Other\",\" Funcion\\u00e1rios\",\"Other\",\"Other\",\" Serra\",\" Savassi\",\"Other\",\"Other\",\"Other\",\"Other\",\" Santo Ant\\u00f4nio\",\"Other\",\" Santo Agostinho\",\"Other\",\"Other\",\"Other\",\"Other\",\"Other\",\"Other\",\" Santo Agostinho\",\" Buritis\",\"Other\",\" Santo Agostinho\",\"Other\",\"Other\",\" Santo Agostinho\",\"Other\",\"Other\",\"Other\",\"Other\",\"Other\",\"Other\",\"Other\",\" Funcion\\u00e1rios\",\"Other\",\"Other\",\"Other\",\"Other\",\" Funcion\\u00e1rios\",\"Other\",\"Other\",\"Other\",\"Other\",\"Other\",\"Other\",\" Lourdes\",\"Other\",\" Sion\",\" Lourdes\",\" Savassi\",\" Santo Agostinho\",\"Other\",\" Savassi\",\" Savassi\",\" Centro\",\" Funcion\\u00e1rios\",\"Other\",\"Other\",\"Other\",\" Savassi\",\" Serra\",\"Other\",\"Other\",\"Other\",\"Other\",\"Other\",\" Savassi\",\" Centro\",\"Other\",\" Sion\",\" Serra\",\"Other\",\" Savassi\",\"Other\",\" Sion\",\"Other\",\" Santo Agostinho\",\"Other\",\"Other\",\" Funcion\\u00e1rios\",\"Other\",\"Other\",\"Other\",\" Santo Ant\\u00f4nio\",\"Other\",\"Other\",\" Sagrada Fam\\u00edlia\",\"Other\",\"Other\",\" Savassi\",\" Sion\",\"Other\",\" Buritis\",\" Santo Agostinho\",\" Serra\",\"Other\",\" Serra\",\" Lourdes\",\"Other\",\"Other\",\"Other\",\" Santo Agostinho\",\"Other\",\" Sagrada Fam\\u00edlia\",\"Other\",\" Santo Ant\\u00f4nio\",\" Savassi\",\" Funcion\\u00e1rios\",\"Other\",\"Other\",\"Other\",\"Other\",\"Other\",\" Savassi\",\"Other\",\"Other\",\"Other\",\"Other\",\" Centro\",\"Other\",\" Funcion\\u00e1rios\",\"Other\",\"Other\",\"Other\",\"Other\",\"Other\",\"Other\",\"Other\",\"Other\",\"Other\",\"Other\",\"Other\",\"Other\",\" Lourdes\",\"Other\",\"Other\",\"Other\",\"Other\",\"Other\",\" Serra\",\" Funcion\\u00e1rios\",\" Savassi\",\" Serra\",\"Other\",\"Other\",\" Serra\",\" Savassi\",\"Other\",\"Other\",\"Other\",\" Santo Ant\\u00f4nio\",\" Funcion\\u00e1rios\",\"Other\",\"Other\",\"Other\",\"Other\",\"Other\",\" Santo Ant\\u00f4nio\",\"Other\",\"Other\",\"Other\",\"Other\",\"Other\",\"Other\",\" Funcion\\u00e1rios\",\"Other\",\"Other\",\" Buritis\",\" Centro\",\"Other\",\"Other\",\"Other\",\"Other\",\"Other\",\"Other\",\"Other\",\"Other\",\" Funcion\\u00e1rios\",\" Centro\",\"Other\",\"Other\",\"Other\",\"Other\",\" Santo Ant\\u00f4nio\",\"Other\",\"Other\",\" Buritis\",\"Other\",\"Other\",\"Other\",\" Centro\",\"Other\",\"Other\",\" Funcion\\u00e1rios\",\"Other\",\"Other\",\"Other\",\"Other\",\"Other\",\"Other\",\"Other\",\"Other\",\" Buritis\",\"Other\",\"Other\",\" Lourdes\",\"Other\",\"Other\",\"Other\",\" Lourdes\",\"Other\",\"Other\",\"Other\",\"Other\",\"Other\",\" Sion\",\"Other\",\" Centro\",\"Other\",\"Other\",\" Funcion\\u00e1rios\",\"Other\",\"Other\",\" Sagrada Fam\\u00edlia\",\" Lourdes\",\"Other\",\" Santo Ant\\u00f4nio\",\"Other\",\"Other\",\"Other\",\" Funcion\\u00e1rios\",\" Sion\",\" Lourdes\",\" Santo Agostinho\",\" Funcion\\u00e1rios\",\"Other\",\" Buritis\",\" Sion\",\"Other\",\"Other\",\"Other\",\"Other\",\"Other\",\"Other\",\" Lourdes\",\"Other\",\" Santo Ant\\u00f4nio\",\" Santo Ant\\u00f4nio\",\" Buritis\",\"Other\",\"Other\",\"Other\",\" Buritis\",\"Other\",\"Other\",\" Sion\",\" Santo Ant\\u00f4nio\",\" Centro\",\" Lourdes\",\" Buritis\",\" Centro\",\" Sion\",\"Other\",\" Centro\",\"Other\",\" Buritis\",\"Other\",\"Other\",\" Sion\",\"Other\",\"Other\",\"Other\",\"Other\",\"Other\",\" Sion\",\"Other\",\"Other\",\"Other\",\" Buritis\",\"Other\",\"Other\",\" Buritis\",\"Other\",\" Sagrada Fam\\u00edlia\",\" Santo Ant\\u00f4nio\",\"Other\",\"Other\",\"Other\",\" Centro\",\" Santo Agostinho\",\"Other\",\"Other\",\"Other\",\" Sagrada Fam\\u00edlia\",\" Sion\",\"Other\",\"Other\",\" Santo Agostinho\",\"Other\",\" Savassi\",\"Other\",\"Other\",\"Other\",\" Santo Ant\\u00f4nio\",\"Other\",\"Other\",\" Buritis\",\" Santo Agostinho\",\"Other\",\" Lourdes\",\"Other\",\" Santo Ant\\u00f4nio\",\"Other\",\"Other\",\" Serra\",\"Other\",\"Other\",\"Other\",\"Other\",\" Centro\",\"Other\",\"Other\",\" Buritis\",\" Lourdes\",\" Buritis\",\" Serra\",\"Other\",\"Other\",\"Other\",\" Sion\",\"Other\",\" Centro\",\"Other\",\"Other\",\"Other\",\"Other\",\"Other\",\"Other\",\"Other\",\"Other\",\"Other\",\"Other\",\"Other\",\"Other\",\"Other\",\" Sagrada Fam\\u00edlia\",\" Serra\",\"Other\",\"Other\",\"Other\",\"Other\",\"Other\",\"Other\",\"Other\",\" Centro\",\"Other\",\" Buritis\",\"Other\",\"Other\",\" Savassi\",\"Other\",\"Other\",\"Other\",\"Other\",\"Other\",\"Other\",\" Buritis\",\" Sion\",\"Other\",\"Other\",\" Santo Agostinho\",\"Other\",\"Other\",\" Lourdes\",\"Other\",\"Other\",\" Buritis\",\" Savassi\",\" Lourdes\",\" Lourdes\",\" Lourdes\",\"Other\",\"Other\",\"Other\",\"Other\",\"Other\",\" Funcion\\u00e1rios\",\"Other\",\"Other\",\"Other\",\" Centro\",\"Other\",\" Santo Ant\\u00f4nio\",\" Sion\",\" Centro\",\"Other\",\"Other\",\" Serra\",\"Other\",\"Other\",\"Other\",\"Other\",\"Other\",\" Funcion\\u00e1rios\",\"Other\",\"Other\",\" Serra\",\"Other\",\"Other\",\"Other\",\" Santo Ant\\u00f4nio\",\"Other\",\" Santo Ant\\u00f4nio\",\" Buritis\",\" Santo Agostinho\",\"Other\",\"Other\",\" Centro\",\"Other\",\"Other\",\"Other\",\"Other\",\" Serra\",\"Other\",\" Buritis\",\"Other\",\"Other\",\" Sion\",\"Other\",\"Other\",\"Other\",\"Other\",\" Lourdes\",\"Other\",\"Other\",\"Other\",\" Funcion\\u00e1rios\",\"Other\",\" Buritis\",\" Santo Agostinho\",\"Other\",\"Other\",\"Other\",\" Sagrada Fam\\u00edlia\",\"Other\",\" Buritis\",\"Other\",\" Sagrada Fam\\u00edlia\",\"Other\",\"Other\",\" Santo Ant\\u00f4nio\",\"Other\",\"Other\",\"Other\",\"Other\",\"Other\",\"Other\",\" Centro\",\"Other\",\"Other\",\"Other\",\" Buritis\",\" Sion\",\"Other\",\"Other\",\"Other\",\"Other\",\" Funcion\\u00e1rios\",\"Other\",\"Other\",\"Other\",\"Other\",\"Other\",\"Other\",\" Funcion\\u00e1rios\",\"Other\",\" Buritis\",\"Other\",\" Sion\",\" Santo Ant\\u00f4nio\",\"Other\",\"Other\",\" Sion\",\" Santo Agostinho\",\" Sagrada Fam\\u00edlia\",\"Other\",\"Other\",\"Other\",\" Sion\",\" Serra\",\" Buritis\",\" Buritis\",\"Other\",\" Buritis\",\" Sagrada Fam\\u00edlia\",\"Other\",\"Other\",\"Other\",\"Other\",\"Other\",\"Other\",\"Other\",\"Other\",\"Other\",\"Other\",\" Lourdes\",\" Sagrada Fam\\u00edlia\",\"Other\",\"Other\",\"Other\",\"Other\",\"Other\",\"Other\",\" Santo Ant\\u00f4nio\",\"Other\",\"Other\",\"Other\",\"Other\",\" Lourdes\",\" Centro\",\" Lourdes\",\" Santo Agostinho\",\" Sion\",\"Other\",\"Other\",\" Funcion\\u00e1rios\",\"Other\",\"Other\",\" Sagrada Fam\\u00edlia\",\" Centro\",\"Other\",\" Savassi\",\"Other\",\"Other\",\"Other\",\"Other\",\"Other\",\" Centro\",\" Centro\",\"Other\",\" Lourdes\",\" Santo Ant\\u00f4nio\",\"Other\",\"Other\",\" Buritis\",\" Lourdes\",\" Santo Agostinho\",\" Lourdes\",\"Other\",\"Other\",\"Other\",\"Other\",\"Other\",\" Buritis\",\" Sion\",\" Funcion\\u00e1rios\",\"Other\",\" Buritis\",\"Other\",\" Sion\",\"Other\",\"Other\",\"Other\",\"Other\",\" Lourdes\",\" Santo Ant\\u00f4nio\",\" Savassi\",\"Other\",\"Other\",\"Other\",\" Santo Ant\\u00f4nio\",\"Other\",\"Other\",\"Other\",\"Other\",\"Other\",\"Other\",\"Other\",\" Buritis\",\" Santo Ant\\u00f4nio\",\"Other\",\"Other\",\"Other\",\" Centro\",\"Other\",\"Other\",\" Lourdes\",\" Centro\",\" Funcion\\u00e1rios\",\"Other\",\"Other\",\"Other\",\" Lourdes\",\" Sagrada Fam\\u00edlia\",\" Buritis\",\"Other\",\" Lourdes\",\"Other\",\" Sion\",\"Other\",\"Other\",\" Centro\",\"Other\",\"Other\",\"Other\",\" Lourdes\",\"Other\",\"Other\",\" Sagrada Fam\\u00edlia\",\" Serra\",\"Other\",\" Lourdes\",\"Other\",\" Funcion\\u00e1rios\",\" Funcion\\u00e1rios\",\" Lourdes\",\" Savassi\",\"Other\",\"Other\",\"Other\",\" Sagrada Fam\\u00edlia\",\"Other\",\"Other\",\"Other\",\"Other\",\" Santo Ant\\u00f4nio\",\"Other\",\"Other\",\" Funcion\\u00e1rios\",\" Buritis\",\"Other\",\"Other\",\"Other\",\" Buritis\",\"Other\",\"Other\",\"Other\",\" Centro\",\"Other\",\"Other\",\"Other\",\" Savassi\",\"Other\",\" Savassi\",\" Savassi\",\"Other\",\"Other\",\"Other\",\" Sion\",\"Other\",\"Other\",\" Santo Ant\\u00f4nio\",\" Serra\",\" Buritis\",\"Other\",\"Other\",\" Savassi\",\" Serra\",\" Savassi\",\"Other\",\"Other\",\"Other\",\"Other\",\" Centro\",\"Other\",\" Sagrada Fam\\u00edlia\",\"Other\",\"Other\",\"Other\",\"Other\",\"Other\",\"Other\",\"Other\",\"Other\",\" Buritis\",\"Other\",\"Other\",\" Savassi\",\"Other\",\" Santo Ant\\u00f4nio\",\" Lourdes\",\" Lourdes\",\"Other\",\"Other\",\" Funcion\\u00e1rios\",\"Other\",\"Other\",\" Centro\",\" Savassi\",\" Buritis\",\"Other\",\" Sagrada Fam\\u00edlia\",\"Other\",\"Other\",\"Other\",\"Other\",\" Santo Agostinho\",\" Buritis\",\"Other\",\" Centro\",\" Buritis\",\"Other\",\" Santo Ant\\u00f4nio\",\"Other\",\" Sion\",\"Other\",\" Buritis\",\"Other\",\" Santo Ant\\u00f4nio\",\" Buritis\",\"Other\",\" Buritis\",\"Other\",\" Sion\",\" Santo Agostinho\",\"Other\",\"Other\",\"Other\",\"Other\",\"Other\",\"Other\",\" Buritis\",\"Other\",\"Other\",\"Other\",\"Other\",\"Other\",\"Other\",\"Other\",\"Other\",\" Buritis\",\" Buritis\",\"Other\",\"Other\",\" Funcion\\u00e1rios\",\"Other\",\"Other\",\" Savassi\",\"Other\",\" Funcion\\u00e1rios\",\"Other\",\"Other\",\" Buritis\",\" Buritis\",\"Other\",\" Sagrada Fam\\u00edlia\",\"Other\",\"Other\",\" Funcion\\u00e1rios\",\" Sagrada Fam\\u00edlia\",\"Other\",\"Other\",\" Sion\",\" Sagrada Fam\\u00edlia\",\" Buritis\",\" Buritis\",\" Funcion\\u00e1rios\",\"Other\",\"Other\",\"Other\",\" Lourdes\",\"Other\",\"Other\",\"Other\",\" Buritis\",\"Other\",\"Other\",\" Buritis\",\"Other\",\" Sagrada Fam\\u00edlia\",\"Other\",\" Santo Ant\\u00f4nio\",\" Sagrada Fam\\u00edlia\",\"Other\",\" Serra\",\"Other\",\"Other\",\" Lourdes\",\"Other\",\"Other\",\" Funcion\\u00e1rios\",\" Lourdes\",\"Other\",\"Other\",\"Other\",\" Sion\",\"Other\",\"Other\",\"Other\",\"Other\",\" Funcion\\u00e1rios\",\"Other\",\"Other\",\" Serra\",\"Other\",\" Sagrada Fam\\u00edlia\",\" Santo Agostinho\",\"Other\",\"Other\",\"Other\",\"Other\",\"Other\",\"Other\",\" Buritis\",\" Lourdes\",\"Other\",\" Buritis\",\" Santo Agostinho\",\"Other\",\" Buritis\",\"Other\",\"Other\",\" Buritis\",\"Other\",\" Savassi\",\" Centro\",\"Other\",\" Santo Ant\\u00f4nio\",\"Other\",\"Other\",\" Buritis\",\"Other\",\"Other\",\" Funcion\\u00e1rios\",\"Other\",\"Other\",\"Other\",\"Other\",\" Santo Ant\\u00f4nio\",\" Sion\",\"Other\",\" Lourdes\",\"Other\",\"Other\",\" Sion\",\" Buritis\",\"Other\",\" Lourdes\",\"Other\",\"Other\",\" Centro\",\" Lourdes\",\"Other\",\"Other\",\" Sagrada Fam\\u00edlia\",\" Funcion\\u00e1rios\",\" Lourdes\",\"Other\",\"Other\",\"Other\",\" Savassi\",\"Other\",\"Other\",\"Other\",\"Other\",\" Lourdes\",\"Other\",\" Buritis\",\"Other\",\"Other\",\"Other\",\"Other\",\"Other\",\"Other\",\"Other\",\" Buritis\",\"Other\",\" Lourdes\",\"Other\",\" Sion\",\" Lourdes\",\"Other\",\"Other\",\"Other\",\"Other\",\" Sion\",\"Other\",\"Other\",\"Other\",\"Other\",\" Buritis\",\"Other\",\" Santo Agostinho\",\"Other\",\"Other\",\" Buritis\",\" Funcion\\u00e1rios\",\"Other\",\"Other\",\"Other\",\"Other\",\"Other\",\"Other\",\"Other\",\" Buritis\",\"Other\",\"Other\",\"Other\",\" Savassi\",\"Other\",\" Funcion\\u00e1rios\",\"Other\",\" Buritis\",\" Centro\",\" Lourdes\",\"Other\",\" Buritis\",\" Santo Ant\\u00f4nio\",\"Other\",\" Sagrada Fam\\u00edlia\",\"Other\",\"Other\",\" Centro\",\"Other\",\"Other\",\" Serra\",\"Other\",\"Other\",\"Other\",\"Other\",\"Other\",\" Santo Agostinho\",\"Other\",\"Other\",\"Other\",\" Sagrada Fam\\u00edlia\",\"Other\",\"Other\",\"Other\",\"Other\",\"Other\",\"Other\",\" Centro\",\"Other\",\"Other\",\"Other\",\"Other\",\" Sion\",\"Other\",\"Other\",\"Other\",\"Other\",\"Other\",\" Serra\",\" Sion\",\" Serra\",\"Other\",\" Centro\",\" Funcion\\u00e1rios\",\"Other\",\"Other\",\" Lourdes\",\"Other\",\"Other\",\" Serra\",\"Other\",\"Other\",\" Lourdes\",\"Other\",\" Santo Agostinho\",\"Other\",\"Other\",\"Other\",\"Other\",\"Other\",\" Buritis\",\" Sion\",\" Centro\",\"Other\",\"Other\",\"Other\",\" Buritis\",\"Other\",\"Other\",\" Sion\",\"Other\",\" Sion\",\"Other\",\"Other\",\"Other\",\" Centro\",\"Other\",\"Other\",\"Other\",\"Other\",\"Other\",\" Funcion\\u00e1rios\",\" Santo Ant\\u00f4nio\",\"Other\",\"Other\",\"Other\",\" Serra\",\"Other\",\"Other\",\"Other\",\"Other\",\"Other\",\"Other\",\" Sagrada Fam\\u00edlia\",\"Other\",\"Other\",\" Santo Agostinho\",\"Other\",\"Other\",\" Buritis\",\" Lourdes\",\"Other\",\" Savassi\",\"Other\",\" Lourdes\",\" Buritis\",\"Other\",\"Other\",\" Sagrada Fam\\u00edlia\",\"Other\",\" Buritis\",\"Other\",\"Other\",\" Santo Ant\\u00f4nio\",\"Other\",\"Other\",\" Sagrada Fam\\u00edlia\",\"Other\",\" Lourdes\",\" Buritis\",\" Sagrada Fam\\u00edlia\",\" Serra\",\"Other\",\"Other\",\"Other\",\"Other\",\"Other\",\" Santo Ant\\u00f4nio\",\"Other\",\" Sagrada Fam\\u00edlia\",\"Other\",\"Other\",\"Other\",\"Other\",\"Other\",\"Other\",\" Buritis\",\"Other\",\"Other\",\" Serra\",\"Other\",\"Other\",\"Other\",\"Other\",\" Buritis\",\"Other\",\" Lourdes\",\"Other\",\"Other\",\"Other\",\"Other\",\"Other\",\" Buritis\",\" Santo Agostinho\",\" Buritis\",\" Lourdes\",\" Centro\",\" Buritis\",\"Other\",\"Other\",\"Other\",\"Other\",\" Buritis\",\"Other\",\" Lourdes\",\"Other\",\"Other\",\" Buritis\",\" Buritis\",\"Other\",\" Buritis\",\"Other\",\"Other\",\"Other\",\" Santo Ant\\u00f4nio\",\" Sion\",\" Buritis\",\"Other\",\"Other\",\"Other\",\" Funcion\\u00e1rios\",\"Other\",\"Other\",\"Other\",\"Other\",\"Other\",\" Buritis\",\" Sagrada Fam\\u00edlia\",\" Santo Agostinho\",\"Other\",\" Lourdes\",\"Other\",\" Centro\",\"Other\",\" Savassi\",\" Buritis\",\"Other\",\" Serra\",\" Lourdes\",\" Buritis\",\"Other\",\"Other\",\"Other\",\" Savassi\",\"Other\",\"Other\",\" Sagrada Fam\\u00edlia\",\"Other\",\"Other\",\"Other\",\" Funcion\\u00e1rios\",\"Other\",\" Buritis\",\" Centro\",\"Other\",\" Sagrada Fam\\u00edlia\",\"Other\",\" Buritis\",\"Other\",\"Other\",\" Buritis\",\"Other\",\" Funcion\\u00e1rios\",\"Other\",\"Other\",\"Other\",\" Centro\",\"Other\",\" Lourdes\",\"Other\",\"Other\",\"Other\",\"Other\",\"Other\",\"Other\",\"Other\",\" Sion\",\"Other\",\" Buritis\",\"Other\",\"Other\",\"Other\",\"Other\",\"Other\",\"Other\",\" Lourdes\",\" Buritis\",\"Other\",\"Other\",\"Other\",\"Other\",\"Other\",\"Other\",\"Other\",\"Other\",\" Funcion\\u00e1rios\",\"Other\",\"Other\",\"Other\",\" Buritis\",\" Buritis\",\"Other\",\" Buritis\",\"Other\",\" Santo Ant\\u00f4nio\",\"Other\",\"Other\",\"Other\",\"Other\",\"Other\",\" Lourdes\",\"Other\",\"Other\",\" Savassi\",\"Other\",\" Buritis\",\" Buritis\",\"Other\",\"Other\",\"Other\",\" Savassi\",\" Centro\",\" Sion\",\"Other\",\"Other\",\" Buritis\",\"Other\",\"Other\",\"Other\",\" Santo Agostinho\",\"Other\",\" Lourdes\",\" Centro\",\" Santo Agostinho\",\"Other\",\"Other\",\"Other\",\"Other\",\" Buritis\",\" Buritis\",\"Other\",\"Other\",\"Other\",\"Other\",\" Santo Agostinho\",\" Santo Ant\\u00f4nio\",\" Centro\",\"Other\",\"Other\",\" Sion\",\" Serra\",\" Buritis\",\"Other\",\" Santo Ant\\u00f4nio\",\" Savassi\",\" Santo Agostinho\",\"Other\",\"Other\",\"Other\",\"Other\",\" Lourdes\",\"Other\",\"Other\",\"Other\",\"Other\",\"Other\",\" Santo Ant\\u00f4nio\",\"Other\",\" Buritis\",\"Other\",\" Sagrada Fam\\u00edlia\",\"Other\",\" Funcion\\u00e1rios\",\"Other\",\"Other\",\"Other\",\" Buritis\",\"Other\",\"Other\",\"Other\",\"Other\",\"Other\",\"Other\",\" Buritis\",\" Sion\",\"Other\",\"Other\",\"Other\",\"Other\",\" Buritis\",\"Other\",\"Other\",\"Other\",\" Buritis\",\" Buritis\",\" Lourdes\",\"Other\",\"Other\",\"Other\",\"Other\",\"Other\",\"Other\",\"Other\",\"Other\",\"Other\",\"Other\",\"Other\",\" Santo Ant\\u00f4nio\",\" Buritis\",\" Buritis\",\" Lourdes\",\" Savassi\",\" Santo Ant\\u00f4nio\",\"Other\",\" Buritis\",\"Other\",\" Santo Agostinho\",\" Buritis\",\" Savassi\",\"Other\",\"Other\",\"Other\",\" Buritis\",\"Other\",\"Other\",\"Other\",\"Other\",\" Santo Agostinho\",\"Other\",\"Other\",\" Lourdes\",\"Other\",\" Savassi\",\" Lourdes\",\"Other\",\" Santo Ant\\u00f4nio\",\"Other\",\"Other\",\"Other\",\"Other\",\"Other\",\"Other\",\"Other\",\"Other\",\" Buritis\",\"Other\",\"Other\",\" Sion\",\" Santo Agostinho\",\"Other\",\"Other\",\"Other\",\"Other\",\" Santo Ant\\u00f4nio\",\"Other\",\" Lourdes\",\"Other\",\" Centro\",\" Buritis\",\"Other\",\"Other\",\" Savassi\",\"Other\",\" Serra\",\"Other\",\"Other\",\"Other\",\" Sagrada Fam\\u00edlia\",\" Lourdes\",\" Santo Ant\\u00f4nio\",\"Other\",\"Other\",\" Sion\",\"Other\",\"Other\",\"Other\",\"Other\",\"Other\",\" Funcion\\u00e1rios\",\" Sion\",\" Funcion\\u00e1rios\",\" Serra\",\" Sion\",\" Santo Ant\\u00f4nio\",\" Santo Agostinho\",\"Other\",\" Santo Ant\\u00f4nio\",\"Other\",\" Santo Ant\\u00f4nio\",\" Buritis\",\"Other\",\"Other\",\" Sagrada Fam\\u00edlia\",\" Sion\",\"Other\",\"Other\",\"Other\",\" Santo Ant\\u00f4nio\",\" Santo Agostinho\",\"Other\",\" Savassi\",\"Other\",\" Serra\",\"Other\",\"Other\",\" Savassi\",\" Santo Agostinho\",\"Other\",\" Buritis\",\"Other\",\" Santo Ant\\u00f4nio\",\"Other\",\" Serra\",\" Centro\",\"Other\",\"Other\",\"Other\",\"Other\",\" Buritis\",\" Sagrada Fam\\u00edlia\",\" Santo Ant\\u00f4nio\",\" Serra\",\"Other\",\" Centro\",\" Buritis\",\" Lourdes\",\"Other\",\"Other\",\"Other\",\"Other\",\" Buritis\",\"Other\",\"Other\",\" Santo Ant\\u00f4nio\",\"Other\",\" Buritis\",\"Other\",\"Other\",\"Other\",\" Funcion\\u00e1rios\",\"Other\",\"Other\",\"Other\",\"Other\",\"Other\",\"Other\",\" Lourdes\",\"Other\",\"Other\",\"Other\",\"Other\",\" Sagrada Fam\\u00edlia\",\" Funcion\\u00e1rios\",\"Other\",\"Other\",\" Lourdes\",\"Other\",\"Other\",\"Other\",\"Other\",\"Other\",\"Other\",\"Other\",\" Savassi\",\" Lourdes\",\"Other\",\"Other\",\"Other\",\" Lourdes\",\"Other\",\" Funcion\\u00e1rios\",\"Other\",\" Funcion\\u00e1rios\",\"Other\",\"Other\",\" Funcion\\u00e1rios\",\" Santo Agostinho\",\"Other\",\"Other\",\"Other\",\"Other\",\"Other\",\"Other\",\"Other\",\"Other\",\"Other\",\"Other\",\"Other\",\"Other\",\"Other\",\"Other\",\"Other\",\"Other\",\" Savassi\",\" Sion\",\" Savassi\",\"Other\",\"Other\",\"Other\",\" Sagrada Fam\\u00edlia\",\"Other\",\"Other\",\" Savassi\",\"Other\",\" Sagrada Fam\\u00edlia\",\" Funcion\\u00e1rios\",\" Sion\",\"Other\",\"Other\",\"Other\",\"Other\",\"Other\",\" Funcion\\u00e1rios\",\" Savassi\",\"Other\",\" Lourdes\",\"Other\",\" Buritis\",\" Lourdes\",\" Santo Agostinho\",\" Sagrada Fam\\u00edlia\",\"Other\",\"Other\",\" Funcion\\u00e1rios\",\" Buritis\",\" Savassi\",\" Buritis\",\"Other\",\"Other\",\" Santo Ant\\u00f4nio\",\"Other\",\"Other\",\"Other\",\"Other\",\"Other\",\"Other\",\"Other\",\"Other\",\"Other\",\" Sion\",\" Funcion\\u00e1rios\",\" Centro\",\" Buritis\",\"Other\",\"Other\",\"Other\",\"Other\",\"Other\",\"Other\",\"Other\",\"Other\",\" Buritis\",\" Sion\",\" Lourdes\",\"Other\",\"Other\",\" Sagrada Fam\\u00edlia\",\"Other\",\" Buritis\",\"Other\",\" Buritis\",\"Other\",\"Other\",\"Other\",\"Other\",\"Other\",\" Savassi\",\"Other\",\" Sagrada Fam\\u00edlia\",\"Other\",\"Other\",\" Sagrada Fam\\u00edlia\",\" Buritis\",\" Buritis\",\" Funcion\\u00e1rios\",\" Sagrada Fam\\u00edlia\",\" Buritis\",\" Santo Ant\\u00f4nio\",\" Serra\",\"Other\",\"Other\",\"Other\",\"Other\",\"Other\",\"Other\",\" Funcion\\u00e1rios\",\" Lourdes\",\"Other\",\"Other\",\"Other\",\"Other\",\"Other\",\"Other\",\"Other\",\"Other\",\"Other\",\"Other\",\"Other\",\" Santo Ant\\u00f4nio\",\"Other\",\"Other\",\" Santo Ant\\u00f4nio\",\" Serra\",\" Sion\",\"Other\",\"Other\",\"Other\",\"Other\",\"Other\",\"Other\",\" Sion\",\"Other\",\"Other\",\" Sion\",\"Other\",\" Serra\",\"Other\",\"Other\",\" Savassi\",\"Other\",\" Buritis\",\"Other\",\"Other\",\"Other\",\" Lourdes\",\"Other\",\" Lourdes\",\" Santo Agostinho\",\"Other\",\" Santo Ant\\u00f4nio\",\" Santo Ant\\u00f4nio\",\" Buritis\",\" Lourdes\",\" Funcion\\u00e1rios\",\" Santo Agostinho\",\"Other\",\"Other\",\"Other\",\" Centro\",\" Lourdes\",\" Lourdes\",\"Other\",\" Sagrada Fam\\u00edlia\",\" Santo Agostinho\",\" Lourdes\",\" Lourdes\",\"Other\",\" Santo Ant\\u00f4nio\",\" Sion\",\"Other\",\" Lourdes\",\"Other\",\" Lourdes\",\"Other\",\" Santo Ant\\u00f4nio\",\" Lourdes\",\"Other\",\"Other\",\" Santo Agostinho\",\" Sagrada Fam\\u00edlia\",\"Other\",\" Buritis\",\"Other\",\"Other\",\" Funcion\\u00e1rios\",\"Other\",\"Other\",\"Other\",\"Other\",\" Santo Ant\\u00f4nio\",\" Lourdes\",\" Serra\",\" Savassi\",\" Savassi\",\"Other\",\" Funcion\\u00e1rios\",\"Other\",\"Other\",\"Other\",\"Other\",\" Lourdes\",\"Other\",\"Other\",\"Other\",\"Other\",\"Other\",\" Sion\",\"Other\",\" Lourdes\",\" Serra\",\"Other\",\" Sion\",\"Other\",\"Other\",\"Other\",\" Lourdes\",\" Buritis\",\" Buritis\",\" Savassi\",\"Other\",\" Savassi\",\"Other\",\" Centro\",\" Santo Agostinho\",\" Centro\",\"Other\",\" Centro\",\"Other\",\"Other\",\"Other\",\"Other\",\"Other\",\" Buritis\",\" Sagrada Fam\\u00edlia\",\"Other\",\"Other\",\" Serra\",\"Other\",\"Other\",\" Savassi\",\"Other\",\"Other\",\"Other\",\" Funcion\\u00e1rios\",\" Santo Agostinho\",\"Other\",\" Funcion\\u00e1rios\",\" Lourdes\",\"Other\",\" Sagrada Fam\\u00edlia\",\" Santo Agostinho\",\" Savassi\",\" Sion\",\"Other\",\" Lourdes\",\" Funcion\\u00e1rios\",\" Centro\",\"Other\",\"Other\",\" Sion\",\" Buritis\",\"Other\",\"Other\",\"Other\",\" Funcion\\u00e1rios\",\" Buritis\",\" Buritis\",\" Santo Ant\\u00f4nio\",\"Other\",\"Other\",\"Other\",\"Other\",\"Other\",\" Centro\",\"Other\",\"Other\",\" Lourdes\",\"Other\",\"Other\",\" Sion\",\"Other\",\" Centro\",\" Centro\",\"Other\",\" Buritis\",\"Other\",\"Other\",\"Other\",\"Other\",\"Other\",\"Other\",\" Buritis\",\" Buritis\",\" Savassi\",\"Other\",\" Buritis\",\" Centro\",\"Other\",\" Funcion\\u00e1rios\",\" Santo Ant\\u00f4nio\",\"Other\",\"Other\",\"Other\",\"Other\",\" Buritis\",\"Other\",\" Santo Ant\\u00f4nio\",\"Other\",\"Other\",\" Lourdes\",\"Other\",\" Santo Agostinho\",\"Other\",\" Centro\",\"Other\",\" Santo Ant\\u00f4nio\",\"Other\",\" Serra\",\"Other\",\"Other\",\"Other\",\" Serra\",\" Savassi\",\"Other\",\"Other\",\"Other\",\" Savassi\",\"Other\",\"Other\",\" Sagrada Fam\\u00edlia\",\" Centro\",\" Buritis\",\" Santo Ant\\u00f4nio\",\"Other\",\" Centro\",\" Lourdes\",\" Santo Ant\\u00f4nio\",\" Santo Agostinho\",\"Other\",\"Other\",\" Sagrada Fam\\u00edlia\",\" Buritis\",\" Buritis\",\"Other\",\" Lourdes\",\"Other\",\"Other\",\" Santo Agostinho\",\" Lourdes\",\" Sagrada Fam\\u00edlia\",\" Lourdes\",\" Savassi\",\"Other\",\"Other\",\"Other\",\"Other\",\" Lourdes\",\"Other\",\"Other\",\" Serra\",\" Santo Ant\\u00f4nio\",\"Other\",\"Other\",\" Buritis\",\" Buritis\",\" Santo Agostinho\",\"Other\",\" Savassi\",\"Other\",\" Funcion\\u00e1rios\",\"Other\",\"Other\",\"Other\",\"Other\",\"Other\",\" Buritis\",\"Other\",\"Other\",\"Other\",\" Santo Ant\\u00f4nio\",\"Other\",\"Other\",\"Other\",\"Other\",\" Lourdes\",\"Other\",\"Other\",\" Santo Ant\\u00f4nio\",\"Other\",\"Other\",\"Other\",\"Other\",\"Other\",\"Other\",\" Lourdes\",\"Other\",\"Other\",\"Other\",\"Other\",\"Other\",\"Other\",\"Other\",\" Funcion\\u00e1rios\",\"Other\",\"Other\",\"Other\",\" Sagrada Fam\\u00edlia\",\" Santo Agostinho\",\" Serra\",\"Other\",\" Lourdes\",\" Lourdes\",\"Other\",\"Other\",\"Other\",\" Buritis\",\"Other\",\" Funcion\\u00e1rios\",\"Other\",\"Other\",\"Other\",\" Lourdes\",\" Buritis\",\"Other\",\" Santo Agostinho\",\" Savassi\",\"Other\",\"Other\",\"Other\",\" Centro\",\"Other\",\"Other\",\"Other\",\"Other\",\" Santo Ant\\u00f4nio\",\"Other\",\" Buritis\",\"Other\",\" Lourdes\",\"Other\",\" Lourdes\",\"Other\",\" Buritis\",\" Lourdes\",\"Other\",\" Sion\",\"Other\",\"Other\",\"Other\",\" Lourdes\",\"Other\",\"Other\",\"Other\",\"Other\",\" Sion\",\" Lourdes\",\"Other\",\" Sagrada Fam\\u00edlia\",\"Other\",\" Santo Ant\\u00f4nio\",\" Buritis\",\" Savassi\",\" Lourdes\",\" Buritis\",\" Funcion\\u00e1rios\",\"Other\",\"Other\",\"Other\",\"Other\",\"Other\",\" Buritis\",\"Other\",\"Other\",\"Other\",\"Other\",\" Santo Agostinho\",\" Buritis\",\"Other\",\"Other\",\" Buritis\",\"Other\",\"Other\",\"Other\",\"Other\",\" Santo Agostinho\",\"Other\",\"Other\",\"Other\",\" Serra\",\"Other\",\" Buritis\",\" Centro\",\" Santo Agostinho\",\"Other\",\" Funcion\\u00e1rios\",\" Savassi\",\" Sion\",\" Centro\",\" Funcion\\u00e1rios\",\"Other\",\"Other\",\"Other\",\"Other\",\" Buritis\",\"Other\",\"Other\",\"Other\",\" Sagrada Fam\\u00edlia\",\" Serra\",\"Other\",\" Funcion\\u00e1rios\",\" Lourdes\",\" Lourdes\",\"Other\",\" Buritis\",\"Other\",\"Other\",\" Santo Agostinho\",\" Buritis\",\" Lourdes\",\"Other\",\" Serra\",\"Other\",\" Lourdes\",\"Other\",\"Other\",\"Other\",\" Lourdes\",\"Other\",\" Sion\",\"Other\",\" Lourdes\",\"Other\",\"Other\",\" Funcion\\u00e1rios\",\" Savassi\",\" Funcion\\u00e1rios\",\"Other\",\" Buritis\",\"Other\",\"Other\",\"Other\",\"Other\",\"Other\",\" Buritis\",\" Buritis\",\" Buritis\",\"Other\",\"Other\",\"Other\",\" Lourdes\",\" Lourdes\",\"Other\",\"Other\",\"Other\",\"Other\",\"Other\",\" Lourdes\",\"Other\",\" Sagrada Fam\\u00edlia\",\" Buritis\",\"Other\",\"Other\",\" Sion\",\" Santo Ant\\u00f4nio\",\"Other\",\"Other\",\"Other\",\"Other\",\" Buritis\",\"Other\",\"Other\",\" Lourdes\",\"Other\",\" Savassi\",\" Funcion\\u00e1rios\",\" Serra\",\"Other\",\" Savassi\",\" Sion\",\"Other\",\"Other\",\"Other\",\" Sion\",\" Centro\",\"Other\",\"Other\",\"Other\",\" Savassi\",\" Serra\",\"Other\",\"Other\",\"Other\",\" Buritis\",\" Funcion\\u00e1rios\",\"Other\",\" Serra\",\"Other\",\"Other\",\"Other\",\"Other\",\" Funcion\\u00e1rios\",\"Other\",\"Other\",\" Buritis\",\"Other\",\" Funcion\\u00e1rios\",\" Buritis\",\" Santo Ant\\u00f4nio\",\" Serra\",\" Buritis\",\"Other\",\" Serra\",\" Lourdes\",\"Other\",\" Buritis\",\" Savassi\",\" Lourdes\",\" Lourdes\",\"Other\",\" Santo Agostinho\",\" Buritis\",\"Other\",\" Lourdes\",\"Other\",\"Other\",\"Other\",\" Serra\",\" Centro\",\"Other\",\"Other\",\" Buritis\",\"Other\",\" Serra\",\"Other\",\"Other\",\"Other\",\" Centro\",\"Other\",\" Funcion\\u00e1rios\",\" Serra\",\" Serra\",\" Buritis\",\"Other\",\"Other\",\" Lourdes\",\" Buritis\",\"Other\",\" Sagrada Fam\\u00edlia\",\"Other\",\"Other\",\"Other\",\" Funcion\\u00e1rios\",\"Other\",\"Other\",\" Centro\",\"Other\",\"Other\",\"Other\",\"Other\",\"Other\",\"Other\",\" Sion\",\"Other\",\" Lourdes\",\" Lourdes\",\"Other\",\" Lourdes\",\" Lourdes\",\" Lourdes\",\" Lourdes\",\" Lourdes\",\"Other\",\"Other\",\"Other\",\"Other\",\"Other\",\"Other\",\"Other\",\" Santo Ant\\u00f4nio\",\" Santo Agostinho\",\" Savassi\",\" Santo Agostinho\",\"Other\",\" Lourdes\",\" Buritis\",\" Serra\",\" Serra\",\" Lourdes\",\"Other\",\"Other\",\"Other\",\"Other\",\" Serra\",\" Sagrada Fam\\u00edlia\",\"Other\",\"Other\",\"Other\",\" Santo Ant\\u00f4nio\",\" Lourdes\",\" Lourdes\",\"Other\",\" Sion\",\" Lourdes\",\" Savassi\",\"Other\",\"Other\",\"Other\",\"Other\",\"Other\",\"Other\",\"Other\",\" Sion\",\"Other\",\" Buritis\",\"Other\",\" Serra\",\"Other\",\"Other\",\"Other\",\" Lourdes\",\"Other\",\"Other\",\"Other\",\" Funcion\\u00e1rios\",\"Other\",\" Santo Agostinho\",\"Other\",\" Serra\",\"Other\",\"Other\",\" Lourdes\",\" Buritis\",\" Buritis\",\"Other\",\"Other\",\"Other\",\"Other\",\" Sagrada Fam\\u00edlia\",\" Lourdes\",\" Buritis\",\" Funcion\\u00e1rios\",\" Serra\",\" Santo Agostinho\",\"Other\",\"Other\",\"Other\",\"Other\",\" Buritis\",\" Lourdes\",\"Other\",\"Other\",\" Savassi\",\" Centro\",\"Other\",\"Other\",\"Other\",\"Other\",\"Other\",\" Sion\",\"Other\",\" Santo Ant\\u00f4nio\",\"Other\",\" Buritis\",\" Centro\",\" Buritis\",\" Lourdes\",\" Funcion\\u00e1rios\",\"Other\",\"Other\",\"Other\",\"Other\",\" Funcion\\u00e1rios\",\"Other\",\"Other\",\"Other\",\" Lourdes\",\"Other\",\" Savassi\",\"Other\",\"Other\",\"Other\",\"Other\",\"Other\",\" Sagrada Fam\\u00edlia\",\"Other\",\" Funcion\\u00e1rios\",\" Buritis\",\"Other\",\" Funcion\\u00e1rios\",\" Funcion\\u00e1rios\",\" Lourdes\",\" Funcion\\u00e1rios\",\"Other\",\"Other\",\"Other\",\" Buritis\",\"Other\",\"Other\",\"Other\",\"Other\",\" Santo Agostinho\",\" Lourdes\",\"Other\",\" Buritis\",\"Other\",\"Other\",\"Other\",\" Savassi\",\"Other\",\"Other\",\"Other\",\" Serra\",\" Buritis\",\"Other\",\"Other\",\"Other\",\"Other\",\"Other\",\"Other\",\"Other\",\"Other\",\" Serra\",\" Buritis\",\" Savassi\",\"Other\",\" Santo Ant\\u00f4nio\",\"Other\",\"Other\",\" Lourdes\",\" Buritis\",\" Sagrada Fam\\u00edlia\",\"Other\",\" Santo Agostinho\",\" Santo Ant\\u00f4nio\",\"Other\",\"Other\",\"Other\",\"Other\",\" Centro\",\" Buritis\",\" Buritis\",\" Sion\",\" Lourdes\",\" Lourdes\",\"Other\",\"Other\",\" Santo Agostinho\",\" Serra\",\" Sion\",\"Other\",\"Other\",\" Sion\",\"Other\",\" Sagrada Fam\\u00edlia\",\" Lourdes\",\"Other\",\"Other\",\" Buritis\",\"Other\",\"Other\",\"Other\",\" Funcion\\u00e1rios\",\"Other\",\" Funcion\\u00e1rios\",\"Other\",\" Funcion\\u00e1rios\",\" Lourdes\",\" Serra\",\" Santo Agostinho\",\"Other\",\"Other\",\"Other\",\" Buritis\",\"Other\",\"Other\",\"Other\",\" Centro\",\" Santo Agostinho\",\"Other\",\" Savassi\",\" Lourdes\",\" Lourdes\",\" Funcion\\u00e1rios\",\"Other\",\"Other\",\"Other\",\"Other\",\"Other\",\"Other\",\" Buritis\",\" Santo Agostinho\",\" Serra\",\"Other\",\" Santo Agostinho\",\"Other\",\" Savassi\",\" Funcion\\u00e1rios\",\"Other\",\" Savassi\",\"Other\",\"Other\",\"Other\",\"Other\",\"Other\",\" Santo Agostinho\",\"Other\",\"Other\",\"Other\",\" Buritis\",\" Santo Agostinho\",\" Sagrada Fam\\u00edlia\",\"Other\",\"Other\",\"Other\",\" Buritis\",\"Other\",\" Lourdes\",\" Buritis\",\" Buritis\",\" Buritis\",\" Lourdes\",\" Centro\",\"Other\",\"Other\",\"Other\",\" Lourdes\",\" Buritis\",\" Santo Ant\\u00f4nio\",\"Other\",\"Other\",\"Other\",\"Other\",\"Other\",\" Savassi\",\"Other\",\"Other\",\"Other\",\"Other\",\"Other\",\"Other\",\"Other\",\" Funcion\\u00e1rios\",\" Savassi\",\"Other\",\"Other\",\" Sion\",\"Other\",\"Other\",\" Santo Ant\\u00f4nio\",\" Lourdes\",\" Funcion\\u00e1rios\",\"Other\",\" Buritis\",\"Other\",\"Other\",\"Other\",\"Other\",\"Other\",\"Other\",\"Other\",\" Sion\",\"Other\",\" Santo Ant\\u00f4nio\",\" Santo Ant\\u00f4nio\",\"Other\",\" Buritis\",\" Santo Agostinho\",\" Buritis\",\"Other\",\" Lourdes\",\" Lourdes\",\"Other\",\"Other\",\" Lourdes\",\"Other\",\" Santo Agostinho\",\" Buritis\",\"Other\",\"Other\",\" Sion\",\"Other\",\" Santo Agostinho\",\"Other\",\"Other\",\"Other\",\"Other\",\"Other\",\"Other\",\"Other\",\"Other\",\"Other\",\"Other\",\"Other\",\" Santo Agostinho\",\"Other\",\" Lourdes\",\" Sion\",\" Serra\",\" Sagrada Fam\\u00edlia\",\"Other\",\"Other\",\"Other\",\" Buritis\",\"Other\",\" Santo Ant\\u00f4nio\",\"Other\",\"Other\",\" Lourdes\",\"Other\",\" Lourdes\",\" Savassi\",\"Other\",\" Sagrada Fam\\u00edlia\",\"Other\",\"Other\",\"Other\",\"Other\",\"Other\",\"Other\",\"Other\",\"Other\",\"Other\",\" Santo Ant\\u00f4nio\",\" Buritis\",\"Other\",\" Funcion\\u00e1rios\",\"Other\",\" Savassi\",\" Lourdes\",\" Lourdes\",\" Savassi\",\" Funcion\\u00e1rios\",\" Lourdes\",\" Buritis\",\"Other\",\" Centro\",\"Other\",\"Other\",\" Buritis\",\"Other\",\" Lourdes\",\" Savassi\",\"Other\",\"Other\",\" Savassi\",\"Other\",\" Buritis\",\"Other\",\" Lourdes\",\"Other\",\"Other\",\"Other\",\"Other\",\" Santo Ant\\u00f4nio\",\"Other\",\"Other\",\"Other\",\" Funcion\\u00e1rios\",\" Buritis\",\"Other\",\"Other\",\"Other\",\" Lourdes\",\"Other\",\" Savassi\",\"Other\",\"Other\",\" Santo Agostinho\",\"Other\",\" Santo Ant\\u00f4nio\",\" Sion\",\"Other\",\"Other\",\" Lourdes\",\"Other\",\"Other\",\" Lourdes\",\"Other\",\"Other\",\" Sagrada Fam\\u00edlia\",\"Other\",\" Buritis\",\"Other\",\" Savassi\",\"Other\",\" Sion\",\" Sagrada Fam\\u00edlia\",\"Other\",\" Savassi\",\" Buritis\",\" Buritis\",\" Serra\",\"Other\",\" Buritis\",\"Other\",\" Lourdes\",\"Other\",\"Other\",\"Other\",\"Other\",\"Other\",\"Other\",\" Savassi\",\"Other\",\"Other\",\" Centro\",\" Sagrada Fam\\u00edlia\",\"Other\",\"Other\",\" Santo Agostinho\",\" Serra\",\"Other\",\" Funcion\\u00e1rios\",\"Other\",\" Savassi\",\" Lourdes\",\"Other\",\"Other\",\" Funcion\\u00e1rios\",\" Funcion\\u00e1rios\",\"Other\",\"Other\",\"Other\",\" Lourdes\",\" Sagrada Fam\\u00edlia\",\"Other\",\"Other\",\" Santo Agostinho\",\"Other\",\"Other\",\"Other\",\" Centro\",\"Other\",\"Other\",\" Buritis\",\"Other\",\" Sion\",\" Funcion\\u00e1rios\",\"Other\",\" Lourdes\",\"Other\",\"Other\",\"Other\",\"Other\",\"Other\",\" Sagrada Fam\\u00edlia\",\" Lourdes\",\" Lourdes\",\" Funcion\\u00e1rios\",\"Other\",\"Other\",\" Funcion\\u00e1rios\",\"Other\",\"Other\",\"Other\",\" Buritis\",\" Lourdes\",\"Other\",\"Other\",\"Other\",\"Other\",\"Other\",\"Other\",\" Santo Agostinho\",\" Serra\",\" Buritis\",\"Other\",\" Serra\",\"Other\",\"Other\",\"Other\",\"Other\",\" Serra\",\" Buritis\",\" Lourdes\",\" Funcion\\u00e1rios\",\" Serra\",\"Other\",\" Savassi\",\"Other\",\"Other\",\" Santo Agostinho\",\" Lourdes\",\" Funcion\\u00e1rios\",\"Other\",\"Other\",\"Other\",\" Buritis\",\"Other\",\" Buritis\",\"Other\",\" Sion\",\"Other\",\" Centro\",\"Other\",\"Other\",\"Other\",\" Buritis\",\"Other\",\"Other\",\" Buritis\",\"Other\",\" Serra\",\" Centro\",\" Sagrada Fam\\u00edlia\",\" Savassi\",\"Other\",\" Funcion\\u00e1rios\",\"Other\",\"Other\",\" Funcion\\u00e1rios\",\"Other\",\" Funcion\\u00e1rios\",\" Santo Ant\\u00f4nio\",\" Savassi\",\"Other\",\"Other\",\" Santo Ant\\u00f4nio\",\"Other\",\"Other\",\" Serra\",\" Buritis\",\" Serra\",\"Other\",\" Lourdes\",\"Other\",\"Other\",\"Other\",\"Other\",\" Lourdes\",\" Centro\",\"Other\",\" Lourdes\",\"Other\",\"Other\",\"Other\",\" Sagrada Fam\\u00edlia\",\"Other\",\" Buritis\",\" Sion\",\" Lourdes\",\" Savassi\",\"Other\",\"Other\",\" Funcion\\u00e1rios\",\" Lourdes\",\" Lourdes\",\" Buritis\",\" Serra\",\"Other\",\"Other\",\"Other\",\" Funcion\\u00e1rios\",\"Other\",\"Other\",\"Other\",\"Other\",\" Lourdes\",\"Other\",\"Other\",\"Other\",\" Funcion\\u00e1rios\",\"Other\",\"Other\",\" Santo Agostinho\",\"Other\",\"Other\",\" Funcion\\u00e1rios\",\"Other\",\"Other\",\" Sion\",\" Sagrada Fam\\u00edlia\",\"Other\",\"Other\",\" Centro\",\" Buritis\",\" Funcion\\u00e1rios\",\"Other\",\"Other\",\"Other\",\" Santo Agostinho\",\" Savassi\",\"Other\",\"Other\",\"Other\",\" Lourdes\",\" Buritis\",\"Other\",\"Other\",\" Santo Agostinho\",\" Buritis\",\"Other\",\" Serra\",\" Centro\",\" Santo Agostinho\",\"Other\",\"Other\",\" Sion\",\"Other\",\" Sion\",\"Other\",\"Other\",\"Other\",\"Other\",\" Lourdes\",\"Other\",\"Other\",\"Other\",\"Other\",\"Other\",\"Other\",\"Other\",\" Serra\",\" Sion\",\"Other\",\" Lourdes\",\"Other\",\"Other\",\" Funcion\\u00e1rios\",\"Other\",\" Centro\",\"Other\",\"Other\",\" Centro\",\"Other\",\" Buritis\",\" Buritis\",\" Santo Ant\\u00f4nio\",\" Centro\",\"Other\",\" Buritis\",\"Other\",\"Other\",\" Lourdes\",\"Other\",\" Lourdes\",\"Other\",\" Centro\",\"Other\",\"Other\",\" Santo Ant\\u00f4nio\",\"Other\",\"Other\",\"Other\",\"Other\",\"Other\",\" Savassi\",\"Other\",\"Other\",\"Other\",\" Buritis\",\" Buritis\",\" Buritis\",\" Sion\",\"Other\",\"Other\",\" Buritis\",\"Other\",\"Other\",\"Other\",\"Other\",\"Other\",\" Sion\",\"Other\",\"Other\",\"Other\",\" Serra\",\"Other\",\" Serra\",\"Other\",\" Lourdes\",\"Other\",\"Other\",\"Other\",\"Other\",\" Savassi\",\"Other\",\"Other\",\" Buritis\",\"Other\",\" Centro\",\"Other\",\" Funcion\\u00e1rios\",\"Other\",\"Other\",\"Other\",\"Other\",\" Santo Agostinho\",\" Funcion\\u00e1rios\",\"Other\",\"Other\",\"Other\",\"Other\",\"Other\",\" Sion\",\"Other\",\"Other\",\" Lourdes\",\"Other\",\" Sagrada Fam\\u00edlia\",\"Other\",\"Other\",\" Funcion\\u00e1rios\",\"Other\",\" Centro\",\" Lourdes\",\" Sion\",\"Other\",\" Buritis\",\"Other\",\" Centro\",\" Santo Agostinho\",\" Serra\",\"Other\",\" Buritis\",\" Santo Agostinho\",\"Other\",\"Other\",\"Other\",\"Other\",\"Other\",\"Other\",\"Other\",\"Other\",\"Other\",\" Lourdes\",\" Sion\",\"Other\",\" Santo Agostinho\",\" Sion\",\" Sion\",\" Funcion\\u00e1rios\",\" Sion\",\"Other\",\" Buritis\",\"Other\",\"Other\",\" Sion\",\" Santo Agostinho\",\"Other\",\" Santo Agostinho\",\"Other\",\"Other\",\" Sion\",\"Other\",\"Other\",\" Sion\",\" Buritis\",\"Other\",\"Other\",\" Sagrada Fam\\u00edlia\",\"Other\",\" Buritis\",\"Other\",\" Funcion\\u00e1rios\",\" Savassi\",\" Buritis\",\" Buritis\",\"Other\",\"Other\",\"Other\",\" Centro\",\"Other\",\"Other\",\" Sagrada Fam\\u00edlia\",\"Other\",\"Other\",\" Buritis\",\" Santo Agostinho\",\"Other\",\" Buritis\",\"Other\",\" Buritis\",\"Other\",\"Other\",\"Other\",\" Buritis\",\"Other\",\"Other\",\" Santo Ant\\u00f4nio\",\" Buritis\",\"Other\",\" Sagrada Fam\\u00edlia\",\"Other\",\" Sion\",\" Buritis\",\" Serra\",\" Centro\",\" Serra\",\" Buritis\",\"Other\",\" Sagrada Fam\\u00edlia\",\" Serra\",\"Other\",\" Sion\",\"Other\",\" Sagrada Fam\\u00edlia\",\"Other\",\" Serra\",\"Other\",\"Other\",\"Other\",\"Other\",\"Other\",\" Santo Agostinho\",\" Funcion\\u00e1rios\",\"Other\",\"Other\",\"Other\",\" Santo Ant\\u00f4nio\",\"Other\",\" Buritis\",\"Other\",\" Serra\",\"Other\",\"Other\",\" Funcion\\u00e1rios\",\"Other\",\" Savassi\",\"Other\",\"Other\",\"Other\",\"Other\",\" Savassi\",\"Other\",\" Buritis\",\"Other\",\" Serra\",\" Buritis\",\" Savassi\",\"Other\",\" Buritis\",\"Other\",\"Other\",\"Other\",\"Other\",\"Other\",\"Other\",\" Funcion\\u00e1rios\",\" Buritis\",\"Other\",\"Other\",\"Other\",\" Funcion\\u00e1rios\",\" Buritis\",\" Sagrada Fam\\u00edlia\",\" Sagrada Fam\\u00edlia\",\" Buritis\",\"Other\",\"Other\",\"Other\",\"Other\",\"Other\",\"Other\",\"Other\",\"Other\",\"Other\",\" Buritis\",\" Funcion\\u00e1rios\",\"Other\",\"Other\",\" Buritis\",\" Santo Agostinho\",\"Other\",\"Other\",\"Other\",\"Other\",\"Other\",\" Centro\",\"Other\",\" Funcion\\u00e1rios\",\"Other\",\" Santo Agostinho\",\" Buritis\",\"Other\",\"Other\",\"Other\",\"Other\",\"Other\",\" Buritis\",\" Sagrada Fam\\u00edlia\",\"Other\",\"Other\",\"Other\",\"Other\",\" Serra\",\" Buritis\",\"Other\",\"Other\",\" Serra\",\"Other\",\" Sion\",\" Buritis\",\"Other\",\"Other\",\" Centro\",\"Other\",\"Other\",\"Other\",\" Sion\",\" Sion\",\"Other\",\"Other\",\" Funcion\\u00e1rios\",\"Other\",\"Other\",\" Santo Agostinho\",\" Funcion\\u00e1rios\",\" Savassi\",\" Sagrada Fam\\u00edlia\",\" Funcion\\u00e1rios\",\"Other\",\" Santo Agostinho\",\" Serra\",\" Serra\",\"Other\",\"Other\",\" Sion\",\" Santo Agostinho\",\"Other\",\"Other\",\"Other\",\"Other\",\"Other\",\" Lourdes\",\"Other\",\"Other\",\"Other\",\"Other\",\" Funcion\\u00e1rios\",\" Lourdes\",\"Other\",\" Lourdes\",\"Other\",\" Buritis\",\" Centro\",\"Other\",\" Buritis\",\"Other\",\" Sagrada Fam\\u00edlia\",\"Other\",\" Funcion\\u00e1rios\",\" Buritis\",\"Other\",\"Other\",\" Sagrada Fam\\u00edlia\",\"Other\",\"Other\",\"Other\",\" Serra\",\" Funcion\\u00e1rios\",\" Sagrada Fam\\u00edlia\",\"Other\",\"Other\",\" Buritis\",\" Centro\",\"Other\",\"Other\",\" Serra\",\"Other\",\"Other\",\"Other\",\"Other\",\" Santo Ant\\u00f4nio\",\"Other\",\" Serra\",\"Other\",\"Other\",\" Santo Agostinho\",\"Other\",\" Santo Ant\\u00f4nio\",\" Serra\",\"Other\",\"Other\",\"Other\",\"Other\",\" Buritis\",\"Other\",\" Lourdes\",\"Other\",\" Santo Ant\\u00f4nio\",\"Other\",\" Santo Agostinho\",\" Sagrada Fam\\u00edlia\",\"Other\",\"Other\",\"Other\",\" Buritis\",\"Other\",\"Other\",\"Other\",\"Other\",\"Other\",\"Other\",\" Buritis\",\"Other\",\"Other\",\"Other\",\"Other\",\" Sion\",\" Funcion\\u00e1rios\",\"Other\",\"Other\",\" Sagrada Fam\\u00edlia\",\"Other\",\" Centro\",\"Other\",\" Centro\",\"Other\",\"Other\",\" Savassi\",\"Other\",\"Other\",\"Other\",\" Sagrada Fam\\u00edlia\",\"Other\",\"Other\",\"Other\",\" Santo Ant\\u00f4nio\",\" Funcion\\u00e1rios\",\"Other\",\"Other\",\"Other\",\" Serra\",\"Other\",\" Lourdes\",\"Other\",\"Other\",\" Funcion\\u00e1rios\",\"Other\",\"Other\",\"Other\",\"Other\",\"Other\",\"Other\",\" Buritis\",\"Other\",\" Sagrada Fam\\u00edlia\",\"Other\",\"Other\",\"Other\",\" Centro\",\"Other\",\"Other\",\"Other\",\"Other\",\" Sion\",\"Other\",\" Centro\",\"Other\",\" Funcion\\u00e1rios\",\"Other\",\" Sagrada Fam\\u00edlia\",\" Sagrada Fam\\u00edlia\",\"Other\",\" Santo Ant\\u00f4nio\",\" Savassi\",\"Other\",\" Centro\",\"Other\",\" Santo Ant\\u00f4nio\",\"Other\",\" Sagrada Fam\\u00edlia\",\"Other\",\"Other\",\"Other\",\" Funcion\\u00e1rios\",\"Other\",\" Santo Ant\\u00f4nio\",\" Lourdes\",\" Buritis\",\" Serra\",\"Other\",\" Santo Agostinho\",\"Other\",\" Serra\",\" Buritis\",\" Sion\",\"Other\",\"Other\",\" Sagrada Fam\\u00edlia\",\"Other\",\"Other\",\"Other\",\"Other\",\" Savassi\",\" Savassi\",\"Other\",\"Other\",\"Other\",\"Other\",\"Other\",\"Other\",\"Other\",\" Lourdes\",\"Other\",\" Lourdes\",\"Other\",\"Other\",\"Other\",\"Other\",\" Sion\",\" Centro\",\"Other\",\" Centro\",\"Other\",\"Other\",\"Other\",\"Other\",\"Other\",\"Other\",\" Buritis\",\" Buritis\",\" Funcion\\u00e1rios\",\"Other\",\"Other\",\" Santo Ant\\u00f4nio\",\"Other\",\" Savassi\",\"Other\",\" Buritis\",\" Sagrada Fam\\u00edlia\",\" Serra\",\" Savassi\",\"Other\",\"Other\",\"Other\",\"Other\",\" Centro\",\"Other\",\" Savassi\",\" Funcion\\u00e1rios\",\"Other\",\"Other\",\" Santo Ant\\u00f4nio\",\"Other\",\" Savassi\",\"Other\",\"Other\",\"Other\",\"Other\",\" Savassi\",\" Savassi\",\" Savassi\",\" Savassi\",\" Santo Ant\\u00f4nio\",\"Other\",\"Other\",\"Other\",\"Other\",\" Sagrada Fam\\u00edlia\",\" Buritis\",\"Other\",\" Sion\",\" Buritis\",\" Funcion\\u00e1rios\",\" Serra\",\" Buritis\",\" Serra\",\" Buritis\",\"Other\",\" Funcion\\u00e1rios\",\"Other\",\"Other\",\" Lourdes\",\"Other\",\"Other\",\" Buritis\",\" Buritis\",\" Funcion\\u00e1rios\",\" Serra\",\"Other\",\" Santo Ant\\u00f4nio\",\"Other\",\"Other\",\"Other\",\"Other\",\"Other\",\" Buritis\",\"Other\",\"Other\",\"Other\",\"Other\",\" Buritis\",\"Other\",\" Funcion\\u00e1rios\",\" Lourdes\",\"Other\",\"Other\",\"Other\",\"Other\",\"Other\",\" Buritis\",\" Buritis\",\" Buritis\",\" Buritis\",\" Sagrada Fam\\u00edlia\",\"Other\",\" Santo Ant\\u00f4nio\",\"Other\",\"Other\",\" Funcion\\u00e1rios\",\" Serra\",\" Funcion\\u00e1rios\",\"Other\",\"Other\",\" Funcion\\u00e1rios\",\"Other\",\" Buritis\",\"Other\",\"Other\",\"Other\",\"Other\",\" Buritis\",\"Other\",\" Lourdes\",\"Other\",\"Other\",\" Sagrada Fam\\u00edlia\",\"Other\",\" Funcion\\u00e1rios\",\" Centro\",\"Other\",\"Other\",\" Savassi\",\" Buritis\",\"Other\",\"Other\",\"Other\",\"Other\",\" Serra\",\"Other\",\" Serra\",\" Sagrada Fam\\u00edlia\",\" Sagrada Fam\\u00edlia\",\"Other\",\" Buritis\",\" Lourdes\",\"Other\",\" Sagrada Fam\\u00edlia\",\"Other\",\" Lourdes\",\" Santo Agostinho\",\" Lourdes\",\" Santo Agostinho\",\" Buritis\",\" Buritis\",\"Other\",\"Other\",\" Lourdes\",\" Lourdes\",\"Other\",\"Other\",\"Other\",\" Buritis\",\"Other\",\" Sagrada Fam\\u00edlia\",\"Other\",\" Buritis\",\" Sagrada Fam\\u00edlia\",\"Other\",\"Other\",\"Other\",\"Other\",\"Other\",\"Other\",\" Sion\",\" Lourdes\",\"Other\",\"Other\",\" Sagrada Fam\\u00edlia\",\"Other\",\"Other\",\"Other\",\" Santo Agostinho\",\"Other\",\" Lourdes\",\" Santo Ant\\u00f4nio\",\" Centro\",\" Santo Agostinho\",\"Other\",\"Other\",\" Serra\",\" Savassi\",\"Other\",\" Serra\",\" Funcion\\u00e1rios\",\"Other\",\"Other\",\"Other\",\"Other\",\"Other\",\" Buritis\",\"Other\",\"Other\",\" Sion\",\"Other\",\"Other\",\" Buritis\",\"Other\",\" Lourdes\",\" Sion\",\" Buritis\",\"Other\",\"Other\",\"Other\",\" Sagrada Fam\\u00edlia\",\" Funcion\\u00e1rios\",\"Other\",\"Other\",\"Other\",\"Other\",\"Other\",\"Other\",\" Santo Ant\\u00f4nio\",\" Lourdes\",\"Other\",\"Other\",\"Other\",\" Savassi\",\" Centro\",\" Buritis\",\"Other\",\"Other\",\" Buritis\",\"Other\",\"Other\",\"Other\",\"Other\",\" Centro\",\" Buritis\",\" Funcion\\u00e1rios\",\" Centro\",\"Other\",\"Other\",\" Buritis\",\" Buritis\",\" Lourdes\",\" Buritis\",\" Funcion\\u00e1rios\",\" Santo Ant\\u00f4nio\",\"Other\",\"Other\",\" Sagrada Fam\\u00edlia\",\" Serra\",\" Buritis\",\" Serra\",\" Savassi\",\"Other\",\" Santo Ant\\u00f4nio\",\"Other\",\" Funcion\\u00e1rios\",\"Other\",\" Sion\",\" Santo Ant\\u00f4nio\",\" Sagrada Fam\\u00edlia\",\"Other\",\"Other\",\" Serra\",\"Other\",\"Other\",\" Funcion\\u00e1rios\",\" Santo Agostinho\",\"Other\",\"Other\",\" Buritis\",\"Other\",\"Other\",\" Centro\",\"Other\",\" Sagrada Fam\\u00edlia\",\" Funcion\\u00e1rios\",\"Other\",\" Sion\",\"Other\",\" Savassi\",\" Buritis\",\" Buritis\",\"Other\",\" Sion\",\" Serra\",\"Other\",\" Savassi\",\"Other\",\" Buritis\",\"Other\",\"Other\",\"Other\",\" Lourdes\",\"Other\",\" Santo Agostinho\",\"Other\",\" Sion\",\" Buritis\",\" Santo Agostinho\",\"Other\",\" Santo Ant\\u00f4nio\",\"Other\",\" Buritis\",\"Other\",\" Centro\",\"Other\",\" Sagrada Fam\\u00edlia\",\"Other\",\"Other\",\"Other\",\"Other\",\"Other\",\"Other\",\" Savassi\",\" Sion\",\"Other\",\"Other\",\"Other\",\"Other\",\" Buritis\",\" Sagrada Fam\\u00edlia\",\"Other\",\"Other\",\" Funcion\\u00e1rios\",\"Other\",\"Other\",\" Savassi\",\" Santo Agostinho\",\"Other\",\"Other\",\" Buritis\",\" Centro\",\" Buritis\",\" Buritis\",\"Other\",\" Sagrada Fam\\u00edlia\",\" Buritis\",\"Other\",\"Other\",\" Buritis\",\"Other\",\" Buritis\",\" Serra\",\"Other\",\" Funcion\\u00e1rios\",\" Sion\",\"Other\",\" Serra\",\"Other\",\"Other\",\" Lourdes\",\"Other\",\" Serra\",\"Other\",\"Other\",\"Other\",\" Serra\",\" Funcion\\u00e1rios\",\"Other\",\"Other\",\" Santo Agostinho\",\" Funcion\\u00e1rios\",\"Other\",\" Sagrada Fam\\u00edlia\",\"Other\",\" Funcion\\u00e1rios\",\" Lourdes\",\" Serra\",\" Savassi\",\"Other\",\"Other\",\" Lourdes\",\" Funcion\\u00e1rios\",\" Funcion\\u00e1rios\",\"Other\",\" Serra\",\"Other\",\"Other\",\" Savassi\",\" Santo Ant\\u00f4nio\",\"Other\",\" Sagrada Fam\\u00edlia\",\" Funcion\\u00e1rios\",\"Other\",\"Other\",\" Santo Ant\\u00f4nio\",\" Santo Agostinho\",\" Funcion\\u00e1rios\",\" Sagrada Fam\\u00edlia\",\" Funcion\\u00e1rios\",\"Other\",\"Other\",\" Sagrada Fam\\u00edlia\",\"Other\",\" Funcion\\u00e1rios\",\"Other\",\" Serra\",\" Funcion\\u00e1rios\",\"Other\",\" Serra\",\"Other\",\" Lourdes\",\"Other\",\" Buritis\",\"Other\",\" Sagrada Fam\\u00edlia\",\"Other\",\" Lourdes\",\" Sion\",\"Other\",\" Serra\",\" Sion\",\"Other\",\" Buritis\",\" Sagrada Fam\\u00edlia\",\" Lourdes\",\" Sion\",\" Savassi\",\"Other\",\"Other\",\"Other\",\"Other\",\" Sion\",\"Other\",\" Santo Agostinho\",\"Other\",\" Buritis\",\"Other\",\"Other\",\"Other\",\"Other\",\" Centro\",\" Sion\",\"Other\",\"Other\",\" Buritis\",\" Buritis\",\"Other\",\"Other\",\"Other\",\" Serra\",\" Santo Agostinho\",\" Serra\",\" Lourdes\",\"Other\",\"Other\",\"Other\",\" Buritis\",\" Sagrada Fam\\u00edlia\",\" Santo Ant\\u00f4nio\",\" Lourdes\",\" Santo Agostinho\",\" Serra\",\" Buritis\",\" Sion\",\" Buritis\",\"Other\",\" Lourdes\",\" Sagrada Fam\\u00edlia\",\" Savassi\",\"Other\",\" Funcion\\u00e1rios\",\"Other\",\"Other\",\"Other\",\" Serra\",\" Centro\",\" Funcion\\u00e1rios\",\" Buritis\",\"Other\",\"Other\",\" Serra\",\" Buritis\",\"Other\",\" Funcion\\u00e1rios\",\" Lourdes\",\" Serra\",\" Lourdes\",\"Other\",\"Other\",\"Other\",\" Santo Agostinho\",\" Centro\",\" Santo Agostinho\",\" Sion\",\"Other\",\"Other\",\"Other\",\"Other\",\" Lourdes\",\"Other\",\"Other\",\" Centro\",\"Other\",\"Other\",\"Other\",\"Other\",\" Lourdes\",\" Serra\",\" Serra\",\"Other\",\" Buritis\",\"Other\",\" Funcion\\u00e1rios\",\"Other\",\"Other\",\" Santo Agostinho\",\" Santo Ant\\u00f4nio\",\"Other\",\"Other\",\" Santo Ant\\u00f4nio\",\"Other\",\"Other\",\"Other\",\"Other\",\" Sagrada Fam\\u00edlia\",\" Sion\",\"Other\",\" Funcion\\u00e1rios\",\" Lourdes\",\"Other\",\" Centro\",\"Other\",\"Other\",\" Centro\",\"Other\",\" Lourdes\",\"Other\",\"Other\",\"Other\",\" Santo Ant\\u00f4nio\",\" Sagrada Fam\\u00edlia\",\" Lourdes\",\"Other\",\"Other\",\"Other\",\"Other\",\" Centro\",\"Other\",\"Other\",\" Sagrada Fam\\u00edlia\",\" Buritis\",\" Lourdes\",\"Other\",\"Other\",\"Other\",\"Other\",\" Funcion\\u00e1rios\",\"Other\",\" Savassi\",\" Sion\",\" Sion\",\" Sion\",\"Other\",\"Other\",\" Sagrada Fam\\u00edlia\",\"Other\",\" Santo Ant\\u00f4nio\",\"Other\",\"Other\",\"Other\",\" Funcion\\u00e1rios\",\"Other\",\" Serra\",\" Serra\",\"Other\",\"Other\",\" Savassi\",\" Sagrada Fam\\u00edlia\",\"Other\",\"Other\",\"Other\",\"Other\",\" Savassi\",\" Funcion\\u00e1rios\",\" Lourdes\",\" Funcion\\u00e1rios\",\"Other\",\" Buritis\",\"Other\",\" Serra\",\"Other\",\"Other\",\" Sion\",\" Sagrada Fam\\u00edlia\",\"Other\",\" Buritis\",\"Other\",\" Santo Agostinho\",\" Santo Ant\\u00f4nio\",\"Other\",\"Other\",\"Other\",\" Centro\",\" Serra\",\"Other\",\" Buritis\",\" Centro\",\"Other\",\"Other\",\"Other\",\" Buritis\",\"Other\",\"Other\",\"Other\",\"Other\",\"Other\",\"Other\",\" Funcion\\u00e1rios\",\"Other\",\"Other\",\" Sagrada Fam\\u00edlia\",\" Savassi\",\" Sion\",\"Other\",\"Other\",\"Other\",\"Other\",\" Serra\",\"Other\",\"Other\",\"Other\",\"Other\",\"Other\",\" Buritis\",\" Serra\",\" Serra\",\" Serra\",\" Serra\",\"Other\",\"Other\",\"Other\",\"Other\",\" Sagrada Fam\\u00edlia\",\"Other\",\"Other\",\"Other\",\"Other\",\" Sion\",\" Serra\",\"Other\",\"Other\",\" Sion\",\"Other\",\" Buritis\",\" Funcion\\u00e1rios\",\" Funcion\\u00e1rios\",\"Other\",\"Other\",\" Buritis\",\"Other\",\"Other\",\" Funcion\\u00e1rios\",\" Funcion\\u00e1rios\",\"Other\",\" Sion\",\"Other\",\" Sagrada Fam\\u00edlia\",\"Other\",\"Other\",\"Other\",\"Other\",\" Savassi\",\"Other\",\"Other\",\" Buritis\",\"Other\",\"Other\",\"Other\",\"Other\",\" Santo Ant\\u00f4nio\",\" Buritis\",\"Other\",\"Other\",\"Other\",\" Funcion\\u00e1rios\",\" Lourdes\",\"Other\",\"Other\",\"Other\",\" Santo Ant\\u00f4nio\",\"Other\",\" Lourdes\",\" Buritis\",\"Other\",\" Serra\",\"Other\",\" Buritis\",\"Other\",\" Buritis\",\" Savassi\",\" Lourdes\",\"Other\",\" Sagrada Fam\\u00edlia\",\"Other\",\" Serra\",\"Other\",\" Santo Ant\\u00f4nio\",\" Buritis\",\" Sion\",\"Other\",\" Buritis\",\" Sion\",\"Other\",\"Other\",\" Serra\",\" Santo Agostinho\",\" Sagrada Fam\\u00edlia\",\" Lourdes\",\"Other\",\"Other\",\"Other\",\"Other\",\"Other\",\"Other\",\"Other\",\" Funcion\\u00e1rios\",\"Other\",\"Other\",\" Funcion\\u00e1rios\",\"Other\",\" Sagrada Fam\\u00edlia\",\"Other\",\"Other\",\" Sagrada Fam\\u00edlia\",\" Sagrada Fam\\u00edlia\",\"Other\",\"Other\",\"Other\",\"Other\",\"Other\",\"Other\",\"Other\",\" Buritis\",\"Other\",\"Other\",\"Other\",\"Other\",\"Other\",\"Other\",\"Other\",\"Other\",\"Other\",\"Other\",\"Other\",\"Other\",\"Other\",\" Centro\",\" Sagrada Fam\\u00edlia\",\" Sagrada Fam\\u00edlia\",\"Other\",\"Other\",\"Other\",\" Sagrada Fam\\u00edlia\",\"Other\",\" Savassi\",\"Other\",\" Sagrada Fam\\u00edlia\",\" Santo Ant\\u00f4nio\",\"Other\",\"Other\",\"Other\",\"Other\",\" Buritis\",\" Santo Ant\\u00f4nio\",\"Other\",\"Other\",\" Buritis\",\" Sion\",\" Santo Agostinho\",\"Other\",\"Other\",\" Buritis\",\" Buritis\",\" Buritis\",\"Other\",\"Other\",\" Sion\",\"Other\",\" Funcion\\u00e1rios\",\"Other\",\" Santo Ant\\u00f4nio\",\" Centro\",\"Other\",\" Lourdes\",\" Sagrada Fam\\u00edlia\",\"Other\",\" Santo Ant\\u00f4nio\",\" Buritis\",\" Serra\",\"Other\",\"Other\",\"Other\",\"Other\",\"Other\",\"Other\",\" Buritis\",\"Other\",\" Buritis\",\" Buritis\",\" Sagrada Fam\\u00edlia\",\"Other\",\" Serra\",\"Other\",\" Buritis\",\" Buritis\",\"Other\",\" Buritis\",\"Other\",\" Buritis\",\"Other\",\"Other\",\"Other\",\" Serra\",\"Other\",\" Sagrada Fam\\u00edlia\",\"Other\",\"Other\",\" Sagrada Fam\\u00edlia\",\" Santo Ant\\u00f4nio\",\"Other\",\" Sion\",\"Other\",\" Savassi\",\"Other\",\"Other\",\" Buritis\",\" Serra\",\"Other\",\"Other\",\"Other\",\"Other\",\"Other\",\"Other\",\" Lourdes\",\" Buritis\",\"Other\",\"Other\",\"Other\",\" Serra\",\" Sagrada Fam\\u00edlia\",\" Sion\",\"Other\",\" Sagrada Fam\\u00edlia\",\" Santo Ant\\u00f4nio\",\"Other\",\"Other\",\" Lourdes\",\" Serra\",\"Other\",\"Other\",\"Other\",\"Other\",\" Buritis\",\" Santo Ant\\u00f4nio\",\" Funcion\\u00e1rios\",\"Other\",\" Buritis\",\"Other\",\" Funcion\\u00e1rios\",\"Other\",\" Lourdes\",\" Lourdes\",\"Other\",\"Other\",\"Other\",\"Other\",\"Other\",\"Other\",\" Serra\",\" Sion\",\"Other\",\"Other\",\" Savassi\",\" Sion\",\"Other\",\"Other\",\"Other\",\"Other\",\" Sion\",\"Other\",\"Other\",\"Other\",\"Other\",\" Serra\",\" Serra\",\" Sion\",\"Other\",\" Savassi\",\"Other\",\" Sagrada Fam\\u00edlia\",\"Other\",\"Other\",\" Sagrada Fam\\u00edlia\",\" Lourdes\",\"Other\",\" Buritis\",\" Savassi\",\"Other\",\"Other\",\"Other\",\"Other\",\" Centro\",\" Sagrada Fam\\u00edlia\",\"Other\",\"Other\",\"Other\",\" Sion\",\"Other\",\"Other\",\"Other\",\" Centro\",\" Funcion\\u00e1rios\",\"Other\",\"Other\",\"Other\",\"Other\",\"Other\",\"Other\",\"Other\",\"Other\",\" Serra\",\"Other\",\"Other\",\"Other\",\"Other\",\"Other\",\"Other\",\"Other\",\"Other\",\"Other\",\" Lourdes\",\" Sagrada Fam\\u00edlia\",\" Funcion\\u00e1rios\",\" Buritis\",\" Funcion\\u00e1rios\",\"Other\",\"Other\",\" Serra\",\"Other\",\"Other\",\"Other\",\"Other\",\" Buritis\",\"Other\",\"Other\",\" Sagrada Fam\\u00edlia\",\" Lourdes\",\"Other\",\" Lourdes\",\" Santo Agostinho\",\"Other\",\"Other\",\" Sion\",\" Santo Ant\\u00f4nio\",\"Other\",\"Other\",\"Other\",\" Santo Ant\\u00f4nio\",\"Other\",\"Other\",\"Other\",\" Sagrada Fam\\u00edlia\",\" Sion\",\"Other\",\" Sagrada Fam\\u00edlia\",\" Savassi\",\"Other\",\"Other\",\" Funcion\\u00e1rios\",\"Other\",\" Sion\",\"Other\",\" Santo Agostinho\",\"Other\",\"Other\",\" Serra\",\"Other\",\"Other\",\"Other\",\"Other\",\" Funcion\\u00e1rios\",\" Savassi\",\"Other\",\" Sagrada Fam\\u00edlia\",\"Other\",\"Other\",\" Serra\",\" Funcion\\u00e1rios\",\"Other\",\"Other\",\" Buritis\",\"Other\",\"Other\",\"Other\",\"Other\",\"Other\",\"Other\",\" Buritis\",\" Funcion\\u00e1rios\",\"Other\",\" Santo Ant\\u00f4nio\",\"Other\",\" Centro\",\" Buritis\",\"Other\",\"Other\",\"Other\",\" Sagrada Fam\\u00edlia\",\"Other\",\"Other\",\" Funcion\\u00e1rios\",\" Santo Agostinho\",\"Other\",\"Other\",\" Sagrada Fam\\u00edlia\",\"Other\",\" Buritis\",\"Other\",\" Buritis\",\"Other\",\"Other\",\"Other\",\"Other\",\" Santo Agostinho\",\" Savassi\",\"Other\",\"Other\",\" Santo Agostinho\",\"Other\",\"Other\",\"Other\",\"Other\",\"Other\",\" Centro\",\" Funcion\\u00e1rios\",\" Sion\",\"Other\",\" Santo Ant\\u00f4nio\",\"Other\",\"Other\",\"Other\",\" Buritis\",\"Other\",\" Funcion\\u00e1rios\",\"Other\",\" Buritis\",\"Other\",\"Other\",\" Savassi\",\" Buritis\",\" Buritis\",\" Sagrada Fam\\u00edlia\",\"Other\",\"Other\",\" Buritis\",\"Other\",\" Buritis\",\"Other\",\" Funcion\\u00e1rios\",\"Other\",\" Santo Ant\\u00f4nio\",\"Other\",\"Other\",\"Other\",\"Other\",\" Buritis\",\" Santo Agostinho\",\"Other\",\"Other\",\" Lourdes\",\"Other\",\"Other\",\" Sion\",\"Other\",\"Other\",\"Other\",\" Sion\",\"Other\",\" Sion\",\"Other\",\" Buritis\",\"Other\",\" Sagrada Fam\\u00edlia\",\" Sion\",\" Serra\",\" Centro\",\"Other\",\"Other\",\" Santo Ant\\u00f4nio\",\" Serra\",\"Other\",\" Centro\",\" Savassi\",\"Other\",\" Santo Ant\\u00f4nio\",\" Centro\",\"Other\",\"Other\",\" Lourdes\",\" Santo Agostinho\",\" Lourdes\",\" Funcion\\u00e1rios\",\"Other\",\"Other\",\"Other\",\" Sion\",\" Buritis\",\"Other\",\"Other\",\" Funcion\\u00e1rios\",\" Serra\",\" Centro\",\" Sagrada Fam\\u00edlia\",\"Other\",\" Buritis\",\"Other\",\"Other\",\" Centro\",\" Buritis\",\" Sagrada Fam\\u00edlia\",\" Santo Agostinho\",\"Other\",\"Other\",\" Buritis\",\" Buritis\",\" Buritis\",\" Serra\",\"Other\",\"Other\",\"Other\",\" Sagrada Fam\\u00edlia\",\" Santo Ant\\u00f4nio\",\"Other\",\"Other\",\" Santo Ant\\u00f4nio\",\"Other\",\" Buritis\",\"Other\",\" Buritis\",\" Serra\",\"Other\",\"Other\",\"Other\",\"Other\",\"Other\",\"Other\",\" Savassi\",\"Other\",\"Other\",\"Other\",\"Other\",\" Serra\",\"Other\",\" Buritis\",\" Buritis\",\" Serra\",\"Other\",\"Other\",\"Other\",\" Sagrada Fam\\u00edlia\",\" Sion\",\" Buritis\",\"Other\",\" Savassi\",\" Sagrada Fam\\u00edlia\",\" Sagrada Fam\\u00edlia\",\"Other\",\"Other\",\" Lourdes\",\"Other\",\"Other\",\"Other\",\"Other\",\" Santo Ant\\u00f4nio\",\"Other\",\" Lourdes\",\" Serra\",\"Other\",\" Santo Ant\\u00f4nio\",\" Buritis\",\"Other\",\" Buritis\",\" Santo Ant\\u00f4nio\",\" Buritis\",\" Funcion\\u00e1rios\",\"Other\",\" Centro\",\"Other\",\"Other\",\"Other\",\" Savassi\",\"Other\",\"Other\",\"Other\",\" Funcion\\u00e1rios\",\" Santo Ant\\u00f4nio\",\"Other\",\"Other\",\"Other\",\" Sagrada Fam\\u00edlia\",\"Other\",\" Buritis\",\"Other\",\" Sion\",\" Buritis\",\" Santo Ant\\u00f4nio\",\"Other\",\"Other\",\" Serra\",\"Other\",\"Other\",\" Sion\",\" Lourdes\",\" Savassi\",\" Buritis\",\" Lourdes\",\"Other\",\" Lourdes\",\"Other\",\" Buritis\",\" Funcion\\u00e1rios\",\"Other\",\" Santo Agostinho\",\"Other\",\" Centro\",\"Other\",\" Lourdes\",\" Buritis\",\" Sion\",\" Sagrada Fam\\u00edlia\",\"Other\",\" Serra\",\"Other\",\"Other\",\"Other\",\"Other\",\"Other\",\" Lourdes\",\" Santo Ant\\u00f4nio\",\" Buritis\",\"Other\",\" Lourdes\",\" Sagrada Fam\\u00edlia\",\" Funcion\\u00e1rios\",\" Centro\",\"Other\",\" Centro\",\" Sagrada Fam\\u00edlia\",\" Serra\",\"Other\",\" Sion\",\"Other\",\" Centro\",\"Other\",\" Sagrada Fam\\u00edlia\",\" Funcion\\u00e1rios\",\"Other\",\" Sagrada Fam\\u00edlia\",\" Santo Ant\\u00f4nio\",\"Other\",\"Other\",\"Other\",\"Other\",\"Other\",\" Buritis\",\" Buritis\",\" Funcion\\u00e1rios\",\"Other\",\"Other\",\" Buritis\",\" Santo Ant\\u00f4nio\",\"Other\",\" Savassi\",\" Savassi\",\"Other\",\"Other\",\"Other\",\" Centro\",\" Lourdes\",\"Other\",\"Other\",\"Other\",\"Other\",\"Other\",\"Other\",\" Serra\",\" Buritis\",\" Buritis\",\"Other\",\"Other\",\" Buritis\",\" Centro\",\" Lourdes\",\"Other\",\" Serra\",\" Buritis\",\" Sion\",\"Other\",\"Other\",\" Serra\",\" Lourdes\",\" Santo Ant\\u00f4nio\",\" Santo Ant\\u00f4nio\",\"Other\",\" Centro\",\"Other\",\" Buritis\",\" Lourdes\",\" Lourdes\",\" Sagrada Fam\\u00edlia\",\" Sagrada Fam\\u00edlia\",\"Other\",\"Other\",\"Other\",\"Other\",\"Other\",\"Other\",\" Sion\",\" Serra\",\"Other\",\" Serra\",\"Other\",\"Other\",\" Santo Agostinho\",\" Lourdes\",\"Other\",\"Other\",\"Other\",\"Other\",\" Centro\",\"Other\",\"Other\",\" Centro\",\" Lourdes\",\"Other\",\" Sagrada Fam\\u00edlia\",\"Other\",\"Other\",\"Other\",\" Buritis\",\" Funcion\\u00e1rios\",\" Savassi\",\" Sagrada Fam\\u00edlia\",\"Other\",\"Other\",\"Other\",\" Sion\",\" Santo Agostinho\",\"Other\",\" Sion\",\"Other\",\"Other\",\"Other\",\"Other\",\" Santo Agostinho\",\" Buritis\",\" Sagrada Fam\\u00edlia\",\"Other\",\" Santo Agostinho\",\"Other\",\" Buritis\",\"Other\",\" Buritis\",\" Buritis\",\" Serra\",\" Lourdes\",\" Santo Agostinho\",\" Sagrada Fam\\u00edlia\",\"Other\",\"Other\",\" Buritis\",\"Other\",\"Other\",\" Sagrada Fam\\u00edlia\",\" Sion\",\" Funcion\\u00e1rios\",\" Sagrada Fam\\u00edlia\",\" Sion\",\" Sion\",\" Buritis\",\" Savassi\",\"Other\",\"Other\",\" Buritis\",\"Other\",\" Lourdes\",\" Funcion\\u00e1rios\",\"Other\",\" Sion\",\" Santo Agostinho\",\"Other\",\"Other\",\" Serra\",\" Lourdes\",\" Lourdes\",\"Other\",\" Sagrada Fam\\u00edlia\",\" Sion\",\" Buritis\",\"Other\",\"Other\",\" Sion\",\" Savassi\",\"Other\",\" Sagrada Fam\\u00edlia\",\" Savassi\",\" Lourdes\",\"Other\",\"Other\",\" Sion\",\" Santo Agostinho\",\" Serra\",\"Other\",\"Other\",\" Sion\",\" Santo Agostinho\",\" Lourdes\",\"Other\",\"Other\",\"Other\",\"Other\",\" Sagrada Fam\\u00edlia\",\" Savassi\",\" Serra\",\"Other\",\" Funcion\\u00e1rios\",\"Other\",\"Other\",\" Serra\",\" Sagrada Fam\\u00edlia\",\"Other\",\" Buritis\",\"Other\",\"Other\",\"Other\",\" Lourdes\",\"Other\",\" Santo Ant\\u00f4nio\",\"Other\",\" Buritis\",\"Other\",\" Buritis\",\" Sagrada Fam\\u00edlia\",\" Santo Ant\\u00f4nio\",\" Sagrada Fam\\u00edlia\",\" Lourdes\",\"Other\",\"Other\",\"Other\",\"Other\",\" Savassi\",\"Other\",\" Buritis\",\"Other\",\" Santo Agostinho\",\"Other\",\"Other\",\" Buritis\",\" Buritis\",\"Other\",\"Other\",\"Other\",\" Buritis\",\"Other\",\"Other\",\"Other\",\" Serra\",\"Other\",\"Other\",\" Sagrada Fam\\u00edlia\",\" Santo Ant\\u00f4nio\",\"Other\",\" Buritis\",\" Funcion\\u00e1rios\",\"Other\",\"Other\",\" Serra\",\"Other\",\" Buritis\",\"Other\",\" Santo Agostinho\",\"Other\",\" Buritis\",\" Savassi\",\"Other\",\"Other\",\" Buritis\",\"Other\",\" Santo Ant\\u00f4nio\",\" Buritis\",\"Other\",\"Other\",\" Lourdes\",\"Other\",\"Other\",\"Other\",\" Savassi\",\" Sagrada Fam\\u00edlia\",\"Other\",\" Funcion\\u00e1rios\",\" Lourdes\",\" Funcion\\u00e1rios\",\"Other\",\"Other\",\" Funcion\\u00e1rios\",\"Other\",\"Other\",\" Sagrada Fam\\u00edlia\",\"Other\",\"Other\",\"Other\",\"Other\",\" Santo Ant\\u00f4nio\",\" Centro\",\" Santo Agostinho\",\" Buritis\",\"Other\",\"Other\",\" Buritis\",\"Other\",\" Santo Ant\\u00f4nio\",\"Other\",\" Sion\",\" Serra\",\" Serra\",\" Serra\",\" Serra\",\" Sion\",\"Other\",\"Other\",\"Other\",\" Sion\",\"Other\",\" Serra\",\"Other\",\"Other\",\"Other\",\"Other\",\"Other\",\" Lourdes\",\" Santo Ant\\u00f4nio\",\" Centro\",\"Other\",\" Sion\",\"Other\",\"Other\",\"Other\",\" Buritis\",\"Other\",\" Santo Ant\\u00f4nio\",\" Serra\",\" Serra\",\" Serra\",\"Other\",\" Funcion\\u00e1rios\",\" Serra\",\" Santo Agostinho\",\"Other\",\" Santo Agostinho\",\" Sagrada Fam\\u00edlia\",\" Santo Agostinho\",\" Funcion\\u00e1rios\",\" Santo Agostinho\",\"Other\",\"Other\",\"Other\",\"Other\",\"Other\",\" Buritis\",\" Funcion\\u00e1rios\",\" Buritis\",\" Buritis\",\"Other\",\"Other\",\"Other\",\"Other\",\"Other\",\"Other\",\" Sion\",\"Other\",\" Lourdes\",\" Sion\",\" Buritis\",\" Buritis\",\" Buritis\",\" Sion\",\" Santo Agostinho\",\" Santo Agostinho\",\" Santo Agostinho\",\" Santo Ant\\u00f4nio\",\"Other\",\"Other\",\" Buritis\",\" Buritis\",\"Other\",\"Other\",\" Santo Agostinho\",\"Other\",\"Other\",\"Other\",\"Other\",\"Other\",\" Centro\",\" Buritis\",\" Funcion\\u00e1rios\",\"Other\",\"Other\",\" Buritis\",\" Buritis\",\"Other\",\"Other\",\" Lourdes\",\" Serra\",\"Other\",\" Serra\",\"Other\",\" Santo Agostinho\",\"Other\",\"Other\",\"Other\",\" Santo Agostinho\",\" Buritis\",\" Sagrada Fam\\u00edlia\",\" Sagrada Fam\\u00edlia\",\" Sagrada Fam\\u00edlia\",\"Other\",\" Funcion\\u00e1rios\",\" Sagrada Fam\\u00edlia\",\" Santo Agostinho\",\"Other\",\"Other\",\" Funcion\\u00e1rios\",\" Sagrada Fam\\u00edlia\",\" Santo Agostinho\",\" Santo Agostinho\",\" Lourdes\",\"Other\",\" Funcion\\u00e1rios\",\" Sagrada Fam\\u00edlia\",\"Other\",\" Buritis\",\" Buritis\",\"Other\",\" Buritis\",\"Other\",\" Sagrada Fam\\u00edlia\",\" Santo Ant\\u00f4nio\",\"Other\",\"Other\",\"Other\",\" Savassi\",\" Savassi\",\"Other\",\"Other\",\"Other\",\"Other\",\"Other\",\" Savassi\",\" Buritis\",\"Other\",\"Other\",\" Santo Ant\\u00f4nio\",\" Serra\",\"Other\",\"Other\",\" Sion\",\" Buritis\",\"Other\",\" Funcion\\u00e1rios\",\"Other\",\"Other\",\" Serra\",\"Other\",\"Other\",\"Other\",\"Other\",\"Other\",\"Other\",\"Other\",\" Santo Agostinho\",\" Sagrada Fam\\u00edlia\",\"Other\",\"Other\",\"Other\",\" Buritis\",\"Other\",\"Other\",\" Lourdes\",\" Santo Agostinho\",\" Buritis\",\"Other\",\" Santo Agostinho\",\" Buritis\",\"Other\",\" Savassi\",\" Santo Ant\\u00f4nio\",\"Other\",\" Buritis\",\"Other\",\" Santo Ant\\u00f4nio\",\"Other\",\" Lourdes\",\" Santo Ant\\u00f4nio\",\"Other\",\"Other\",\" Sagrada Fam\\u00edlia\",\"Other\",\"Other\",\" Sagrada Fam\\u00edlia\",\"Other\",\"Other\",\"Other\",\" Santo Agostinho\",\" Lourdes\",\" Buritis\",\" Savassi\",\" Buritis\",\" Santo Ant\\u00f4nio\",\"Other\",\"Other\",\"Other\",\"Other\",\" Sion\",\"Other\",\"Other\",\" Buritis\",\"Other\",\"Other\",\" Lourdes\",\" Sagrada Fam\\u00edlia\",\"Other\",\"Other\",\"Other\",\" Sagrada Fam\\u00edlia\",\"Other\",\" Buritis\",\"Other\",\"Other\",\"Other\",\"Other\",\" Lourdes\",\"Other\",\" Sagrada Fam\\u00edlia\",\" Buritis\",\"Other\",\"Other\",\"Other\",\" Savassi\",\" Sagrada Fam\\u00edlia\",\"Other\",\"Other\",\"Other\",\"Other\",\" Buritis\",\"Other\",\" Funcion\\u00e1rios\",\" Santo Ant\\u00f4nio\",\"Other\",\" Lourdes\",\"Other\",\" Savassi\",\"Other\",\"Other\",\" Buritis\",\" Buritis\",\" Sagrada Fam\\u00edlia\",\" Centro\",\"Other\",\" Serra\",\"Other\",\"Other\",\" Sagrada Fam\\u00edlia\",\"Other\",\" Buritis\",\" Santo Ant\\u00f4nio\",\" Funcion\\u00e1rios\",\"Other\",\" Buritis\",\" Savassi\",\" Serra\",\" Lourdes\",\"Other\",\" Funcion\\u00e1rios\",\"Other\",\"Other\",\" Buritis\",\" Funcion\\u00e1rios\",\"Other\",\"Other\",\" Santo Agostinho\",\"Other\",\" Santo Ant\\u00f4nio\",\"Other\",\" Sion\",\" Lourdes\",\" Lourdes\",\"Other\",\"Other\",\" Buritis\",\" Savassi\",\" Savassi\",\" Santo Ant\\u00f4nio\",\"Other\",\" Sagrada Fam\\u00edlia\",\" Santo Ant\\u00f4nio\",\" Lourdes\",\" Santo Agostinho\",\" Lourdes\",\" Sagrada Fam\\u00edlia\",\" Santo Agostinho\",\"Other\",\" Sagrada Fam\\u00edlia\",\" Sagrada Fam\\u00edlia\",\"Other\",\"Other\",\"Other\",\"Other\",\" Funcion\\u00e1rios\",\" Serra\",\"Other\",\"Other\",\" Centro\",\"Other\",\"Other\",\" Santo Ant\\u00f4nio\",\" Savassi\",\"Other\",\"Other\",\" Sion\",\"Other\",\"Other\",\"Other\",\" Savassi\",\"Other\",\" Sion\",\" Centro\",\" Sagrada Fam\\u00edlia\",\" Lourdes\",\" Sagrada Fam\\u00edlia\",\"Other\",\"Other\",\" Sion\",\" Serra\",\" Santo Ant\\u00f4nio\",\"Other\",\" Serra\",\" Lourdes\",\" Buritis\",\"Other\",\" Santo Ant\\u00f4nio\",\" Sagrada Fam\\u00edlia\",\"Other\",\" Santo Ant\\u00f4nio\",\"Other\",\" Serra\",\"Other\",\" Sion\",\"Other\",\"Other\",\" Serra\",\" Centro\",\" Sagrada Fam\\u00edlia\",\"Other\",\" Centro\",\"Other\",\"Other\",\" Funcion\\u00e1rios\",\" Savassi\",\" Sion\",\" Sion\",\" Santo Ant\\u00f4nio\",\"Other\",\" Santo Ant\\u00f4nio\",\"Other\",\" Sagrada Fam\\u00edlia\",\"Other\",\" Serra\",\"Other\",\"Other\",\"Other\",\" Santo Ant\\u00f4nio\",\" Buritis\",\"Other\",\"Other\",\"Other\",\" Santo Agostinho\",\"Other\",\" Buritis\",\" Funcion\\u00e1rios\",\"Other\",\" Buritis\",\" Sion\",\" Santo Agostinho\",\" Sion\",\" Santo Ant\\u00f4nio\",\" Sagrada Fam\\u00edlia\",\" Buritis\",\"Other\",\" Lourdes\",\" Sagrada Fam\\u00edlia\",\"Other\",\"Other\",\"Other\",\"Other\",\" Savassi\",\"Other\",\" Sagrada Fam\\u00edlia\",\"Other\",\"Other\",\"Other\",\" Buritis\",\"Other\",\" Centro\",\" Buritis\",\" Serra\",\"Other\",\"Other\",\" Savassi\",\"Other\",\" Santo Ant\\u00f4nio\",\"Other\",\" Funcion\\u00e1rios\",\"Other\",\"Other\",\"Other\",\" Serra\",\" Buritis\",\"Other\",\"Other\",\" Buritis\",\"Other\",\" Savassi\",\"Other\",\"Other\",\" Sagrada Fam\\u00edlia\",\"Other\",\"Other\",\"Other\",\" Santo Ant\\u00f4nio\",\"Other\",\" Sion\",\"Other\",\" Serra\",\"Other\",\" Buritis\",\" Centro\",\" Buritis\",\"Other\",\" Savassi\",\" Sagrada Fam\\u00edlia\",\"Other\",\" Serra\",\"Other\",\"Other\",\"Other\",\"Other\",\" Buritis\",\"Other\",\"Other\",\"Other\",\" Sagrada Fam\\u00edlia\",\"Other\",\"Other\",\"Other\",\" Savassi\",\"Other\",\"Other\",\" Lourdes\",\"Other\",\"Other\",\" Buritis\",\"Other\",\"Other\",\"Other\",\"Other\",\" Buritis\",\"Other\",\"Other\",\" Santo Agostinho\",\"Other\",\"Other\",\" Buritis\",\"Other\",\" Santo Ant\\u00f4nio\",\"Other\",\" Savassi\",\"Other\",\"Other\",\" Serra\",\"Other\",\"Other\",\" Sagrada Fam\\u00edlia\",\" Serra\",\" Buritis\",\" Buritis\",\"Other\",\" Sion\",\" Sion\",\" Serra\",\"Other\",\" Buritis\",\" Buritis\",\"Other\",\" Santo Ant\\u00f4nio\",\"Other\",\" Santo Agostinho\",\"Other\",\" Centro\",\" Centro\",\"Other\",\"Other\",\" Sagrada Fam\\u00edlia\",\"Other\",\"Other\",\"Other\",\" Sagrada Fam\\u00edlia\",\" Lourdes\",\"Other\",\"Other\",\"Other\",\" Buritis\",\" Buritis\",\"Other\",\"Other\",\"Other\",\" Sagrada Fam\\u00edlia\",\" Lourdes\",\"Other\",\" Serra\",\" Santo Ant\\u00f4nio\",\" Funcion\\u00e1rios\",\"Other\",\"Other\",\"Other\",\" Centro\",\"Other\",\"Other\",\" Serra\",\"Other\",\"Other\",\"Other\",\"Other\",\"Other\",\"Other\",\"Other\",\" Funcion\\u00e1rios\",\"Other\",\"Other\",\" Serra\",\" Santo Ant\\u00f4nio\",\" Buritis\",\"Other\",\" Santo Ant\\u00f4nio\",\" Sion\",\" Sagrada Fam\\u00edlia\",\"Other\",\" Funcion\\u00e1rios\",\"Other\",\" Santo Ant\\u00f4nio\",\"Other\",\" Santo Ant\\u00f4nio\",\" Santo Agostinho\",\"Other\",\"Other\",\"Other\",\"Other\",\"Other\",\"Other\",\"Other\",\" Sion\",\"Other\",\"Other\",\" Serra\",\"Other\",\"Other\",\" Sagrada Fam\\u00edlia\",\"Other\",\"Other\",\" Sagrada Fam\\u00edlia\",\"Other\",\" Sagrada Fam\\u00edlia\",\"Other\",\"Other\",\" Lourdes\",\"Other\",\"Other\",\"Other\",\"Other\",\"Other\",\" Buritis\",\" Centro\",\"Other\",\" Funcion\\u00e1rios\",\" Serra\",\" Sagrada Fam\\u00edlia\",\"Other\",\"Other\",\"Other\",\"Other\",\"Other\",\"Other\",\"Other\",\"Other\",\"Other\",\"Other\",\"Other\",\"Other\",\"Other\",\" Lourdes\",\" Centro\",\"Other\",\" Buritis\",\"Other\",\" Sagrada Fam\\u00edlia\",\"Other\",\"Other\",\" Savassi\",\"Other\",\"Other\",\"Other\",\"Other\",\" Centro\",\"Other\",\"Other\",\"Other\",\" Sion\",\"Other\",\"Other\",\"Other\",\" Sagrada Fam\\u00edlia\",\" Buritis\",\"Other\",\"Other\",\" Funcion\\u00e1rios\",\" Lourdes\",\" Santo Ant\\u00f4nio\",\"Other\",\"Other\",\"Other\",\"Other\",\" Sagrada Fam\\u00edlia\",\"Other\",\"Other\",\"Other\",\"Other\",\" Santo Agostinho\",\" Buritis\",\" Savassi\",\" Buritis\",\"Other\",\"Other\",\" Buritis\",\"Other\",\"Other\",\"Other\",\"Other\"]}],\"hovertemplate\":\"%{xaxis.title.text}=%{x}<br>%{yaxis.title.text}=%{y}<br>price=%{marker.color}<extra></extra>\",\"legendgroup\":\"\",\"marker\":{\"color\":[330000.0,480000.0,1190000.0,1590000.0,550000.0,450000.0,861748.0,549900.0,890000.0,310000.0,311000.0,975000.0,826000.0,1027000.0,180000.0,800000.0,560000.0,385000.0,280000.0,495000.0,750000.0,650000.0,380000.0,1950000.0,400000.0,390000.0,2025000.0,890000.0,380000.0,358000.0,545000.0,850000.0,300000.0,695416.0,350000.0,620000.0,290000.0,320000.0,600000.0,969619.0,398000.0,495000.0,930000.0,740000.0,1075036.4012770962,649900.0,319000.0,670000.0,1150000.0,690000.0,535000.0,670500.0,315000.0,1030000.0,1320000.0,230000.0,130000.0,854000.0,1263492.0,625000.0,388000.0,1350000.0,530000.0,598000.0,530000.0,1075036.4012770962,495000.0,160000.0,750000.0,495000.0,1100000.0,670000.0,1298925.0,410000.0,420000.0,1680000.0,312000.0,180000.0,1900000.0,550000.0,214000.0,560000.0,1400000.0,280000.0,844900.0,884290.0,1111500.0,155000.0,1300000.0,250000.0,220000.0,1055414.0,750000.0,330000.0,2300000.0,1150000.0,620000.0,680000.0,1202181.0,780000.0,555000.0,1350000.0,54000.0,1137069.0,530000.0,1500000.0,850000.0,365000.0,895240.0,175000.0,558000.0,200000.0,1050000.0,650000.0,565000.0,290000.0,465000.0,196000.0,429000.0,1075036.4012770962,420000.0,235000.0,985000.0,1500000.0,1390000.0,725503.0,520000.0,625000.0,215000.0,1950000.0,400000.0,230000.0,705929.0,779000.0,1200000.0,850000.0,620000.0,1590000.0,150000.0,1075036.4012770962,279000.0,980000.0,1850000.0,335000.0,420000.0,660000.0,877158.0,500000.0,1395000.0,2000000.0,1399999.0,1200000.0,250000.0,1075036.4012770962,650000.0,1200000.0,390000.0,1100000.0,599000.0,1500000.0,1075036.4012770962,960000.0,700000.0,590000.0,1235000.0,200000.0,1075036.4012770962,399000.0,439800.0,750000.0,265000.0,750000.0,790000.0,330000.0,149900.0,860000.0,340000.0,400000.0,420000.0,1075036.4012770962,1300000.0,200000.0,192000.0,950000.0,528600.0,428000.0,238000.0,999000.0,689000.0,330000.0,394000.0,700000.0,1075036.4012770962,498000.0,780000.0,1950000.0,2200000.0,1140000.0,1075036.4012770962,1490000.0,350000.0,660000.0,1800000.0,1075036.4012770962,200000.0,399000.0,188000.0,299000.0,990000.0,1250000.0,1731801.0,470000.0,145000.0,750000.0,430000.0,715000.0,1019875.0,1969136.0,797000.0,490000.0,850000.0,750000.0,440000.0,1926120.0,310000.0,589000.0,260000.0,350000.0,195000.0,1779000.0,1053338.0,900000.0,2390000.0,262000.0,1000000.0,320000.0,689000.0,185000.0,950000.0,149900.0,178000.0,625000.0,540000.0,77000.0,890000.0,275000.0,630000.0,865338.0,700000.0,230000.0,500000.0,385000.0,504444.0,620000.0,245000.0,829000.0,548000.0,179000.0,680000.0,1080000.0,1500000.0,980000.0,400000.0,753200.0,700000.0,449000.0,805000.0,1075036.4012770962,590000.0,1100000.0,1500.0,380000.0,1075036.4012770962,1750000.0,1900000.0,595000.0,490000.0,1200000.0,408000.0,1002000.0,890000.0,650000.0,420000.0,1100000.0,1551806.0,460000.0,840000.0,1080000.0,2200.0,649000.0,590000.0,4800.0,520000.0,610000.0,735000.0,600000.0,710000.0,1980000.0,1422940.0,1500.0,400000.0,1250000.0,658000.0,914000.0,1408950.0,750000.0,400000.0,2500.0,1075036.4012770962,420000.0,250000.0,1400000.0,1300.0,220000.0,1075036.4012770962,400000.0,180000.0,235000.0,620000.0,639000.0,478000.0,450000.0,325000.0,450000.0,648154.0,1380000.0,850000.0,590000.0,190000.0,490000.0,680000.0,4500.0,760000.0,300000.0,689000.0,335500.0,498000.0,1260000.0,219000.0,420000.0,950000.0,300000.0,750000.0,700000.0,1290000.0,1075036.4012770962,590000.0,695000.0,749000.0,600000.0,850000.0,710000.0,750000.0,850000.0,760000.0,420000.0,530000.0,1075036.4012770962,450000.0,530000.0,2350000.0,890000.0,1150000.0,355074.0,253000.0,365000.0,1189300.0,1350000.0,1075036.4012770962,1200000.0,1890000.0,229700.0,330000.0,2306860.0,290000.0,230000.0,1230000.0,1280000.0,699000.0,575000.0,382007.0,1600000.0,780000.0,549000.0,230000.0,196490.0,550000.0,840000.0,429000.0,450000.0,890000.0,1075036.4012770962,245000.0,800000.0,410000.0,171000.0,480000.0,590000.0,600000.0,775000.0,243490.0,1990000.0,319000.0,1075036.4012770962,380000.0,1180000.0,2300000.0,2050000.0,650000.0,625000.0,1490000.0,359999.0,1180000.0,1075036.4012770962,250000.0,419600.0,1075036.4012770962,289900.0,1500000.0,1350000.0,4300.0,1075036.4012770962,2045000.0,1850000.0,600000.0,650000.0,550000.0,1075036.4012770962,390000.0,280000.0,980000.0,1920000.0,570000.0,808500.0,177990.0,1075036.4012770962,550000.0,360000.0,165000.0,480000.0,219000.0,630000.0,176990.0,290000.0,650000.0,5200.0,999000.0,640000.0,168480.0,390000.0,1722200.0,175000.0,250000.0,168490.0,101557.0,1890000.0,1350000.0,460000.0,161900.0,2198000.0,1075036.4012770962,560000.0,310000.0,580000.0,1075036.4012770962,394000.0,650000.0,2350000.0,560000.0,1390000.0,154490.0,369000.0,550000.0,950000.0,146690.0,1850000.0,680000.0,480000.0,275000.0,730000.0,1150000.0,225000.0,360000.0,320000.0,155000.0,2295000.0,156690.0,780000.0,870000.0,1050000.0,1075036.4012770962,410000.0,1200000.0,950000.0,680000.0,162490.0,890000.0,250000.0,6000.0,890000.0,510000.0,149900.0,185000.0,450000.0,850000.0,350000.0,269000.0,350000.0,144490.0,1350000.0,149000.0,650000.0,339999.0,430000.0,1350000.0,640000.0,1075036.4012770962,585000.0,290000.0,790000.0,1950.0,360000.0,1075036.4012770962,800000.0,260000.0,655000.0,887000.0,800000.0,130000.0,480000.0,429000.0,1150000.0,495000.0,580000.0,600000.0,650000.0,1980000.0,225000.0,350000.0,340000.0,232890.0,595000.0,450000.0,578900.0,690000.0,260000.0,780000.0,795000.0,2200000.0,2290000.0,1499000.0,1790000.0,318800.0,830000.0,415000.0,849000.0,650000.0,2350000.0,1790000.0,230000.0,850000.0,499000.0,230000.0,4500.0,455000.0,300000.0,550000.0,631300.0,1272600.0,790000.0,1100000.0,1440000.0,550000.0,190000.0,280000.0,528000.0,200000.0,299999.0,960000.0,175000.0,649000.0,430000.0,1200.0,2060000.0,1300.0,1490000.0,380000.0,1350000.0,370000.0,575000.0,453000.0,640000.0,290000.0,170000.0,636000.0,700000.0,490000.0,200000.0,1200000.0,1250000.0,2300000.0,360000.0,530000.0,1700000.0,239000.0,420000.0,850000.0,700000.0,750000.0,329000.0,520000.0,1390000.0,1346000.0,2700.0,180000.0,460000.0,980000.0,2300000.0,645000.0,1450000.0,379000.0,695000.0,520000.0,629000.0,1590000.0,350000.0,690000.0,380000.0,299900.0,970000.0,260000.0,636000.0,550000.0,210000.0,990000.0,998000.0,420000.0,280000.0,269000.0,1460000.0,320000.0,530000.0,340000.0,420000.0,301122.0,1850000.0,550000.0,2250000.0,690000.0,360000.0,298000.0,1490000.0,690000.0,687330.0,490000.0,980000.0,235000.0,3500.0,390000.0,694300.0,1900000.0,350000.0,1150000.0,780000.0,270000.0,222000.0,850000.0,300000.0,345000.0,1750000.0,210000.0,535000.0,470000.0,600000.0,950000.0,672000.0,169500.0,480000.0,585000.0,1230000.0,315000.0,1800000.0,1400000.0,160000.0,439000.0,570000.0,590000.0,310000.0,1250000.0,650000.0,360000.0,330000.0,280000.0,330000.0,1400000.0,451000.0,1100000.0,1700000.0,6500.0,335000.0,450000.0,1490000.0,780000.0,250000.0,1750.0,3000.0,450000.0,560000.0,960000.0,1600000.0,1350000.0,800000.0,650000.0,167000.0,998000.0,850000.0,270000.0,1100000.0,320000.0,1290000.0,620000.0,435000.0,1100000.0,450000.0,266900.0,180000.0,330000.0,1250000.0,600000.0,1380000.0,1101764.0,535000.0,1250000.0,1440000.0,1100000.0,480000.0,800000.0,398000.0,1000000.0,980000.0,210000.0,1600000.0,1450000.0,1500.0,500000.0,276800.0,1685000.0,730000.0,349000.0,890000.0,495000.0,798000.0,450000.0,350000.0,14000.0,420000.0,265000.0,580000.0,2280000.0,1080000.0,1000000.0,780000.0,320000.0,595000.0,1600000.0,1500000.0,2050000.0,1599000.0,515000.0,450000.0,330000.0,799000.0,319000.0,590000.0,930000.0,850000.0,450000.0,1070000.0,215000.0,839000.0,515000.0,273000.0,895000.0,550000.0,1300000.0,370000.0,389000.0,1450000.0,410000.0,980000.0,389000.0,230000.0,1270000.0,200000.0,320000.0,395000.0,800000.0,680000.0,489000.0,660000.0,199000.0,1390000.0,360000.0,220000.0,1600000.0,435000.0,240000.0,390000.0,330000.0,1060000.0,414500.0,568000.0,300000.0,549000.0,740000.0,252025.0,1050000.0,1100000.0,220000.0,559999.0,350000.0,305000.0,1390000.0,700000.0,998000.0,535000.0,900000.0,865250.0,1350000.0,1600000.0,990000.0,1200000.0,370000.0,1440000.0,460000.0,290000.0,489000.0,495000.0,949000.0,790000.0,3500.0,690000.0,465000.0,1200000.0,890000.0,299000.0,410000.0,430000.0,1700000.0,2250000.0,269000.0,590000.0,1850000.0,600000.0,340000.0,350000.0,590000.0,1590000.0,649000.0,690000.0,1040000.0,495000.0,569000.0,460000.0,210000.0,295000.0,799000.0,1450000.0,399000.0,590000.0,520000.0,699000.0,445000.0,760000.0,750000.0,290000.0,1232000.0,450000.0,555000.0,740000.0,249900.0,500000.0,1290000.0,900000.0,1500000.0,510000.0,1250000.0,1230000.0,360000.0,649000.0,1520000.0,300000.0,340000.0,220000.0,1800000.0,400000.0,580000.0,680000.0,1800.0,820000.0,299000.0,595000.0,160000.0,1590000.0,680000.0,360000.0,95000.0,918800.0,1580000.0,424900.0,380000.0,4500.0,1580000.0,235000.0,1400000.0,590000.0,630000.0,990000.0,980000.0,330000.0,530000.0,2300000.0,650000.0,1900000.0,160000.0,1590000.0,150220.0,490000.0,840000.0,550000.0,500000.0,390000.0,920000.0,380000.0,778000.0,699000.0,300000.0,950000.0,450000.0,290000.0,295000.0,600000.0,190000.0,1500000.0,700000.0,600000.0,1300.0,590000.0,185000.0,450000.0,199000.0,1350000.0,430000.0,750000.0,410000.0,795000.0,232000.0,1550000.0,269000.0,450000.0,550000.0,350000.0,315000.0,850000.0,850000.0,1200000.0,390000.0,420000.0,360000.0,670000.0,750.0,330000.0,150000.0,530000.0,1780000.0,989000.0,350000.0,350000.0,680000.0,215000.0,730000.0,1500000.0,210000.0,579900.0,700000.0,459000.0,1650000.0,520000.0,430000.0,485000.0,1150000.0,777000.0,498000.0,295000.0,350000.0,469000.0,2270000.0,375000.0,430000.0,1595000.0,90000.0,1490000.0,170000.0,2200000.0,480000.0,175000.0,190000.0,170000.0,1200000.0,1198000.0,2300000.0,1080000.0,1800000.0,245000.0,180000.0,385000.0,380000.0,940000.0,1299000.0,460000.0,449000.0,500000.0,480000.0,220000.0,670000.0,660000.0,720000.0,2170000.0,810000.0,4800.0,350000.0,799999.0,490000.0,90000.0,630000.0,300000.0,360000.0,535000.0,239000.0,1498244.0,730000.0,860000.0,895000.0,947000.0,555000.0,510000.0,380000.0,420000.0,1200000.0,250000.0,600000.0,417000.0,250000.0,585000.0,1650000.0,950000.0,390000.0,450000.0,1290000.0,850000.0,700000.0,185000.0,1100000.0,355000.0,740000.0,790000.0,420000.0,1150000.0,950000.0,160000.0,830000.0,599000.0,1300000.0,550000.0,295000.0,980000.0,1490000.0,1250000.0,800000.0,375000.0,590000.0,630000.0,790000.0,420000.0,3000.0,1270000.0,930000.0,335000.0,790000.0,595000.0,140000.0,560700.0,290000.0,540000.0,240000.0,500000.0,280000.0,1250000.0,1150000.0,595000.0,1200.0,1700000.0,690000.0,190000.0,850000.0,1300.0,295000.0,720000.0,850000.0,240000.0,925000.0,1463300.0,820000.0,1280000.0,130000.0,249000.0,469000.0,415000.0,315000.0,150000.0,1150000.0,370000.0,1680000.0,790000.0,650000.0,520000.0,690000.0,185000.0,640000.0,600000.0,270000.0,210000.0,329000.0,1549000.0,730000.0,160000.0,388500.0,230000.0,1500000.0,430000.0,480000.0,570000.0,1300000.0,259700.0,1300000.0,540000.0,1850000.0,485000.0,460000.0,350000.0,470000.0,535000.0,1025000.0,2100000.0,6900.0,350000.0,1650000.0,1670000.0,1300000.0,240000.0,249000.0,1200000.0,135000.0,1200000.0,950000.0,799000.0,155000.0,390000.0,1780000.0,2157360.0,590000.0,120000.0,390000.0,495000.0,425000.0,779000.0,190000.0,240000.0,1349000.0,600000.0,1240000.0,730000.0,575000.0,600000.0,210000.0,360000.0,350000.0,425000.0,590000.0,850000.0,860000.0,970000.0,485000.0,897000.0,1615000.0,320000.0,895000.0,760000.0,780000.0,245000.0,280000.0,159000.0,1580000.0,1430000.0,550000.0,380000.0,120000.0,150000.0,620000.0,250000.0,320000.0,399000.0,880000.0,1330000.0,1850000.0,450000.0,365000.0,530000.0,995000.0,175000.0,1400000.0,1250000.0,400000.0,2060000.0,255000.0,850000.0,620000.0,190000.0,1800000.0,478000.0,2081000.0,1140000.0,599000.0,788000.0,340000.0,730000.0,175000.0,300000.0,430000.0,450000.0,676000.0,215000.0,1300000.0,1200000.0,399000.0,764000.0,395000.0,1950000.0,1780000.0,1690000.0,715000.0,980000.0,990000.0,550000.0,1200000.0,645000.0,460000.0,680000.0,1600000.0,380000.0,690000.0,950000.0,880000.0,269000.0,232000.0,448000.0,600000.0,1790000.0,710000.0,569000.0,229000.0,1423000.0,890000.0,1300000.0,430000.0,159000.0,725000.0,240000.0,539164.0,980000.0,881500.0,199000.0,669900.0,550000.0,636000.0,189000.0,565000.0,329000.0,370000.0,1800000.0,735000.0,330000.0,296500.0,2100000.0,410000.0,480000.0,490000.0,530000.0,135000.0,760000.0,399000.0,1549990.0,1890000.0,120000.0,205000.0,1800000.0,1500000.0,910570.0,310000.0,253000.0,800000.0,1000000.0,960000.0,840000.0,720000.0,278000.0,1600000.0,250000.0,850000.0,315000.0,280000.0,269000.0,820780.0,279000.0,255000.0,1200000.0,839000.0,460000.0,840000.0,745000.0,350000.0,620000.0,386000.0,280000.0,1980000.0,690000.0,1180000.0,410000.0,199900.0,259000.0,950000.0,2200000.0,1200.0,350000.0,1595000.0,580000.0,968000.0,630000.0,2300000.0,680000.0,2150500.0,1120030.0,229000.0,900000.0,760000.0,700.0,914000.0,860000.0,830000.0,585000.0,550000.0,840000.0,560000.0,250000.0,400000.0,849000.0,1180000.0,790000.0,1300000.0,850000.0,430000.0,730000.0,1150000.0,1650000.0,220000.0,205000.0,730000.0,700000.0,212000.0,650000.0,549000.0,1500000.0,1000.0,1885000.0,890000.0,590000.0,300000.0,645000.0,110000.0,1060000.0,989850.0,180000.0,570000.0,350000.0,177500.0,980000.0,547000.0,1500000.0,350000.0,1100000.0,490000.0,690000.0,13000.0,470000.0,1700000.0,330000.0,720000.0,1060000.0,1200000.0,220000.0,281000.0,400000.0,250000.0,485000.0,580000.0,530000.0,4200.0,208000.0,1462400.0,390000.0,320000.0,990000.0,230000.0,1180000.0,970000.0,2200000.0,780000.0,1950000.0,560000.0,650000.0,1500000.0,260000.0,850000.0,420000.0,480000.0,730000.0,760000.0,1550000.0,380000.0,550000.0,330000.0,371000.0,2245000.0,1120000.0,425000.0,230000.0,680000.0,155000.0,770000.0,260000.0,1600000.0,1200000.0,350000.0,700000.0,570000.0,750000.0,450000.0,380000.0,560000.0,480000.0,14000.0,430000.0,412000.0,320000.0,890000.0,1790.0,450000.0,588000.0,370000.0,485000.0,800000.0,890000.0,950000.0,1260000.0,600000.0,370000.0,265000.0,920000.0,680000.0,320000.0,398000.0,280000.0,1200000.0,430000.0,225000.0,760000.0,896355.0,495000.0,990000.0,750000.0,850000.0,430000.0,820000.0,1000000.0,1180000.0,1500000.0,14000.0,811000.0,290000.0,2300000.0,329000.0,400000.0,780000.0,780000.0,850000.0,370000.0,690000.0,495000.0,850000.0,1800000.0,358000.0,450000.0,1865000.0,1215368.0,1390000.0,398000.0,298000.0,260000.0,225000.0,730000.0,1500000.0,240000.0,265000.0,2200000.0,730000.0,580000.0,235000.0,250000.0,453000.0,790000.0,950000.0,5000.0,220000.0,1700000.0,269000.0,450000.0,2000000.0,1360000.0,399000.0,160000.0,469000.0,385000.0,385000.0,975000.0,890000.0,1920000.0,899000.0,750000.0,1300000.0,690000.0,480000.0,765000.0,950000.0,1500000.0,690000.0,950000.0,230000.0,990000.0,1400000.0,2400.0,5100.0,430000.0,600000.0,395000.0,1895000.0,780000.0,450000.0,700000.0,530000.0,180000.0,1650000.0,2100000.0,274900.0,619000.0,215000.0,190000.0,350000.0,900000.0,420000.0,450000.0,750000.0,1950000.0,720000.0,680000.0,10000.0,850000.0,700000.0,2200000.0,450000.0,260000.0,380000.0,184000.0,700000.0,619000.0,960000.0,945000.0,285000.0,1150000.0,1500000.0,450000.0,469000.0,900000.0,450000.0,450000.0,1200000.0,1540000.0,620000.0,350000.0,440000.0,350000.0,720000.0,225000.0,800000.0,176500.0,600000.0,998000.0,2395000.0,310000.0,1600000.0,900000.0,1100000.0,1426000.0,1500000.0,2250000.0,1280000.0,672000.0,260000.0,612500.0,500000.0,230000.0,370000.0,1500000.0,1300000.0,998000.0,580000.0,250000.0,690000.0,970000.0,925000.0,490000.0,205000.0,1200000.0,1496903.0,250000.0,195000.0,1700000.0,239000.0,870000.0,879000.0,685000.0,1320000.0,1800000.0,1169129.0,1200000.0,630000.0,310000.0,320000.0,230000.0,2100000.0,320000.0,320000.0,1880000.0,800.0,2300000.0,399000.0,1500000.0,360000.0,249000.0,850000.0,339950.0,2050000.0,650000.0,550000.0,490000.0,749000.0,150000.0,625000.0,290000.0,450000.0,1500000.0,790000.0,350000.0,1150000.0,850000.0,209000.0,869000.0,670000.0,550000.0,1400000.0,250000.0,340000.0,1350000.0,330000.0,550000.0,445000.0,231000.0,580000.0,2380000.0,600000.0,600000.0,500000.0,230000.0,1450000.0,489000.0,880000.0,359000.0,1990000.0,1350000.0,365000.0,949000.0,1100000.0,269000.0,298000.0,1658500.0,550000.0,600000.0,2102109.0,490000.0,400000.0,920000.0,320000.0,1400000.0,480000.0,1800.0,470000.0,450000.0,1100000.0,173000.0,1000000.0,210000.0,949900.0,265000.0,415000.0,3900.0,370000.0,310000.0,190000.0,920000.0,240800.0,710000.0,965000.0,1328690.0,1150000.0,219000.0,580000.0,530000.0,280000.0,476000.0,1600000.0,1462400.0,1390000.0,391162.0,695000.0,1600000.0,345000.0,415000.0,426000.0,1990000.0,600000.0,530000.0,260000.0,345000.0,750000.0,600000.0,730000.0,1100000.0,690000.0,230000.0,2309000.0,1400000.0,650000.0,355000.0,690000.0,1160000.0,1170000.0,65000.0,440000.0,2300000.0,540000.0,280000.0,520000.0,180000.0,1400000.0,760000.0,2000000.0,160000.0,430000.0,420000.0,350000.0,530000.0,380000.0,1150000.0,1650000.0,750000.0,350000.0,650000.0,940000.0,300000.0,415000.0,350000.0,350000.0,390000.0,515000.0,625000.0,2200.0,870000.0,500000.0,500000.0,2025102.0,900000.0,890000.0,220000.0,350000.0,1170000.0,450000.0,1690000.0,1200000.0,1100000.0,2100000.0,590000.0,430000.0,1900000.0,1230000.0,1650000.0,650000.0,1250000.0,670000.0,1700000.0,680000.0,250000.0,650000.0,1044000.0,230000.0,1350000.0,3600.0,1200000.0,478000.0,330000.0,900000.0,1200000.0,1200000.0,685000.0,1990000.0,220000.0,295000.0,1143500.0,750000.0,750000.0,2700.0,170000.0,320000.0,620000.0,450000.0,298000.0,1987000.0,2100000.0,310000.0,420000.0,679950.0,229000.0,190000.0,1100000.0,620000.0,1750000.0,920000.0,495000.0,350000.0,339200.0,1890000.0,690000.0,450000.0,1690000.0,670000.0,260000.0,239000.0,811000.0,1680000.0,729000.0,180000.0,870000.0,780000.0,610000.0,1290000.0,750000.0,495000.0,270000.0,1350000.0,680000.0,175000.0,385000.0,580000.0,339999.0,1500000.0,260000.0,269000.0,190000.0,175000.0,798000.0,478000.0,445000.0,350000.0,495000.0,460000.0,550.0,520000.0,1550000.0,2095000.0,2250.0,1650000.0,1195000.0,159000.0,1400000.0,960000.0,795000.0,1150000.0,1490000.0,1500000.0,570000.0,1290000.0,1510000.0,770000.0,1290000.0,2150000.0,650000.0,399000.0,670000.0,1100000.0,220000.0,450000.0,685000.0,599500.0,640000.0,950000.0,483232.0,970000.0,430000.0,1600.0,205000.0,1250000.0,490000.0,1250000.0,1800000.0,620000.0,900000.0,380000.0,450000.0,900000.0,1590000.0,950000.0,325000.0,125000.0,652436.0,1200000.0,420000.0,369000.0,495000.0,289000.0,640000.0,690000.0,830000.0,950000.0,500000.0,388474.0,750000.0,850000.0,1200000.0,700000.0,220000.0,535243.0,270000.0,234000.0,155000.0,165000.0,610000.0,250000.0,900.0,2077200.0,258000.0,1280000.0,700000.0,519000.0,1100000.0,1850000.0,580000.0,750000.0,650000.0,590000.0,750000.0,180000.0,250000.0,2350000.0,500000.0,890000.0,480000.0,650000.0,220000.0,1650000.0,303000.0,650000.0,280000.0,329000.0,549000.0,325000.0,800000.0,246755.0,1100000.0,663157.0,350000.0,550000.0,780000.0,1450000.0,1000000.0,189000.0,1500000.0,370800.0,1700000.0,665000.0,560000.0,950000.0,1242600.0,580000.0,704256.0,285000.0,1500000.0,1390000.0,2090000.0,149000.0,1400000.0,480000.0,1800000.0,450000.0,490000.0,190000.0,890000.0,370000.0,572000.0,890000.0,429000.0,665000.0,497686.0,600000.0,850000.0,590000.0,489000.0,400000.0,440000.0,813000.0,950000.0,800000.0,870000.0,80000.0,320000.0,580000.0,800.0,680000.0,2000000.0,1400000.0,749000.0,1549990.0,250000.0,890000.0,798000.0,570000.0,750000.0,750000.0,294000.0,355000.0,1300000.0,300000.0,650000.0,1073774.0,450000.0,450000.0,1100000.0,728000.0,650000.0,2120000.0,1950000.0,1600000.0,750000.0,140000.0,1150000.0,165000.0,258000.0,499000.0,820000.0,1328000.0,430000.0,1580000.0,530000.0,380000.0,420000.0,1395000.0,270000.0,2345707.0,215000.0,330000.0,385000.0,550000.0,1350000.0,980000.0,330000.0,240000.0,685000.0,170000.0,400000.0,720000.0,265000.0,480000.0,899000.0,890000.0,860000.0,170000.0,900000.0,890000.0,896000.0,320000.0,280000.0,1099000.0,280000.0,650000.0,1790000.0,900000.0,995000.0,1395000.0,1850000.0,700000.0,850000.0,480000.0,680000.0,918800.0,1765800.0,134305.0,350000.0,850000.0,1273725.0,320000.0,1120000.0,490000.0,966000.0,420000.0,175000.0,430000.0,1380000.0,980000.0,260000.0,680000.0,427722.0,310000.0,480000.0,310000.0,300000.0,250000.0,340000.0,991137.0,1522000.0,980000.0,795000.0,300000.0,902070.0,1694124.0,390000.0,900000.0,1820000.0,900000.0,1100000.0,950000.0,980000.0,970000.0,990000.0,560000.0,650000.0,270000.0,690000.0,410000.0,290000.0,240000.0,1564000.0,701100.0,1134000.0,1536000.0,920040.0,2300000.0,918800.0,700000.0,520000.0,228000.0,260000.0,920000.0,410000.0,360000.0,1480000.0,300000.0,790000.0,430000.0,589000.0,600000.0,990000.0,545000.0,245000.0,880000.0,470000.0,750000.0,620000.0,285545.0,340103.0,290000.0,189000.0,1200000.0,825000.0,1426000.0,350000.0,450000.0,655000.0,820000.0,550000.0,259850.0,359900.0,1697730.0,1300.0,303000.0,150000.0,1600000.0,950000.0,1500000.0,399000.0,832755.0,1299000.0,950000.0,1129008.0,640000.0,550000.0,895000.0,373060.0,340000.0,729000.0,300000.0,1550000.0,530000.0,1150000.0,1450000.0,870000.0,470000.0,310000.0,185000.0,1800000.0,300000.0,8000.0,325000.0,850000.0,750000.0,580000.0,240000.0,1650000.0,242000.0,380000.0,1200000.0,1100000.0,178500.0,1450000.0,650000.0,690000.0,2100.0,780000.0,10000.0,235000.0,539000.0,425000.0,381000.0,785000.0,450000.0,620000.0,320000.0,1890000.0,970000.0,350000.0,790000.0,199000.0,750000.0,250000.0,650000.0,1600000.0,490000.0,550000.0,510000.0,350000.0,2000000.0,958082.0,1505755.0,2216196.0,390000.0,630000.0,1000000.0,2300000.0,450000.0,210000.0,1200000.0,165000.0,1900.0,1650000.0,820000.0,435000.0,250000.0,385000.0,550000.0,559000.0,350500.0,371000.0,320000.0,450000.0,417000.0,725000.0,345000.0,575000.0,570000.0,360000.0,259000.0,780000.0,300000.0,420000.0,698000.0,290000.0,380000.0,800000.0,450000.0,215000.0,795000.0,949803.0,460000.0,639000.0,975000.0,220000.0,300000.0,595000.0,159000.0,690000.0,1200000.0,230000.0,490000.0,570000.0,1200000.0,975000.0,955000.0,315000.0,640000.0,1136000.0,2200000.0,490000.0,515000.0,430000.0,1680000.0,570000.0,378880.0,476000.0,795000.0,700000.0,750000.0,1590000.0,694300.0,2350000.0,780000.0,205900.0,382898.0,265000.0,1300000.0,950000.0,1369240.0,1940000.0,680000.0,1080000.0,1490000.0,940000.0,262000.0,410000.0,420000.0,285000.0,859000.0,5000.0,1500000.0,1610000.0,1524580.0,1998193.0,545000.0,13000.0,990000.0,475000.0,380000.0,283500.0,540000.0,1500000.0,890000.0,320000.0,270000.0,720000.0,690000.0,1200000.0,570000.0,700000.0,698000.0,25000.0,870000.0,225000.0,330000.0,290000.0,115000.0,379000.0,230000.0,790000.0,1150000.0,510000.0,2300000.0,270000.0,430000.0,330000.0,850000.0,1249000.0,980000.0,1380000.0,450000.0,850000.0,200000.0,650000.0,984006.0,1200000.0,550000.0,650000.0,550000.0,315000.0,835000.0,250000.0,1530000.0,810000.0,870000.0,319000.0,300000.0,980000.0,315000.0,277000.0,898000.0,530000.0,1850000.0,766500.0,1019025.0,310000.0,890000.0,689000.0,1600000.0,530000.0,1391068.0,950000.0,305000.0,760000.0,400000.0,265000.0,360000.0,1890000.0,447000.0,1180000.0,639000.0,1200000.0,1450000.0,320000.0,780000.0,260000.0,220000.0,1020000.0,1300000.0,590000.0,1940000.0,1400000.0,2000000.0,280000.0,2300000.0,290000.0,1030000.0,430000.0,379000.0,2280000.0,995000.0,2300000.0,1850000.0,1100000.0,430000.0,399999.0,218000.0,1800000.0,1600000.0,420000.0,1800000.0,395000.0,790000.0,499000.0,1650000.0,565000.0,730000.0,990000.0,540000.0,670000.0,350000.0,650000.0,270000.0,398000.0,680000.0,1360000.0,545000.0,560000.0,1495000.0,475000.0,2300000.0,1800000.0,450000.0,780000.0,570000.0,230000.0,259900.0,310000.0,510000.0,270000.0,1100000.0,2190000.0,550000.0,522000.0,1050000.0,585000.0,1480000.0,1100000.0,1350000.0,1120000.0,903201.0,700000.0,890000.0,840639.0,680000.0,350000.0,100000.0,505000.0,700000.0,1100000.0,1200000.0,1500000.0,1800000.0,290000.0,320000.0,330000.0,550000.0,425000.0,790000.0,880000.0,1100000.0,1150000.0,2180000.0,690000.0,752640.0,920000.0,250000.0,1600000.0,1150000.0,680000.0,200000.0,280024.0,2100000.0,1537903.0,828208.0,430000.0,1600000.0,490000.0,1780000.0,435000.0,1549000.0,1250000.0,245000.0,220000.0,1850000.0,750000.0,1550000.0,1900000.0,220000.0,1100000.0,318000.0,480000.0,460000.0,580000.0,1115000.0,2350000.0,1480000.0,297000.0,650000.0,880000.0,180000.0,360000.0,1049730.0,214600.0,296000.0,518000.0,910000.0,340000.0,450000.0,760000.0,547200.0,450000.0,169000.0,1960000.0,420000.0,450000.0,420000.0,600000.0,1050466.0,1054044.0,1370000.0,700000.0,420000.0,1450000.0,1490000.0,1630000.0,670000.0,300000.0,715000.0,1550000.0,1300000.0,640000.0,620000.0,590000.0,970000.0,545000.0,621000.0,375000.0,1049000.0,450000.0,316400.0,750000.0,60000.0,780000.0,819000.0,965100.0,365000.0,650000.0,467980.0,850000.0,2300000.0,619000.0,315000.0,649000.0,420000.0,240000.0,595000.0,1150000.0,800000.0,1700000.0,469000.0,490000.0,660000.0,175000.0,649000.0,330000.0,700000.0,850272.0,595000.0,400000.0,1470000.0,860000.0,303000.0,430000.0,1603000.0,1150000.0,760000.0,560000.0,620000.0,419000.0,400000.0,800000.0,850000.0,580000.0,950000.0,1580000.0,1328690.0,1150000.0,405670.0,1500000.0,159900.0,345000.0,1939000.0,1500000.0,1050000.0,750000.0,390000.0,1950000.0,649900.0,249000.0,540000.0,900000.0,450000.0,395000.0,380000.0,900000.0,598500.0,3900.0,350000.0,520000.0,320000.0,897000.0,1900000.0,1275000.0,210000.0,440000.0,1300000.0,649000.0,2300000.0,870000.0,295000.0,860000.0,2190000.0,1400000.0,350000.0,1399000.0,269776.0,600000.0,1890000.0,760000.0,1200000.0,470000.0,1244070.0,1350000.0,159000.0,1496903.0,830000.0,750000.0,489000.0,960000.0,1250000.0,580000.0,420000.0,1824810.0,450000.0,500000.0,8000.0,255000.0,690000.0,1250000.0,1060000.0,1750000.0,897919.0,681000.0,1300000.0,650000.0,1700000.0,490000.0,1200000.0,1580000.0,220000.0,450000.0,310000.0,1129008.0,750000.0,260000.0,299000.0,230000.0,890000.0,400000.0,590000.0,598000.0,150000.0,250000.0,835000.0,996811.0,600000.0,698000.0,660000.0,275400.0,269000.0,720000.0,865000.0,595000.0,590000.0,680000.0,1650000.0,405500.0,275000.0,525000.0,1960000.0,847500.0,1250000.0,600000.0,1100000.0,330000.0,1790000.0,1250000.0,880000.0,940000.0,2150000.0,450000.0,598594.0,801077.0,560000.0,1080681.0,190000.0,810000.0,850000.0,430000.0,1850000.0,500000.0,130000.0,673000.0,550000.0,1600000.0,285000.0,490000.0,990000.0,140000.0,647505.0,639000.0,360000.0,850000.0,750000.0,980000.0,950574.0,1500000.0,425000.0,2108173.0,549800.0,140000.0,648000.0,1750000.0,455000.0,1390000.0,390000.0,980000.0,950000.0,450.0,2350000.0,490000.0,1850000.0,200000.0,1898000.0,510000.0,1300000.0,240000.0,280000.0,1550000.0,320000.0,500000.0,280000.0,310000.0,600000.0,1550000.0,230000.0,1140000.0,550000.0,178000.0,460000.0,575000.0,450000.0,640000.0,999000.0,480000.0,320000.0,525000.0,360000.0,1250000.0,425000.0,790000.0,2290000.0,850000.0,450000.0,330000.0,300000.0,2270000.0,1250.0,710000.0,530000.0,700000.0,220000.0,698000.0,470000.0,298000.0,1500000.0,260000.0,700000.0,640000.0,305000.0,750000.0,750000.0,1134000.0,550000.0,1250000.0,430000.0,500000.0,1054028.0,1800000.0,750000.0,430000.0,580000.0,390000.0,1200000.0,680000.0,390000.0,549000.0,720000.0,590000.0,495000.0,394900.0,290000.0,420000.0,900000.0,550000.0,1031509.0,992850.0,450000.0,500000.0,165000.0,230000.0,750000.0,620000.0,525000.0,2180000.0,1058877.0,330000.0,699000.0,565000.0,450000.0,950000.0,1730000.0,350000.0,1800000.0,660000.0,955000.0,680000.0,350000.0,1201238.0,490000.0,1684019.0,1350000.0,1550000.0,499000.0,1230000.0,469000.0,450000.0,2100000.0,1200000.0,980000.0,1136000.0,759980.0,289000.0,1040000.0,489000.0,580000.0,720000.0,555000.0,890000.0,1300.0,1100000.0,950000.0,330000.0,319000.0,1600000.0,1180000.0,530000.0,530000.0,560000.0,618000.0,430000.0,50000.0,700000.0,129000.0,950000.0,720000.0,430000.0,178000.0,950000.0,860000.0,960000.0,580000.0,430000.0,415000.0,650000.0,680000.0,1300000.0,1100000.0,530000.0,480000.0,670000.0,299000.0,865000.0,630000.0,390000.0,650000.0,919000.0,580000.0,1239330.0,445000.0,630000.0,1050000.0,1248050.0,980000.0,2030000.0,1600000.0,530000.0,219500.0,650000.0,290000.0,790000.0,499000.0,320000.0,330000.0,1900000.0,800000.0,890000.0,1000000.0,450000.0,750000.0,110000.0,590000.0,395000.0,649000.0,1100.0,1790000.0,311000.0,447000.0,1800000.0,535000.0,460000.0,699000.0,499000.0,1322080.0,327000.0,550000.0,1000000.0,1570000.0,2100000.0,1800000.0,310000.0,1300000.0,298000.0,380000.0,1400000.0,480000.0,589720.0,335000.0,350000.0,660000.0,300000.0,260000.0,235000.0,1120000.0,1300000.0,430000.0,364000.0,830000.0,800000.0,249000.0,2000000.0,895000.0,849000.0,980000.0,1150000.0,480000.0,500000.0,2000000.0,395500.0,560000.0,670000.0,1250000.0,729200.0,720000.0,580000.0,395000.0,380000.0,380000.0,1340000.0,1600000.0,850000.0,1800.0,1490000.0,1324980.0,1250000.0,500000.0,1590000.0,499000.0,400000.0,720000.0,310000.0,580000.0,870000.0,1250000.0,350000.0,1200000.0,1200000.0,950000.0,410000.0,573103.0,900000.0,2200000.0,690000.0,929200.0,420000.0,510000.0,320000.0,404880.0,530000.0,390000.0,950000.0,225000.0,180000.0,1790000.0,417850.0,760000.0,1600000.0,1143000.0,830000.0,1400000.0,1300000.0,1350000.0,400000.0,652976.0,584860.0,420000.0,493500.0,850000.0,210000.0,540000.0,510000.0,1800000.0,212000.0,320000.0,1090000.0,430000.0,500000.0,395000.0,370000.0,1350000.0,495000.0,375000.0,1350000.0,500000.0,200000.0,295000.0,640000.0,1550000.0,1200000.0,450000.0,840000.0,1100000.0,837000.0,440000.0,1000000.0,750000.0,360000.0,580000.0,880000.0,830000.0,2050000.0,579000.0,360000.0,525000.0,930000.0,700000.0,680000.0,480000.0,1112334.0,580000.0,280000.0,690000.0,839000.0,310000.0,270000.0,450000.0,399000.0,2100000.0,1900000.0,325000.0,475000.0,493000.0,100000.0,350000.0,1690000.0,350000.0,525000.0,650000.0,1790000.0,110000.0,350000.0,650000.0,160000.0,380000.0,280000.0,900000.0,654167.0,580000.0,1200000.0,595000.0,290000.0,300000.0,670000.0,1080000.0,898000.0,110000.0,360000.0,250000.0,325000.0,2060000.0,530000.0,16000.0,1550000.0,230000.0,1890000.0,1959375.0,458000.0,160000.0,341000.0,650000.0,1541700.0,598594.0,275000.0,1180000.0,310000.0,958082.0,550000.0,2300000.0,2395000.0,800000.0,1335000.0,350000.0,750000.0,1400000.0,550000.0,4300.0,300000.0,270000.0,2900.0,289000.0,650000.0,648000.0,310000.0,485000.0,432960.0,760000.0,160000.0,650000.0,410000.0,370000.0,750000.0,100000.0,680000.0,490000.0,1150000.0,220000.0,520000.0,850000.0,92000.0,480000.0,1300000.0,700000.0,585000.0,790000.0,450000.0,1780000.0,1200000.0,660000.0,450000.0,720000.0,990000.0,850000.0,500000.0,325000.0,1690000.0,650000.0,850000.0,275000.0,2093000.0,120000.0,1318860.0,700000.0,1290000.0,700000.0,1199000.0,790000.0,480000.0,800000.0,185000.0,248000.0,465000.0,600000.0,690000.0,470000.0,140000.0,990000.0,2399000.0,719000.0,330000.0,650000.0,159000.0,185000.0,820000.0,1700000.0,820000.0,750000.0,2300000.0,660000.0,410000.0,900000.0,910000.0,850000.0,238000.0,621920.0,300000.0,300000.0,360000.0,2350000.0,469000.0,445000.0,540000.0,1549990.0,235000.0,1680000.0,346100.0,1250000.0,700000.0,355000.0,1808118.0,450000.0,995000.0,689000.0,960000.0,1866676.0,575000.0,314900.0,295000.0,590000.0,385000.0,1430000.0,987310.0,1100000.0,339900.0,680000.0,420000.0,150000.0,1037249.0,460000.0,460000.0,360000.0,800000.0,1759697.0,1040436.0,974095.0,1044864.0,270000.0,850000.0,400000.0,670000.0,820000.0,580000.0,1500000.0,550000.0,990000.0,189000.0,320000.0,250000.0,370000.0,739000.0,380000.0,430000.0,1980000.0,490000.0,490000.0,1320000.0,310000.0,340000.0,300000.0,1100000.0,1050000.0,900000.0,750000.0,280000.0,535000.0,381000.0,285000.0,692000.0,600000.0,270000.0,495000.0,2085520.0,1869150.0,1841527.0,760000.0,17500.0,1800000.0,470000.0,374900.0,450000.0,650000.0,225000.0,450000.0,485000.0,530000.0,1670000.0,1030000.0,678000.0,1600000.0,1490000.0,215000.0,1490000.0,1300000.0,1100000.0,1250000.0,278000.0,990000.0,1250000.0,180000.0,395000.0,1620000.0,735000.0,890000.0,450000.0,530000.0,350000.0,919000.0,210000.0,590000.0,350000.0,330000.0,699000.0,110000.0,287000.0,469000.0,780000.0,850000.0,610000.0,430000.0,870000.0,459000.0,1500000.0,350000.0,1261489.0,1400000.0,240000.0,820000.0,895000.0,1500000.0,1230000.0,539500.0,450000.0,2300000.0,1204000.0,2189980.0,1180000.0,1400000.0,850000.0,530000.0,850000.0,580000.0,1262000.0,1200000.0,510000.0,176000.0,470000.0,310000.0,269000.0,698000.0,420000.0,767365.0,719000.0,750000.0,300000.0,369790.0,720000.0,389330.0,795000.0,830000.0,918000.0,420000.0,670000.0,260000.0,450000.0,590000.0,1550000.0,280000.0,1300000.0,2395000.0,330000.0,737800.0,750000.0,180000.0,900000.0,2250000.0,550000.0,499000.0,7630.0,320000.0,450000.0,1200000.0,1234820.0,1500000.0,775000.0,260000.0,400000.0,760000.0,397000.0,320000.0,1340000.0,590000.0,955000.0,1600000.0,650000.0,1690000.0,539000.0,160000.0,265000.0,890000.0,215000.0,987000.0,1200000.0,11000.0,250000.0,1800.0,950000.0,1453022.0,420000.0,480000.0,460000.0,790000.0,55000.0,260000.0,480000.0,315000.0,980000.0,500000.0,670000.0,890000.0,990000.0,80000.0,770000.0,1022530.0,100000.0,1200000.0,470000.0,460000.0,2100000.0,995000.0,1500000.0,389000.0,960000.0,497850.0,1000000.0,589000.0,960000.0,430000.0,1050000.0,270000.0,200000.0,1250000.0,720000.0,1450850.0,1760000.0,900000.0,2390000.0,475000.0,209000.0,209000.0,550000.0,380000.0,370000.0,640000.0,1810473.0,1080000.0,276000.0,830000.0,850000.0,550000.0,620000.0,2500.0,420000.0,1300000.0,420000.0,670000.0,394000.0,510000.0,430000.0,933120.0,359000.0,595000.0,350000.0,415000.0,800000.0,250000.0,160000.0,199000.0,429000.0,1100000.0,340000.0,640000.0,1700000.0,375000.0,900000.0,950000.0,890000.0,700000.0,800000.0,650000.0,639000.0,199000.0,800000.0,550000.0,320000.0,670000.0,370000.0,750000.0,829000.0,570000.0,880000.0,371000.0,450000.0,258000.0,1600000.0,350000.0,480000.0,361000.0,570000.0,550000.0,1500000.0,1100000.0,320000.0,490000.0,325000.0,877166.0,900000.0,510000.0,455000.0,350000.0,895000.0,1100000.0,145000.0,715000.0,260000.0,1300000.0,320000.0,550000.0,375000.0,670000.0,750000.0,750000.0,895240.0,650000.0,570000.0,760000.0,182500.0,240000.0,1200000.0,310000.0,2095000.0,295000.0,490000.0,675000.0,1300000.0,860000.0,390000.0,684320.0,704700.0,1125350.0,225000.0,750000.0,829000.0,490000.0,495000.0,1280000.0,850000.0,399000.0,390000.0,520000.0,1200784.0,1300464.0,750000.0,850000.0,315000.0,530000.0,16800.0,300000.0,850000.0,430000.0,1400000.0,980000.0,669000.0,2049126.0,1143500.0,1480000.0,310000.0,860000.0,450000.0,980000.0,580000.0,1500000.0,1100000.0,795000.0,1400000.0,1450000.0,760000.0,1395000.0,2050000.0,1116090.0,810000.0,740000.0,490000.0,700000.0,750000.0,1200000.0,1600000.0,2200.0,1300000.0,1346000.0,220000.0,650000.0,180000.0,1200000.0,992850.0,1490000.0,397000.0,1650000.0,1375000.0,650000.0,860000.0,550000.0,1880000.0,450000.0,269000.0,540000.0,187000.0,2000000.0,600000.0,750000.0,1170000.0,140000.0,479000.0,475000.0,1780000.0,450000.0,285545.0,565000.0,477000.0,877500.0,700000.0,450000.0,530000.0,550000.0,430000.0,580000.0,245000.0,900000.0,1600000.0,1880000.0,460000.0,370000.0,699000.0,460000.0,569000.0,25000.0,649000.0,585000.0,480000.0,1113723.0,880000.0,322000.0,420000.0,750000.0,590000.0,980000.0,525000.0,510000.0,580000.0,2050000.0,670000.0,260000.0,790000.0,530000.0,670000.0,985000.0,1900000.0,612500.0,225000.0,1880000.0,1090000.0,1600000.0,1350000.0,340000.0,900000.0,450000.0,200000.0,700000.0,550000.0,690000.0,245000.0,690000.0,1200000.0,1200000.0,405000.0,919000.0,562600.0,534470.0,770000.0,1050000.0,230000.0,1790000.0,320000.0,290000.0,1850000.0,690000.0,830346.0,184000.0,600000.0,850000.0,475880.0,175000.0,157000.0,1200000.0,1684019.0,720000.0,1168000.0,1117000.0,513159.0,550.0,300000.0,345000.0,420000.0,1100000.0,739468.0,1600000.0,520000.0,269000.0,1280000.0,630000.0,1711725.0,192000.0,275000.0,2350000.0,115000.0,210000.0,500000.0,679000.0,310000.0,550000.0,490000.0,595000.0,1590000.0,1590000.0,720000.0,180000.0,450000.0,950.0,1750000.0,750000.0,860000.0,980000.0,1700000.0,900000.0,1700000.0,739000.0,350000.0,369900.0,920000.0,240000.0,345000.0,1740000.0,530000.0,1047000.0,508450.0,1748500.0,368000.0,899000.0,285000.0,200000.0,440000.0,750000.0,669000.0,1116090.0,879000.0,700000.0,480000.0,840.0,1720000.0,250000.0,1100000.0,840000.0,400000.0,480000.0,1350000.0,219000.0,355000.0,370000.0,450000.0,1800.0,354000.0,450000.0,950000.0,830000.0,1050000.0,70000.0,1013917.0,620000.0,350000.0,500000.0,750000.0,1200000.0,950000.0,490000.0,2300.0,350000.0,850000.0,1120000.0,520000.0,280000.0,500000.0,650000.0,650000.0,495000.0,595000.0,215000.0,1610000.0,350000.0,1480000.0,380000.0,900000.0,495000.0,720000.0,1560000.0,1530000.0,1540000.0,1510000.0,393063.0,240000.0,650000.0,700000.0,360000.0,245900.0,496000.0,240000.0,690000.0,530000.0,590000.0,690000.0,320000.0,1230000.0,550000.0,400000.0,450000.0,1600000.0,750000.0,920000.0,800000.0,395000.0,920000.0,350000.0,850000.0,560000.0,400000.0,370000.0,800000.0,395000.0,795000.0,668000.0,189000.0,320000.0,220000.0,995000.0,570000.0,390000.0,850000.0,800000.0,1100000.0,1650000.0,620000.0,330000.0,255000.0,1500000.0,750000.0,1300000.0,600000.0,750000.0,415000.0,430000.0,700000.0,648176.0,760000.0,1850000.0,1600000.0,470000.0,1400000.0,350000.0,500000.0,130000.0,1116090.0,179000.0,420000.0,210000.0,1080000.0,265000.0,450000.0,530000.0,1490000.0,798000.0,618000.0,1200000.0,590000.0,215000.0,1590000.0,1380000.0,350000.0,770000.0,480000.0,530000.0,1200000.0,798000.0,600000.0,610000.0,270000.0,1800000.0,670000.0,570000.0,899000.0,1590000.0,340000.0,790000.0,1800000.0,639000.0,679000.0,1535170.0,515000.0,1850000.0,840000.0,1980000.0,950000.0,380000.0,455000.0,960000.0,430000.0,1350000.0,1250000.0,170000.0,300000.0,250000.0,542240.0,985679.0,910000.0,890000.0,848000.0,650000.0,800000.0,320000.0,385000.0,390000.0,1200000.0,1770000.0,570000.0,500000.0,975000.0,1700000.0,350000.0,720000.0,490000.0,399000.0,649000.0,1850000.0,405000.0,1360000.0,460000.0,255000.0,2075000.0,992850.0,890000.0,890000.0,755000.0,450000.0,410000.0,1324980.0,1180000.0,370000.0,1930000.0,1700000.0,1000000.0,180000.0,650000.0,475000.0,250000.0,1310000.0,349000.0,2290000.0,300000.0,337000.0,726139.0,967749.0,320000.0,560000.0,2350000.0,860000.0,1799000.0,600000.0,230000.0,210000.0,930000.0,810000.0,400000.0,2100000.0,290000.0,650000.0,725000.0,1790000.0,700000.0,200000.0,540000.0,369900.0,890000.0,995000.0,750000.0,150000.0,680000.0,529970.0,295000.0,700000.0,1870000.0,910000.0,710000.0,670000.0,505000.0,481239.0,650000.0,690000.0,350000.0,1400000.0,930000.0,350000.0,225000.0,230000.0,238000.0,1380000.0,650000.0,2200000.0,2125478.0,480000.0,1500000.0,230000.0,1760000.0,412583.0,355000.0,720000.0,595000.0,1000000.0,1050000.0,660668.0,580600.0,400000.0,735000.0,1600000.0,490000.0,550000.0,750000.0,559000.0,980000.0,1490000.0,890000.0,1700000.0,1350000.0,1494686.0,420000.0,469000.0,990000.0,358000.0,230000.0,1330000.0,1210000.0,1426000.0,593710.0,650000.0,1301608.0,420000.0,670000.0,650000.0,427721.0,460000.0,670000.0,710000.0,385000.0,370000.0,1195000.0,2387034.0,805000.0,1050000.0,995000.0,1890000.0,210000.0,460000.0,655259.0,315000.0,407000.0,704256.0,150000.0,1300000.0,1650000.0,740000.0,369770.0,442409.0,160000.0,230000.0,600000.0,215000.0,520000.0,295000.0,1100000.0,530000.0,320000.0,1100.0,415000.0,1690000.0,1357000.0,650000.0,245000.0,235000.0,500000.0,480000.0,1650000.0,220000.0,2357137.0,188000.0,319097.0,400588.0,320000.0,400000.0,279000.0,1700000.0,380000.0,295000.0,1480889.0,265900.0,1100000.0,380000.0,860000.0,1050000.0,1550000.0,430000.0,475000.0,635000.0,420000.0,650000.0,240000.0,899000.0,550000.0,700000.0,1707237.0,1490000.0,1442734.0,1818802.0,470000.0,610000.0,760000.0,745000.0,500000.0,295000.0,384782.0,2100000.0,780000.0,590000.0,1200000.0,340000.0,770000.0,2100000.0,350000.0,740000.0,330385.0,220000.0,890000.0,950000.0,879000.0,590000.0,1250000.0,550000.0,850000.0,1900000.0,368000.0,240000.0,260000.0,447241.0,950000.0,745000.0,349000.0,550000.0,245000.0,175000.0,430000.0,1400000.0,480825.0,650000.0,560000.0,235000.0,200000.0,1950000.0,15000.0,385000.0,407669.0,380000.0,975552.0,880000.0,750000.0,1800000.0,420000.0,280000.0,550000.0,564496.0,780000.0,259900.0,398805.0,393062.0,350000.0,1334279.0,580000.0,130000.0,220000.0,1800000.0,530000.0,360000.0,670000.0,319761.0,768000.0,250000.0,320000.0,290000.0,1658500.0,345789.0,431600.0,400000.0,750000.0,585000.0,210000.0,850000.0,924123.0,290000.0,1030000.0,800000.0,1000000.0,1450000.0,370000.0,545000.0,1050000.0,200000.0,900000.0,1100000.0,315000.0,275000.0,630000.0,480000.0,350000.0,520000.0,400000.0,2200000.0,240000.0,890000.0,1200000.0,450000.0,509000.0,1780000.0,750000.0,440000.0,1080000.0,159900.0,390000.0,1500000.0,680000.0,550000.0,895000.0,1500000.0,515000.0,887650.0,425000.0,350000.0,1080000.0,380000.0,269000.0,1000000.0,780000.0,498750.0,900000.0,950000.0,2075000.0,2050000.0,320000.0,1250000.0,830000.0,330000.0,190000.0,860000.0,1360000.0,775000.0,380000.0,480000.0,20000.0,1600000.0,1000000.0,295000.0,980000.0,225000.0,1116090.0,1560059.0,1129008.0,360000.0,2300000.0,550000.0,1300000.0,2200000.0,2150000.0,515000.0,280000.0,490000.0,280000.0,420000.0,589000.0,270000.0,2100000.0,1100000.0,900000.0,453500.0,160000.0,850000.0,1800000.0,670000.0,800000.0,380000.0,675000.0,420000.0,760000.0,895000.0,630000.0,405000.0,465000.0,650000.0,2300000.0,725000.0,550000.0,4700.0,200000.0,780000.0,410000.0,1650000.0,792000.0,420000.0,295000.0,517000.0,780000.0,1250000.0,680000.0,370000.0,398000.0,179000.0,285000.0,1400000.0,1600000.0,1620000.0,110000.0,1850000.0,970000.0,890000.0,835000.0,650000.0,1050000.0,530000.0,526650.0,1150000.0,450000.0,480000.0,890000.0,750000.0,770000.0,905000.0,456803.0,564497.0,412583.0,540000.0,380000.0,1980000.0,1900000.0,760000.0,560000.0,359000.0,533275.0,780000.0,1260000.0,990000.0,3500.0,2000000.0,490000.0,468550.0,1650000.0,360000.0,185000.0,999128.0,2100000.0,475000.0,1140000.0,560000.0,2368000.0,2180000.0,1600000.0,220000.0,310000.0,480000.0,900000.0,1590000.0,1150000.0,1360000.0,230000.0,1980000.0,920000.0,2100000.0,431600.0,620000.0,1060000.0,780000.0,220000.0,1987000.0,520000.0,980000.0,476739.0,530000.0,1399000.0,618550.0,1995000.0,850000.0,1133000.0,130000.0,2211880.0,1150000.0,1800000.0,650000.0,2100000.0,1850000.0,380000.0,170000.0,299000.0,690000.0,2050000.0,2172741.0,590000.0,220000.0,240000.0,1467552.0,330000.0,495000.0,1650000.0,460000.0,235000.0,210000.0,1480000.0,270000.0,1100000.0,699000.0,490000.0,460000.0,270000.0,1700000.0,650000.0,330000.0,1450000.0,1100000.0,299000.0,293000.0,290000.0,329000.0,450000.0,199500.0,240000.0,260000.0,2100000.0,980000.0,520000.0,2190000.0,1750000.0,1250000.0,580000.0,1100000.0,276000.0,270000.0,1521177.0,640000.0,990000.0,620000.0,990000.0,298000.0,745000.0,170000.0,840000.0,350000.0,220000.0,480000.0,990000.0,355000.0,1507748.0,570000.0,470000.0,350000.0,1600000.0,200000.0,750000.0,890000.0,1820000.0,2180730.0,2202537.0,450000.0,130000.0,185000.0,535000.0,1519412.0,1548035.0,239000.0,390000.0,370000.0,335000.0,325000.0,405000.0,480000.0,220000.0,2300000.0,620632.0,800000.0,700000.0,850000.0,199000.0,1147026.0,1795000.0,1200000.0,1100000.0,673000.0,580000.0,170000.0,480000.0,660000.0,189999.0,919000.0,680000.0,1300000.0,590000.0,710000.0,978000.0,540000.0,1060000.0,1100000.0,1100000.0,420000.0,370000.0,776940.0,650000.0,1550000.0,1790000.0,690000.0,530000.0,930000.0,480000.0,385000.0,730000.0,610000.0,258000.0,210000.0,1092406.0,949900.0,495000.0,315000.0,369000.0,440000.0,2360000.0,2000000.0,1780000.0,258000.0,515000.0,330000.0,350000.0,290000.0,890000.0,370000.0,1480000.0,850000.0,320000.0,1550000.0,1100000.0,450000.0,369290.0,519000.0,650000.0,690000.0,1322945.0,2290000.0,834038.0,860000.0,600000.0,1110000.0,1500000.0,165000.0,1500000.0,450000.0,180000.0,380212.0,310000.0,1065000.0,950000.0,670000.0,1250000.0,1250000.0,1269802.0,495000.0,270000.0,260000.0,1100000.0,640000.0,300000.0,2381488.0,694300.0,1490000.0,790000.0,190000.0,1850000.0,907800.0,900000.0,398980.0,298000.0,440000.0,230000.0,340000.0,303330.0,990000.0,320000.0,640000.0,950000.0,960000.0,140000.0,1400000.0,890000.0,450000.0,350000.0,980000.0,1450000.0,450000.0,300000.0,780000.0,520000.0,900000.0,480000.0,1050000.0,865000.0,1900.0,750000.0,1680000.0,449000.0,2100000.0,850000.0,460000.0,620000.0,1020000.0,549000.0,1100000.0,1500000.0,650000.0,2300000.0,725000.0,730000.0,319000.0,790000.0,2200000.0,410000.0,1550000.0,1150000.0,1550000.0,660000.0,780000.0,379000.0,960000.0,1850000.0,550000.0,550000.0,750000.0,1090000.0,280000.0,220000.0,420000.0,310000.0,1499000.0,300000.0,540000.0,365000.0,1700000.0,550000.0,705000.0,460000.0,596056.0,640000.0,580000.0,1050000.0,918800.0,460000.0,1650000.0,800000.0,310000.0,1950000.0,550000.0,960000.0,1069605.0,760000.0,2200000.0,350000.0,1028461.0,2100000.0,399000.0,330000.0,490000.0,148000.0,520000.0,600000.0,2200000.0,990000.0,260000.0,947481.0,750000.0,480000.0,850000.0,270000.0,275000.0,360000.0,585000.0,731000.0,1670000.0,1670000.0,1560000.0,1810000.0,1000000.0,309000.0,380000.0,602615.0,1685000.0,640000.0,255000.0,350000.0,300000.0,299000.0,350000.0,330000.0,890000.0,1040000.0,195000.0,220000.0,798000.0,450000.0,396000.0,913000.0,189000.0,11000.0,720000.0,2300000.0,1395200.0,832755.0,250950.0,660000.0,1395200.0,1774974.0,2200000.0,1739270.0,650000.0,780000.0,1232000.0,1176648.0,165000.0,950000.0,400000.0,7000.0,470000.0,215000.0,1378000.0,330000.0,210000.0,680000.0,745000.0,596056.0,220000.0,189000.0,980000.0,900000.0,490000.0,1790000.0,690000.0,480000.0,650000.0,210000.0,475000.0,1125170.0,1060904.0,1113949.0,638000.0,2300000.0,299000.0,345000.0,413174.0,240000.0,755000.0,480000.0,456976.0,235000.0,486779.0,450000.0,475000.0,600000.0,590000.0,1253377.0,439000.0,240000.0,2245000.0,1510000.0,790000.0,560000.0,1800000.0,1100000.0,185000.0,775000.0,450000.0,1033361.0,220000.0,978000.0,209000.0,1040502.0,630000.0,715000.0,630000.0,290000.0,780000.0,1090000.0,430000.0,250000.0,260000.0,220000.0,1191733.0,360000.0,1157877.0,859959.0,1650000.0,295000.0,180000.0,680000.0,1050000.0,350000.0,470000.0,890000.0,660000.0,1280000.0,530000.0,2110396.0,329500.0,470000.0,195000.0,860000.0,1180000.0,440000.0,745000.0,878000.0,595000.0,205000.0,1250000.0,1250000.0,498000.0,367500.0,440000.0,1900000.0,320000.0,360000.0,1660000.0,780000.0,299192.0,1340000.0,209000.0,145000.0,250000.0,546000.0,750000.0,725000.0,249000.0,970000.0,580000.0,342000.0,870000.0,450000.0,340000.0,209000.0,739000.0,1000000.0,250000.0,450000.0,960000.0,680000.0,975840.0,361630.0,650000.0,285000.0,420000.0,1265000.0,2390000.0,360000.0,530000.0,220000.0,850000.0,2090000.0,1850000.0,1947721.0,230000.0,482120.0,945000.0,290000.0,2350000.0,435000.0,780000.0,442543.0,580000.0,1000000.0,320000.0,2288000.0,1630000.0,355000.0,980000.0,495000.0,285545.0,375000.0,1850000.0,1080000.0,1700000.0,895000.0,640000.0,142000.0,460000.0,680000.0,380000.0,340000.0,515000.0,449000.0,1150000.0,179900.0,500000.0,320000.0,200000.0,385000.0,380000.0,1050000.0,380000.0,329000.0,1000000.0,850000.0,2100000.0,750000.0,365000.0,250000.0,799000.0,910000.0,550000.0,420000.0,1400000.0,950000.0,225000.0,1549000.0,2100000.0,1012697.0,439000.0,320000.0,769000.0,809000.0,1490000.0,1090000.0,400000.0,501509.0,925633.0,1248050.0,980000.0,1370000.0,330000.0,2190000.0,249950.0,470000.0,590000.0,239000.0,800000.0,700000.0,200000.0,2200000.0,620000.0,1200000.0,361000.0,330000.0,480000.0,1150000.0,80000.0,194000.0,1180000.0,995000.0,1700000.0,1600000.0,2250000.0,195000.0,1070000.0,535000.0,380000.0,600000.0,1620000.0,5800.0,995000.0,2100000.0,700000.0,350000.0,1050000.0,830346.0,5482.0,328000.0,894844.0,850000.0,340000.0,260000.0,280000.0,380000.0,499000.0,320000.0,645000.0,900000.0,1200000.0,1595000.0,470000.0,690000.0,370000.0,570000.0,1210000.0,970000.0,1200000.0,1480000.0,1620000.0,230000.0,2290000.0,920434.0,590000.0,1100000.0,480000.0,255000.0,1666769.0,540000.0,560000.0,520000.0,1700000.0,950000.0,460000.0,1800000.0,959000.0,690000.0,498000.0,859000.0,720000.0,350000.0,700000.0,1050000.0,795000.0,710000.0,1950000.0,950000.0,235000.0,390000.0,775000.0,90000.0,780000.0,750000.0,466500.0,390000.0,1270000.0,1700000.0,1200000.0,1950000.0,1980000.0,1200000.0,258000.0,280000.0,1790000.0,450000.0,750000.0,1900000.0,230000.0,629000.0,2200000.0,650000.0,700000.0,220000.0,1821000.0,620000.0,1155200.0,750000.0,535500.0,1690000.0,340000.0,265000.0,1100000.0,1400000.0,1700000.0,1200000.0,360000.0,1250000.0,209900.0,17000.0,320000.0,560000.0,1000000.0,1732500.0,380000.0,2350000.0,680000.0,405000.0,170000.0,495000.0,350000.0,690000.0,430000.0,850000.0,680000.0,1280000.0,520000.0,500000.0,1750000.0,330000.0,1050000.0,580000.0,1790000.0,650000.0,800000.0,1200000.0,498000.0,480000.0,368000.0,299000.0,850000.0,620000.0,820000.0,150000.0,379000.0,800000.0,1085407.0,385000.0,1980000.0,1890000.0,900000.0,1850000.0,378000.0,1400000.0,779000.0,750000.0,330000.0,779000.0,1510000.0,1550000.0,679000.0,1250000.0,1700000.0,632026.0,740000.0,1320000.0,950000.0,275000.0,1774974.0,720000.0,215000.0,268000.0,500000.0,650000.0,580000.0,820000.0,455000.0,298000.0,690000.0,610000.0,1000000.0,640000.0,810000.0,940000.0,450000.0,4000.0,390000.0,504500.0,1200000.0,730500.0,990000.0,1750000.0,410000.0,340000.0,350000.0,1380000.0,1491500.0,725000.0,1990000.0,775000.0,235000.0,559000.0,1282500.0,1850000.0,850000.0,240000.0,350000.0,1480000.0,1890000.0,850000.0,270000.0,820000.0,388000.0,290000.0,680000.0,1121769.0,729200.0,365000.0,370000.0,248000.0,400000.0,250000.0,350000.0,155000.0,650000.0,550000.0,640000.0,2300000.0,750000.0,300000.0,600000.0,490000.0,200000.0,912180.0,690000.0,1200000.0,800000.0,1390000.0,900000.0,949000.0,970000.0,895240.0,910000.0,979131.0,430000.0,300000.0,399000.0,345000.0,1220000.0,1550070.0,650000.0,189000.0,1850000.0,840000.0,700000.0,153000.0,1600000.0,2900.0,1050000.0,720000.0,1190000.0,410690.0,778000.0,650.0,1990000.0,460000.0,418000.0,680000.0,298000.0,480000.0,780000.0,798237.0,1020000.0,2000000.0,820780.0,795000.0,230000.0,250000.0,170000.0,1500000.0,900000.0,450000.0,1600000.0,1800000.0,1740000.0,105000.0,550000.0,149000.0,265000.0,360000.0,795000.0,959000.0,1770000.0,820000.0,530000.0,417850.0,615000.0,600000.0,450000.0,1710000.0,480000.0,55000.0,1550000.0,1350000.0,570000.0,690000.0,1690000.0,690000.0,1640000.0,650000.0,653000.0,1480000.0,1798000.0,1660000.0,1820000.0,1620000.0,1100000.0,770000.0,1965000.0,970000.0,560000.0,165500.0,550000.0,9990.0,425000.0,180000.0,450000.0,1800000.0,535000.0,799000.0,344000.0,800000.0,270000.0,199000.0,895000.0,670000.0,850000.0,280000.0,430000.0,225000.0,690000.0,850000.0,312000.0,745000.0,890000.0,1900000.0,668844.0,180000.0,700000.0,390000.0,1531695.0,790000.0,470000.0,190000.0,1250000.0,700000.0,912400.0,570000.0,1880000.0,700000.0,925633.0,330000.0,220000.0,560000.0,440000.0,500000.0,740000.0],\"coloraxis\":\"coloraxis\",\"symbol\":\"circle\"},\"name\":\"\",\"showlegend\":false,\"type\":\"splom\"}],                        {\"template\":{\"data\":{\"bar\":[{\"error_x\":{\"color\":\"#2a3f5f\"},\"error_y\":{\"color\":\"#2a3f5f\"},\"marker\":{\"line\":{\"color\":\"#E5ECF6\",\"width\":0.5},\"pattern\":{\"fillmode\":\"overlay\",\"size\":10,\"solidity\":0.2}},\"type\":\"bar\"}],\"barpolar\":[{\"marker\":{\"line\":{\"color\":\"#E5ECF6\",\"width\":0.5},\"pattern\":{\"fillmode\":\"overlay\",\"size\":10,\"solidity\":0.2}},\"type\":\"barpolar\"}],\"carpet\":[{\"aaxis\":{\"endlinecolor\":\"#2a3f5f\",\"gridcolor\":\"white\",\"linecolor\":\"white\",\"minorgridcolor\":\"white\",\"startlinecolor\":\"#2a3f5f\"},\"baxis\":{\"endlinecolor\":\"#2a3f5f\",\"gridcolor\":\"white\",\"linecolor\":\"white\",\"minorgridcolor\":\"white\",\"startlinecolor\":\"#2a3f5f\"},\"type\":\"carpet\"}],\"choropleth\":[{\"colorbar\":{\"outlinewidth\":0,\"ticks\":\"\"},\"type\":\"choropleth\"}],\"contour\":[{\"colorbar\":{\"outlinewidth\":0,\"ticks\":\"\"},\"colorscale\":[[0.0,\"#0d0887\"],[0.1111111111111111,\"#46039f\"],[0.2222222222222222,\"#7201a8\"],[0.3333333333333333,\"#9c179e\"],[0.4444444444444444,\"#bd3786\"],[0.5555555555555556,\"#d8576b\"],[0.6666666666666666,\"#ed7953\"],[0.7777777777777778,\"#fb9f3a\"],[0.8888888888888888,\"#fdca26\"],[1.0,\"#f0f921\"]],\"type\":\"contour\"}],\"contourcarpet\":[{\"colorbar\":{\"outlinewidth\":0,\"ticks\":\"\"},\"type\":\"contourcarpet\"}],\"heatmap\":[{\"colorbar\":{\"outlinewidth\":0,\"ticks\":\"\"},\"colorscale\":[[0.0,\"#0d0887\"],[0.1111111111111111,\"#46039f\"],[0.2222222222222222,\"#7201a8\"],[0.3333333333333333,\"#9c179e\"],[0.4444444444444444,\"#bd3786\"],[0.5555555555555556,\"#d8576b\"],[0.6666666666666666,\"#ed7953\"],[0.7777777777777778,\"#fb9f3a\"],[0.8888888888888888,\"#fdca26\"],[1.0,\"#f0f921\"]],\"type\":\"heatmap\"}],\"heatmapgl\":[{\"colorbar\":{\"outlinewidth\":0,\"ticks\":\"\"},\"colorscale\":[[0.0,\"#0d0887\"],[0.1111111111111111,\"#46039f\"],[0.2222222222222222,\"#7201a8\"],[0.3333333333333333,\"#9c179e\"],[0.4444444444444444,\"#bd3786\"],[0.5555555555555556,\"#d8576b\"],[0.6666666666666666,\"#ed7953\"],[0.7777777777777778,\"#fb9f3a\"],[0.8888888888888888,\"#fdca26\"],[1.0,\"#f0f921\"]],\"type\":\"heatmapgl\"}],\"histogram\":[{\"marker\":{\"pattern\":{\"fillmode\":\"overlay\",\"size\":10,\"solidity\":0.2}},\"type\":\"histogram\"}],\"histogram2d\":[{\"colorbar\":{\"outlinewidth\":0,\"ticks\":\"\"},\"colorscale\":[[0.0,\"#0d0887\"],[0.1111111111111111,\"#46039f\"],[0.2222222222222222,\"#7201a8\"],[0.3333333333333333,\"#9c179e\"],[0.4444444444444444,\"#bd3786\"],[0.5555555555555556,\"#d8576b\"],[0.6666666666666666,\"#ed7953\"],[0.7777777777777778,\"#fb9f3a\"],[0.8888888888888888,\"#fdca26\"],[1.0,\"#f0f921\"]],\"type\":\"histogram2d\"}],\"histogram2dcontour\":[{\"colorbar\":{\"outlinewidth\":0,\"ticks\":\"\"},\"colorscale\":[[0.0,\"#0d0887\"],[0.1111111111111111,\"#46039f\"],[0.2222222222222222,\"#7201a8\"],[0.3333333333333333,\"#9c179e\"],[0.4444444444444444,\"#bd3786\"],[0.5555555555555556,\"#d8576b\"],[0.6666666666666666,\"#ed7953\"],[0.7777777777777778,\"#fb9f3a\"],[0.8888888888888888,\"#fdca26\"],[1.0,\"#f0f921\"]],\"type\":\"histogram2dcontour\"}],\"mesh3d\":[{\"colorbar\":{\"outlinewidth\":0,\"ticks\":\"\"},\"type\":\"mesh3d\"}],\"parcoords\":[{\"line\":{\"colorbar\":{\"outlinewidth\":0,\"ticks\":\"\"}},\"type\":\"parcoords\"}],\"pie\":[{\"automargin\":true,\"type\":\"pie\"}],\"scatter\":[{\"marker\":{\"colorbar\":{\"outlinewidth\":0,\"ticks\":\"\"}},\"type\":\"scatter\"}],\"scatter3d\":[{\"line\":{\"colorbar\":{\"outlinewidth\":0,\"ticks\":\"\"}},\"marker\":{\"colorbar\":{\"outlinewidth\":0,\"ticks\":\"\"}},\"type\":\"scatter3d\"}],\"scattercarpet\":[{\"marker\":{\"colorbar\":{\"outlinewidth\":0,\"ticks\":\"\"}},\"type\":\"scattercarpet\"}],\"scattergeo\":[{\"marker\":{\"colorbar\":{\"outlinewidth\":0,\"ticks\":\"\"}},\"type\":\"scattergeo\"}],\"scattergl\":[{\"marker\":{\"colorbar\":{\"outlinewidth\":0,\"ticks\":\"\"}},\"type\":\"scattergl\"}],\"scattermapbox\":[{\"marker\":{\"colorbar\":{\"outlinewidth\":0,\"ticks\":\"\"}},\"type\":\"scattermapbox\"}],\"scatterpolar\":[{\"marker\":{\"colorbar\":{\"outlinewidth\":0,\"ticks\":\"\"}},\"type\":\"scatterpolar\"}],\"scatterpolargl\":[{\"marker\":{\"colorbar\":{\"outlinewidth\":0,\"ticks\":\"\"}},\"type\":\"scatterpolargl\"}],\"scatterternary\":[{\"marker\":{\"colorbar\":{\"outlinewidth\":0,\"ticks\":\"\"}},\"type\":\"scatterternary\"}],\"surface\":[{\"colorbar\":{\"outlinewidth\":0,\"ticks\":\"\"},\"colorscale\":[[0.0,\"#0d0887\"],[0.1111111111111111,\"#46039f\"],[0.2222222222222222,\"#7201a8\"],[0.3333333333333333,\"#9c179e\"],[0.4444444444444444,\"#bd3786\"],[0.5555555555555556,\"#d8576b\"],[0.6666666666666666,\"#ed7953\"],[0.7777777777777778,\"#fb9f3a\"],[0.8888888888888888,\"#fdca26\"],[1.0,\"#f0f921\"]],\"type\":\"surface\"}],\"table\":[{\"cells\":{\"fill\":{\"color\":\"#EBF0F8\"},\"line\":{\"color\":\"white\"}},\"header\":{\"fill\":{\"color\":\"#C8D4E3\"},\"line\":{\"color\":\"white\"}},\"type\":\"table\"}]},\"layout\":{\"annotationdefaults\":{\"arrowcolor\":\"#2a3f5f\",\"arrowhead\":0,\"arrowwidth\":1},\"autotypenumbers\":\"strict\",\"coloraxis\":{\"colorbar\":{\"outlinewidth\":0,\"ticks\":\"\"}},\"colorscale\":{\"diverging\":[[0,\"#8e0152\"],[0.1,\"#c51b7d\"],[0.2,\"#de77ae\"],[0.3,\"#f1b6da\"],[0.4,\"#fde0ef\"],[0.5,\"#f7f7f7\"],[0.6,\"#e6f5d0\"],[0.7,\"#b8e186\"],[0.8,\"#7fbc41\"],[0.9,\"#4d9221\"],[1,\"#276419\"]],\"sequential\":[[0.0,\"#0d0887\"],[0.1111111111111111,\"#46039f\"],[0.2222222222222222,\"#7201a8\"],[0.3333333333333333,\"#9c179e\"],[0.4444444444444444,\"#bd3786\"],[0.5555555555555556,\"#d8576b\"],[0.6666666666666666,\"#ed7953\"],[0.7777777777777778,\"#fb9f3a\"],[0.8888888888888888,\"#fdca26\"],[1.0,\"#f0f921\"]],\"sequentialminus\":[[0.0,\"#0d0887\"],[0.1111111111111111,\"#46039f\"],[0.2222222222222222,\"#7201a8\"],[0.3333333333333333,\"#9c179e\"],[0.4444444444444444,\"#bd3786\"],[0.5555555555555556,\"#d8576b\"],[0.6666666666666666,\"#ed7953\"],[0.7777777777777778,\"#fb9f3a\"],[0.8888888888888888,\"#fdca26\"],[1.0,\"#f0f921\"]]},\"colorway\":[\"#636efa\",\"#EF553B\",\"#00cc96\",\"#ab63fa\",\"#FFA15A\",\"#19d3f3\",\"#FF6692\",\"#B6E880\",\"#FF97FF\",\"#FECB52\"],\"font\":{\"color\":\"#2a3f5f\"},\"geo\":{\"bgcolor\":\"white\",\"lakecolor\":\"white\",\"landcolor\":\"#E5ECF6\",\"showlakes\":true,\"showland\":true,\"subunitcolor\":\"white\"},\"hoverlabel\":{\"align\":\"left\"},\"hovermode\":\"closest\",\"mapbox\":{\"style\":\"light\"},\"paper_bgcolor\":\"white\",\"plot_bgcolor\":\"#E5ECF6\",\"polar\":{\"angularaxis\":{\"gridcolor\":\"white\",\"linecolor\":\"white\",\"ticks\":\"\"},\"bgcolor\":\"#E5ECF6\",\"radialaxis\":{\"gridcolor\":\"white\",\"linecolor\":\"white\",\"ticks\":\"\"}},\"scene\":{\"xaxis\":{\"backgroundcolor\":\"#E5ECF6\",\"gridcolor\":\"white\",\"gridwidth\":2,\"linecolor\":\"white\",\"showbackground\":true,\"ticks\":\"\",\"zerolinecolor\":\"white\"},\"yaxis\":{\"backgroundcolor\":\"#E5ECF6\",\"gridcolor\":\"white\",\"gridwidth\":2,\"linecolor\":\"white\",\"showbackground\":true,\"ticks\":\"\",\"zerolinecolor\":\"white\"},\"zaxis\":{\"backgroundcolor\":\"#E5ECF6\",\"gridcolor\":\"white\",\"gridwidth\":2,\"linecolor\":\"white\",\"showbackground\":true,\"ticks\":\"\",\"zerolinecolor\":\"white\"}},\"shapedefaults\":{\"line\":{\"color\":\"#2a3f5f\"}},\"ternary\":{\"aaxis\":{\"gridcolor\":\"white\",\"linecolor\":\"white\",\"ticks\":\"\"},\"baxis\":{\"gridcolor\":\"white\",\"linecolor\":\"white\",\"ticks\":\"\"},\"bgcolor\":\"#E5ECF6\",\"caxis\":{\"gridcolor\":\"white\",\"linecolor\":\"white\",\"ticks\":\"\"}},\"title\":{\"x\":0.05},\"xaxis\":{\"automargin\":true,\"gridcolor\":\"white\",\"linecolor\":\"white\",\"ticks\":\"\",\"title\":{\"standoff\":15},\"zerolinecolor\":\"white\",\"zerolinewidth\":2},\"yaxis\":{\"automargin\":true,\"gridcolor\":\"white\",\"linecolor\":\"white\",\"ticks\":\"\",\"title\":{\"standoff\":15},\"zerolinecolor\":\"white\",\"zerolinewidth\":2}}},\"coloraxis\":{\"colorbar\":{\"title\":{\"text\":\"price\"}},\"colorscale\":[[0.0,\"#0d0887\"],[0.1111111111111111,\"#46039f\"],[0.2222222222222222,\"#7201a8\"],[0.3333333333333333,\"#9c179e\"],[0.4444444444444444,\"#bd3786\"],[0.5555555555555556,\"#d8576b\"],[0.6666666666666666,\"#ed7953\"],[0.7777777777777778,\"#fb9f3a\"],[0.8888888888888888,\"#fdca26\"],[1.0,\"#f0f921\"]]},\"legend\":{\"tracegroupgap\":0},\"margin\":{\"t\":60},\"dragmode\":\"select\",\"height\":750},                        {\"responsive\": true}                    ).then(function(){\n",
              "                            \n",
              "var gd = document.getElementById('2035efc2-0d9f-4e0f-90f4-20ea14d1c45a');\n",
              "var x = new MutationObserver(function (mutations, observer) {{\n",
              "        var display = window.getComputedStyle(gd).display;\n",
              "        if (!display || display === 'none') {{\n",
              "            console.log([gd, 'removed!']);\n",
              "            Plotly.purge(gd);\n",
              "            observer.disconnect();\n",
              "        }}\n",
              "}});\n",
              "\n",
              "// Listen for the removal of the full notebook cells\n",
              "var notebookContainer = gd.closest('#notebook-container');\n",
              "if (notebookContainer) {{\n",
              "    x.observe(notebookContainer, {childList: true});\n",
              "}}\n",
              "\n",
              "// Listen for the clearing of the current output cell\n",
              "var outputEl = gd.closest('.output');\n",
              "if (outputEl) {{\n",
              "    x.observe(outputEl, {childList: true});\n",
              "}}\n",
              "\n",
              "                        })                };                            </script>        </div>\n",
              "</body>\n",
              "</html>"
            ]
          },
          "metadata": {}
        }
      ]
    },
    {
      "cell_type": "markdown",
      "source": [
        "Our first conclusion is : The price is proportional to the 'adm-fees'. A second, and unexpected one, conclusion is that the price is not correlated to the square-foot. I tend to explain that saying that the bigger houses are in 'poor' neighborhoods, but it needs more information on that. Let's now see the price by neighborhood. Just to make it clear, the lines that appears in the images is the values I filled with the mean. "
      ],
      "metadata": {
        "id": "K_O403gweYYJ"
      }
    },
    {
      "cell_type": "code",
      "source": [
        "df_clean.boxplot(column='price', by='neighborhood',figsize=(20,6))"
      ],
      "metadata": {
        "colab": {
          "base_uri": "https://localhost:8080/",
          "height": 528
        },
        "id": "EulVi1hWeA_g",
        "outputId": "1c070ad2-d7b5-45be-c125-189058cc36ad"
      },
      "execution_count": 21,
      "outputs": [
        {
          "output_type": "stream",
          "name": "stderr",
          "text": [
            "/usr/local/lib/python3.7/dist-packages/matplotlib/cbook/__init__.py:1376: VisibleDeprecationWarning:\n",
            "\n",
            "Creating an ndarray from ragged nested sequences (which is a list-or-tuple of lists-or-tuples-or ndarrays with different lengths or shapes) is deprecated. If you meant to do this, you must specify 'dtype=object' when creating the ndarray.\n",
            "\n"
          ]
        },
        {
          "output_type": "execute_result",
          "data": {
            "text/plain": [
              "<matplotlib.axes._subplots.AxesSubplot at 0x7f7501657350>"
            ]
          },
          "metadata": {},
          "execution_count": 21
        },
        {
          "output_type": "display_data",
          "data": {
            "text/plain": [
              "<Figure size 1440x432 with 1 Axes>"
            ],
            "image/png": "[encoded data removed]"
          },
          "metadata": {
            "needs_background": "light"
          }
        }
      ]
    },
    {
      "cell_type": "code",
      "source": [
        "df_clean.boxplot(column='price', by='rooms', figsize=(20,6))"
      ],
      "metadata": {
        "colab": {
          "base_uri": "https://localhost:8080/",
          "height": 527
        },
        "id": "EbKitpB7fVRy",
        "outputId": "aa58b24b-6a9d-4bc8-8919-6ce2912a469b"
      },
      "execution_count": 22,
      "outputs": [
        {
          "output_type": "stream",
          "name": "stderr",
          "text": [
            "/usr/local/lib/python3.7/dist-packages/matplotlib/cbook/__init__.py:1376: VisibleDeprecationWarning:\n",
            "\n",
            "Creating an ndarray from ragged nested sequences (which is a list-or-tuple of lists-or-tuples-or ndarrays with different lengths or shapes) is deprecated. If you meant to do this, you must specify 'dtype=object' when creating the ndarray.\n",
            "\n"
          ]
        },
        {
          "output_type": "execute_result",
          "data": {
            "text/plain": [
              "<matplotlib.axes._subplots.AxesSubplot at 0x7f74fef7c310>"
            ]
          },
          "metadata": {},
          "execution_count": 22
        },
        {
          "output_type": "display_data",
          "data": {
            "text/plain": [
              "<Figure size 1440x432 with 1 Axes>"
            ],
            "image/png": "[encoded data removed]"
          },
          "metadata": {
            "needs_background": "light"
          }
        }
      ]
    },
    {
      "cell_type": "code",
      "source": [
        "df_clean.boxplot(column='price', by='garage-places', figsize=(20,6))"
      ],
      "metadata": {
        "colab": {
          "base_uri": "https://localhost:8080/",
          "height": 527
        },
        "id": "648iWiIbirVa",
        "outputId": "06d535c9-66e2-4014-9e06-f82f3dbfa6c1"
      },
      "execution_count": 23,
      "outputs": [
        {
          "output_type": "stream",
          "name": "stderr",
          "text": [
            "/usr/local/lib/python3.7/dist-packages/matplotlib/cbook/__init__.py:1376: VisibleDeprecationWarning:\n",
            "\n",
            "Creating an ndarray from ragged nested sequences (which is a list-or-tuple of lists-or-tuples-or ndarrays with different lengths or shapes) is deprecated. If you meant to do this, you must specify 'dtype=object' when creating the ndarray.\n",
            "\n"
          ]
        },
        {
          "output_type": "execute_result",
          "data": {
            "text/plain": [
              "<matplotlib.axes._subplots.AxesSubplot at 0x7f74fe8de290>"
            ]
          },
          "metadata": {},
          "execution_count": 23
        },
        {
          "output_type": "display_data",
          "data": {
            "text/plain": [
              "<Figure size 1440x432 with 1 Axes>"
            ],
            "image/png": "[encoded data removed]"
          },
          "metadata": {
            "needs_background": "light"
          }
        }
      ]
    },
    {
      "cell_type": "markdown",
      "source": [
        "We can see that the garage-places doesn't influences too much to the price house, so in this point I'm going to drop it. Beside that, I'm going drop the 'square-foot' too, as we said it does not influences in the house prices."
      ],
      "metadata": {
        "id": "7tLnxw_dte8H"
      }
    },
    {
      "cell_type": "code",
      "source": [
        "df_clean.drop('garage-places',axis=1,inplace=True)"
      ],
      "metadata": {
        "id": "NbPsvdMbtpKI"
      },
      "execution_count": 24,
      "outputs": []
    },
    {
      "cell_type": "code",
      "source": [
        "df_clean.drop('square-foot',axis=1,inplace=True)"
      ],
      "metadata": {
        "id": "ptI1-9gSuIGu"
      },
      "execution_count": 25,
      "outputs": []
    },
    {
      "cell_type": "code",
      "source": [
        "df_clean['longitude'].min()"
      ],
      "metadata": {
        "colab": {
          "base_uri": "https://localhost:8080/"
        },
        "id": "oiz5cuLVHVFg",
        "outputId": "fc641907-5e61-41bd-be79-e1b5f96148f5"
      },
      "execution_count": 26,
      "outputs": [
        {
          "output_type": "execute_result",
          "data": {
            "text/plain": [
              "-46.9852627"
            ]
          },
          "metadata": {},
          "execution_count": 26
        }
      ]
    },
    {
      "cell_type": "code",
      "source": [
        "df_clean['longitude'].max()"
      ],
      "metadata": {
        "colab": {
          "base_uri": "https://localhost:8080/"
        },
        "id": "i8otMEuyHxNZ",
        "outputId": "cc389c61-3287-4820-fe9c-0fb404785044"
      },
      "execution_count": 27,
      "outputs": [
        {
          "output_type": "execute_result",
          "data": {
            "text/plain": [
              "-41.1217768"
            ]
          },
          "metadata": {},
          "execution_count": 27
        }
      ]
    },
    {
      "cell_type": "markdown",
      "source": [
        "And we can plot a scatter of latitude and longitude with the colormap price and see which regions are more expensive."
      ],
      "metadata": {
        "id": "SJIJ1pPCFDtU"
      }
    },
    {
      "cell_type": "code",
      "source": [
        "df_clean[(df_clean['latitude'] > -20.0) & (df_clean['latitude'] < -19.8) & (df_clean['longitude'] < -43.8) & (df_clean['longitude'] > -44.8) ].plot.scatter(x='longitude', y='latitude', c='price', figsize=(15,15), cmap='coolwarm', alpha=0.5)"
      ],
      "metadata": {
        "colab": {
          "base_uri": "https://localhost:8080/",
          "height": 878
        },
        "id": "Nhz_7CPEFDWA",
        "outputId": "962077ae-7fb2-4e71-cf7d-9298faabfc39"
      },
      "execution_count": 28,
      "outputs": [
        {
          "output_type": "execute_result",
          "data": {
            "text/plain": [
              "<matplotlib.axes._subplots.AxesSubplot at 0x7f75008fc9d0>"
            ]
          },
          "metadata": {},
          "execution_count": 28
        },
        {
          "output_type": "display_data",
          "data": {
            "text/plain": [
              "<Figure size 1080x1080 with 2 Axes>"
            ],
            "image/png": "[encoded data removed]"
          },
          "metadata": {
            "needs_background": "light"
          }
        }
      ]
    },
    {
      "cell_type": "markdown",
      "source": [
        "We can conclude that the houses in the south but close to the downtown is more expensive. We have some expensive houses in the North-west."
      ],
      "metadata": {
        "id": "z0CbMMITJCpm"
      }
    },
    {
      "cell_type": "markdown",
      "source": [
        "So, now I think is a good moment too try to apply ML in the data in order to build a model that predicts the house prices."
      ],
      "metadata": {
        "id": "_MMQOxuqt3RX"
      }
    },
    {
      "cell_type": "markdown",
      "source": [
        "## Machine Learning Models"
      ],
      "metadata": {
        "id": "X-4l3JpCuZc5"
      }
    },
    {
      "cell_type": "markdown",
      "source": [
        "## Preparation"
      ],
      "metadata": {
        "id": "H7MkJTw3uj6H"
      }
    },
    {
      "cell_type": "code",
      "source": [
        "df_clean.columns"
      ],
      "metadata": {
        "colab": {
          "base_uri": "https://localhost:8080/"
        },
        "id": "1H991i3zuuE3",
        "outputId": "8496675e-5c6c-4c66-8c93-c7c149d5d696"
      },
      "execution_count": 29,
      "outputs": [
        {
          "output_type": "execute_result",
          "data": {
            "text/plain": [
              "Index(['adm-fees', 'price', 'rooms', 'neighborhood', 'latitude', 'longitude'], dtype='object')"
            ]
          },
          "metadata": {},
          "execution_count": 29
        }
      ]
    },
    {
      "cell_type": "code",
      "source": [
        "x=df_clean.loc[:,['adm-fees','rooms', 'neighborhood', 'latitude', 'longitude']].values #classifiers\n",
        "y = df_clean.iloc[:,1].values#class"
      ],
      "metadata": {
        "id": "6QuwbY-6uwla"
      },
      "execution_count": 30,
      "outputs": []
    },
    {
      "cell_type": "code",
      "source": [
        "#Encoder\n",
        "from sklearn.preprocessing import LabelEncoder\n",
        "label_encoder_neigh = LabelEncoder()\n",
        "label_encoder_rooms= LabelEncoder()"
      ],
      "metadata": {
        "id": "OJjlYC6zB29E"
      },
      "execution_count": 31,
      "outputs": []
    },
    {
      "cell_type": "code",
      "source": [
        "x[:,2] = label_encoder_neigh.fit_transform(x[:,2])\n",
        "x[:,1] = label_encoder_rooms.fit_transform(x[:,2])"
      ],
      "metadata": {
        "id": "-2el4b8OCawl"
      },
      "execution_count": 32,
      "outputs": []
    },
    {
      "cell_type": "code",
      "source": [
        "#Scaling\n",
        "# we're going to use StandardScaler\n",
        "from sklearn.preprocessing import StandardScaler\n",
        "scaler = StandardScaler()\n",
        "x = scaler.fit_transform(x)"
      ],
      "metadata": {
        "id": "xn1viBUXCngp"
      },
      "execution_count": 33,
      "outputs": []
    },
    {
      "cell_type": "code",
      "source": [
        "#spliting the data\n",
        "from sklearn.model_selection import train_test_split\n",
        "x_train, x_test, y_train, y_test = train_test_split(x, y, test_size = 0.15, random_state = 0)"
      ],
      "metadata": {
        "id": "OZdof4M8DvKd"
      },
      "execution_count": 34,
      "outputs": []
    },
    {
      "cell_type": "markdown",
      "source": [
        "## Linear model"
      ],
      "metadata": {
        "id": "r7oxABs4udWW"
      }
    },
    {
      "cell_type": "code",
      "source": [
        "from sklearn.linear_model import LinearRegression\n",
        "regressor = LinearRegression()\n",
        "regressor.fit(x_train,y_train)"
      ],
      "metadata": {
        "id": "FLPXYT1et1SH",
        "colab": {
          "base_uri": "https://localhost:8080/"
        },
        "outputId": "c4360608-a817-4ce8-aec0-bb6b48538c2c"
      },
      "execution_count": 35,
      "outputs": [
        {
          "output_type": "execute_result",
          "data": {
            "text/plain": [
              "LinearRegression()"
            ]
          },
          "metadata": {},
          "execution_count": 35
        }
      ]
    },
    {
      "cell_type": "code",
      "source": [
        "predictions = regressor.predict(x_test)"
      ],
      "metadata": {
        "id": "xmmmI5gPEpEd"
      },
      "execution_count": 36,
      "outputs": []
    },
    {
      "cell_type": "code",
      "source": [
        "regressor.coef_"
      ],
      "metadata": {
        "colab": {
          "base_uri": "https://localhost:8080/"
        },
        "id": "rQgqb4RhKH7Y",
        "outputId": "006938b2-79de-4989-eb24-569c9a479abe"
      },
      "execution_count": 37,
      "outputs": [
        {
          "output_type": "execute_result",
          "data": {
            "text/plain": [
              "array([ 1.72495822e+05,  2.66816406e+18, -2.66816406e+18, -7.99360000e+04,\n",
              "        7.21920000e+04])"
            ]
          },
          "metadata": {},
          "execution_count": 37
        }
      ]
    },
    {
      "cell_type": "code",
      "source": [
        "#Mean absolute error\n",
        "from sklearn.metrics import mean_absolute_error,mean_squared_error\n",
        "mean_absolute_error(predictions,y_test)"
      ],
      "metadata": {
        "colab": {
          "base_uri": "https://localhost:8080/"
        },
        "id": "TTjPxP0pKKWp",
        "outputId": "a2ef1f22-57a7-4b7c-9037-85f8ab70f2a8"
      },
      "execution_count": 38,
      "outputs": [
        {
          "output_type": "execute_result",
          "data": {
            "text/plain": [
              "367702.9012244146"
            ]
          },
          "metadata": {},
          "execution_count": 38
        }
      ]
    },
    {
      "cell_type": "code",
      "source": [
        "y_test.mean()"
      ],
      "metadata": {
        "colab": {
          "base_uri": "https://localhost:8080/"
        },
        "id": "PrOO6n8oLSNV",
        "outputId": "d69ff228-0673-4453-d445-c5cb2d858dc2"
      },
      "execution_count": 39,
      "outputs": [
        {
          "output_type": "execute_result",
          "data": {
            "text/plain": [
              "768626.3740909359"
            ]
          },
          "metadata": {},
          "execution_count": 39
        }
      ]
    },
    {
      "cell_type": "markdown",
      "source": [
        "At this moment the Mean absolute error represents 44% of the mean. Beside that, if we look at the coefficients we can see that they're really great and a coefficients vanishes the another one. So we must use LASSO (or Ridge) to normalize the coefficients. "
      ],
      "metadata": {
        "id": "8GAXav63LfTS"
      }
    },
    {
      "cell_type": "code",
      "source": [
        "# We need to do a normalized linearization\n",
        "from sklearn import linear_model\n",
        "rg = linear_model.Lasso(alpha=0.0001)\n",
        "rg.fit(x_train,y_train)"
      ],
      "metadata": {
        "id": "nMdYIpINLJx3",
        "colab": {
          "base_uri": "https://localhost:8080/"
        },
        "outputId": "78ace280-4e25-4bb2-f28b-74589306010e"
      },
      "execution_count": 55,
      "outputs": [
        {
          "output_type": "execute_result",
          "data": {
            "text/plain": [
              "Lasso(alpha=0.0001)"
            ]
          },
          "metadata": {},
          "execution_count": 55
        }
      ]
    },
    {
      "cell_type": "code",
      "source": [
        "prev_lasso = rg.predict(x_test)"
      ],
      "metadata": {
        "id": "nUGyozPZ_6Rt"
      },
      "execution_count": 56,
      "outputs": []
    },
    {
      "cell_type": "code",
      "source": [
        "rg.coef_"
      ],
      "metadata": {
        "id": "ttsRVLEFddLV",
        "colab": {
          "base_uri": "https://localhost:8080/"
        },
        "outputId": "2ff23e17-8f25-49a1-bc3c-7df5b257ece9"
      },
      "execution_count": 57,
      "outputs": [
        {
          "output_type": "execute_result",
          "data": {
            "text/plain": [
              "array([ 1.72495822e+05, -4.07627249e+04, -1.56585072e-11, -9.57095237e+04,\n",
              "        7.38892476e+04])"
            ]
          },
          "metadata": {},
          "execution_count": 57
        }
      ]
    },
    {
      "cell_type": "code",
      "source": [
        "mean_absolute_error(y_test,prev_lasso)"
      ],
      "metadata": {
        "colab": {
          "base_uri": "https://localhost:8080/"
        },
        "id": "IWRReVy1AOs3",
        "outputId": "717aea50-85c0-4a87-901b-c0bab096baea"
      },
      "execution_count": 58,
      "outputs": [
        {
          "output_type": "execute_result",
          "data": {
            "text/plain": [
              "367849.3963662979"
            ]
          },
          "metadata": {},
          "execution_count": 58
        }
      ]
    },
    {
      "cell_type": "markdown",
      "source": [
        "The coefficients of order 18 has gone, but before we try more sofisticated methods we must try Ridge."
      ],
      "metadata": {
        "id": "KfHCgNGzAc5g"
      }
    },
    {
      "cell_type": "code",
      "source": [
        "from sklearn.linear_model import Ridge\n",
        "rg = Ridge(alpha=0.01)\n",
        "rg.fit(x_train,y_train)"
      ],
      "metadata": {
        "colab": {
          "base_uri": "https://localhost:8080/"
        },
        "id": "K5xSWaR0AWTj",
        "outputId": "b9e62d46-5df7-4ab6-c8f6-a747e1056158"
      },
      "execution_count": 60,
      "outputs": [
        {
          "output_type": "execute_result",
          "data": {
            "text/plain": [
              "Ridge(alpha=0.01)"
            ]
          },
          "metadata": {},
          "execution_count": 60
        }
      ]
    },
    {
      "cell_type": "code",
      "source": [
        "prev_ridge=rg.predict(x_test)"
      ],
      "metadata": {
        "id": "hURrGGEUDjCJ"
      },
      "execution_count": 62,
      "outputs": []
    },
    {
      "cell_type": "code",
      "source": [
        "rg.coef_"
      ],
      "metadata": {
        "colab": {
          "base_uri": "https://localhost:8080/"
        },
        "id": "T6iBoCWGD1k6",
        "outputId": "8e759e71-e0ac-481f-b765-91a85cc3721d"
      },
      "execution_count": 65,
      "outputs": [
        {
          "output_type": "execute_result",
          "data": {
            "text/plain": [
              "array([172495.47197919, -20381.39445512, -20381.3944516 , -95708.9282025 ,\n",
              "        73888.67987121])"
            ]
          },
          "metadata": {},
          "execution_count": 65
        }
      ]
    },
    {
      "cell_type": "code",
      "source": [
        "mean_absolute_error(prev_ridge,y_test)"
      ],
      "metadata": {
        "colab": {
          "base_uri": "https://localhost:8080/"
        },
        "id": "YFaQwH4VDmDU",
        "outputId": "aec58ed9-13d9-4743-b11c-a0bc967c6639"
      },
      "execution_count": 64,
      "outputs": [
        {
          "output_type": "execute_result",
          "data": {
            "text/plain": [
              "367849.48306292854"
            ]
          },
          "metadata": {},
          "execution_count": 64
        }
      ]
    },
    {
      "cell_type": "markdown",
      "source": [
        "OK, we are going to try to have best predctions using another ML methods. Let's start with RandomForest."
      ],
      "metadata": {
        "id": "62cOP_3dD5eH"
      }
    },
    {
      "cell_type": "code",
      "source": [
        "from sklearn.ensemble import RandomForestClassifier"
      ],
      "metadata": {
        "id": "HWKEC1YC5gE_"
      },
      "execution_count": 69,
      "outputs": []
    },
    {
      "cell_type": "code",
      "source": [
        "from sklearn.ensemble import RandomForestRegressor\n",
        "regressor_random_forest = RandomForestRegressor()\n",
        "regressor_random_forest.fit(x_train,y_train)"
      ],
      "metadata": {
        "colab": {
          "base_uri": "https://localhost:8080/"
        },
        "id": "quHpnqML5vpl",
        "outputId": "1c31e613-1daa-4b24-f0bd-0a766e4d9531"
      },
      "execution_count": 74,
      "outputs": [
        {
          "output_type": "execute_result",
          "data": {
            "text/plain": [
              "RandomForestRegressor()"
            ]
          },
          "metadata": {},
          "execution_count": 74
        }
      ]
    },
    {
      "cell_type": "code",
      "source": [
        "prediction_tree = regressor_random_forest.predict(x_test)"
      ],
      "metadata": {
        "id": "kC3KupCB5s8o"
      },
      "execution_count": 77,
      "outputs": []
    },
    {
      "cell_type": "code",
      "source": [
        "mean_absolute_error(prediction_tree,y_test)"
      ],
      "metadata": {
        "colab": {
          "base_uri": "https://localhost:8080/"
        },
        "id": "Fxh1hEqy597k",
        "outputId": "3dbad735-5e17-427d-af51-aeea23f89e7f"
      },
      "execution_count": 78,
      "outputs": [
        {
          "output_type": "execute_result",
          "data": {
            "text/plain": [
              "239787.42090831793"
            ]
          },
          "metadata": {},
          "execution_count": 78
        }
      ]
    },
    {
      "cell_type": "markdown",
      "source": [
        "The RandomForestRegressor gives a better result and we can know the price of a house with a MAE equals to 30% of the mean. It's hard to have a better result than that because we have too many variables, however I'm going to try another approach. I'm going to classify the price of a house into a range and use algorithms of classifications rather than the regression algorithms."
      ],
      "metadata": {
        "id": "hPPkQJeBGwPg"
      }
    },
    {
      "cell_type": "code",
      "source": [
        "df_range = df_clean.copy()"
      ],
      "metadata": {
        "id": "npHXe4EgHIlH"
      },
      "execution_count": 99,
      "outputs": []
    },
    {
      "cell_type": "code",
      "source": [
        "df_range"
      ],
      "metadata": {
        "colab": {
          "base_uri": "https://localhost:8080/",
          "height": 424
        },
        "id": "CpZEgAl1Hs8L",
        "outputId": "b1b324fd-a3bf-4b5f-9028-28b84fe9a970"
      },
      "execution_count": 80,
      "outputs": [
        {
          "output_type": "execute_result",
          "data": {
            "text/plain": [
              "        adm-fees      price rooms neighborhood   latitude  longitude\n",
              "0      470.00000   330000.0     1        Other -19.936415 -43.953396\n",
              "1     2056.60523   480000.0     2       Centro -18.864776 -41.121777\n",
              "2     2056.60523  1190000.0     4        Other -20.225241 -44.397780\n",
              "3      750.00000  1590000.0     4        Other -19.937155 -43.958694\n",
              "4     2056.60523   550000.0     3        Other -19.912982 -44.019944\n",
              "...          ...        ...   ...          ...        ...        ...\n",
              "5975   200.00000   220000.0     1      Buritis -19.974455 -43.977699\n",
              "5976   340.00000   560000.0     3        Other -19.945428 -43.970988\n",
              "5977   200.00000   440000.0     3        Other -19.979915 -44.026007\n",
              "5978    10.00000   500000.0     3        Other -19.840904 -43.956037\n",
              "5979    10.00000   740000.0     3        Other -19.840904 -43.956037\n",
              "\n",
              "[5452 rows x 6 columns]"
            ],
            "text/html": [
              "\n",
              "  <div id=\"df-50522e0b-c80d-4fce-9559-4ce4a84997ca\">\n",
              "    <div class=\"colab-df-container\">\n",
              "      <div>\n",
              "<style scoped>\n",
              "    .dataframe tbody tr th:only-of-type {\n",
              "        vertical-align: middle;\n",
              "    }\n",
              "\n",
              "    .dataframe tbody tr th {\n",
              "        vertical-align: top;\n",
              "    }\n",
              "\n",
              "    .dataframe thead th {\n",
              "        text-align: right;\n",
              "    }\n",
              "</style>\n",
              "<table border=\"1\" class=\"dataframe\">\n",
              "  <thead>\n",
              "    <tr style=\"text-align: right;\">\n",
              "      <th></th>\n",
              "      <th>adm-fees</th>\n",
              "      <th>price</th>\n",
              "      <th>rooms</th>\n",
              "      <th>neighborhood</th>\n",
              "      <th>latitude</th>\n",
              "      <th>longitude</th>\n",
              "    </tr>\n",
              "  </thead>\n",
              "  <tbody>\n",
              "    <tr>\n",
              "      <th>0</th>\n",
              "      <td>470.00000</td>\n",
              "      <td>330000.0</td>\n",
              "      <td>1</td>\n",
              "      <td>Other</td>\n",
              "      <td>-19.936415</td>\n",
              "      <td>-43.953396</td>\n",
              "    </tr>\n",
              "    <tr>\n",
              "      <th>1</th>\n",
              "      <td>2056.60523</td>\n",
              "      <td>480000.0</td>\n",
              "      <td>2</td>\n",
              "      <td>Centro</td>\n",
              "      <td>-18.864776</td>\n",
              "      <td>-41.121777</td>\n",
              "    </tr>\n",
              "    <tr>\n",
              "      <th>2</th>\n",
              "      <td>2056.60523</td>\n",
              "      <td>1190000.0</td>\n",
              "      <td>4</td>\n",
              "      <td>Other</td>\n",
              "      <td>-20.225241</td>\n",
              "      <td>-44.397780</td>\n",
              "    </tr>\n",
              "    <tr>\n",
              "      <th>3</th>\n",
              "      <td>750.00000</td>\n",
              "      <td>1590000.0</td>\n",
              "      <td>4</td>\n",
              "      <td>Other</td>\n",
              "      <td>-19.937155</td>\n",
              "      <td>-43.958694</td>\n",
              "    </tr>\n",
              "    <tr>\n",
              "      <th>4</th>\n",
              "      <td>2056.60523</td>\n",
              "      <td>550000.0</td>\n",
              "      <td>3</td>\n",
              "      <td>Other</td>\n",
              "      <td>-19.912982</td>\n",
              "      <td>-44.019944</td>\n",
              "    </tr>\n",
              "    <tr>\n",
              "      <th>...</th>\n",
              "      <td>...</td>\n",
              "      <td>...</td>\n",
              "      <td>...</td>\n",
              "      <td>...</td>\n",
              "      <td>...</td>\n",
              "      <td>...</td>\n",
              "    </tr>\n",
              "    <tr>\n",
              "      <th>5975</th>\n",
              "      <td>200.00000</td>\n",
              "      <td>220000.0</td>\n",
              "      <td>1</td>\n",
              "      <td>Buritis</td>\n",
              "      <td>-19.974455</td>\n",
              "      <td>-43.977699</td>\n",
              "    </tr>\n",
              "    <tr>\n",
              "      <th>5976</th>\n",
              "      <td>340.00000</td>\n",
              "      <td>560000.0</td>\n",
              "      <td>3</td>\n",
              "      <td>Other</td>\n",
              "      <td>-19.945428</td>\n",
              "      <td>-43.970988</td>\n",
              "    </tr>\n",
              "    <tr>\n",
              "      <th>5977</th>\n",
              "      <td>200.00000</td>\n",
              "      <td>440000.0</td>\n",
              "      <td>3</td>\n",
              "      <td>Other</td>\n",
              "      <td>-19.979915</td>\n",
              "      <td>-44.026007</td>\n",
              "    </tr>\n",
              "    <tr>\n",
              "      <th>5978</th>\n",
              "      <td>10.00000</td>\n",
              "      <td>500000.0</td>\n",
              "      <td>3</td>\n",
              "      <td>Other</td>\n",
              "      <td>-19.840904</td>\n",
              "      <td>-43.956037</td>\n",
              "    </tr>\n",
              "    <tr>\n",
              "      <th>5979</th>\n",
              "      <td>10.00000</td>\n",
              "      <td>740000.0</td>\n",
              "      <td>3</td>\n",
              "      <td>Other</td>\n",
              "      <td>-19.840904</td>\n",
              "      <td>-43.956037</td>\n",
              "    </tr>\n",
              "  </tbody>\n",
              "</table>\n",
              "<p>5452 rows × 6 columns</p>\n",
              "</div>\n",
              "      <button class=\"colab-df-convert\" onclick=\"convertToInteractive('df-50522e0b-c80d-4fce-9559-4ce4a84997ca')\"\n",
              "              title=\"Convert this dataframe to an interactive table.\"\n",
              "              style=\"display:none;\">\n",
              "        \n",
              "  <svg xmlns=\"http://www.w3.org/2000/svg\" height=\"24px\"viewBox=\"0 0 24 24\"\n",
              "       width=\"24px\">\n",
              "    <path d=\"M0 0h24v24H0V0z\" fill=\"none\"/>\n",
              "    <path d=\"M18.56 5.44l.94 2.06.94-2.06 2.06-.94-2.06-.94-.94-2.06-.94 2.06-2.06.94zm-11 1L8.5 8.5l.94-2.06 2.06-.94-2.06-.94L8.5 2.5l-.94 2.06-2.06.94zm10 10l.94 2.06.94-2.06 2.06-.94-2.06-.94-.94-2.06-.94 2.06-2.06.94z\"/><path d=\"M17.41 7.96l-1.37-1.37c-.4-.4-.92-.59-1.43-.59-.52 0-1.04.2-1.43.59L10.3 9.45l-7.72 7.72c-.78.78-.78 2.05 0 2.83L4 21.41c.39.39.9.59 1.41.59.51 0 1.02-.2 1.41-.59l7.78-7.78 2.81-2.81c.8-.78.8-2.07 0-2.86zM5.41 20L4 18.59l7.72-7.72 1.47 1.35L5.41 20z\"/>\n",
              "  </svg>\n",
              "      </button>\n",
              "      \n",
              "  <style>\n",
              "    .colab-df-container {\n",
              "      display:flex;\n",
              "      flex-wrap:wrap;\n",
              "      gap: 12px;\n",
              "    }\n",
              "\n",
              "    .colab-df-convert {\n",
              "      background-color: #E8F0FE;\n",
              "      border: none;\n",
              "      border-radius: 50%;\n",
              "      cursor: pointer;\n",
              "      display: none;\n",
              "      fill: #1967D2;\n",
              "      height: 32px;\n",
              "      padding: 0 0 0 0;\n",
              "      width: 32px;\n",
              "    }\n",
              "\n",
              "    .colab-df-convert:hover {\n",
              "      background-color: #E2EBFA;\n",
              "      box-shadow: 0px 1px 2px rgba(60, 64, 67, 0.3), 0px 1px 3px 1px rgba(60, 64, 67, 0.15);\n",
              "      fill: #174EA6;\n",
              "    }\n",
              "\n",
              "    [theme=dark] .colab-df-convert {\n",
              "      background-color: #3B4455;\n",
              "      fill: #D2E3FC;\n",
              "    }\n",
              "\n",
              "    [theme=dark] .colab-df-convert:hover {\n",
              "      background-color: #434B5C;\n",
              "      box-shadow: 0px 1px 3px 1px rgba(0, 0, 0, 0.15);\n",
              "      filter: drop-shadow(0px 1px 2px rgba(0, 0, 0, 0.3));\n",
              "      fill: #FFFFFF;\n",
              "    }\n",
              "  </style>\n",
              "\n",
              "      <script>\n",
              "        const buttonEl =\n",
              "          document.querySelector('#df-50522e0b-c80d-4fce-9559-4ce4a84997ca button.colab-df-convert');\n",
              "        buttonEl.style.display =\n",
              "          google.colab.kernel.accessAllowed ? 'block' : 'none';\n",
              "\n",
              "        async function convertToInteractive(key) {\n",
              "          const element = document.querySelector('#df-50522e0b-c80d-4fce-9559-4ce4a84997ca');\n",
              "          const dataTable =\n",
              "            await google.colab.kernel.invokeFunction('convertToInteractive',\n",
              "                                                     [key], {});\n",
              "          if (!dataTable) return;\n",
              "\n",
              "          const docLinkHtml = 'Like what you see? Visit the ' +\n",
              "            '<a target=\"_blank\" href=https://colab.research.google.com/notebooks/data_table.ipynb>data table notebook</a>'\n",
              "            + ' to learn more about interactive tables.';\n",
              "          element.innerHTML = '';\n",
              "          dataTable['output_type'] = 'display_data';\n",
              "          await google.colab.output.renderOutput(dataTable, element);\n",
              "          const docLink = document.createElement('div');\n",
              "          docLink.innerHTML = docLinkHtml;\n",
              "          element.appendChild(docLink);\n",
              "        }\n",
              "      </script>\n",
              "    </div>\n",
              "  </div>\n",
              "  "
            ]
          },
          "metadata": {},
          "execution_count": 80
        }
      ]
    },
    {
      "cell_type": "code",
      "source": [
        "# the maximum and minimum prices\n",
        "print('the minimum price is ',df_range['price'].min())\n",
        "print('the maximum price is ',df_range['price'].max())\n",
        "print('the mean price is ',df_range['price'].mean())"
      ],
      "metadata": {
        "colab": {
          "base_uri": "https://localhost:8080/"
        },
        "id": "rk6wP2wqHtra",
        "outputId": "e47fe271-1b44-4559-ce04-03ea1193d673"
      },
      "execution_count": 84,
      "outputs": [
        {
          "output_type": "stream",
          "name": "stdout",
          "text": [
            "the minimum price is  450.0\n",
            "the maximum price is  2399000.0\n",
            "the mean price is  760041.0691559635\n"
          ]
        }
      ]
    },
    {
      "cell_type": "markdown",
      "source": [
        "It's quite impossible to have a price of a house of 450.0. So I'm gonna drop every price less than 50000 and bigger than 2M."
      ],
      "metadata": {
        "id": "RCoKjEthInhP"
      }
    },
    {
      "cell_type": "code",
      "source": [
        "df_range = df_range[(df_range['price'] > 50000) & (df_range['price'] < 2000000)]"
      ],
      "metadata": {
        "id": "z2gEZ1YcITZ4"
      },
      "execution_count": 100,
      "outputs": []
    },
    {
      "cell_type": "code",
      "source": [
        "# the maximum and minimum prices\n",
        "print('the minimum price is ',df_range['price'].min())\n",
        "print('the maximum price is ',df_range['price'].max())\n",
        "print('the mean price is ',df_range['price'].mean())"
      ],
      "metadata": {
        "colab": {
          "base_uri": "https://localhost:8080/"
        },
        "id": "HraiyKA_JOER",
        "outputId": "40a63fd6-924a-445d-f9a7-e10503daac61"
      },
      "execution_count": 101,
      "outputs": [
        {
          "output_type": "stream",
          "name": "stdout",
          "text": [
            "the minimum price is  54000.0\n",
            "the maximum price is  1998193.0\n",
            "the mean price is  725055.7275789469\n"
          ]
        }
      ]
    },
    {
      "cell_type": "markdown",
      "source": [
        "All right, let's divide the price in ranges."
      ],
      "metadata": {
        "id": "dXTB53q-Kc0E"
      }
    },
    {
      "cell_type": "code",
      "source": [
        "bins = [50000,150000,250000,350000,450000,550000,650000,750000,850000,950000,1050000,1150000,1250000,1350000,1450000,1550000,1650000,1750000,1850000,1950000,2050000]\n",
        "df_range['price'] = pd.cut(df_range['price'], bins)"
      ],
      "metadata": {
        "id": "e38Y18LfKfhA"
      },
      "execution_count": 103,
      "outputs": []
    },
    {
      "cell_type": "code",
      "source": [
        "ax=sns.countplot(x = df_range['price']);\n",
        "plt.xticks(rotation=45)\n",
        "ax.figure.set_size_inches(25, 15)"
      ],
      "metadata": {
        "colab": {
          "base_uri": "https://localhost:8080/",
          "height": 932
        },
        "id": "FZ7h10TLLlMD",
        "outputId": "9fe55651-4f8e-448b-9c02-d0f0b978bcc3"
      },
      "execution_count": 108,
      "outputs": [
        {
          "output_type": "display_data",
          "data": {
            "text/plain": [
              "<Figure size 1800x1080 with 1 Axes>"
            ],
            "image/png": "[encoded data removed]"
          },
          "metadata": {
            "needs_background": "light"
          }
        }
      ]
    },
    {
      "cell_type": "code",
      "source": [
        "df_range"
      ],
      "metadata": {
        "colab": {
          "base_uri": "https://localhost:8080/",
          "height": 424
        },
        "id": "fQMiUPwFMktX",
        "outputId": "9b5edede-0a3c-4e39-d683-cde28be99fdc"
      },
      "execution_count": 109,
      "outputs": [
        {
          "output_type": "execute_result",
          "data": {
            "text/plain": [
              "        adm-fees               price rooms neighborhood   latitude  longitude\n",
              "0      470.00000    (250000, 350000]     1        Other -19.936415 -43.953396\n",
              "1     2056.60523    (450000, 550000]     2       Centro -18.864776 -41.121777\n",
              "2     2056.60523  (1150000, 1250000]     4        Other -20.225241 -44.397780\n",
              "3      750.00000  (1550000, 1650000]     4        Other -19.937155 -43.958694\n",
              "4     2056.60523    (450000, 550000]     3        Other -19.912982 -44.019944\n",
              "...          ...                 ...   ...          ...        ...        ...\n",
              "5975   200.00000    (150000, 250000]     1      Buritis -19.974455 -43.977699\n",
              "5976   340.00000    (550000, 650000]     3        Other -19.945428 -43.970988\n",
              "5977   200.00000    (350000, 450000]     3        Other -19.979915 -44.026007\n",
              "5978    10.00000    (450000, 550000]     3        Other -19.840904 -43.956037\n",
              "5979    10.00000    (650000, 750000]     3        Other -19.840904 -43.956037\n",
              "\n",
              "[5172 rows x 6 columns]"
            ],
            "text/html": [
              "\n",
              "  <div id=\"df-1018608d-1aaa-42b7-a61d-92a52b7b47a3\">\n",
              "    <div class=\"colab-df-container\">\n",
              "      <div>\n",
              "<style scoped>\n",
              "    .dataframe tbody tr th:only-of-type {\n",
              "        vertical-align: middle;\n",
              "    }\n",
              "\n",
              "    .dataframe tbody tr th {\n",
              "        vertical-align: top;\n",
              "    }\n",
              "\n",
              "    .dataframe thead th {\n",
              "        text-align: right;\n",
              "    }\n",
              "</style>\n",
              "<table border=\"1\" class=\"dataframe\">\n",
              "  <thead>\n",
              "    <tr style=\"text-align: right;\">\n",
              "      <th></th>\n",
              "      <th>adm-fees</th>\n",
              "      <th>price</th>\n",
              "      <th>rooms</th>\n",
              "      <th>neighborhood</th>\n",
              "      <th>latitude</th>\n",
              "      <th>longitude</th>\n",
              "    </tr>\n",
              "  </thead>\n",
              "  <tbody>\n",
              "    <tr>\n",
              "      <th>0</th>\n",
              "      <td>470.00000</td>\n",
              "      <td>(250000, 350000]</td>\n",
              "      <td>1</td>\n",
              "      <td>Other</td>\n",
              "      <td>-19.936415</td>\n",
              "      <td>-43.953396</td>\n",
              "    </tr>\n",
              "    <tr>\n",
              "      <th>1</th>\n",
              "      <td>2056.60523</td>\n",
              "      <td>(450000, 550000]</td>\n",
              "      <td>2</td>\n",
              "      <td>Centro</td>\n",
              "      <td>-18.864776</td>\n",
              "      <td>-41.121777</td>\n",
              "    </tr>\n",
              "    <tr>\n",
              "      <th>2</th>\n",
              "      <td>2056.60523</td>\n",
              "      <td>(1150000, 1250000]</td>\n",
              "      <td>4</td>\n",
              "      <td>Other</td>\n",
              "      <td>-20.225241</td>\n",
              "      <td>-44.397780</td>\n",
              "    </tr>\n",
              "    <tr>\n",
              "      <th>3</th>\n",
              "      <td>750.00000</td>\n",
              "      <td>(1550000, 1650000]</td>\n",
              "      <td>4</td>\n",
              "      <td>Other</td>\n",
              "      <td>-19.937155</td>\n",
              "      <td>-43.958694</td>\n",
              "    </tr>\n",
              "    <tr>\n",
              "      <th>4</th>\n",
              "      <td>2056.60523</td>\n",
              "      <td>(450000, 550000]</td>\n",
              "      <td>3</td>\n",
              "      <td>Other</td>\n",
              "      <td>-19.912982</td>\n",
              "      <td>-44.019944</td>\n",
              "    </tr>\n",
              "    <tr>\n",
              "      <th>...</th>\n",
              "      <td>...</td>\n",
              "      <td>...</td>\n",
              "      <td>...</td>\n",
              "      <td>...</td>\n",
              "      <td>...</td>\n",
              "      <td>...</td>\n",
              "    </tr>\n",
              "    <tr>\n",
              "      <th>5975</th>\n",
              "      <td>200.00000</td>\n",
              "      <td>(150000, 250000]</td>\n",
              "      <td>1</td>\n",
              "      <td>Buritis</td>\n",
              "      <td>-19.974455</td>\n",
              "      <td>-43.977699</td>\n",
              "    </tr>\n",
              "    <tr>\n",
              "      <th>5976</th>\n",
              "      <td>340.00000</td>\n",
              "      <td>(550000, 650000]</td>\n",
              "      <td>3</td>\n",
              "      <td>Other</td>\n",
              "      <td>-19.945428</td>\n",
              "      <td>-43.970988</td>\n",
              "    </tr>\n",
              "    <tr>\n",
              "      <th>5977</th>\n",
              "      <td>200.00000</td>\n",
              "      <td>(350000, 450000]</td>\n",
              "      <td>3</td>\n",
              "      <td>Other</td>\n",
              "      <td>-19.979915</td>\n",
              "      <td>-44.026007</td>\n",
              "    </tr>\n",
              "    <tr>\n",
              "      <th>5978</th>\n",
              "      <td>10.00000</td>\n",
              "      <td>(450000, 550000]</td>\n",
              "      <td>3</td>\n",
              "      <td>Other</td>\n",
              "      <td>-19.840904</td>\n",
              "      <td>-43.956037</td>\n",
              "    </tr>\n",
              "    <tr>\n",
              "      <th>5979</th>\n",
              "      <td>10.00000</td>\n",
              "      <td>(650000, 750000]</td>\n",
              "      <td>3</td>\n",
              "      <td>Other</td>\n",
              "      <td>-19.840904</td>\n",
              "      <td>-43.956037</td>\n",
              "    </tr>\n",
              "  </tbody>\n",
              "</table>\n",
              "<p>5172 rows × 6 columns</p>\n",
              "</div>\n",
              "      <button class=\"colab-df-convert\" onclick=\"convertToInteractive('df-1018608d-1aaa-42b7-a61d-92a52b7b47a3')\"\n",
              "              title=\"Convert this dataframe to an interactive table.\"\n",
              "              style=\"display:none;\">\n",
              "        \n",
              "  <svg xmlns=\"http://www.w3.org/2000/svg\" height=\"24px\"viewBox=\"0 0 24 24\"\n",
              "       width=\"24px\">\n",
              "    <path d=\"M0 0h24v24H0V0z\" fill=\"none\"/>\n",
              "    <path d=\"M18.56 5.44l.94 2.06.94-2.06 2.06-.94-2.06-.94-.94-2.06-.94 2.06-2.06.94zm-11 1L8.5 8.5l.94-2.06 2.06-.94-2.06-.94L8.5 2.5l-.94 2.06-2.06.94zm10 10l.94 2.06.94-2.06 2.06-.94-2.06-.94-.94-2.06-.94 2.06-2.06.94z\"/><path d=\"M17.41 7.96l-1.37-1.37c-.4-.4-.92-.59-1.43-.59-.52 0-1.04.2-1.43.59L10.3 9.45l-7.72 7.72c-.78.78-.78 2.05 0 2.83L4 21.41c.39.39.9.59 1.41.59.51 0 1.02-.2 1.41-.59l7.78-7.78 2.81-2.81c.8-.78.8-2.07 0-2.86zM5.41 20L4 18.59l7.72-7.72 1.47 1.35L5.41 20z\"/>\n",
              "  </svg>\n",
              "      </button>\n",
              "      \n",
              "  <style>\n",
              "    .colab-df-container {\n",
              "      display:flex;\n",
              "      flex-wrap:wrap;\n",
              "      gap: 12px;\n",
              "    }\n",
              "\n",
              "    .colab-df-convert {\n",
              "      background-color: #E8F0FE;\n",
              "      border: none;\n",
              "      border-radius: 50%;\n",
              "      cursor: pointer;\n",
              "      display: none;\n",
              "      fill: #1967D2;\n",
              "      height: 32px;\n",
              "      padding: 0 0 0 0;\n",
              "      width: 32px;\n",
              "    }\n",
              "\n",
              "    .colab-df-convert:hover {\n",
              "      background-color: #E2EBFA;\n",
              "      box-shadow: 0px 1px 2px rgba(60, 64, 67, 0.3), 0px 1px 3px 1px rgba(60, 64, 67, 0.15);\n",
              "      fill: #174EA6;\n",
              "    }\n",
              "\n",
              "    [theme=dark] .colab-df-convert {\n",
              "      background-color: #3B4455;\n",
              "      fill: #D2E3FC;\n",
              "    }\n",
              "\n",
              "    [theme=dark] .colab-df-convert:hover {\n",
              "      background-color: #434B5C;\n",
              "      box-shadow: 0px 1px 3px 1px rgba(0, 0, 0, 0.15);\n",
              "      filter: drop-shadow(0px 1px 2px rgba(0, 0, 0, 0.3));\n",
              "      fill: #FFFFFF;\n",
              "    }\n",
              "  </style>\n",
              "\n",
              "      <script>\n",
              "        const buttonEl =\n",
              "          document.querySelector('#df-1018608d-1aaa-42b7-a61d-92a52b7b47a3 button.colab-df-convert');\n",
              "        buttonEl.style.display =\n",
              "          google.colab.kernel.accessAllowed ? 'block' : 'none';\n",
              "\n",
              "        async function convertToInteractive(key) {\n",
              "          const element = document.querySelector('#df-1018608d-1aaa-42b7-a61d-92a52b7b47a3');\n",
              "          const dataTable =\n",
              "            await google.colab.kernel.invokeFunction('convertToInteractive',\n",
              "                                                     [key], {});\n",
              "          if (!dataTable) return;\n",
              "\n",
              "          const docLinkHtml = 'Like what you see? Visit the ' +\n",
              "            '<a target=\"_blank\" href=https://colab.research.google.com/notebooks/data_table.ipynb>data table notebook</a>'\n",
              "            + ' to learn more about interactive tables.';\n",
              "          element.innerHTML = '';\n",
              "          dataTable['output_type'] = 'display_data';\n",
              "          await google.colab.output.renderOutput(dataTable, element);\n",
              "          const docLink = document.createElement('div');\n",
              "          docLink.innerHTML = docLinkHtml;\n",
              "          element.appendChild(docLink);\n",
              "        }\n",
              "      </script>\n",
              "    </div>\n",
              "  </div>\n",
              "  "
            ]
          },
          "metadata": {},
          "execution_count": 109
        }
      ]
    },
    {
      "cell_type": "markdown",
      "source": [
        "Now, we have to use classification algorithms instead regression algortihms. Let's start with random forest."
      ],
      "metadata": {
        "id": "1Rsu8s1fMvNR"
      }
    },
    {
      "cell_type": "code",
      "source": [
        "x=df_range.loc[:,['adm-fees','rooms', 'neighborhood','longitude','latitude']].values #classifiers\n",
        "y = df_range.iloc[:,1].values#class"
      ],
      "metadata": {
        "id": "8KpWlWxANnjn"
      },
      "execution_count": 150,
      "outputs": []
    },
    {
      "cell_type": "code",
      "source": [
        "#Encoder\n",
        "from sklearn.preprocessing import LabelEncoder\n",
        "label_encoder_neigh = LabelEncoder()\n",
        "label_encoder_rooms= LabelEncoder()"
      ],
      "metadata": {
        "id": "ZrW5ImuNNnjo"
      },
      "execution_count": 151,
      "outputs": []
    },
    {
      "cell_type": "code",
      "source": [
        "from sklearn.preprocessing import LabelEncoder\n",
        "label_encoder_y = LabelEncoder()\n",
        "y_range = label_encoder_y.fit_transform(y)"
      ],
      "metadata": {
        "id": "zwXzMJJ_OKrA"
      },
      "execution_count": 152,
      "outputs": []
    },
    {
      "cell_type": "code",
      "source": [
        "x[:,2] = label_encoder_neigh.fit_transform(x[:,2])\n",
        "x[:,1] = label_encoder_rooms.fit_transform(x[:,2])"
      ],
      "metadata": {
        "id": "83_eXVuPNnjo"
      },
      "execution_count": 153,
      "outputs": []
    },
    {
      "cell_type": "code",
      "source": [
        "#Scaling\n",
        "# we're going to use StandardScaler\n",
        "from sklearn.preprocessing import StandardScaler\n",
        "scaler = StandardScaler()\n",
        "x = scaler.fit_transform(x)"
      ],
      "metadata": {
        "id": "4UPDatMNNnjo"
      },
      "execution_count": 154,
      "outputs": []
    },
    {
      "cell_type": "code",
      "source": [
        "#spliting the data\n",
        "from sklearn.model_selection import train_test_split\n",
        "x_train, x_test, y_train, y_test = train_test_split(x, y_range, test_size = 0.15, random_state = 0)"
      ],
      "metadata": {
        "id": "8f2awrSJNnjp"
      },
      "execution_count": 155,
      "outputs": []
    },
    {
      "cell_type": "code",
      "source": [
        "from sklearn.ensemble import RandomForestClassifier\n",
        "tree = RandomForestClassifier(criterion='entropy',random_state=0)\n",
        "tree.fit(x_train,y_train)"
      ],
      "metadata": {
        "colab": {
          "base_uri": "https://localhost:8080/"
        },
        "id": "NSMdgsd7M2-z",
        "outputId": "2ffd6d29-c147-485e-ecee-664f41ec2231"
      },
      "execution_count": 156,
      "outputs": [
        {
          "output_type": "execute_result",
          "data": {
            "text/plain": [
              "RandomForestClassifier(criterion='entropy', random_state=0)"
            ]
          },
          "metadata": {},
          "execution_count": 156
        }
      ]
    },
    {
      "cell_type": "code",
      "source": [
        "prev = tree.predict(x_test)\n",
        "prev"
      ],
      "metadata": {
        "colab": {
          "base_uri": "https://localhost:8080/"
        },
        "id": "DI4b3YNaOfTg",
        "outputId": "ebde06c3-7380-49e1-c930-554ba397d481"
      },
      "execution_count": 159,
      "outputs": [
        {
          "output_type": "execute_result",
          "data": {
            "text/plain": [
              "array([ 6,  7,  5,  5, 16,  8,  2, 10, 11,  5,  3,  1,  8,  8,  1, 10, 17,\n",
              "        3,  6,  9,  3, 11,  3,  6,  5,  2,  5,  6, 12, 17,  2,  7,  3, 12,\n",
              "        9,  5, 11,  1,  4,  6, 11,  3,  5,  2,  1, 13,  2,  4,  8,  3,  6,\n",
              "        3,  7,  2,  2,  3,  0,  6, 13, 10,  4,  5,  8,  5,  2,  6,  7,  7,\n",
              "       14,  8,  2,  5, 10,  2, 11,  5,  3,  3,  4,  7,  4, 14,  8,  4,  1,\n",
              "        2, 11,  3,  3,  0,  1,  1,  6,  3,  9,  6,  6,  6,  7, 10, 10,  0,\n",
              "        2, 11,  4,  7,  3,  1,  6,  2,  3,  3,  3,  2,  2,  3, 18,  4,  3,\n",
              "        1,  3,  6,  2,  1,  4,  5,  2, 13,  7,  3,  9,  4,  4,  3,  5,  7,\n",
              "        8,  1,  4, 10,  5,  4,  3,  6, 15,  6,  6,  8,  8,  4, 18,  3,  2,\n",
              "        2,  4,  2,  6,  2,  5,  1,  2,  2,  6, 11,  7,  3,  4,  2,  1,  4,\n",
              "        5,  1,  2,  2,  1, 16,  2, 11,  3,  2,  4,  4,  3,  1, 13,  6,  9,\n",
              "        8,  6, 10,  7,  7, 14,  1, 12,  8,  6,  8, 16,  6,  2,  5,  7,  7,\n",
              "        3,  2,  2,  6,  7,  3,  6,  3,  8,  1,  3,  3, 14,  1,  2,  3,  9,\n",
              "        3,  2, 11, 15,  2,  1,  6,  6,  1,  5, 16,  6,  2,  2,  0,  7,  4,\n",
              "        5, 16,  4, 11,  3, 10,  5,  8,  2, 14,  8,  9, 10,  1,  5,  3,  6,\n",
              "        2,  3, 17,  7,  6,  1,  1, 11,  1,  6, 10,  1,  8,  4,  1,  9,  5,\n",
              "        2,  2,  8,  8,  7,  2,  3,  6,  1,  1,  6, 15, 11,  3,  6, 10,  2,\n",
              "        4,  8,  6,  7,  3, 15,  5,  3,  5,  1,  2,  6, 10,  7, 16,  5,  2,\n",
              "        6,  5, 10,  3,  8,  0, 18,  4,  1, 14,  8,  2,  8, 10,  7,  8,  6,\n",
              "        1,  2,  1,  4,  7,  8,  8,  3,  3,  3,  7, 14, 15,  6,  9, 16,  4,\n",
              "        2,  4, 17, 10,  1,  3,  5,  5,  1, 10,  8, 11,  1,  1,  4,  9, 10,\n",
              "       11,  5,  5,  4,  7, 10,  1, 16, 19,  8,  1, 12,  6,  2, 17, 14,  4,\n",
              "       18, 10,  2,  5,  2,  7,  8,  1,  2, 12,  5,  4,  4, 11,  9,  7, 16,\n",
              "        6,  7,  9,  1,  7,  1, 11,  5,  7,  8, 10, 16,  3,  3,  7, 15,  5,\n",
              "        2,  4,  7,  6,  2,  8,  4,  5,  3,  1,  7, 10,  7,  3,  1,  8,  6,\n",
              "        3,  3,  3,  9,  3,  1,  4,  4,  2,  6,  5,  6,  3, 14,  6,  6, 14,\n",
              "        2,  3,  3,  1,  5, 10, 15,  5,  4, 10, 10,  2,  5,  2,  1, 10,  3,\n",
              "        2,  9,  6, 14, 14,  1, 10, 18, 16,  5,  5,  4,  6,  4,  7,  2,  3,\n",
              "        3,  3,  3,  2,  7,  0,  6, 13,  3,  3,  5,  8,  0,  5,  7,  8,  5,\n",
              "        3,  1,  2,  1,  3, 10, 17, 14,  1, 14,  3,  5,  1, 16,  7,  7,  3,\n",
              "        3,  3,  9,  1,  2,  9,  3,  4, 17, 12,  9,  8,  6, 16,  6,  9,  2,\n",
              "        3, 13,  2,  3, 14,  8,  8,  1,  8,  1,  2,  3,  9,  1, 10,  5,  7,\n",
              "        9, 14, 12,  5, 14,  2,  9,  1,  4,  2,  9,  5,  1,  5,  6,  5,  3,\n",
              "        8,  1,  2, 15,  7,  6, 16,  3,  2,  2,  2,  1,  5,  2, 13,  7,  5,\n",
              "        3,  4,  5,  2,  2, 11, 15,  1,  5,  6,  5,  2,  5,  4,  5,  1,  2,\n",
              "        6,  6,  7,  1,  8,  2,  6, 10,  3,  4,  3, 16, 16, 16,  7,  8,  6,\n",
              "        3,  4,  5,  2,  1,  1, 14,  5,  7,  2,  5,  5,  8, 10,  7,  2,  2,\n",
              "       19,  6,  8,  2,  5,  6,  7,  7,  6,  2,  5, 16,  4,  9,  4,  2,  2,\n",
              "       11, 14, 13, 17,  3,  9,  5,  1,  6,  8, 12,  4,  5,  7,  2,  6,  4,\n",
              "       13,  8,  4,  9,  8,  7,  6, 17, 12,  5,  9,  3,  4,  3, 15,  4,  3,\n",
              "        4,  7,  2,  3,  4,  6,  4,  6,  2,  4,  5,  5,  4, 11,  8,  8,  7,\n",
              "        6, 14,  9,  5,  8,  7,  4,  6,  3,  6,  4,  7,  9,  6,  4,  9,  1,\n",
              "        9,  8,  6, 18, 11, 10,  3,  1,  2,  6,  5,  4,  6,  2,  7, 15,  7,\n",
              "       17,  1,  1,  7, 17,  3,  8,  1,  1,  6, 18,  2,  9,  2,  4,  6,  3,\n",
              "        7,  2,  7,  3,  3,  6,  7,  2,  6,  4,  2,  5,  8,  4,  6,  6,  5,\n",
              "       11,  3,  3,  1,  9,  2, 16,  5,  1,  6, 11])"
            ]
          },
          "metadata": {},
          "execution_count": 159
        }
      ]
    },
    {
      "cell_type": "code",
      "source": [
        "from sklearn.metrics import accuracy_score, confusion_matrix, classification_report\n",
        "accuracy_score(y_test, prev)"
      ],
      "metadata": {
        "colab": {
          "base_uri": "https://localhost:8080/"
        },
        "id": "znQOi5IEOqY5",
        "outputId": "437d45a0-3cca-4084-8aa7-45297964e43a"
      },
      "execution_count": 158,
      "outputs": [
        {
          "output_type": "execute_result",
          "data": {
            "text/plain": [
              "0.3002577319587629"
            ]
          },
          "metadata": {},
          "execution_count": 158
        }
      ]
    },
    {
      "cell_type": "markdown",
      "source": [
        "Well, as I divided in a range of 100k and we score 30% of the predictions, it's better use the RandomForestRegression, which has a 30% of deviation from mean. "
      ],
      "metadata": {
        "id": "Dw52hbK7QZzp"
      }
    },
    {
      "cell_type": "markdown",
      "source": [
        "Conclusions\n",
        "* 1 - The adm-fees is the key to the prices raising.\n",
        "* 2 - The neighborhood doesn't influences too much, we only have some regions in the city where the houses are really expensive.\n",
        "* 3 - The number of rooms and the square foot also don't influence the price (looking in differents neighborhoods), probably because poor neighborhoods have bigger houses."
      ],
      "metadata": {
        "id": "9PxzXjXiQrpQ"
      }
    },
    {
      "cell_type": "code",
      "source": [
        ""
      ],
      "metadata": {
        "id": "vhd16IBOReZX"
      },
      "execution_count": null,
      "outputs": []
    }
  ]
}